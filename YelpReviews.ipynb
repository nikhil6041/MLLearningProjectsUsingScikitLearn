{
 "cells": [
  {
   "cell_type": "code",
   "execution_count": 1,
   "metadata": {},
   "outputs": [],
   "source": [
    "import numpy as np\n",
    "import pandas as pd\n",
    "import matplotlib.pyplot as plt\n",
    "import seaborn as sns"
   ]
  },
  {
   "cell_type": "code",
   "execution_count": 251,
   "metadata": {},
   "outputs": [],
   "source": [
    "dataset = pd.read_csv('yelp.csv')"
   ]
  },
  {
   "cell_type": "code",
   "execution_count": 252,
   "metadata": {},
   "outputs": [
    {
     "name": "stdout",
     "output_type": "stream",
     "text": [
      "<class 'pandas.core.frame.DataFrame'>\n",
      "RangeIndex: 10000 entries, 0 to 9999\n",
      "Data columns (total 10 columns):\n",
      " #   Column       Non-Null Count  Dtype \n",
      "---  ------       --------------  ----- \n",
      " 0   business_id  10000 non-null  object\n",
      " 1   date         10000 non-null  object\n",
      " 2   review_id    10000 non-null  object\n",
      " 3   stars        10000 non-null  int64 \n",
      " 4   text         10000 non-null  object\n",
      " 5   type         10000 non-null  object\n",
      " 6   user_id      10000 non-null  object\n",
      " 7   cool         10000 non-null  int64 \n",
      " 8   useful       10000 non-null  int64 \n",
      " 9   funny        10000 non-null  int64 \n",
      "dtypes: int64(4), object(6)\n",
      "memory usage: 781.4+ KB\n"
     ]
    }
   ],
   "source": [
    "dataset.info()"
   ]
  },
  {
   "cell_type": "code",
   "execution_count": 253,
   "metadata": {},
   "outputs": [
    {
     "data": {
      "text/html": [
       "<div>\n",
       "<style scoped>\n",
       "    .dataframe tbody tr th:only-of-type {\n",
       "        vertical-align: middle;\n",
       "    }\n",
       "\n",
       "    .dataframe tbody tr th {\n",
       "        vertical-align: top;\n",
       "    }\n",
       "\n",
       "    .dataframe thead th {\n",
       "        text-align: right;\n",
       "    }\n",
       "</style>\n",
       "<table border=\"1\" class=\"dataframe\">\n",
       "  <thead>\n",
       "    <tr style=\"text-align: right;\">\n",
       "      <th></th>\n",
       "      <th>business_id</th>\n",
       "      <th>date</th>\n",
       "      <th>review_id</th>\n",
       "      <th>stars</th>\n",
       "      <th>text</th>\n",
       "      <th>type</th>\n",
       "      <th>user_id</th>\n",
       "      <th>cool</th>\n",
       "      <th>useful</th>\n",
       "      <th>funny</th>\n",
       "    </tr>\n",
       "  </thead>\n",
       "  <tbody>\n",
       "    <tr>\n",
       "      <th>0</th>\n",
       "      <td>9yKzy9PApeiPPOUJEtnvkg</td>\n",
       "      <td>2011-01-26</td>\n",
       "      <td>fWKvX83p0-ka4JS3dc6E5A</td>\n",
       "      <td>5</td>\n",
       "      <td>My wife took me here on my birthday for breakf...</td>\n",
       "      <td>review</td>\n",
       "      <td>rLtl8ZkDX5vH5nAx9C3q5Q</td>\n",
       "      <td>2</td>\n",
       "      <td>5</td>\n",
       "      <td>0</td>\n",
       "    </tr>\n",
       "    <tr>\n",
       "      <th>1</th>\n",
       "      <td>ZRJwVLyzEJq1VAihDhYiow</td>\n",
       "      <td>2011-07-27</td>\n",
       "      <td>IjZ33sJrzXqU-0X6U8NwyA</td>\n",
       "      <td>5</td>\n",
       "      <td>I have no idea why some people give bad review...</td>\n",
       "      <td>review</td>\n",
       "      <td>0a2KyEL0d3Yb1V6aivbIuQ</td>\n",
       "      <td>0</td>\n",
       "      <td>0</td>\n",
       "      <td>0</td>\n",
       "    </tr>\n",
       "    <tr>\n",
       "      <th>2</th>\n",
       "      <td>6oRAC4uyJCsJl1X0WZpVSA</td>\n",
       "      <td>2012-06-14</td>\n",
       "      <td>IESLBzqUCLdSzSqm0eCSxQ</td>\n",
       "      <td>4</td>\n",
       "      <td>love the gyro plate. Rice is so good and I als...</td>\n",
       "      <td>review</td>\n",
       "      <td>0hT2KtfLiobPvh6cDC8JQg</td>\n",
       "      <td>0</td>\n",
       "      <td>1</td>\n",
       "      <td>0</td>\n",
       "    </tr>\n",
       "    <tr>\n",
       "      <th>3</th>\n",
       "      <td>_1QQZuf4zZOyFCvXc0o6Vg</td>\n",
       "      <td>2010-05-27</td>\n",
       "      <td>G-WvGaISbqqaMHlNnByodA</td>\n",
       "      <td>5</td>\n",
       "      <td>Rosie, Dakota, and I LOVE Chaparral Dog Park!!...</td>\n",
       "      <td>review</td>\n",
       "      <td>uZetl9T0NcROGOyFfughhg</td>\n",
       "      <td>1</td>\n",
       "      <td>2</td>\n",
       "      <td>0</td>\n",
       "    </tr>\n",
       "    <tr>\n",
       "      <th>4</th>\n",
       "      <td>6ozycU1RpktNG2-1BroVtw</td>\n",
       "      <td>2012-01-05</td>\n",
       "      <td>1uJFq2r5QfJG_6ExMRCaGw</td>\n",
       "      <td>5</td>\n",
       "      <td>General Manager Scott Petello is a good egg!!!...</td>\n",
       "      <td>review</td>\n",
       "      <td>vYmM4KTsC8ZfQBg-j5MWkw</td>\n",
       "      <td>0</td>\n",
       "      <td>0</td>\n",
       "      <td>0</td>\n",
       "    </tr>\n",
       "    <tr>\n",
       "      <th>5</th>\n",
       "      <td>-yxfBYGB6SEqszmxJxd97A</td>\n",
       "      <td>2007-12-13</td>\n",
       "      <td>m2CKSsepBCoRYWxiRUsxAg</td>\n",
       "      <td>4</td>\n",
       "      <td>Quiessence is, simply put, beautiful.  Full wi...</td>\n",
       "      <td>review</td>\n",
       "      <td>sqYN3lNgvPbPCTRsMFu27g</td>\n",
       "      <td>4</td>\n",
       "      <td>3</td>\n",
       "      <td>1</td>\n",
       "    </tr>\n",
       "    <tr>\n",
       "      <th>6</th>\n",
       "      <td>zp713qNhx8d9KCJJnrw1xA</td>\n",
       "      <td>2010-02-12</td>\n",
       "      <td>riFQ3vxNpP4rWLk_CSri2A</td>\n",
       "      <td>5</td>\n",
       "      <td>Drop what you're doing and drive here. After I...</td>\n",
       "      <td>review</td>\n",
       "      <td>wFweIWhv2fREZV_dYkz_1g</td>\n",
       "      <td>7</td>\n",
       "      <td>7</td>\n",
       "      <td>4</td>\n",
       "    </tr>\n",
       "    <tr>\n",
       "      <th>7</th>\n",
       "      <td>hW0Ne_HTHEAgGF1rAdmR-g</td>\n",
       "      <td>2012-07-12</td>\n",
       "      <td>JL7GXJ9u4YMx7Rzs05NfiQ</td>\n",
       "      <td>4</td>\n",
       "      <td>Luckily, I didn't have to travel far to make m...</td>\n",
       "      <td>review</td>\n",
       "      <td>1ieuYcKS7zeAv_U15AB13A</td>\n",
       "      <td>0</td>\n",
       "      <td>1</td>\n",
       "      <td>0</td>\n",
       "    </tr>\n",
       "    <tr>\n",
       "      <th>8</th>\n",
       "      <td>wNUea3IXZWD63bbOQaOH-g</td>\n",
       "      <td>2012-08-17</td>\n",
       "      <td>XtnfnYmnJYi71yIuGsXIUA</td>\n",
       "      <td>4</td>\n",
       "      <td>Definitely come for Happy hour! Prices are ama...</td>\n",
       "      <td>review</td>\n",
       "      <td>Vh_DlizgGhSqQh4qfZ2h6A</td>\n",
       "      <td>0</td>\n",
       "      <td>0</td>\n",
       "      <td>0</td>\n",
       "    </tr>\n",
       "    <tr>\n",
       "      <th>9</th>\n",
       "      <td>nMHhuYan8e3cONo3PornJA</td>\n",
       "      <td>2010-08-11</td>\n",
       "      <td>jJAIXA46pU1swYyRCdfXtQ</td>\n",
       "      <td>5</td>\n",
       "      <td>Nobuo shows his unique talents with everything...</td>\n",
       "      <td>review</td>\n",
       "      <td>sUNkXg8-KFtCMQDV6zRzQg</td>\n",
       "      <td>0</td>\n",
       "      <td>1</td>\n",
       "      <td>0</td>\n",
       "    </tr>\n",
       "    <tr>\n",
       "      <th>10</th>\n",
       "      <td>AsSCv0q_BWqIe3mX2JqsOQ</td>\n",
       "      <td>2010-06-16</td>\n",
       "      <td>E11jzpKz9Kw5K7fuARWfRw</td>\n",
       "      <td>5</td>\n",
       "      <td>The oldish man who owns the store is as sweet ...</td>\n",
       "      <td>review</td>\n",
       "      <td>-OMlS6yWkYjVldNhC31wYg</td>\n",
       "      <td>1</td>\n",
       "      <td>3</td>\n",
       "      <td>1</td>\n",
       "    </tr>\n",
       "    <tr>\n",
       "      <th>11</th>\n",
       "      <td>e9nN4XxjdHj4qtKCOPq_vg</td>\n",
       "      <td>2011-10-21</td>\n",
       "      <td>3rPt0LxF7rgmEUrznoH22w</td>\n",
       "      <td>5</td>\n",
       "      <td>Wonderful Vietnamese sandwich shoppe. Their ba...</td>\n",
       "      <td>review</td>\n",
       "      <td>C1rHp3dmepNea7XiouwB6Q</td>\n",
       "      <td>1</td>\n",
       "      <td>1</td>\n",
       "      <td>0</td>\n",
       "    </tr>\n",
       "    <tr>\n",
       "      <th>12</th>\n",
       "      <td>h53YuCiIDfEFSJCQpk8v1g</td>\n",
       "      <td>2010-01-11</td>\n",
       "      <td>cGnKNX3I9rthE0-TH24-qA</td>\n",
       "      <td>5</td>\n",
       "      <td>They have a limited time thing going on right ...</td>\n",
       "      <td>review</td>\n",
       "      <td>UPtysDF6cUDUxq2KY-6Dcg</td>\n",
       "      <td>1</td>\n",
       "      <td>2</td>\n",
       "      <td>0</td>\n",
       "    </tr>\n",
       "    <tr>\n",
       "      <th>13</th>\n",
       "      <td>WGNIYMeXPyoWav1APUq7jA</td>\n",
       "      <td>2011-12-23</td>\n",
       "      <td>FvEEw1_OsrYdvwLV5Hrliw</td>\n",
       "      <td>4</td>\n",
       "      <td>Good tattoo shop. Clean space, multiple artist...</td>\n",
       "      <td>review</td>\n",
       "      <td>Xm8HXE1JHqscXe5BKf0GFQ</td>\n",
       "      <td>1</td>\n",
       "      <td>2</td>\n",
       "      <td>0</td>\n",
       "    </tr>\n",
       "    <tr>\n",
       "      <th>14</th>\n",
       "      <td>yc5AH9H71xJidA_J2mChLA</td>\n",
       "      <td>2010-05-20</td>\n",
       "      <td>pfUwBKYYmUXeiwrhDluQcw</td>\n",
       "      <td>4</td>\n",
       "      <td>I'm 2 weeks new to Phoenix. I looked up Irish ...</td>\n",
       "      <td>review</td>\n",
       "      <td>JOG-4G4e8ae3lx_szHtR8g</td>\n",
       "      <td>1</td>\n",
       "      <td>1</td>\n",
       "      <td>0</td>\n",
       "    </tr>\n",
       "  </tbody>\n",
       "</table>\n",
       "</div>"
      ],
      "text/plain": [
       "               business_id        date               review_id  stars  \\\n",
       "0   9yKzy9PApeiPPOUJEtnvkg  2011-01-26  fWKvX83p0-ka4JS3dc6E5A      5   \n",
       "1   ZRJwVLyzEJq1VAihDhYiow  2011-07-27  IjZ33sJrzXqU-0X6U8NwyA      5   \n",
       "2   6oRAC4uyJCsJl1X0WZpVSA  2012-06-14  IESLBzqUCLdSzSqm0eCSxQ      4   \n",
       "3   _1QQZuf4zZOyFCvXc0o6Vg  2010-05-27  G-WvGaISbqqaMHlNnByodA      5   \n",
       "4   6ozycU1RpktNG2-1BroVtw  2012-01-05  1uJFq2r5QfJG_6ExMRCaGw      5   \n",
       "5   -yxfBYGB6SEqszmxJxd97A  2007-12-13  m2CKSsepBCoRYWxiRUsxAg      4   \n",
       "6   zp713qNhx8d9KCJJnrw1xA  2010-02-12  riFQ3vxNpP4rWLk_CSri2A      5   \n",
       "7   hW0Ne_HTHEAgGF1rAdmR-g  2012-07-12  JL7GXJ9u4YMx7Rzs05NfiQ      4   \n",
       "8   wNUea3IXZWD63bbOQaOH-g  2012-08-17  XtnfnYmnJYi71yIuGsXIUA      4   \n",
       "9   nMHhuYan8e3cONo3PornJA  2010-08-11  jJAIXA46pU1swYyRCdfXtQ      5   \n",
       "10  AsSCv0q_BWqIe3mX2JqsOQ  2010-06-16  E11jzpKz9Kw5K7fuARWfRw      5   \n",
       "11  e9nN4XxjdHj4qtKCOPq_vg  2011-10-21  3rPt0LxF7rgmEUrznoH22w      5   \n",
       "12  h53YuCiIDfEFSJCQpk8v1g  2010-01-11  cGnKNX3I9rthE0-TH24-qA      5   \n",
       "13  WGNIYMeXPyoWav1APUq7jA  2011-12-23  FvEEw1_OsrYdvwLV5Hrliw      4   \n",
       "14  yc5AH9H71xJidA_J2mChLA  2010-05-20  pfUwBKYYmUXeiwrhDluQcw      4   \n",
       "\n",
       "                                                 text    type  \\\n",
       "0   My wife took me here on my birthday for breakf...  review   \n",
       "1   I have no idea why some people give bad review...  review   \n",
       "2   love the gyro plate. Rice is so good and I als...  review   \n",
       "3   Rosie, Dakota, and I LOVE Chaparral Dog Park!!...  review   \n",
       "4   General Manager Scott Petello is a good egg!!!...  review   \n",
       "5   Quiessence is, simply put, beautiful.  Full wi...  review   \n",
       "6   Drop what you're doing and drive here. After I...  review   \n",
       "7   Luckily, I didn't have to travel far to make m...  review   \n",
       "8   Definitely come for Happy hour! Prices are ama...  review   \n",
       "9   Nobuo shows his unique talents with everything...  review   \n",
       "10  The oldish man who owns the store is as sweet ...  review   \n",
       "11  Wonderful Vietnamese sandwich shoppe. Their ba...  review   \n",
       "12  They have a limited time thing going on right ...  review   \n",
       "13  Good tattoo shop. Clean space, multiple artist...  review   \n",
       "14  I'm 2 weeks new to Phoenix. I looked up Irish ...  review   \n",
       "\n",
       "                   user_id  cool  useful  funny  \n",
       "0   rLtl8ZkDX5vH5nAx9C3q5Q     2       5      0  \n",
       "1   0a2KyEL0d3Yb1V6aivbIuQ     0       0      0  \n",
       "2   0hT2KtfLiobPvh6cDC8JQg     0       1      0  \n",
       "3   uZetl9T0NcROGOyFfughhg     1       2      0  \n",
       "4   vYmM4KTsC8ZfQBg-j5MWkw     0       0      0  \n",
       "5   sqYN3lNgvPbPCTRsMFu27g     4       3      1  \n",
       "6   wFweIWhv2fREZV_dYkz_1g     7       7      4  \n",
       "7   1ieuYcKS7zeAv_U15AB13A     0       1      0  \n",
       "8   Vh_DlizgGhSqQh4qfZ2h6A     0       0      0  \n",
       "9   sUNkXg8-KFtCMQDV6zRzQg     0       1      0  \n",
       "10  -OMlS6yWkYjVldNhC31wYg     1       3      1  \n",
       "11  C1rHp3dmepNea7XiouwB6Q     1       1      0  \n",
       "12  UPtysDF6cUDUxq2KY-6Dcg     1       2      0  \n",
       "13  Xm8HXE1JHqscXe5BKf0GFQ     1       2      0  \n",
       "14  JOG-4G4e8ae3lx_szHtR8g     1       1      0  "
      ]
     },
     "execution_count": 253,
     "metadata": {},
     "output_type": "execute_result"
    }
   ],
   "source": [
    "dataset.head(15)"
   ]
  },
  {
   "cell_type": "code",
   "execution_count": 254,
   "metadata": {},
   "outputs": [
    {
     "name": "stdout",
     "output_type": "stream",
     "text": [
      "I have no idea why some people give bad reviews about this place. It goes to show you, you can please everyone. They are probably griping about something that their own fault...there are many people like that.\n",
      "\n",
      "In any case, my friend and I arrived at about 5:50 PM this past Sunday. It was pretty crowded, more than I thought for a Sunday evening and thought we would have to wait forever to get a seat but they said we'll be seated when the girl comes back from seating someone else. We were seated at 5:52 and the waiter came and got our drink orders. Everyone was very pleasant from the host that seated us to the waiter to the server. The prices were very good as well. We placed our orders once we decided what we wanted at 6:02. We shared the baked spaghetti calzone and the small \"Here's The Beef\" pizza so we can both try them. The calzone was huge and we got the smallest one (personal) and got the small 11\" pizza. Both were awesome! My friend liked the pizza better and I liked the calzone better. The calzone does have a sweetish sauce but that's how I like my sauce!\n",
      "\n",
      "We had to box part of the pizza to take it home and we were out the door by 6:42. So, everything was great and not like these bad reviewers. That goes to show you that  you have to try these things yourself because all these bad reviewers have some serious issues.\n"
     ]
    }
   ],
   "source": [
    "print(dataset['text'][1])"
   ]
  },
  {
   "cell_type": "code",
   "execution_count": 6,
   "metadata": {},
   "outputs": [
    {
     "data": {
      "text/plain": [
       "'My nephew just moved to Scottsdale recently so me and a bunch of friends brought him here to show him a local bar that he and the girlfriend could come shoot pool, watch football, play volleyball etc...well....we weren\\'t there 5minutes and 2 kids were running around the pool tables, messing up our games and screaming. I couldn\\'t believe the staff was allowing this to happen. They were hitting the pool sticks on everything and crying when their mom attempted (in vain) to quiet them. You\\'d think the mom would leave at this point with her  kids....um...no....the staff did seem annoyed as well but said nothing. Then....it happened...she said \" you guys better behave or mommy will be fired\"!! Holy shit....she works there!! Even worse! Shame on that owner for allowing this to happen. And that employee needs to recognize this...YOU WORK AT A BAR.....not a daycare....A BAR!!!'"
      ]
     },
     "execution_count": 6,
     "metadata": {},
     "output_type": "execute_result"
    }
   ],
   "source": [
    "dataset['text'][len(dataset)-2]"
   ]
  },
  {
   "cell_type": "code",
   "execution_count": 7,
   "metadata": {},
   "outputs": [],
   "source": [
    "dataset['length'] = dataset['text'].apply(len)"
   ]
  },
  {
   "cell_type": "code",
   "execution_count": 8,
   "metadata": {},
   "outputs": [
    {
     "data": {
      "text/plain": [
       "<matplotlib.axes._subplots.AxesSubplot at 0x2483132f320>"
      ]
     },
     "execution_count": 8,
     "metadata": {},
     "output_type": "execute_result"
    },
    {
     "data": {
      "image/png": "[encoded data removed]",
      "text/plain": [
       "<Figure size 432x288 with 1 Axes>"
      ]
     },
     "metadata": {
      "needs_background": "light"
     },
     "output_type": "display_data"
    }
   ],
   "source": [
    "dataset['length'].plot(bins = 100 , kind ='hist')"
   ]
  },
  {
   "cell_type": "code",
   "execution_count": 9,
   "metadata": {},
   "outputs": [],
   "source": [
    "maxlength = max(dataset['length'])"
   ]
  },
  {
   "cell_type": "code",
   "execution_count": 10,
   "metadata": {},
   "outputs": [
    {
     "data": {
      "text/plain": [
       "'In our continuing quest to identify cool, locally owned places to eat and/or drink, Caroline and I auditioned Vintage 95 last night. \\n\\nBefore I go further, understand that whenever I go out for eats or drinks, I have  in  mind a Platonic Ideal of the Bar/Pub/Eatery I most want to frequent. I\\'m on a constant quest to find that  Ideal expressed in Real Life. \\n\\nVintage 95 isn\\'t quite there, but it\\'s damn close. If I ever give something Five Stars, you\\'ll know it has pegged my Platonic Ideal. Anyway...\\n\\nThe plan last night was for drinks. No plans for food, just Adult Beverages and warm conversation. But it turned into more.\\n\\nThe location in downtown Chandler is terrific for us. The owners have created a very fine visual experience - leather, stone, dark woods, good lighting. And they don\\'t have the music turned up so loud that you CANNOT HAVE A CONVERSATION. This is one of my pet peeves. If I want to stare at people move their mouths while enduring an aural assault, I\\'ll stand on the deck of an aircraft carrier. When I go out with friends, I want to enjoy their company AND their conversation. Is that concept so difficult to grasp? [/rant off]\\n\\nThe atmosphere at Vintage 95 is very close to my Ideal. I\\'d go back just to sit on the leather couches in front of the fireplace, and then go back another time to sit on the leather stools at the bar, and then go back about fourteen more times to sit out on the patio. Seriously - go check out the patio. It is EXACTLY what a Patio Hangout Bar should be. EXACTLY.\\n\\nCaroline and I told the hostesses we were only there for drinks, so we were seated in the bar area in some fabulous leather club chairs. It wasn\\'t initmate, but we weren\\'t looking for intimate. And speaking of the bar, even though V95 advertises itself as a wine bar, they DO have booze. I\\'m not much of a wine drinker and was very pleased to see that they carried a pretty good selection of single malt scotches. Not an overwhelming selection, but well beyond the normal Glenfiddich /Glenlivit /GlenMorangie trio to which most places are limited. I had a couple of drums of Ardbeg, which is one of my new favorites and very reasonably priced at retail. (Scotch is never reasonably priced in restaurants, but I was celebrating so I didn\\'t care.) Caroline had her normal \"vodka martini extra dirty extra cold\" which she judged to have \"perfect dirtiness\", (no wonder I love her!), perfect amount of olives and very cold. \\n\\nThe limited Happy Hour menu had some very interesting choices. We settled on the bruschetta and the smoked tomato bisque. The bruschetta was VERY nice and quite unusual. You get to select four of eight choices for your bruschetta platter; we picked: (1) white bean and pancetta, (2) gravlax, caper goat cheese and pickled onions, (3) fig chutney, ricotta and prosciutto, (4) brie, pear and onion jam. They were all served cold, in nice sized portions and the flavors were all nicely balanced and very interesting. Caroline would have preferred the bread to not be so crispy, but I really liked it. The tomato bisque  was creamy, smoky and had well-balanced flavor. Caroline said it was unique and I say it was just darn delicious. \\n\\nThings being as they are, drinks and appetizers turned into food. A friend had told us \"you have to try the Vintage burger\", so we did. It came served with a mixture of regular and sweet potato fries, all nicely cooked and nicely seasoned. Recommended. The burger was VERY tasty. They obviously use good beef, the bun was fresh, the fixin\\'s were tasty. HIGHLY recommended.\\n\\nIn for a dime, in for a dollar, right? So we ordered dessert. Again, the dessert menu is short, but I\\'m okay with that as long as they do it well. Chocolate torte with hazelnut gelato, apple pie with carmel sauce and creme fraiche gelato, and something else we couldn\\'t remember. I\\'m allergic to hazelnut and don\\'t like sweet desserts, so we decided to try the apple pie.\\n\\nLike everything else we had sampled, the apple pie was unusual - you wouldn\\'t find it anywhere else. It was served on a freshly baked puff pastry, cubed apples served on top and inside - tender but not mushy -  with lots of cinnamon and sugar, plate was swirled with salted dolce la leche. It was tasty, but instead of the expected creme fraiche gelato, we were served hazelnut gelato. I didn\\'t realize it was hazelnut until I\\'d had a couple of bites and my throat started to swell up.\\n\\nAt this point that the night could have turned into a disaster, but to their credit - it didn\\'t. We told the waiter who told the manager, (Gavin - one of the owners), who immediately came and asked if I needed emergency assistance. I didn\\'t, I\\'m not THAT allergic.)  Frankly, their response was EXACTLY the kind of customer service you want to see. Anyone can make a mistake, so no harm, no foul. But I must give BIG Kudos to Gavin for his kindness, attention to detail and outstanding customer service.\\n\\nWe will DEFINTELY be back and I strongly recommend you put it on your list too.'"
      ]
     },
     "execution_count": 10,
     "metadata": {},
     "output_type": "execute_result"
    }
   ],
   "source": [
    "dataset[dataset['length'] == maxlength]['text'].values[0]"
   ]
  },
  {
   "cell_type": "code",
   "execution_count": 11,
   "metadata": {},
   "outputs": [],
   "source": [
    "minlength = min(dataset['length'])"
   ]
  },
  {
   "cell_type": "code",
   "execution_count": 12,
   "metadata": {},
   "outputs": [
    {
     "data": {
      "text/plain": [
       "'X'"
      ]
     },
     "execution_count": 12,
     "metadata": {},
     "output_type": "execute_result"
    }
   ],
   "source": [
    "dataset[dataset['length'] == minlength]['text'].iloc[0]"
   ]
  },
  {
   "cell_type": "code",
   "execution_count": 13,
   "metadata": {},
   "outputs": [
    {
     "data": {
      "text/plain": [
       "<matplotlib.axes._subplots.AxesSubplot at 0x24831768470>"
      ]
     },
     "execution_count": 13,
     "metadata": {},
     "output_type": "execute_result"
    },
    {
     "data": {
      "image/png": "[encoded data removed]",
      "text/plain": [
       "<Figure size 432x288 with 1 Axes>"
      ]
     },
     "metadata": {
      "needs_background": "light"
     },
     "output_type": "display_data"
    }
   ],
   "source": [
    "sns.countplot(y = 'stars' , data = dataset)"
   ]
  },
  {
   "cell_type": "code",
   "execution_count": 14,
   "metadata": {},
   "outputs": [
    {
     "data": {
      "text/plain": [
       "<seaborn.axisgrid.FacetGrid at 0x248317d9fd0>"
      ]
     },
     "execution_count": 14,
     "metadata": {},
     "output_type": "execute_result"
    },
    {
     "data": {
      "image/png": "[encoded data removed]",
      "text/plain": [
       "<Figure size 432x648 with 5 Axes>"
      ]
     },
     "metadata": {
      "needs_background": "light"
     },
     "output_type": "display_data"
    }
   ],
   "source": [
    "fg = sns.FacetGrid(data = dataset , col = 'stars' , col_wrap = 2)\n",
    "fg.map(plt.hist , 'length' , color = 'yellow' , bins = 25)"
   ]
  },
  {
   "cell_type": "code",
   "execution_count": 15,
   "metadata": {},
   "outputs": [],
   "source": [
    "onestar_reviews = dataset[dataset['stars'] == 1]"
   ]
  },
  {
   "cell_type": "code",
   "execution_count": 16,
   "metadata": {},
   "outputs": [
    {
     "data": {
      "text/html": [
       "<div>\n",
       "<style scoped>\n",
       "    .dataframe tbody tr th:only-of-type {\n",
       "        vertical-align: middle;\n",
       "    }\n",
       "\n",
       "    .dataframe tbody tr th {\n",
       "        vertical-align: top;\n",
       "    }\n",
       "\n",
       "    .dataframe thead th {\n",
       "        text-align: right;\n",
       "    }\n",
       "</style>\n",
       "<table border=\"1\" class=\"dataframe\">\n",
       "  <thead>\n",
       "    <tr style=\"text-align: right;\">\n",
       "      <th></th>\n",
       "      <th>business_id</th>\n",
       "      <th>date</th>\n",
       "      <th>review_id</th>\n",
       "      <th>stars</th>\n",
       "      <th>text</th>\n",
       "      <th>type</th>\n",
       "      <th>user_id</th>\n",
       "      <th>cool</th>\n",
       "      <th>useful</th>\n",
       "      <th>funny</th>\n",
       "      <th>length</th>\n",
       "    </tr>\n",
       "  </thead>\n",
       "  <tbody>\n",
       "    <tr>\n",
       "      <th>23</th>\n",
       "      <td>IJ0o6b8bJFAbG6MjGfBebQ</td>\n",
       "      <td>2010-09-05</td>\n",
       "      <td>Dx9sfFU6Zn0GYOckijom-g</td>\n",
       "      <td>1</td>\n",
       "      <td>U can go there n check the car out. If u wanna...</td>\n",
       "      <td>review</td>\n",
       "      <td>zRlQEDYd_HKp0VS3hnAffA</td>\n",
       "      <td>0</td>\n",
       "      <td>1</td>\n",
       "      <td>1</td>\n",
       "      <td>594</td>\n",
       "    </tr>\n",
       "    <tr>\n",
       "      <th>31</th>\n",
       "      <td>vvA3fbps4F9nGlAEYKk_sA</td>\n",
       "      <td>2012-05-04</td>\n",
       "      <td>S9OVpXat8k5YwWCn6FAgXg</td>\n",
       "      <td>1</td>\n",
       "      <td>Disgusting!  Had a Groupon so my daughter and ...</td>\n",
       "      <td>review</td>\n",
       "      <td>8AMn6644NmBf96xGO3w6OA</td>\n",
       "      <td>0</td>\n",
       "      <td>1</td>\n",
       "      <td>0</td>\n",
       "      <td>361</td>\n",
       "    </tr>\n",
       "    <tr>\n",
       "      <th>35</th>\n",
       "      <td>o1GIYYZJjM6nM03fQs_uEQ</td>\n",
       "      <td>2011-11-30</td>\n",
       "      <td>ApKbwpYJdnhhgP4NbjQw2Q</td>\n",
       "      <td>1</td>\n",
       "      <td>I've eaten here many times, but none as bad as...</td>\n",
       "      <td>review</td>\n",
       "      <td>iwUN95LIaEr75TZE_JC6bg</td>\n",
       "      <td>0</td>\n",
       "      <td>4</td>\n",
       "      <td>3</td>\n",
       "      <td>1198</td>\n",
       "    </tr>\n",
       "    <tr>\n",
       "      <th>61</th>\n",
       "      <td>l4vBbCL9QbGiwLuLKwD_bA</td>\n",
       "      <td>2011-11-22</td>\n",
       "      <td>DJVxOfj2Rw9zklC9tU3i1w</td>\n",
       "      <td>1</td>\n",
       "      <td>I have always been a fan of Burlington's deals...</td>\n",
       "      <td>review</td>\n",
       "      <td>EPROVap0M19Y6_4uf3eCmQ</td>\n",
       "      <td>0</td>\n",
       "      <td>0</td>\n",
       "      <td>0</td>\n",
       "      <td>569</td>\n",
       "    </tr>\n",
       "    <tr>\n",
       "      <th>64</th>\n",
       "      <td>CEswyP-9SsXRNLR9fFGKKw</td>\n",
       "      <td>2012-05-19</td>\n",
       "      <td>GXj4PNAi095-q9ynPYH3kg</td>\n",
       "      <td>1</td>\n",
       "      <td>Another night meeting friends here.  I have to...</td>\n",
       "      <td>review</td>\n",
       "      <td>MjLAe48XNfYlTeFYca5gMw</td>\n",
       "      <td>0</td>\n",
       "      <td>1</td>\n",
       "      <td>2</td>\n",
       "      <td>498</td>\n",
       "    </tr>\n",
       "    <tr>\n",
       "      <th>...</th>\n",
       "      <td>...</td>\n",
       "      <td>...</td>\n",
       "      <td>...</td>\n",
       "      <td>...</td>\n",
       "      <td>...</td>\n",
       "      <td>...</td>\n",
       "      <td>...</td>\n",
       "      <td>...</td>\n",
       "      <td>...</td>\n",
       "      <td>...</td>\n",
       "      <td>...</td>\n",
       "    </tr>\n",
       "    <tr>\n",
       "      <th>9924</th>\n",
       "      <td>mhQCxOiqp03qnhGRTtPduw</td>\n",
       "      <td>2012-07-07</td>\n",
       "      <td>PCjnn__E8AzNa2kXFXxTHQ</td>\n",
       "      <td>1</td>\n",
       "      <td>Horrible service.</td>\n",
       "      <td>review</td>\n",
       "      <td>rvaJcf5OIY2So_pkoqDHLQ</td>\n",
       "      <td>0</td>\n",
       "      <td>1</td>\n",
       "      <td>0</td>\n",
       "      <td>17</td>\n",
       "    </tr>\n",
       "    <tr>\n",
       "      <th>9931</th>\n",
       "      <td>C_eWAEOvkHZ_IZYGwjtpmg</td>\n",
       "      <td>2011-04-25</td>\n",
       "      <td>QfdoE-XqEeCsttJH8g0ugQ</td>\n",
       "      <td>1</td>\n",
       "      <td>I love Saddle Ranch for its casual night time ...</td>\n",
       "      <td>review</td>\n",
       "      <td>yhGfcKunPjcy-v-1ppr6oQ</td>\n",
       "      <td>0</td>\n",
       "      <td>2</td>\n",
       "      <td>0</td>\n",
       "      <td>995</td>\n",
       "    </tr>\n",
       "    <tr>\n",
       "      <th>9953</th>\n",
       "      <td>QCxXYA13PtkD3wec47_r8Q</td>\n",
       "      <td>2012-03-14</td>\n",
       "      <td>V2N2TCqnaqMYfg7zXGG-Rg</td>\n",
       "      <td>1</td>\n",
       "      <td>\"Hipster,Trendy\" ????-I think NOT !!!! Very di...</td>\n",
       "      <td>review</td>\n",
       "      <td>JEQ6el2-tLtKJU6k_SpE-w</td>\n",
       "      <td>0</td>\n",
       "      <td>2</td>\n",
       "      <td>0</td>\n",
       "      <td>296</td>\n",
       "    </tr>\n",
       "    <tr>\n",
       "      <th>9984</th>\n",
       "      <td>wepFVY82q_tuDzG6lQjHWw</td>\n",
       "      <td>2012-02-12</td>\n",
       "      <td>spusZYROtBKw_5tv3gYm4Q</td>\n",
       "      <td>1</td>\n",
       "      <td>Went last night to Whore Foods to get basics t...</td>\n",
       "      <td>review</td>\n",
       "      <td>W7zmm1uzlyUkEqpSG7PlBw</td>\n",
       "      <td>0</td>\n",
       "      <td>1</td>\n",
       "      <td>2</td>\n",
       "      <td>1673</td>\n",
       "    </tr>\n",
       "    <tr>\n",
       "      <th>9987</th>\n",
       "      <td>r-a-Cn9hxdEnYTtVTB5bMQ</td>\n",
       "      <td>2012-04-07</td>\n",
       "      <td>j9HwZZoBBmJgOlqDSuJcxg</td>\n",
       "      <td>1</td>\n",
       "      <td>The food is delicious.  The service:  discrimi...</td>\n",
       "      <td>review</td>\n",
       "      <td>toPtsUtYoRB-5-ThrOy2Fg</td>\n",
       "      <td>0</td>\n",
       "      <td>0</td>\n",
       "      <td>0</td>\n",
       "      <td>200</td>\n",
       "    </tr>\n",
       "  </tbody>\n",
       "</table>\n",
       "<p>749 rows × 11 columns</p>\n",
       "</div>"
      ],
      "text/plain": [
       "                 business_id        date               review_id  stars  \\\n",
       "23    IJ0o6b8bJFAbG6MjGfBebQ  2010-09-05  Dx9sfFU6Zn0GYOckijom-g      1   \n",
       "31    vvA3fbps4F9nGlAEYKk_sA  2012-05-04  S9OVpXat8k5YwWCn6FAgXg      1   \n",
       "35    o1GIYYZJjM6nM03fQs_uEQ  2011-11-30  ApKbwpYJdnhhgP4NbjQw2Q      1   \n",
       "61    l4vBbCL9QbGiwLuLKwD_bA  2011-11-22  DJVxOfj2Rw9zklC9tU3i1w      1   \n",
       "64    CEswyP-9SsXRNLR9fFGKKw  2012-05-19  GXj4PNAi095-q9ynPYH3kg      1   \n",
       "...                      ...         ...                     ...    ...   \n",
       "9924  mhQCxOiqp03qnhGRTtPduw  2012-07-07  PCjnn__E8AzNa2kXFXxTHQ      1   \n",
       "9931  C_eWAEOvkHZ_IZYGwjtpmg  2011-04-25  QfdoE-XqEeCsttJH8g0ugQ      1   \n",
       "9953  QCxXYA13PtkD3wec47_r8Q  2012-03-14  V2N2TCqnaqMYfg7zXGG-Rg      1   \n",
       "9984  wepFVY82q_tuDzG6lQjHWw  2012-02-12  spusZYROtBKw_5tv3gYm4Q      1   \n",
       "9987  r-a-Cn9hxdEnYTtVTB5bMQ  2012-04-07  j9HwZZoBBmJgOlqDSuJcxg      1   \n",
       "\n",
       "                                                   text    type  \\\n",
       "23    U can go there n check the car out. If u wanna...  review   \n",
       "31    Disgusting!  Had a Groupon so my daughter and ...  review   \n",
       "35    I've eaten here many times, but none as bad as...  review   \n",
       "61    I have always been a fan of Burlington's deals...  review   \n",
       "64    Another night meeting friends here.  I have to...  review   \n",
       "...                                                 ...     ...   \n",
       "9924                                  Horrible service.  review   \n",
       "9931  I love Saddle Ranch for its casual night time ...  review   \n",
       "9953  \"Hipster,Trendy\" ????-I think NOT !!!! Very di...  review   \n",
       "9984  Went last night to Whore Foods to get basics t...  review   \n",
       "9987  The food is delicious.  The service:  discrimi...  review   \n",
       "\n",
       "                     user_id  cool  useful  funny  length  \n",
       "23    zRlQEDYd_HKp0VS3hnAffA     0       1      1     594  \n",
       "31    8AMn6644NmBf96xGO3w6OA     0       1      0     361  \n",
       "35    iwUN95LIaEr75TZE_JC6bg     0       4      3    1198  \n",
       "61    EPROVap0M19Y6_4uf3eCmQ     0       0      0     569  \n",
       "64    MjLAe48XNfYlTeFYca5gMw     0       1      2     498  \n",
       "...                      ...   ...     ...    ...     ...  \n",
       "9924  rvaJcf5OIY2So_pkoqDHLQ     0       1      0      17  \n",
       "9931  yhGfcKunPjcy-v-1ppr6oQ     0       2      0     995  \n",
       "9953  JEQ6el2-tLtKJU6k_SpE-w     0       2      0     296  \n",
       "9984  W7zmm1uzlyUkEqpSG7PlBw     0       1      2    1673  \n",
       "9987  toPtsUtYoRB-5-ThrOy2Fg     0       0      0     200  \n",
       "\n",
       "[749 rows x 11 columns]"
      ]
     },
     "execution_count": 16,
     "metadata": {},
     "output_type": "execute_result"
    }
   ],
   "source": [
    "onestar_reviews"
   ]
  },
  {
   "cell_type": "code",
   "execution_count": 17,
   "metadata": {},
   "outputs": [],
   "source": [
    "fivestar_reviews = dataset[dataset['stars'] == 5]"
   ]
  },
  {
   "cell_type": "code",
   "execution_count": 18,
   "metadata": {},
   "outputs": [
    {
     "data": {
      "text/html": [
       "<div>\n",
       "<style scoped>\n",
       "    .dataframe tbody tr th:only-of-type {\n",
       "        vertical-align: middle;\n",
       "    }\n",
       "\n",
       "    .dataframe tbody tr th {\n",
       "        vertical-align: top;\n",
       "    }\n",
       "\n",
       "    .dataframe thead th {\n",
       "        text-align: right;\n",
       "    }\n",
       "</style>\n",
       "<table border=\"1\" class=\"dataframe\">\n",
       "  <thead>\n",
       "    <tr style=\"text-align: right;\">\n",
       "      <th></th>\n",
       "      <th>business_id</th>\n",
       "      <th>date</th>\n",
       "      <th>review_id</th>\n",
       "      <th>stars</th>\n",
       "      <th>text</th>\n",
       "      <th>type</th>\n",
       "      <th>user_id</th>\n",
       "      <th>cool</th>\n",
       "      <th>useful</th>\n",
       "      <th>funny</th>\n",
       "      <th>length</th>\n",
       "    </tr>\n",
       "  </thead>\n",
       "  <tbody>\n",
       "    <tr>\n",
       "      <th>0</th>\n",
       "      <td>9yKzy9PApeiPPOUJEtnvkg</td>\n",
       "      <td>2011-01-26</td>\n",
       "      <td>fWKvX83p0-ka4JS3dc6E5A</td>\n",
       "      <td>5</td>\n",
       "      <td>My wife took me here on my birthday for breakf...</td>\n",
       "      <td>review</td>\n",
       "      <td>rLtl8ZkDX5vH5nAx9C3q5Q</td>\n",
       "      <td>2</td>\n",
       "      <td>5</td>\n",
       "      <td>0</td>\n",
       "      <td>889</td>\n",
       "    </tr>\n",
       "    <tr>\n",
       "      <th>1</th>\n",
       "      <td>ZRJwVLyzEJq1VAihDhYiow</td>\n",
       "      <td>2011-07-27</td>\n",
       "      <td>IjZ33sJrzXqU-0X6U8NwyA</td>\n",
       "      <td>5</td>\n",
       "      <td>I have no idea why some people give bad review...</td>\n",
       "      <td>review</td>\n",
       "      <td>0a2KyEL0d3Yb1V6aivbIuQ</td>\n",
       "      <td>0</td>\n",
       "      <td>0</td>\n",
       "      <td>0</td>\n",
       "      <td>1345</td>\n",
       "    </tr>\n",
       "    <tr>\n",
       "      <th>3</th>\n",
       "      <td>_1QQZuf4zZOyFCvXc0o6Vg</td>\n",
       "      <td>2010-05-27</td>\n",
       "      <td>G-WvGaISbqqaMHlNnByodA</td>\n",
       "      <td>5</td>\n",
       "      <td>Rosie, Dakota, and I LOVE Chaparral Dog Park!!...</td>\n",
       "      <td>review</td>\n",
       "      <td>uZetl9T0NcROGOyFfughhg</td>\n",
       "      <td>1</td>\n",
       "      <td>2</td>\n",
       "      <td>0</td>\n",
       "      <td>419</td>\n",
       "    </tr>\n",
       "    <tr>\n",
       "      <th>4</th>\n",
       "      <td>6ozycU1RpktNG2-1BroVtw</td>\n",
       "      <td>2012-01-05</td>\n",
       "      <td>1uJFq2r5QfJG_6ExMRCaGw</td>\n",
       "      <td>5</td>\n",
       "      <td>General Manager Scott Petello is a good egg!!!...</td>\n",
       "      <td>review</td>\n",
       "      <td>vYmM4KTsC8ZfQBg-j5MWkw</td>\n",
       "      <td>0</td>\n",
       "      <td>0</td>\n",
       "      <td>0</td>\n",
       "      <td>469</td>\n",
       "    </tr>\n",
       "    <tr>\n",
       "      <th>6</th>\n",
       "      <td>zp713qNhx8d9KCJJnrw1xA</td>\n",
       "      <td>2010-02-12</td>\n",
       "      <td>riFQ3vxNpP4rWLk_CSri2A</td>\n",
       "      <td>5</td>\n",
       "      <td>Drop what you're doing and drive here. After I...</td>\n",
       "      <td>review</td>\n",
       "      <td>wFweIWhv2fREZV_dYkz_1g</td>\n",
       "      <td>7</td>\n",
       "      <td>7</td>\n",
       "      <td>4</td>\n",
       "      <td>1565</td>\n",
       "    </tr>\n",
       "    <tr>\n",
       "      <th>...</th>\n",
       "      <td>...</td>\n",
       "      <td>...</td>\n",
       "      <td>...</td>\n",
       "      <td>...</td>\n",
       "      <td>...</td>\n",
       "      <td>...</td>\n",
       "      <td>...</td>\n",
       "      <td>...</td>\n",
       "      <td>...</td>\n",
       "      <td>...</td>\n",
       "      <td>...</td>\n",
       "    </tr>\n",
       "    <tr>\n",
       "      <th>9990</th>\n",
       "      <td>R8VwdLyvsp9iybNqRvm94g</td>\n",
       "      <td>2011-10-03</td>\n",
       "      <td>pcEeHdAJPoFNF23es0kKWg</td>\n",
       "      <td>5</td>\n",
       "      <td>Yes I do rock the hipster joints.  I dig this ...</td>\n",
       "      <td>review</td>\n",
       "      <td>b92Y3tyWTQQZ5FLifex62Q</td>\n",
       "      <td>1</td>\n",
       "      <td>1</td>\n",
       "      <td>1</td>\n",
       "      <td>263</td>\n",
       "    </tr>\n",
       "    <tr>\n",
       "      <th>9991</th>\n",
       "      <td>WJ5mq4EiWYAA4Vif0xDfdg</td>\n",
       "      <td>2011-12-05</td>\n",
       "      <td>EuHX-39FR7tyyG1ElvN1Jw</td>\n",
       "      <td>5</td>\n",
       "      <td>Only 4 stars? \\n\\n(A few notes: The folks that...</td>\n",
       "      <td>review</td>\n",
       "      <td>hTau-iNZFwoNsPCaiIUTEA</td>\n",
       "      <td>1</td>\n",
       "      <td>1</td>\n",
       "      <td>0</td>\n",
       "      <td>908</td>\n",
       "    </tr>\n",
       "    <tr>\n",
       "      <th>9992</th>\n",
       "      <td>f96lWMIAUhYIYy9gOktivQ</td>\n",
       "      <td>2009-03-10</td>\n",
       "      <td>YF17z7HWlMj6aezZc-pVEw</td>\n",
       "      <td>5</td>\n",
       "      <td>I'm not normally one to jump at reviewing a ch...</td>\n",
       "      <td>review</td>\n",
       "      <td>W_QXYA7A0IhMrvbckz7eVg</td>\n",
       "      <td>2</td>\n",
       "      <td>3</td>\n",
       "      <td>2</td>\n",
       "      <td>1326</td>\n",
       "    </tr>\n",
       "    <tr>\n",
       "      <th>9994</th>\n",
       "      <td>L3BSpFvxcNf3T_teitgt6A</td>\n",
       "      <td>2012-03-19</td>\n",
       "      <td>0nxb1gIGFgk3WbC5zwhKZg</td>\n",
       "      <td>5</td>\n",
       "      <td>Let's see...what is there NOT to like about Su...</td>\n",
       "      <td>review</td>\n",
       "      <td>OzOZv-Knlw3oz9K5Kh5S6A</td>\n",
       "      <td>1</td>\n",
       "      <td>2</td>\n",
       "      <td>1</td>\n",
       "      <td>1968</td>\n",
       "    </tr>\n",
       "    <tr>\n",
       "      <th>9999</th>\n",
       "      <td>pF7uRzygyZsltbmVpjIyvw</td>\n",
       "      <td>2010-10-16</td>\n",
       "      <td>vWSmOhg2ID1MNZHaWapGbA</td>\n",
       "      <td>5</td>\n",
       "      <td>4-5 locations.. all 4.5 star average.. I think...</td>\n",
       "      <td>review</td>\n",
       "      <td>KSBFytcdjPKZgXKQnYQdkA</td>\n",
       "      <td>0</td>\n",
       "      <td>0</td>\n",
       "      <td>0</td>\n",
       "      <td>461</td>\n",
       "    </tr>\n",
       "  </tbody>\n",
       "</table>\n",
       "<p>3337 rows × 11 columns</p>\n",
       "</div>"
      ],
      "text/plain": [
       "                 business_id        date               review_id  stars  \\\n",
       "0     9yKzy9PApeiPPOUJEtnvkg  2011-01-26  fWKvX83p0-ka4JS3dc6E5A      5   \n",
       "1     ZRJwVLyzEJq1VAihDhYiow  2011-07-27  IjZ33sJrzXqU-0X6U8NwyA      5   \n",
       "3     _1QQZuf4zZOyFCvXc0o6Vg  2010-05-27  G-WvGaISbqqaMHlNnByodA      5   \n",
       "4     6ozycU1RpktNG2-1BroVtw  2012-01-05  1uJFq2r5QfJG_6ExMRCaGw      5   \n",
       "6     zp713qNhx8d9KCJJnrw1xA  2010-02-12  riFQ3vxNpP4rWLk_CSri2A      5   \n",
       "...                      ...         ...                     ...    ...   \n",
       "9990  R8VwdLyvsp9iybNqRvm94g  2011-10-03  pcEeHdAJPoFNF23es0kKWg      5   \n",
       "9991  WJ5mq4EiWYAA4Vif0xDfdg  2011-12-05  EuHX-39FR7tyyG1ElvN1Jw      5   \n",
       "9992  f96lWMIAUhYIYy9gOktivQ  2009-03-10  YF17z7HWlMj6aezZc-pVEw      5   \n",
       "9994  L3BSpFvxcNf3T_teitgt6A  2012-03-19  0nxb1gIGFgk3WbC5zwhKZg      5   \n",
       "9999  pF7uRzygyZsltbmVpjIyvw  2010-10-16  vWSmOhg2ID1MNZHaWapGbA      5   \n",
       "\n",
       "                                                   text    type  \\\n",
       "0     My wife took me here on my birthday for breakf...  review   \n",
       "1     I have no idea why some people give bad review...  review   \n",
       "3     Rosie, Dakota, and I LOVE Chaparral Dog Park!!...  review   \n",
       "4     General Manager Scott Petello is a good egg!!!...  review   \n",
       "6     Drop what you're doing and drive here. After I...  review   \n",
       "...                                                 ...     ...   \n",
       "9990  Yes I do rock the hipster joints.  I dig this ...  review   \n",
       "9991  Only 4 stars? \\n\\n(A few notes: The folks that...  review   \n",
       "9992  I'm not normally one to jump at reviewing a ch...  review   \n",
       "9994  Let's see...what is there NOT to like about Su...  review   \n",
       "9999  4-5 locations.. all 4.5 star average.. I think...  review   \n",
       "\n",
       "                     user_id  cool  useful  funny  length  \n",
       "0     rLtl8ZkDX5vH5nAx9C3q5Q     2       5      0     889  \n",
       "1     0a2KyEL0d3Yb1V6aivbIuQ     0       0      0    1345  \n",
       "3     uZetl9T0NcROGOyFfughhg     1       2      0     419  \n",
       "4     vYmM4KTsC8ZfQBg-j5MWkw     0       0      0     469  \n",
       "6     wFweIWhv2fREZV_dYkz_1g     7       7      4    1565  \n",
       "...                      ...   ...     ...    ...     ...  \n",
       "9990  b92Y3tyWTQQZ5FLifex62Q     1       1      1     263  \n",
       "9991  hTau-iNZFwoNsPCaiIUTEA     1       1      0     908  \n",
       "9992  W_QXYA7A0IhMrvbckz7eVg     2       3      2    1326  \n",
       "9994  OzOZv-Knlw3oz9K5Kh5S6A     1       2      1    1968  \n",
       "9999  KSBFytcdjPKZgXKQnYQdkA     0       0      0     461  \n",
       "\n",
       "[3337 rows x 11 columns]"
      ]
     },
     "execution_count": 18,
     "metadata": {},
     "output_type": "execute_result"
    }
   ],
   "source": [
    "fivestar_reviews"
   ]
  },
  {
   "cell_type": "code",
   "execution_count": 187,
   "metadata": {},
   "outputs": [],
   "source": [
    "extreme_reviews = pd.concat([onestar_reviews,fivestar_reviews])"
   ]
  },
  {
   "cell_type": "code",
   "execution_count": 188,
   "metadata": {},
   "outputs": [
    {
     "data": {
      "text/html": [
       "<div>\n",
       "<style scoped>\n",
       "    .dataframe tbody tr th:only-of-type {\n",
       "        vertical-align: middle;\n",
       "    }\n",
       "\n",
       "    .dataframe tbody tr th {\n",
       "        vertical-align: top;\n",
       "    }\n",
       "\n",
       "    .dataframe thead th {\n",
       "        text-align: right;\n",
       "    }\n",
       "</style>\n",
       "<table border=\"1\" class=\"dataframe\">\n",
       "  <thead>\n",
       "    <tr style=\"text-align: right;\">\n",
       "      <th></th>\n",
       "      <th>business_id</th>\n",
       "      <th>date</th>\n",
       "      <th>review_id</th>\n",
       "      <th>stars</th>\n",
       "      <th>text</th>\n",
       "      <th>type</th>\n",
       "      <th>user_id</th>\n",
       "      <th>cool</th>\n",
       "      <th>useful</th>\n",
       "      <th>funny</th>\n",
       "      <th>length</th>\n",
       "    </tr>\n",
       "  </thead>\n",
       "  <tbody>\n",
       "    <tr>\n",
       "      <th>23</th>\n",
       "      <td>IJ0o6b8bJFAbG6MjGfBebQ</td>\n",
       "      <td>2010-09-05</td>\n",
       "      <td>Dx9sfFU6Zn0GYOckijom-g</td>\n",
       "      <td>1</td>\n",
       "      <td>U can go there n check the car out. If u wanna...</td>\n",
       "      <td>review</td>\n",
       "      <td>zRlQEDYd_HKp0VS3hnAffA</td>\n",
       "      <td>0</td>\n",
       "      <td>1</td>\n",
       "      <td>1</td>\n",
       "      <td>594</td>\n",
       "    </tr>\n",
       "    <tr>\n",
       "      <th>31</th>\n",
       "      <td>vvA3fbps4F9nGlAEYKk_sA</td>\n",
       "      <td>2012-05-04</td>\n",
       "      <td>S9OVpXat8k5YwWCn6FAgXg</td>\n",
       "      <td>1</td>\n",
       "      <td>Disgusting!  Had a Groupon so my daughter and ...</td>\n",
       "      <td>review</td>\n",
       "      <td>8AMn6644NmBf96xGO3w6OA</td>\n",
       "      <td>0</td>\n",
       "      <td>1</td>\n",
       "      <td>0</td>\n",
       "      <td>361</td>\n",
       "    </tr>\n",
       "    <tr>\n",
       "      <th>35</th>\n",
       "      <td>o1GIYYZJjM6nM03fQs_uEQ</td>\n",
       "      <td>2011-11-30</td>\n",
       "      <td>ApKbwpYJdnhhgP4NbjQw2Q</td>\n",
       "      <td>1</td>\n",
       "      <td>I've eaten here many times, but none as bad as...</td>\n",
       "      <td>review</td>\n",
       "      <td>iwUN95LIaEr75TZE_JC6bg</td>\n",
       "      <td>0</td>\n",
       "      <td>4</td>\n",
       "      <td>3</td>\n",
       "      <td>1198</td>\n",
       "    </tr>\n",
       "    <tr>\n",
       "      <th>61</th>\n",
       "      <td>l4vBbCL9QbGiwLuLKwD_bA</td>\n",
       "      <td>2011-11-22</td>\n",
       "      <td>DJVxOfj2Rw9zklC9tU3i1w</td>\n",
       "      <td>1</td>\n",
       "      <td>I have always been a fan of Burlington's deals...</td>\n",
       "      <td>review</td>\n",
       "      <td>EPROVap0M19Y6_4uf3eCmQ</td>\n",
       "      <td>0</td>\n",
       "      <td>0</td>\n",
       "      <td>0</td>\n",
       "      <td>569</td>\n",
       "    </tr>\n",
       "    <tr>\n",
       "      <th>64</th>\n",
       "      <td>CEswyP-9SsXRNLR9fFGKKw</td>\n",
       "      <td>2012-05-19</td>\n",
       "      <td>GXj4PNAi095-q9ynPYH3kg</td>\n",
       "      <td>1</td>\n",
       "      <td>Another night meeting friends here.  I have to...</td>\n",
       "      <td>review</td>\n",
       "      <td>MjLAe48XNfYlTeFYca5gMw</td>\n",
       "      <td>0</td>\n",
       "      <td>1</td>\n",
       "      <td>2</td>\n",
       "      <td>498</td>\n",
       "    </tr>\n",
       "    <tr>\n",
       "      <th>...</th>\n",
       "      <td>...</td>\n",
       "      <td>...</td>\n",
       "      <td>...</td>\n",
       "      <td>...</td>\n",
       "      <td>...</td>\n",
       "      <td>...</td>\n",
       "      <td>...</td>\n",
       "      <td>...</td>\n",
       "      <td>...</td>\n",
       "      <td>...</td>\n",
       "      <td>...</td>\n",
       "    </tr>\n",
       "    <tr>\n",
       "      <th>9990</th>\n",
       "      <td>R8VwdLyvsp9iybNqRvm94g</td>\n",
       "      <td>2011-10-03</td>\n",
       "      <td>pcEeHdAJPoFNF23es0kKWg</td>\n",
       "      <td>5</td>\n",
       "      <td>Yes I do rock the hipster joints.  I dig this ...</td>\n",
       "      <td>review</td>\n",
       "      <td>b92Y3tyWTQQZ5FLifex62Q</td>\n",
       "      <td>1</td>\n",
       "      <td>1</td>\n",
       "      <td>1</td>\n",
       "      <td>263</td>\n",
       "    </tr>\n",
       "    <tr>\n",
       "      <th>9991</th>\n",
       "      <td>WJ5mq4EiWYAA4Vif0xDfdg</td>\n",
       "      <td>2011-12-05</td>\n",
       "      <td>EuHX-39FR7tyyG1ElvN1Jw</td>\n",
       "      <td>5</td>\n",
       "      <td>Only 4 stars? \\n\\n(A few notes: The folks that...</td>\n",
       "      <td>review</td>\n",
       "      <td>hTau-iNZFwoNsPCaiIUTEA</td>\n",
       "      <td>1</td>\n",
       "      <td>1</td>\n",
       "      <td>0</td>\n",
       "      <td>908</td>\n",
       "    </tr>\n",
       "    <tr>\n",
       "      <th>9992</th>\n",
       "      <td>f96lWMIAUhYIYy9gOktivQ</td>\n",
       "      <td>2009-03-10</td>\n",
       "      <td>YF17z7HWlMj6aezZc-pVEw</td>\n",
       "      <td>5</td>\n",
       "      <td>I'm not normally one to jump at reviewing a ch...</td>\n",
       "      <td>review</td>\n",
       "      <td>W_QXYA7A0IhMrvbckz7eVg</td>\n",
       "      <td>2</td>\n",
       "      <td>3</td>\n",
       "      <td>2</td>\n",
       "      <td>1326</td>\n",
       "    </tr>\n",
       "    <tr>\n",
       "      <th>9994</th>\n",
       "      <td>L3BSpFvxcNf3T_teitgt6A</td>\n",
       "      <td>2012-03-19</td>\n",
       "      <td>0nxb1gIGFgk3WbC5zwhKZg</td>\n",
       "      <td>5</td>\n",
       "      <td>Let's see...what is there NOT to like about Su...</td>\n",
       "      <td>review</td>\n",
       "      <td>OzOZv-Knlw3oz9K5Kh5S6A</td>\n",
       "      <td>1</td>\n",
       "      <td>2</td>\n",
       "      <td>1</td>\n",
       "      <td>1968</td>\n",
       "    </tr>\n",
       "    <tr>\n",
       "      <th>9999</th>\n",
       "      <td>pF7uRzygyZsltbmVpjIyvw</td>\n",
       "      <td>2010-10-16</td>\n",
       "      <td>vWSmOhg2ID1MNZHaWapGbA</td>\n",
       "      <td>5</td>\n",
       "      <td>4-5 locations.. all 4.5 star average.. I think...</td>\n",
       "      <td>review</td>\n",
       "      <td>KSBFytcdjPKZgXKQnYQdkA</td>\n",
       "      <td>0</td>\n",
       "      <td>0</td>\n",
       "      <td>0</td>\n",
       "      <td>461</td>\n",
       "    </tr>\n",
       "  </tbody>\n",
       "</table>\n",
       "<p>4086 rows × 11 columns</p>\n",
       "</div>"
      ],
      "text/plain": [
       "                 business_id        date               review_id  stars  \\\n",
       "23    IJ0o6b8bJFAbG6MjGfBebQ  2010-09-05  Dx9sfFU6Zn0GYOckijom-g      1   \n",
       "31    vvA3fbps4F9nGlAEYKk_sA  2012-05-04  S9OVpXat8k5YwWCn6FAgXg      1   \n",
       "35    o1GIYYZJjM6nM03fQs_uEQ  2011-11-30  ApKbwpYJdnhhgP4NbjQw2Q      1   \n",
       "61    l4vBbCL9QbGiwLuLKwD_bA  2011-11-22  DJVxOfj2Rw9zklC9tU3i1w      1   \n",
       "64    CEswyP-9SsXRNLR9fFGKKw  2012-05-19  GXj4PNAi095-q9ynPYH3kg      1   \n",
       "...                      ...         ...                     ...    ...   \n",
       "9990  R8VwdLyvsp9iybNqRvm94g  2011-10-03  pcEeHdAJPoFNF23es0kKWg      5   \n",
       "9991  WJ5mq4EiWYAA4Vif0xDfdg  2011-12-05  EuHX-39FR7tyyG1ElvN1Jw      5   \n",
       "9992  f96lWMIAUhYIYy9gOktivQ  2009-03-10  YF17z7HWlMj6aezZc-pVEw      5   \n",
       "9994  L3BSpFvxcNf3T_teitgt6A  2012-03-19  0nxb1gIGFgk3WbC5zwhKZg      5   \n",
       "9999  pF7uRzygyZsltbmVpjIyvw  2010-10-16  vWSmOhg2ID1MNZHaWapGbA      5   \n",
       "\n",
       "                                                   text    type  \\\n",
       "23    U can go there n check the car out. If u wanna...  review   \n",
       "31    Disgusting!  Had a Groupon so my daughter and ...  review   \n",
       "35    I've eaten here many times, but none as bad as...  review   \n",
       "61    I have always been a fan of Burlington's deals...  review   \n",
       "64    Another night meeting friends here.  I have to...  review   \n",
       "...                                                 ...     ...   \n",
       "9990  Yes I do rock the hipster joints.  I dig this ...  review   \n",
       "9991  Only 4 stars? \\n\\n(A few notes: The folks that...  review   \n",
       "9992  I'm not normally one to jump at reviewing a ch...  review   \n",
       "9994  Let's see...what is there NOT to like about Su...  review   \n",
       "9999  4-5 locations.. all 4.5 star average.. I think...  review   \n",
       "\n",
       "                     user_id  cool  useful  funny  length  \n",
       "23    zRlQEDYd_HKp0VS3hnAffA     0       1      1     594  \n",
       "31    8AMn6644NmBf96xGO3w6OA     0       1      0     361  \n",
       "35    iwUN95LIaEr75TZE_JC6bg     0       4      3    1198  \n",
       "61    EPROVap0M19Y6_4uf3eCmQ     0       0      0     569  \n",
       "64    MjLAe48XNfYlTeFYca5gMw     0       1      2     498  \n",
       "...                      ...   ...     ...    ...     ...  \n",
       "9990  b92Y3tyWTQQZ5FLifex62Q     1       1      1     263  \n",
       "9991  hTau-iNZFwoNsPCaiIUTEA     1       1      0     908  \n",
       "9992  W_QXYA7A0IhMrvbckz7eVg     2       3      2    1326  \n",
       "9994  OzOZv-Knlw3oz9K5Kh5S6A     1       2      1    1968  \n",
       "9999  KSBFytcdjPKZgXKQnYQdkA     0       0      0     461  \n",
       "\n",
       "[4086 rows x 11 columns]"
      ]
     },
     "execution_count": 188,
     "metadata": {},
     "output_type": "execute_result"
    }
   ],
   "source": [
    "extreme_reviews"
   ]
  },
  {
   "cell_type": "code",
   "execution_count": 189,
   "metadata": {},
   "outputs": [
    {
     "data": {
      "text/plain": [
       "<matplotlib.axes._subplots.AxesSubplot at 0x24839a42898>"
      ]
     },
     "execution_count": 189,
     "metadata": {},
     "output_type": "execute_result"
    },
    {
     "data": {
      "image/png": "[encoded data removed]",
      "text/plain": [
       "<Figure size 432x288 with 1 Axes>"
      ]
     },
     "metadata": {
      "needs_background": "light"
     },
     "output_type": "display_data"
    }
   ],
   "source": [
    "sns.countplot(extreme_reviews['stars'] )"
   ]
  },
  {
   "cell_type": "code",
   "execution_count": 190,
   "metadata": {},
   "outputs": [],
   "source": [
    "import string\n",
    "from nltk.corpus import stopwords"
   ]
  },
  {
   "cell_type": "code",
   "execution_count": 191,
   "metadata": {},
   "outputs": [
    {
     "name": "stdout",
     "output_type": "stream",
     "text": [
      "['i', 'me', 'my', 'myself', 'we', 'our', 'ours', 'ourselves', 'you', \"you're\", \"you've\", \"you'll\", \"you'd\", 'your', 'yours', 'yourself', 'yourselves', 'he', 'him', 'his', 'himself', 'she', \"she's\", 'her', 'hers', 'herself', 'it', \"it's\", 'its', 'itself', 'they', 'them', 'their', 'theirs', 'themselves', 'what', 'which', 'who', 'whom', 'this', 'that', \"that'll\", 'these', 'those', 'am', 'is', 'are', 'was', 'were', 'be', 'been', 'being', 'have', 'has', 'had', 'having', 'do', 'does', 'did', 'doing', 'a', 'an', 'the', 'and', 'but', 'if', 'or', 'because', 'as', 'until', 'while', 'of', 'at', 'by', 'for', 'with', 'about', 'against', 'between', 'into', 'through', 'during', 'before', 'after', 'above', 'below', 'to', 'from', 'up', 'down', 'in', 'out', 'on', 'off', 'over', 'under', 'again', 'further', 'then', 'once', 'here', 'there', 'when', 'where', 'why', 'how', 'all', 'any', 'both', 'each', 'few', 'more', 'most', 'other', 'some', 'such', 'no', 'nor', 'not', 'only', 'own', 'same', 'so', 'than', 'too', 'very', 's', 't', 'can', 'will', 'just', 'don', \"don't\", 'should', \"should've\", 'now', 'd', 'll', 'm', 'o', 're', 've', 'y', 'ain', 'aren', \"aren't\", 'couldn', \"couldn't\", 'didn', \"didn't\", 'doesn', \"doesn't\", 'hadn', \"hadn't\", 'hasn', \"hasn't\", 'haven', \"haven't\", 'isn', \"isn't\", 'ma', 'mightn', \"mightn't\", 'mustn', \"mustn't\", 'needn', \"needn't\", 'shan', \"shan't\", 'shouldn', \"shouldn't\", 'wasn', \"wasn't\", 'weren', \"weren't\", 'won', \"won't\", 'wouldn', \"wouldn't\"]\n",
      "!\"#$%&'()*+,-./:;<=>?@[\\]^_`{|}~\n"
     ]
    }
   ],
   "source": [
    "punctuations = string.punctuation\n",
    "english_stopwords = stopwords.words('english')\n",
    "print(english_stopwords)\n",
    "print(punctuations)"
   ]
  },
  {
   "cell_type": "code",
   "execution_count": 192,
   "metadata": {},
   "outputs": [],
   "source": [
    "def removepunctuations(text):\n",
    "    punctuations = string.punctuation\n",
    "    text = [ch for ch in text if ch not in punctuations]\n",
    "    return ''.join(text)"
   ]
  },
  {
   "cell_type": "code",
   "execution_count": 193,
   "metadata": {},
   "outputs": [],
   "source": [
    "test_string = \" Hey ! This is Nikhil Kumar Ghanghor !! Hope you all are doing good . Would like to see you soon after this pandemic ends.\""
   ]
  },
  {
   "cell_type": "code",
   "execution_count": 194,
   "metadata": {},
   "outputs": [],
   "source": [
    "test_string = removepunctuations(test_string)"
   ]
  },
  {
   "cell_type": "code",
   "execution_count": 195,
   "metadata": {},
   "outputs": [
    {
     "data": {
      "text/plain": [
       "' Hey  This is Nikhil Kumar Ghanghor  Hope you all are doing good  Would like to see you soon after this pandemic ends'"
      ]
     },
     "execution_count": 195,
     "metadata": {},
     "output_type": "execute_result"
    }
   ],
   "source": [
    "test_string"
   ]
  },
  {
   "cell_type": "code",
   "execution_count": 196,
   "metadata": {},
   "outputs": [],
   "source": [
    "def removestopwords(text,stopwords):\n",
    "    text = [word for word in text.split() if word.lower() not in stopwords]\n",
    "    return ' '.join(text)"
   ]
  },
  {
   "cell_type": "code",
   "execution_count": 197,
   "metadata": {},
   "outputs": [],
   "source": [
    "test_string = removestopwords(test_string,english_stopwords)"
   ]
  },
  {
   "cell_type": "code",
   "execution_count": 198,
   "metadata": {},
   "outputs": [
    {
     "data": {
      "text/plain": [
       "'Hey Nikhil Kumar Ghanghor Hope good Would like see soon pandemic ends'"
      ]
     },
     "execution_count": 198,
     "metadata": {},
     "output_type": "execute_result"
    }
   ],
   "source": [
    "test_string"
   ]
  },
  {
   "cell_type": "code",
   "execution_count": 199,
   "metadata": {},
   "outputs": [],
   "source": [
    "test_arr = [\n",
    "            'Hey!how r u? hope everything is fine. text me when u get free.',\n",
    "            'Hi , I am missing you a lot these days . Would like to talk to you if you ever have time please do text.'\n",
    "        ]"
   ]
  },
  {
   "cell_type": "code",
   "execution_count": 200,
   "metadata": {},
   "outputs": [],
   "source": [
    "for i in range(len(test_arr)):\n",
    "    test_arr[i] = removestopwords( removepunctuations( test_arr[i] ) , english_stopwords)"
   ]
  },
  {
   "cell_type": "code",
   "execution_count": 201,
   "metadata": {},
   "outputs": [],
   "source": [
    "from sklearn.feature_extraction.text import CountVectorizer\n",
    "vectorizer = CountVectorizer()\n",
    "X = vectorizer.fit_transform(test_arr)"
   ]
  },
  {
   "cell_type": "code",
   "execution_count": 202,
   "metadata": {},
   "outputs": [
    {
     "name": "stdout",
     "output_type": "stream",
     "text": [
      "['days', 'ever', 'everything', 'fine', 'free', 'get', 'heyhow', 'hi', 'hope', 'like', 'lot', 'missing', 'please', 'talk', 'text', 'time', 'would']\n"
     ]
    }
   ],
   "source": [
    "print(vectorizer.get_feature_names())"
   ]
  },
  {
   "cell_type": "code",
   "execution_count": 203,
   "metadata": {},
   "outputs": [
    {
     "name": "stdout",
     "output_type": "stream",
     "text": [
      "[[0 0 1 1 1 1 1 0 1 0 0 0 0 0 1 0 0]\n",
      " [1 1 0 0 0 0 0 1 0 1 1 1 1 1 1 1 1]]\n"
     ]
    }
   ],
   "source": [
    "print(X.toarray())"
   ]
  },
  {
   "cell_type": "code",
   "execution_count": 204,
   "metadata": {},
   "outputs": [],
   "source": [
    "def text_cleansing(text):\n",
    "    text = ''.join([ ch for ch in text if ch not in punctuations])\n",
    "    text = ' '.join([ word for word in text.split() if word.lower() not in english_stopwords])\n",
    "    return text"
   ]
  },
  {
   "cell_type": "code",
   "execution_count": 205,
   "metadata": {},
   "outputs": [
    {
     "name": "stdout",
     "output_type": "stream",
     "text": [
      "Heyhow r u hope everything fine text u get freeHi missing lot days Would like talk ever time please text\n"
     ]
    }
   ],
   "source": [
    "print(text_cleansing(test_arr))"
   ]
  },
  {
   "cell_type": "code",
   "execution_count": 206,
   "metadata": {},
   "outputs": [],
   "source": [
    "dataset_preprocessed = extreme_reviews['text'].apply(text_cleansing)"
   ]
  },
  {
   "cell_type": "code",
   "execution_count": 211,
   "metadata": {},
   "outputs": [
    {
     "data": {
      "text/plain": [
       "23      U go n check car u wanna buy 1 Thats wrong mov...\n",
       "31      Disgusting Groupon daughter tried outdated gau...\n",
       "35      Ive eaten many times none bad last night Servi...\n",
       "61      always fan Burlingtons deals however shopping ...\n",
       "64      Another night meeting friends laugh Waited ano...\n",
       "                              ...                        \n",
       "9990    Yes rock hipster joints dig place little bit s...\n",
       "9991    4 stars notes folks rated place low must isola...\n",
       "9992    Im normally one jump reviewing chain restauran...\n",
       "9994    Lets seewhat like Surprise Stadium Well 950 ta...\n",
       "9999    45 locations 45 star average think Arizona rea...\n",
       "Name: text, Length: 4086, dtype: object"
      ]
     },
     "execution_count": 211,
     "metadata": {},
     "output_type": "execute_result"
    }
   ],
   "source": [
    "dataset_preprocessed"
   ]
  },
  {
   "cell_type": "code",
   "execution_count": 212,
   "metadata": {},
   "outputs": [],
   "source": [
    "from sklearn.feature_extraction.text import CountVectorizer\n",
    "vectorizer = CountVectorizer()\n",
    "X = vectorizer.fit_transform(dataset_preprocessed)"
   ]
  },
  {
   "cell_type": "code",
   "execution_count": 213,
   "metadata": {},
   "outputs": [
    {
     "data": {
      "text/plain": [
       "array([[0, 0, 0, ..., 0, 0, 0],\n",
       "       [0, 0, 0, ..., 0, 0, 0],\n",
       "       [0, 0, 0, ..., 0, 0, 0],\n",
       "       ...,\n",
       "       [0, 0, 0, ..., 0, 0, 0],\n",
       "       [0, 0, 0, ..., 0, 0, 0],\n",
       "       [0, 0, 0, ..., 0, 0, 0]], dtype=int64)"
      ]
     },
     "execution_count": 213,
     "metadata": {},
     "output_type": "execute_result"
    }
   ],
   "source": [
    "X.toarray()"
   ]
  },
  {
   "cell_type": "code",
   "execution_count": 214,
   "metadata": {},
   "outputs": [
    {
     "name": "stdout",
     "output_type": "stream",
     "text": [
      "['00s', '01042012', '022010', '03342', '05', '050', '06', '07092008', '075', '09', '090', '095', '10', '100', '1000', '10000', '1000am', '1000pm', '1000x', '1001', '100150', '1007', '100s', '100th', '101', '1011', '1012', '101412', '1015', '102', '1025', '1030', '103011', '1030pm', '10312012', '105', '1070', '108', '109', '1095', '1099', '10am', '10am4pm', '10close', '10each', '10gallon', '10ish', '10min', '10mins', '10minutes', '10person', '10pm', '10pm12am', '10shrimp', '10th', '10thand', '10x', '10yard', '10yo', '11', '110', '1100', '1100am', '1103', '111', '1113', '1115', '1118', '111807', '111809', '111909', '111pm', '111th', '112', '112312', '1125', '1130', '1130am', '1135', '1139', '114', '1141', '1145', '115', '1150', '1152', '1154', '1155', '115th', '116', '118', '1182010', '1199', '11991079', '11a3p', '11am', '11ish', '11person', '11pm', '12', '120', '1200', '12000', '1205', '1207', '120year', '121007', '121107', '121207', '1213', '121407', '1216', '122111', '122112', '1230', '1230p', '123110', '1232', '123200', '1240', '1244', '125', '1250', '12712', '128i', '129', '1295', '12am', '12maybe', '12oz', '12pm', '12th', '12year', '12yr', '13', '130', '1300', '131415', '13331', '1361', '13are', '13dont', '13person', '13th', '13years', '14', '140', '1400', '1417', '1418', '147', '149', '1495', '1499', '1499lb', '14half', '14lbs', '15', '150', '1500', '15000', '150200', '150mm', '1520', '1520min', '1525', '1530', '1564', '157', '15plate', '15th', '15yard', '16', '160', '1600', '162', '165', '1650', '169', '1699', '16th', '17', '1700', '1719', '175', '17th', '18', '180', '1800', '1800s', '185', '1850', '1895', '1895s', '1899', '18lb', '18th', '19', '1900', '1900s', '1913', '1928', '1929', '1930s', '1940s', '195', '1952', '1953', '1955', '1956', '1960s', '1961', '1968', '1969', '1970', '1978', '1980', '1980s', '1987', '199', '1990', '1990s', '1992', '1995', '1996', '1997', '1998', '1999', '199not', '19th', '1cent', '1full', '1i', '1k', '1perscoop', '1pm', '1st', '1to1', '20', '200', '2000', '2002', '2003', '2004', '2005', '2006', '2007', '2008', '2009', '200lbs', '2010', '2011', '2012', '2012they', '202', '2025', '2030', '2038', '205', '20mbs', '20miles', '20min', '20minutes', '20s', '20something', '20th', '20xs', '21', '2100', '214', '215', '21but', '21st', '21we', '22', '220', '22312', '2240', '225', '2253', '2295', '22oz', '23', '230', '235', '24', '241', '2412', '247', '249', '249449', '2499', '24and', '24hrs', '24st', '24th', '25', '250', '2500', '25000', '250400', '2540', '25min', '25person', '25th', '26', '260', '2600', '2608', '26th', '26whole', '27', '27243', '275', '27th', '28', '285', '29', '295', '299', '2995', '2998', '2999', '29th', '2am', '2fresh', '2i', '2mbps', '2nd', '2pm', '2pound', '2rd', '2top', '2topping', '2wice', '2x', '30', '300', '3000', '300degree', '3035', '3040', '3045', '3080', '30extra', '30s', '30somethings', '30th', '30years', '311', '3122669', '315', '316', '32', '3200', '32010because', '325', '328', '32s', '33', '330', '330pm', '33rd', '34', '3400', '34000', '345pm', '349', '3499', '34th', '35', '350', '350ib', '3540', '35c', '35th', '36', '369', '36pm', '37', '370', '375', '3755', '379', '38', '389', '38th', '39', '3900', '394', '398', '399', '39th', '3also', '3am', '3bean', '3d', '3egg', '3g', '3i', '3k', '3lbs', '3p6p', '3pm', '3rd', '3stars', '3x', '3xwk', '3xyear', '3year', '40', '400', '4000', '400a', '400s', '4050', '40ish', '40lm', '40min', '40th', '40yearold', '40years', '41', '411', '415', '41711', '42', '4200', '420000', '425', '43', '430', '430530', '430pm', '435', '4499', '44th', '45', '450', '450600', '450ish', '455', '45min', '46', '46th', '47', '4730pm', '475', '48', '480', '48th', '49', '490', '491', '495', '499', '4b', '4hr', '4little', '4pack', '4pm', '4pm7pm', '4s', '4star', '4th', '4that', '4x6', '50', '500', '5000', '50000', '500pm', '5060', '5070', '50cents', '50lm', '50s', '50thats', '51', '510', '515', '517', '517p', '52', '520', '52010', '5231', '525', '528', '53', '530', '530p', '530pm', '54', '545', '549', '55', '550', '552', '56', '565', '57', '575', '58', '595', '599', '5995', '59th', '5k', '5make', '5min', '5p', '5pm', '5star', '5stars', '5th', '5yo', '60', '600', '6000', '60000', '600am', '600pm', '601', '602', '6080', '60miles', '60s', '610', '612', '615pm', '618', '61st', '620', '62010', '620pm', '623', '6235474655', '6239774458', '625', '63', '630', '630am', '64', '642', '64ish', '64th', '65', '650', '653pm', '65person', '66', '6600', '67', '67000', '68', '69', '699', '6am', '6pack', '6pm', '6th', '70', '700', '700am', '70lb', '70s', '70th', '71', '710', '711', '711ish', '715', '719', '71st', '725', '730', '730ish', '730pm', '74th', '75', '750', '7500', '76', '775', '78', '7807', '79', '7am', '7am6pm', '7am9pm', '7pm', '7th', '80', '800', '8000hp', '800am', '8020', '80s', '81', '810', '811', '812', '8132010', '814', '815', '815am', '816', '819', '820', '82012', '83', '830', '830pm', '832we', '83rd', '845', '849', '85', '850', '85340', '85year', '86', '875', '88', '89', '895', '899', '8am', '8amagain', '8close', '8pm', '8pm10pm', '8th', '8v', '8x10', '8yo', '90', '900', '9000', '90lower', '90minute', '90s', '91', '911', '915', '925', '92nd', '93', '930', '930am', '945', '945am', '95', '950', '950ea', '951pm', '96', '975', '98', '99', '995', '9975', '999', '99999', '999for', '99cent', '9am', '9oz', '9p11p', '9pm', '9th', '9year', '9yo', 'a1', 'a2', 'aa', 'aaa', 'aaaamazing', 'aaammmazzing', 'aaron', 'ab', 'aback', 'abandoned', 'abandoning', 'abbazabba', 'abbreviate', 'abbreviated', 'abby', 'abc', 'abdomen', 'abhor', 'abiding', 'abilities', 'ability', 'abilty', 'able', 'abodoba', 'abou', 'abound', 'aboutseriously', 'abovehaving', 'abrasion', 'abroad', 'abrupt', 'absence', 'absent', 'absinthe', 'absoloutely', 'absolut', 'absolute', 'absolutely', 'absolutley', 'absolutly', 'absorb', 'absorption', 'abstain', 'abstained', 'abstract', 'absurd', 'absurd8', 'abuelos', 'abuelosit', 'abundance', 'abundant', 'abuse', 'abused', 'abusive', 'abysmal', 'ac', 'acacia', 'academy', 'acai', 'acapulco', 'accent', 'accented', 'accents', 'accept', 'acceptable', 'accepted', 'accepting', 'accepts', 'access', 'accessed', 'accessible', 'accessories', 'accessorize', 'accessory', 'accident', 'accidental', 'accidentally', 'accidently', 'acclaimed', 'accolades', 'accommodate', 'accommodated', 'accommodates', 'accommodating', 'accommodation', 'accommodations', 'accomodate', 'accomodated', 'accomodating', 'accompanied', 'accompanies', 'accompaniment', 'accompany', 'accompanying', 'accomplish', 'accomplished', 'accomplishment', 'according', 'accordingly', 'account', 'accountable', 'accounts', 'accoutrements', 'accredited', 'accross', 'accumulated', 'accurate', 'accurately', 'accusation', 'accused', 'accustom', 'accustomed', 'accutemp', 'ace', 'ache', 'acheat', 'aches', 'achieve', 'achieved', 'achievement', 'acid', 'acidic', 'acknowledge', 'acknowledged', 'acknowledgement', 'acknowledging', 'ackward', 'acne', 'acoustic', 'acoustics', 'acquaintance', 'acquaintence', 'acquired', 'acres', 'acrid', 'across', 'acrylics', 'act', 'acted', 'acting', 'action', 'actions', 'activation', 'active', 'activehealthy', 'actively', 'activism', 'activities', 'activitiessuch', 'activity', 'actor', 'actors', 'acts', 'actual', 'actuality', 'actually', 'actualy', 'actully', 'acute', 'acy', 'ad', 'adage', 'adam', 'adamant', 'adams', 'adapter', 'add', 'addd', 'added', 'addendum', 'addict', 'addicted', 'addicting', 'addictingly', 'addiction', 'addictionand', 'addictive', 'addicts', 'adding', 'addition', 'additional', 'additionally', 'additions', 'addon', 'addperhaps', 'address', 'addressed', 'addressing', 'addressweb', 'adds', 'adelman', 'adequate', 'adequately', 'adios', 'adjacent', 'adjoining', 'adjust', 'adjusted', 'adjustment', 'adjustments', 'administrative', 'admire', 'admired', 'admiring', 'admission', 'admit', 'admits', 'admitted', 'admittedly', 'admitting', 'admonishment', 'ado', 'adobada', 'adobe', 'adobo', 'adolescence', 'adopt', 'adopted', 'adoption', 'adoptions', 'adorable', 'adoration', 'adore', 'adorned', 'adorning', 'adovada', 'adquate', 'adrian', 'adrianne', 'adrienne', 'ads', 'adult', 'adulthood', 'adults', 'advance', 'advanced', 'advancing', 'advantage', 'advantages', 'adventure', 'adventures', 'adventurous', 'adversity', 'advertise', 'advertised', 'advertisement', 'advertisements', 'advertising', 'adverts', 'advice', 'advicedo', 'advise', 'advised', 'advising', 'advisor', 'advisors', 'advocate', 'advocated', 'aeg', 'aerators', 'aerobic', 'aerobics', 'aeropress', 'aerosol', 'aesthetically', 'aesthetics', 'affair', 'affect', 'affected', 'affects', 'afficianados', 'affiliated', 'affiliates', 'affiliation', 'affliction', 'affluent', 'afforadable', 'afford', 'affordable', 'aficionado', 'aficionados', 'afloat', 'aforementioned', 'afoul', 'afraid', 'africa', 'afterall', 'afterbar', 'afterdark', 'afterglow', 'afternoon', 'afternoons', 'aftertaste', 'afterthought', 'afterward', 'afterwards', 'againbut', 'againno', 'againramiros', 'againthe', 'agape', 'agave', 'agaves', 'age', 'aged', 'agemy', 'agency', 'agent', 'agents', 'ages', 'aggressive', 'aging', 'agitated', 'ago', 'agonizing', 'agony', 'agree', 'agreeable', 'agreeably', 'agreed', 'agreeing', 'agreement', 'agrees', 'agua', 'aguas', 'aguila', 'agwa', 'ah', 'ahead', 'ahem', 'ahha', 'ahhh', 'ahhhh', 'ahhhhh', 'ahhhhhh', 'ahi', 'ahing', 'ahmazing', 'ahold', 'ahwahtukee', 'ahwatukee', 'aid', 'aiellos', 'aiko', 'aim', 'aimed', 'aimlessly', 'aims', 'aint', 'aioli', 'aiptasia', 'air', 'airand', 'airconditioned', 'aircooled', 'airfair', 'airfare', 'airline', 'airlines', 'airpark', 'airplane', 'airport', 'airports', 'airwarys', 'airways', 'airwaysnever', 'airy', 'aisde', 'aisha', 'aisle', 'aisles', 'aj', 'ajar', 'aji', 'ajo', 'ajos', 'ajs', 'ajvar', 'aka', 'aki', 'aknowledging', 'akor', 'al', 'ala', 'alabama', 'aladdins', 'alain', 'alameda', 'alan', 'alarmed', 'alas', 'alasive', 'alaska', 'alaskan', 'alastoo', 'alaus', 'albacore', 'albeit', 'alber', 'albertsons', 'album', 'albums', 'alcatraz', 'alcohol', 'alcoholic', 'aldente', 'aldo', 'ale', 'alert', 'alerting', 'ales', 'alessias', 'alex', 'alexandra', 'alexs', 'alfalfa', 'alfonso', 'alfred', 'alfredo', 'algae', 'ali', 'alice', 'alicia', 'alienate', 'alienated', 'aliens', 'alike', 'alittle', 'alive', 'alla', 'allamerican', 'allayed', 'alleged', 'allegiant', 'allen', 'allende', 'allergen', 'allergic', 'allergies', 'allergy', 'allesias', 'alleviated', 'alley', 'allhe', 'alli', 'alligator', 'allison', 'allnatural', 'allnighter', 'allnightlong', 'allocating', 'allot', 'alloted', 'allotted', 'allow', 'allowable', 'allowance', 'allowed', 'allowing', 'allows', 'allpredominant', 'allstar', 'allstars', 'allure', 'alluringmaybe', 'allyoucaneat', 'almond', 'almondorange', 'almonds', 'almondsthis', 'almost', 'aloe', 'alofts', 'aloha', 'alone', 'along', 'alongside', 'alons', 'aloo', 'aloof', 'alot', 'aloud', 'alp', 'alphagraphics', 'alread', 'already', 'alright', 'als', 'also', 'alter', 'alteration', 'alterations', 'altercation', 'altered', 'altering', 'alternately', 'alternative', 'alternatively', 'alternatives', 'although', 'altic', 'altogether', 'aluminum', 'alums', 'alvadora', 'alway', 'always', 'alwayswe', 'ama', 'amaaaaazing', 'amaazing', 'amados', 'amaebi', 'amalfi', 'amanda', 'amaretti', 'amarettiomg', 'amaretto', 'amarillo', 'amaro', 'amateur', 'amaze', 'amazeballs', 'amazed', 'amazement', 'amazes', 'amazing', 'amazingan', 'amazinghe', 'amazingi', 'amazingly', 'amazingness', 'amazingtruly', 'amazingwe', 'amazon', 'amazoncom', 'ambassador', 'amber', 'ambiance', 'ambience', 'ambient', 'ambrosia', 'ambulance', 'amc', 'amenable', 'amend', 'amendment', 'amenities', 'amenity', 'america', 'american', 'americana', 'americanfrench', 'americanized', 'americanizeditalian', 'americano', 'americanos', 'americans', 'americas', 'ameritrash', 'amerizona', 'ami', 'amicable', 'amid', 'amidst', 'amin', 'amish', 'ammo', 'ammonia', 'amomi', 'among', 'amongst', 'amonst', 'amore', 'amount', 'amounted', 'amounts', 'amp', 'amphitheatre', 'ample', 'ampm', 'amsterdam', 'amtrack', 'amuse', 'amusebouche', 'amused', 'amusement', 'amusing', 'amy', 'anaheim', 'anal', 'anallyretentive', 'analogy', 'analysis', 'analyze', 'anatomical', 'ancho', 'anchor', 'anchored', 'anchors', 'anchovies', 'anchovy', 'ancient', 'ancillary', 'andencanto', 'andiamo', 'andor', 'andouille', 'andrea', 'andrew', 'andrews', 'andshes', 'andthe', 'andwait', 'andyandrew', 'andys', 'anecdotes', 'anemic', 'anesthetic', 'anew', 'angel', 'angela', 'angelas', 'angeles', 'angelesjust', 'angelic', 'angello', 'angels', 'anger', 'angie', 'anglaise', 'angle', 'angler', 'angles', 'angry', 'angst', 'anibal', 'animal', 'animals', 'animated', 'animatronics', 'anise', 'aniston', 'ankle', 'ankles', 'ann', 'anne', 'annette', 'annie', 'annies', 'annihilator', 'anniversary', 'announced', 'announces', 'annoy', 'annoyance', 'annoyed', 'annoying', 'anns', 'annual', 'anomaly', 'anonymous', 'another', 'anotherits', 'anotherwho', 'ans', 'ansel', 'answer', 'answered', 'answering', 'answers', 'ant', 'antchiladas', 'anthem', 'anthems', 'anthony', 'anti', 'antiaging', 'antibiotic', 'anticipate', 'anticipated', 'anticipateda', 'anticipatedthe', 'anticipating', 'anticipation', 'anticlimatic', 'antipasta', 'antipasti', 'antipasto', 'antique', 'antiqueetc', 'antiques', 'antiquing', 'antiseptic', 'antisocial', 'antithesis', 'antivirus', 'antlerchandeliers', 'antonio', 'antono', 'ants', 'anxiety', 'anxious', 'anxiously', 'anybody', 'anyday', 'anyhow', 'anymore', 'anyone', 'anyones', 'anyplace', 'anything', 'anythings', 'anytime', 'anyway', 'anywayit', 'anywayits', 'anyways', 'anywaysbut', 'anywaysi', 'anywaysthe', 'anywaystheir', 'anywaytry', 'anywhere', 'anywho', 'ao', 'aok', 'ap', 'apache', 'apart', 'apartment', 'apartments', 'ape', 'apeeling', 'apiece', 'apologetic', 'apologetically', 'apologies', 'apologize', 'apologized', 'apologizedreally', 'apologizes', 'apologizing', 'apology', 'apostles', 'apothecary', 'apothic', 'app', 'appalachians', 'appaled', 'appalled', 'appalling', 'apparantly', 'apparel', 'apparent', 'apparently', 'apparitions', 'appauled', 'appauling', 'appeal', 'appealed', 'appealing', 'appeals', 'appear', 'appearance', 'appearances', 'appeared', 'appears', 'appeasing', 'appertizer', 'appetit', 'appetite', 'appetito', 'appetizaer', 'appetizer', 'appetizers', 'appetizerwhich', 'appetizing', 'appitizer', 'applaud', 'applause', 'apple', 'applebees', 'apples', 'appletini', 'appletinis', 'applewood', 'appliances', 'applicable', 'applied', 'applies', 'apply', 'applying', 'appoinmtnt', 'appointed', 'appointment', 'appointments', 'appointmentsand', 'appologized', 'appraisal', 'appraisals', 'appraiser', 'appreciate', 'appreciated', 'appreciates', 'appreciation', 'appreciative', 'apprehensive', 'apprehensiveand', 'appreicate', 'approach', 'approachable', 'approached', 'approaches', 'approaching', 'appropriate', 'appropriately', 'approval', 'approved', 'approx', 'approximate', 'approximately', 'apps', 'appt', 'appy', 'appys', 'apricot', 'april', 'apron', 'apt', 'aqua', 'aquarium', 'aquiring', 'ar', 'arabic', 'arai', 'arbol', 'arboreal', 'arborio', 'arbuckles', 'arcade', 'arcadia', 'arcadiabiltmorecamelback', 'arcane', 'archery', 'arches', 'architect', 'architecture', 'archive', 'archway', 'arco', 'area', 'areaa', 'areacheck', 'areas', 'areawell', 'arehere', 'areif', 'arena', 'arent', 'arentcheck', 'argentine', 'argentinian', 'argue', 'argued', 'argues', 'arguing', 'argumentative', 'argyle', 'ariel', 'arigato', 'arise', 'arises', 'arizona', 'arizonans', 'arizonas', 'arizonian', 'arizonians', 'arkansas', 'arlecchino', 'arlecchinos', 'arlin', 'arm', 'armando', 'armed', 'armour', 'arms', 'armsand', 'army', 'arnold', 'aroma', 'aromas', 'aromatherapy', 'aromatic', 'aromatics', 'around', 'aroundand', 'aroundi', 'arousal', 'arpaio', 'arragont', 'arrange', 'arranged', 'arrangement', 'arrangements', 'arranging', 'array', 'arrest', 'arrested', 'arriba', 'arribas', 'arribasgo', 'arrival', 'arrive', 'arrived', 'arriveddeparted', 'arrivederci', 'arrivedsteaming', 'arrives', 'arriving', 'arrogance', 'arrogant', 'arrowhead', 'arroz', 'art', 'artesian', 'artful', 'artfully', 'arthur', 'artichoke', 'artichokes', 'article', 'articles', 'articulate', 'arties', 'artifacts', 'artificial', 'artificially', 'artisan', 'artisans', 'artist', 'artistic', 'artistically', 'artistry', 'artists', 'artois', 'arts', 'artsy', 'artwork', 'arty', 'arugala', 'arugula', 'asada', 'asado', 'asahi', 'asaian', 'asana', 'asap', 'asasda', 'ascend', 'ascent', 'ash', 'ashamed', 'ashamedly', 'ashes', 'ashley', 'ashleys', 'ashtanga', 'ashtray', 'asia', 'asiago', 'asian', 'asianmexican', 'asians', 'aside', 'ask', 'askchildhood', 'asked', 'askin', 'asking', 'asks', 'asleep', 'asparagus', 'aspargus', 'aspect', 'aspects', 'aspire', 'aspirin', 'aspiring', 'ass', 'assault', 'assaulted', 'assaults', 'asserted', 'asses', 'assessed', 'assessment', 'asset', 'assets', 'asshat', 'asshole', 'assholes', 'assigned', 'assignment', 'assinine', 'assist', 'assistance', 'assistant', 'assistants', 'assisted', 'asskissing', 'assoc', 'associate', 'associated', 'associates', 'association', 'assorted', 'assortment', 'assume', 'assumed', 'assumes', 'assuming', 'assumption', 'assumptions', 'assurance', 'assure', 'assured', 'assuredly', 'astatically', 'asterisk', 'astonished', 'astonishing', 'astonishingly', 'astounded', 'astounding', 'astrological', 'astronomical', 'asu', 'asus', 'atari', 'atc', 'atcs', 'ate', 'atf', 'athelete', 'athenian', 'athlete', 'athletes', 'athletic', 'athletica', 'athletics', 'atl', 'atlanta', 'atlantic', 'atleast', 'atm', 'atmosphere', 'atmosphereblue', 'atmosphereill', 'atmosphereits', 'atmospherejust', 'atmospherewise', 'atomic', 'atomosphere', 'atop', 'atoyac', 'atrium', 'atrocious', 'atrociously', 'att', 'attached', 'attack', 'attacked', 'attacks', 'attain', 'attained', 'attarct', 'attempt', 'attempted', 'attempting', 'attempts', 'attend', 'attendance', 'attendant', 'attendants', 'attendantsi', 'attended', 'attendee', 'attendees', 'attending', 'attention', 'attentive', 'attest', 'attic', 'attire', 'attitude', 'attitudes', 'attitudethe', 'attorney', 'attract', 'attracted', 'attraction', 'attractions', 'attractive', 'attractiveness', 'attracts', 'attribute', 'attributes', 'atypical', 'au', 'auctioned', 'audacity', 'audience', 'audiences', 'audio', 'audiobook', 'audiovideo', 'audition', 'auditioning', 'auditions', 'auditorium', 'aug', 'augments', 'augratin', 'august', 'aunt', 'auntie', 'aunts', 'aurohaus', 'auspices', 'aussie', 'aussies', 'austin', 'australia', 'australian', 'authentic', 'authenticabsolutely', 'authentically', 'authenticity', 'authenticly', 'authenticstyle', 'author', 'autistic', 'auto', 'autocross', 'autographed', 'autograt', 'automatic', 'automatically', 'automobile', 'automotive', 'autumn', 'autumnlike', 'avacado', 'avacodo', 'avadado', 'avail', 'availability', 'available', 'avalanches', 'ave', 'avenue', 'aver', 'average', 'averaged', 'averagehorrible', 'averages', 'averaging', 'averse', 'avewho', 'avg', 'avid', 'avo', 'avocado', 'avocados', 'avoid', 'avoidance', 'avoided', 'avoiding', 'avondale', 'aw', 'awaited', 'awaiting', 'awaits', 'awake', 'awaken', 'awakening', 'award', 'awards', 'awardwinning', 'aware', 'awareness', 'away', 'awaybut', 'awaycause', 'aways', 'awaze', 'awe', 'awed', 'aweful', 'awesome', 'awesomeeverything', 'awesomei', 'awesomely', 'awesomeness', 'awesomethe', 'awesometown', 'awful', 'awfulit', 'awfully', 'awhile', 'awkward', 'awkwardly', 'awkwardness', 'awning', 'awsome', 'axe', 'az', 'az88', 'azkaban', 'azn', 'azrescue', 'azs', 'azspagirls', 'azucena', 'azz', 'ba', 'baaaaaaad', 'baba', 'babaganoush', 'babbo', 'babies', 'baby', 'babyback', 'babykid', 'babys', 'babysitter', 'bacado', 'bacardi', 'bachelor', 'bachelorette', 'back', 'backafter', 'backand', 'backdrop', 'backed', 'backgreat', 'background', 'backi', 'backing', 'backlit', 'backnine', 'backnot', 'backoffice', 'backpack', 'backside', 'backsoon', 'backstage', 'backstory', 'backtracked', 'backunless', 'backup', 'backvibrator', 'backwards', 'backyard', 'bacon', 'baconcheddar', 'baconick', 'baconsausageham', 'baconwrapped', 'bacteria', 'bad', 'bad18', 'badass', 'badbut', 'bader', 'badger', 'badly', 'baeley', 'baffled', 'baffling', 'bag', 'bage', 'bagel', 'bagels', 'baggage', 'bagged', 'bagginsey', 'baggy', 'baghlava', 'bagjust', 'bags', 'baguette', 'baguettes', 'bahama', 'bahamas', 'bahn', 'bail', 'baileys', 'bait', 'baiz', 'baja', 'bajesus', 'bajillion', 'bajillionaire', 'bake', 'baked', 'baker', 'bakeries', 'bakeriesdistributors', 'bakers', 'bakery', 'bakerys', 'baking', 'baklava', 'balance', 'balanced', 'balances', 'balancing', 'balcony', 'bald', 'balidated', 'balk', 'balking', 'ball', 'ballet', 'ballin', 'balloons', 'ballpark', 'ballparks', 'ballroom', 'balls', 'balms', 'balsalmic', 'balsamic', 'baltimore', 'bam', 'bamboo', 'ban', 'banana', 'bananas', 'bananay', 'bananoffee', 'banco', 'band', 'bandages', 'bandaid', 'bandaids', 'bandana', 'banddddeeedo', 'banded', 'bandera', 'banderas', 'bandido', 'bandit', 'bandito', 'bands', 'banfield', 'bang', 'bangers', 'bangin', 'banging', 'bangkok', 'banglei', 'bangles', 'bangs', 'bangup', 'bank', 'banked', 'banker', 'banking', 'bankruptcy', 'banks', 'bannana', 'bannanas', 'banned', 'banner', 'banquets', 'banquette', 'bant', 'banter', 'bantering', 'bao', 'bap', 'bar', 'barand', 'barb', 'barback', 'barbacks', 'barbacoa', 'barbara', 'barbbacoa', 'barbecue', 'barbecuein', 'barbeque', 'barber', 'barbers', 'barbershop', 'barboxing', 'barbque', 'barbs', 'barbut', 'barcelona', 'bare', 'barefaced', 'barefoot', 'barely', 'barelyrecognizableasfood', 'barelytouched', 'bargain', 'bargaining', 'bargains', 'bargin', 'bargoers', 'barista', 'baristas', 'bark', 'barked', 'barking', 'barley', 'barleywine', 'barlong', 'barnes', 'barnesque', 'barneys', 'barnow', 'barqs', 'barr', 'barramundi', 'barrel', 'barrelmore', 'barrels', 'barrestaurant', 'barrier', 'barrio', 'barros', 'barry', 'bars', 'barssen', 'bartable', 'bartender', 'bartenders', 'bartenderserver', 'bartenderstay', 'bartenderwaitperson', 'bartholomew', 'bartistas', 'bartlett', 'bartop', 'basalmic', 'base', 'baseball', 'baseballs', 'based', 'baseline', 'basement', 'bash', 'bashas', 'bashing', 'basic', 'basically', 'basics', 'basil', 'basing', 'basis', 'bask', 'basket', 'basketball', 'baskets', 'baskin', 'basmati', 'bass', 'bastard', 'bastards', 'bastardsoh', 'basted', 'baston', 'bat', 'batch', 'bath', 'bathbombs', 'bathe', 'bathed', 'bathers', 'bathing', 'bathroom', 'bathrooms', 'baths', 'batman', 'batmobile', 'baton', 'bats', 'batter', 'battered', 'batteries', 'battery', 'batting', 'battle', 'battlefoam', 'battlers', 'battleship', 'bavaria', 'bavarian', 'bay', 'bb', 'bbb', 'bbbwhat', 'bbq', 'bbqd', 'bbqjoes', 'bbqs', 'bbs', 'bc', 'bcbg', 'bday', 'bdays', 'bdsm', 'bea', 'beach', 'beaded', 'beams', 'bean', 'beanery', 'beans', 'beansrice', 'bear', 'bearable', 'beard', 'beards', 'bearing', 'bears', 'bearyou', 'beast', 'beat', 'beaten', 'beaters', 'beatifully', 'beating', 'beatles', 'beats', 'beau', 'beautiful', 'beautifulhandsome', 'beautifully', 'beauty', 'beaver', 'became', 'becca', 'bechamel', 'becketts', 'beckon', 'becky', 'become', 'becomes', 'becoming', 'becute', 'becuz', 'bed', 'bedand', 'bedazzled', 'bedroom', 'bedrooms', 'beds', 'bedside', 'beebees', 'beef', 'beefcake', 'beefchicken', 'beefjust', 'beefkung', 'beefsteak', 'beefy', 'beepbeep', 'beeping', 'beer', 'beerbread', 'beerliquor', 'beerno', 'beeror', 'beers', 'beerstyle', 'bees', 'beet', 'beetle', 'beetles', 'beets', 'beforeand', 'beforehand', 'befpre', 'beg', 'began', 'beggars', 'begged', 'begging', 'begin', 'begining', 'beginner', 'beginners', 'beginning', 'beginningend', 'begins', 'begrudgingly', 'begun', 'behalf', 'behaved', 'behavior', 'behind', 'behold', 'beige', 'beignets', 'beijing', 'bein', 'beirut', 'belabor', 'belgian', 'belief', 'believe', 'believed', 'believer', 'believers', 'believes', 'believing', 'beligerent', 'belittled', 'belive', 'bell', 'bella', 'bellboy', 'bellies', 'belligerently', 'bellini', 'bellinis', 'bells', 'belltown', 'belly', 'bellycola', 'bellymmmm', 'belmont', 'belong', 'belongs', 'beloved', 'belowaverage', 'belowi', 'belt', 'belts', 'ben', 'bench', 'benches', 'bend', 'bender', 'bending', 'beneath', 'benedict', 'beneficial', 'benefit', 'benefited', 'benefits', 'benever', 'benign', 'benihana', 'benny', 'bent', 'bento', 'bentos', 'beppo', 'berated', 'berg', 'bergesson', 'berkshire', 'berlin', 'bermuda', 'berries', 'berry', 'berschler', 'bert', 'berthas', 'berto', 'bertos', 'bes', 'beside', 'besides', 'best', 'bestdid', 'bestie', 'bestor', 'bestowed', 'bestthe', 'bestthis', 'bet', 'bethany', 'bethel', 'betitos', 'betray', 'betrayed', 'betta', 'bette', 'better', 'betteras', 'betterjust', 'betterthey', 'betterwe', 'betty', 'bettys', 'betunia', 'betweeen', 'bev', 'beverage', 'beverages', 'beverly', 'bevmo', 'beware', 'bewareit', 'beyonce', 'beyond', 'bf', 'bfast', 'bff', 'bffs', 'bfg', 'bfs', 'bgf', 'bhel', 'bi', 'biacoverde', 'biagga', 'biaggia', 'biagio', 'bialy', 'bianco', 'biancocibo', 'biancos', 'biancothough', 'biancoverde', 'biancoverdes', 'bias', 'biased', 'bibimbap', 'bible', 'bicker', 'bicycle', 'bicycles', 'biden', 'bidet', 'bier', 'biet', 'bifocal', 'big', 'bigass', 'bigastorewithjobs', 'bigclear', 'bigee', 'bigfatlap', 'bigger', 'biggest', 'biggie', 'biiiiiiiiiiig', 'bike', 'biker', 'bikers', 'bikes', 'biking', 'bikini', 'bikiniclad', 'bikram', 'bilbo', 'bilinis', 'bill', 'billet', 'billiards', 'billing', 'bills', 'billthey', 'biltmore', 'bimbo', 'bin', 'bind', 'bing', 'bingo', 'bings', 'bingsoo', 'binkley', 'binkleys', 'bins', 'biography', 'biohazard', 'bird', 'birdies', 'birdlife', 'birds', 'birth', 'birthday', 'birthdaychristmas', 'birthdays', 'birthdaythey', 'biryani', 'biscotti', 'biscuit', 'biscuits', 'bismark', 'bison', 'bisque', 'bistec', 'bistro', 'bit', 'bitch', 'bitches', 'bitching', 'bitchy', 'bite', 'biteand', 'bitenot', 'bites', 'bitethere', 'biting', 'bits', 'bitsy', 'bitten', 'bitter', 'bitterness', 'bitttyyy', 'bitty', 'bitzee', 'biz', 'bizarre', 'bj', 'bjs', 'bla', 'black', 'blackberries', 'blackberry', 'blackboard', 'blackened', 'blackout', 'blackpinto', 'blackrice', 'blacks', 'blacksmithing', 'blackstone', 'blackwidow', 'bladder', 'blade', 'blades', 'blah', 'blake', 'blame', 'blamed', 'blanc', 'blanca', 'blanco', 'blancos', 'bland', 'blandness', 'blank', 'blanket', 'blanketed', 'blankity', 'blaring', 'blase', 'blasphemy', 'blast', 'blastdancing', 'blasting', 'blasts', 'blatantly', 'blaze', 'blazer', 'blazing', 'bleached', 'bleacher', 'bleachers', 'bleaching', 'blech', 'bleech', 'bleed', 'bleeding', 'bleh', 'blemish', 'blend', 'blended', 'blending', 'blendinis', 'blends', 'bless', 'blessed', 'blessing', 'blessings', 'bleu', 'blew', 'blimpie', 'blind', 'blindfolded', 'blindfolds', 'blindness', 'blindshotheavy', 'blink', 'blinking', 'bliss', 'blissful', 'blissrebar', 'blistered', 'blisters', 'bloated', 'blobs', 'block', 'blockbuster', 'blocked', 'blocking', 'blocks', 'blog', 'blond', 'blonde', 'blood', 'bloody', 'bloodymary', 'bloom', 'blooming', 'blooms', 'bloomy', 'blooze', 'blossom', 'blossoms', 'blouses', 'blow', 'blowdry', 'blower', 'blowing', 'blown', 'blows', 'blowups', 'blt', 'blu', 'blue', 'blueberries', 'blueberry', 'bluecheese', 'bluemoon', 'blues', 'blunt', 'bluntly', 'blur', 'blush', 'blushes', 'blvd', 'bmw', 'bmws', 'bmx', 'bo', 'boa', 'boar', 'board', 'boarded', 'boarding', 'boards', 'boars', 'boasts', 'boat', 'boats', 'bob', 'boba', 'bobafied', 'bobahad', 'bobas', 'bobbie', 'bobby', 'bobbys', 'bobs', 'boca', 'bocca', 'bocce', 'bock', 'bod', 'bodied', 'bodies', 'body', 'bodyguards', 'bodyworker', 'bogey', 'bogged', 'bogi', 'bogo', 'bogus', 'bohemian', 'boil', 'boiled', 'boiling', 'boisterous', 'bold', 'bolivia', 'bollywood', 'bolster', 'bolsterless', 'bolt', 'bolted', 'bolts', 'bomb', 'bombarded', 'bombaros', 'bombay', 'bomber', 'bombero', 'bomberos', 'bombers', 'bombs', 'bombsyou', 'bon', 'bona', 'bonafide', 'bonanza', 'bond', 'bonding', 'bone', 'bonein', 'boneless', 'bones', 'bonfire', 'bong', 'bonne', 'bonnie', 'bonus', 'bonuses', 'boo', 'boob', 'boobs', 'boofay', 'boohiney', 'boohoo', 'book', 'booked', 'bookespecially', 'booking', 'bookingfront', 'bookletstyle', 'bookmans', 'books', 'booksauthors', 'bookstore', 'bookstores', 'boolgogee', 'boom', 'booming', 'boooy', 'boop', 'booshelf', 'boost', 'booster', 'boot', 'booth', 'booths', 'boots', 'booyah', 'booze', 'boozers', 'boozin', 'boozometer', 'bop', 'bopped', 'borad', 'bordeaux', 'bordelaise', 'border', 'bordering', 'borderline', 'borders', 'bored', 'boring', 'born', 'borne', 'borrow', 'bosa', 'bosch', 'bosco', 'bosnia', 'bosnian', 'bosnianjugoslavian', 'boss', 'bosses', 'bossy', 'bostic', 'boston', 'bosu', 'botanical', 'botany', 'bother', 'bothered', 'bothering', 'bothers', 'bothersome', 'botox', 'bottle', 'bottled', 'bottles', 'bottling', 'bottom', 'bottomfeeders', 'bottomless', 'bottoms', 'bouche', 'bouches', 'bought', 'bouillabaisse', 'boulangerie', 'boulder', 'boulders', 'boulevard', 'boullion', 'bounce', 'bounced', 'bouncer', 'bouncers', 'bouncing', 'bound', 'bounty', 'bouquet', 'bourban', 'bourbon', 'bourdon', 'bout', 'boutique', 'boutiques', 'boutonnieres', 'bow', 'bowl', 'bowling', 'bowlit', 'bowlplatesalad', 'bowls', 'bowties', 'box', 'boxand', 'boxed', 'boxer', 'boxers', 'boxes', 'boxing', 'boxingmartial', 'boy', 'boycotting', 'boyfriend', 'boyfriends', 'boyfrind', 'boys', 'boyshorts', 'bpa', 'br', 'bra', 'brace', 'braces', 'brachetto', 'brad', 'bradley', 'brag', 'bragged', 'bragging', 'braille', 'brain', 'brainless', 'brains', 'braised', 'braized', 'brak', 'brake', 'braks', 'bran', 'branch', 'branched', 'branches', 'brand', 'brandied', 'branding', 'brands', 'brandsprismacolor', 'brandy', 'branzino', 'bras', 'brass', 'brasserie', 'brat', 'brats', 'bratwurst', 'bravas', 'brave', 'braves', 'bravo', 'bray', 'brazen', 'brazilian', 'brdiesmaid', 'bread', 'breadawesome', 'breadcrumbs', 'breaded', 'breadfruit', 'breading', 'breadits', 'breads', 'breadsticks', 'breadticks', 'break', 'breaker', 'breakfast', 'breakfastbrunch', 'breakfastdang', 'breakfastnot', 'breakfasts', 'breakfastthe', 'breakfasty', 'breaking', 'breaks', 'breaksfastlunch', 'breakthrough', 'breas', 'breast', 'breastguacamoleprovolone', 'breasts', 'breath', 'breathe', 'breathed', 'breather', 'breathing', 'breathtaking', 'bred', 'breed', 'breeze', 'breezy', 'brekafast', 'brenda', 'brenden', 'bretheren', 'breve', 'brew', 'brewed', 'brewer', 'breweries', 'brewery', 'brewing', 'brewpub', 'brewpubs', 'brews', 'brewskis', 'bri', 'brian', 'brianna', 'brick', 'brickandmortar', 'brickoven', 'brickwork', 'bridal', 'bride', 'brides', 'bridesmaid', 'bridesmaids', 'bridge', 'bridging', 'brie', 'brief', 'briefcase', 'briefed', 'briefly', 'briefs', 'briggs', 'bright', 'brightened', 'brighter', 'brightly', 'brightness', 'brilliance', 'brilliant', 'brim', 'brine', 'bring', 'bringing', 'brings', 'brining', 'briny', 'brio', 'brioche', 'brioni', 'brios', 'brisk', 'brisket', 'brisketboth', 'brit', 'british', 'britishers', 'britishfrench', 'britney', 'brittan', 'brittian', 'brittle', 'brle', 'bro', 'broad', 'broadway', 'broasted', 'broccoli', 'broccolini', 'brochette', 'brocolli', 'brodkin', 'broiled', 'broiledboiled', 'broke', 'broken', 'bronx', 'bronze', 'brooches', 'brooklyn', 'brookstone', 'brophy', 'bros', 'broth', 'brothdivine', 'brother', 'brotherinlaw', 'brothers', 'brothy', 'brough', 'brought', 'broun', 'brow', 'brown', 'browned', 'brownfried', 'brownie', 'brownies', 'brownorange', 'browns', 'brows', 'browse', 'browsed', 'browser', 'browsing', 'bruce', 'bruchetta', 'bruder', 'bruises', 'brule', 'brulee', 'brulees', 'brulée', 'brunch', 'brunchlunch', 'brunets', 'brunette', 'bruscetta', 'bruschetta', 'bruschettai', 'bruschettas', 'brush', 'brushcetta', 'brushed', 'brushes', 'brushettas', 'brusqueness', 'brussel', 'brussels', 'brutal', 'brutus', 'bryan', 'brûlée', 'bs', 'btch', 'btchy', 'btw', 'btwthe', 'bubble', 'bubbles', 'bubbly', 'bubl', 'buca', 'bucatini', 'bucca', 'bucco', 'buchanan', 'buck', 'bucked', 'bucket', 'bucketloads', 'buckets', 'buckeye', 'buckeyes', 'buckhunt', 'buckle', 'buckles', 'bucks', 'buckwheat', 'bud', 'buddhism', 'buddies', 'buddy', 'budge', 'budget', 'budgetfriendly', 'buds', 'budweiser', 'bueno', 'buff', 'buffala', 'buffalo', 'buffer', 'buffet', 'buffets', 'buffett', 'bug', 'bugger', 'buggers', 'bugs', 'bugtussel', 'build', 'building', 'buildingi', 'buildingincluding', 'buildings', 'buildyourown', 'built', 'buisness', 'bula', 'bulb', 'bulbs', 'bulgogi', 'bulk', 'bulked', 'bull', 'bulldog', 'bulldogs', 'bullet', 'bullion', 'bullriders', 'bullshit', 'bullsht', 'bummed', 'bummer', 'bummerthe', 'bump', 'bumped', 'bumper', 'bumping', 'bums', 'bun', 'bunbut', 'bunch', 'bunches', 'bundle', 'bundled', 'bundles', 'bundyno', 'bunnies', 'buns', 'buon', 'buona', 'buran', 'burch', 'buren', 'burger', 'burgernot', 'burgers', 'burial', 'burle', 'burlington', 'burlingtons', 'burly', 'burmese', 'burn', 'burned', 'burning', 'burnt', 'burnthow', 'burped', 'burps', 'burrata', 'burratta', 'burrito', 'burritoal', 'burritos', 'burritoshave', 'burritoswith', 'burro', 'burros', 'burrows', 'burrritos', 'burst', 'bursting', 'burt', 'burton', 'bus', 'busan', 'busboy', 'busboygirl', 'busboys', 'buses', 'bush', 'bushes', 'busier', 'busiest', 'business', 'businesses', 'businessman', 'businessmen', 'businessthe', 'businesswoman', 'busser', 'busses', 'bussing', 'bust', 'busted', 'busting', 'bustle', 'bustled', 'bustling', 'busy', 'busywe', 'butai', 'butas', 'butbut', 'butcher', 'butchered', 'butchering', 'buti', 'butka', 'butt', 'butte', 'butter', 'butterburger', 'buttercream', 'buttercrunch', 'buttered', 'butterfish', 'butterflies', 'butterfly', 'butterkäse', 'buttermarinated', 'buttermilk', 'butternut', 'butters', 'butterscallopsstrawberry', 'butterscotch', 'buttery', 'button', 'buttons', 'butts', 'bux', 'buy', 'buybuybaby', 'buyer', 'buyers', 'buying', 'buyingputting', 'buyonegetonefree', 'buys', 'buzz', 'buzzcation', 'buzzes', 'buzzing', 'buzzkill', 'buzzy', 'bv500', 'bye', 'bygone', 'byo', 'byob', 'byproduct', 'bytheglass', 'bánh', 'c4', 'ca', 'cab', 'cabagecarrots', 'cabana', 'cabanas', 'cabbage', 'cabbies', 'cabela', 'cabelas', 'cabernet', 'cabeza', 'cabfabulous', 'cabin', 'cabinet', 'cable', 'cabs', 'cacti', 'cactus', 'cactus40th', 'cactuseverything', 'caddilac', 'caddy', 'cadillac', 'caesar', 'caesarish', 'caesars', 'caeser', 'cafe', 'cafelounge', 'cafeteria', 'cafeteriaan', 'caffe', 'caffeinate', 'caffeine', 'café', 'cage', 'cages', 'cagetrapped', 'caitlin', 'cajun', 'cajuns', 'cajunstyle', 'cake', 'cakecupcakes', 'cakeof', 'cakes', 'cal', 'calabria', 'calamari', 'calamarideliciouslovely', 'calamos', 'calculate', 'calculator', 'calcutta', 'calendar', 'calf', 'cali', 'caliber', 'caliente', 'california', 'californiastyle', 'calimari', 'call', 'calland', 'calle', 'called', 'caller', 'calling', 'callingme', 'callous', 'calloused', 'calls', 'callsso', 'callus', 'calm', 'calmed', 'calming', 'calmly', 'calorie', 'calorienutritional', 'calories', 'caloriessaturated', 'cals', 'calves', 'calypso', 'calzone', 'calzones', 'came', 'camelback', 'camelbackhappy', 'camelbacks', 'camels', 'camelview', 'camera', 'cameraphotography', 'cameras', 'camile', 'camille', 'camo', 'camp', 'campaign', 'campaigning', 'campbell', 'campbells', 'camper', 'campers', 'camping', 'campus', 'campuses', 'camus', 'canada', 'canadian', 'canaille', 'canailleflock', 'canal', 'canals', 'canasta', 'cancel', 'canceled', 'canceling', 'cancellation', 'cancelled', 'cancelling', 'cancer', 'candace', 'candid', 'candied', 'candies', 'candle', 'candlelight', 'candlelit', 'candlemaking', 'candles', 'candy', 'candyland', 'cane', 'canes', 'canidae', 'canine', 'canister', 'canned', 'cannelloni', 'canneloni', 'cannibal', 'cannoli', 'cannolis', 'cannon', 'cannot', 'canoe', 'canoli', 'canopy', 'cans', 'cant', 'canteen', 'canteloupe', 'cantina', 'canton', 'cantonese', 'canvas', 'canvases', 'canyon', 'canyone', 'cap', 'capable', 'capaccino', 'capacity', 'capellini', 'caper', 'capers', 'capezios', 'capicolla', 'capital', 'capitalism', 'capitol', 'caponata', 'capped', 'cappella', 'cappicola', 'cappuccino', 'cappuccinos', 'caprese', 'capri', 'capriotti', 'capriottis', 'caps', 'capsule', 'captain', 'captivated', 'captivates', 'capture', 'captured', 'car', 'caradmom', 'carafe', 'caramel', 'caramelcolored', 'caramelized', 'carb', 'carbchocolate', 'carbheavy', 'carbloading', 'carbohydrate', 'carbon', 'carbonara', 'carbonation', 'carbs', 'carbsugar', 'carburetor', 'carcuz', 'card', 'cardamom', 'cardboard', 'carded', 'cardiac', 'cardinal', 'cardinals', 'cardio', 'cards', 'cardstock', 'cardwhat', 'care', 'cared', 'career', 'carefree', 'carefreecave', 'careful', 'carefully', 'caregiver', 'caregivers', 'careless', 'cares', 'caribbean', 'carignorant', 'caring', 'carla', 'carlos', 'carls', 'carlsbad', 'carlton', 'carmax', 'carmel', 'carmelized', 'carnage', 'carne', 'carnegie', 'carniceria', 'carnitas', 'carnivore', 'carnivores', 'carnivorial', 'carol', 'carolers', 'carolina', 'carolinas', 'caroline', 'carousel', 'carpacchio', 'carpaccio', 'carpal', 'carpet', 'carpeting', 'carpets', 'carpool', 'carrabbas', 'carribbean', 'carried', 'carrier', 'carriers', 'carries', 'carrot', 'carrots', 'carrott', 'carry', 'carrying', 'carryout', 'cars', 'carstyled', 'cart', 'carte', 'cartel', 'carter', 'carton', 'carts', 'cartwrights', 'carved', 'carving', 'cary', 'casa', 'casaslightly', 'case', 'casei', 'casellas', 'casement', 'cases', 'casey', 'caseys', 'cash', 'cashed', 'cashew', 'cashews', 'cashier', 'cashiers', 'cashing', 'cashthat', 'casie', 'casing', 'casino', 'casita', 'cask', 'casserole', 'cast', 'castilla', 'castillas', 'casting', 'castle', 'casual', 'casualfeels', 'casually', 'casuals', 'cat', 'cat5', 'cat6', 'catagory', 'catalog', 'catalogs', 'catalytic', 'catch', 'catching', 'categories', 'category', 'cater', 'catered', 'catering', 'catfish', 'cathedral', 'cats', 'caucasian', 'caucasians', 'caught', 'cauldron', 'cauliflower', 'cause', 'caused', 'causednot', 'causes', 'causing', 'caution', 'cautious', 'cavalleria', 'cavalli', 'cave', 'caveat', 'caved', 'cavelike', 'cavernous', 'caviar', 'cavities', 'cavity', 'cayman', 'caymans', 'cb', 'cc', 'cca', 'ccgs', 'cco', 'cd', 'cdc', 'cddvd', 'cds', 'ceasar', 'cease', 'ceaser', 'ceases', 'cede', 'ceiling', 'ceilings', 'celebrate', 'celebrated', 'celebrating', 'celebration', 'celebratory', 'celebrities', 'celebrity', 'celery', 'celiac', 'celiacs', 'celina', 'cell', 'cellar', 'cellist', 'cellphone', 'celsius', 'cement', 'cenpho', 'cenphomid', 'censor', 'cent', 'center', 'centerbarsrestaurantsarena', 'centered', 'centerits', 'centerphoenix', 'centerpiece', 'centerpieces', 'centers', 'central', 'centrally', 'centralthis', 'centre', 'centric', 'cents', 'centsgallon', 'century', 'centurys', 'ceo', 'ceramic', 'cereal', 'cereals', 'ceremony', 'cerignola', 'certain', 'certainly', 'certificate', 'certificates', 'certifications', 'certified', 'cesar', 'cesspool', 'cesspools', 'cetera', 'cevap', 'ceviche', 'cezanne', 'cf', 'cfls', 'cfoo', 'cfu', 'ch', 'cha', 'chaat', 'chaata', 'chace', 'chagrin', 'chai', 'chain', 'chaincos', 'chains', 'chainsaw', 'chair', 'chairs', 'chairsdesks', 'chaise', 'chalet', 'chalkboard', 'chalking', 'chalky', 'challah', 'challange', 'challenge', 'challenged', 'challenges', 'challenging', 'chamber', 'chambord', 'chamomile', 'champ', 'champagne', 'champagnes', 'champaigne', 'champainge', 'champers', 'championship', 'champong', 'champs', 'chana', 'chance', 'chancer', 'chancers', 'chances', 'chancesee', 'chandelier', 'chandeliers', 'chandler', 'chanel', 'change', 'changed', 'changei', 'changes', 'changing', 'changs', 'channel', 'channels', 'chanterelle', 'chanterelles', 'chantreloysterect', 'chao', 'chaoeven', 'chaos', 'chaparral', 'chapoutier', 'chapter', 'char', 'character', 'characters', 'charbroiled', 'charburger', 'charcoal', 'chard', 'chardonnay', 'chardonnayi', 'charge', 'charged', 'chargernot', 'charges', 'chargethen', 'charging', 'chargrilled', 'chargrilledroasted', 'charismatic', 'charismaticcame', 'charitable', 'charity', 'charleen', 'charlene', 'charles', 'charlestons', 'charlie', 'charlies', 'charlotte', 'charm', 'charmed', 'charming', 'charred', 'chars', 'chart', 'charts', 'chase', 'chased', 'chashu', 'chashumen', 'chashuramen', 'chat', 'chateaux', 'chatney', 'chatted', 'chatter', 'chattering', 'chatting', 'chatty', 'chavez', 'cheap', 'cheapand', 'cheaper', 'cheapest', 'cheaply', 'cheapskate', 'cheat', 'cheated', 'checca', 'check', 'checkbox', 'checked', 'checkedin', 'checkeed', 'checker', 'checkered', 'checkers', 'checkin', 'checking', 'checkins', 'checklist', 'checkout', 'checks', 'checkup', 'checkups', 'cheddar', 'cheeeeno', 'cheek', 'cheered', 'cheerful', 'cheerfully', 'cheering', 'cheerleaders', 'cheers', 'cheery', 'cheese', 'cheeseagain', 'cheesebacon', 'cheeseboard', 'cheeseburger', 'cheesecake', 'cheesecakeim', 'cheesecakes', 'cheesecakeyum', 'cheesehead', 'cheeseit', 'cheeselettucetomatobacon', 'cheeseoh', 'cheeses', 'cheesesteak', 'cheesesteaks', 'cheesewhat', 'cheesey', 'cheesy', 'cheez', 'cheezits', 'chef', 'chefing', 'chefowner', 'chefs', 'cheftossed', 'chelsea', 'chelseas', 'chemex', 'chemical', 'chemicals', 'cherished', 'cherries', 'cherry', 'cherryblossom', 'cherryblossoms', 'cherrypoppin', 'cheryl', 'chess', 'chest', 'chestnuts', 'chew', 'chewed', 'chewing', 'chewy', 'chey', 'chi', 'chiang', 'chianti', 'chic', 'chicago', 'chicagoan', 'chicagos', 'chicagostyle', 'chiccharon', 'chichi', 'chichis', 'chick', 'chickafila', 'chicken', 'chickena', 'chickenamazing', 'chickenfried', 'chickeninstead', 'chickenit', 'chickenlots', 'chickenpad', 'chickens', 'chickensubtler', 'chickfila', 'chickpeas', 'chicks', 'chiclets', 'chicory', 'chics', 'chief', 'chiku', 'chiladas', 'chilaquiles', 'child', 'childbirth', 'childcare', 'childhood', 'childhoods', 'childish', 'children', 'childrens', 'childs', 'childsplay', 'chile', 'chilean', 'chilequiles', 'chiles', 'chili', 'chiliadverse', 'chilies', 'chiliglazed', 'chilis', 'chilisoup', 'chill', 'chilled', 'chilli', 'chilling', 'chills', 'chilly', 'chilulah', 'chime', 'chimi', 'chimichanga', 'chimichangas', 'chiming', 'chimis', 'chimmichurri', 'chin', 'china', 'chinaberry', 'chinas', 'chinatown', 'chineness', 'chinese', 'chino', 'chip', 'chipolte', 'chipote', 'chipotle', 'chipotlecider', 'chipotleranch', 'chipotles', 'chipped', 'chipping', 'chips', 'chipssalsa', 'chiptole', 'chiro', 'chiropractic', 'chiropractics', 'chiropractor', 'chirping', 'chit', 'chitchat', 'chives', 'chix', 'chlorine', 'choc', 'chocho', 'chock', 'chockfull', 'chocolate', 'chocolatecaramelfilled', 'chocolately', 'chocolatepeanut', 'chocolates', 'chocolatestrawberry', 'chocolatewithredchile', 'chocolatey', 'chocolatier', 'chocolatiers', 'chocolatiest', 'chodang', 'choice', 'choices', 'choir', 'choke', 'choked', 'choking', 'cholla', 'cholocate', 'chomp', 'chompie', 'chompies', 'choo', 'choose', 'choosers', 'chooses', 'choosing', 'chop', 'chopped', 'chopping', 'choppy', 'chops', 'chopstick', 'chopsticks', 'chores', 'chorizo', 'chorizohello', 'chorro', 'chorus', 'chose', 'chosen', 'choux', 'chow', 'chowder', 'chowing', 'chows', 'chris', 'chriss', 'christ', 'christian', 'christine', 'christmas', 'christmastime', 'christopher', 'christophers', 'christs', 'christy', 'chrome', 'chronic', 'chronicle', 'chronicles', 'chu', 'chualright', 'chuck', 'chuckle', 'chuckled', 'chucks', 'chugged', 'chumps', 'chunk', 'chunks', 'chunky', 'church', 'churches', 'churn', 'churning', 'churro', 'churros', 'chutney', 'chuys', 'chynas', 'chz', 'châteauneufdupape', 'ciabatta', 'ciao', 'ciaos', 'cibo', 'cibos', 'cider', 'cien', 'cigar', 'cigarette', 'cigarettes', 'cigarfriendly', 'cigars', 'cigs', 'cilantro', 'cinammoness', 'cinderellas', 'cindy', 'cine', 'cinema', 'cinemark', 'cinemas', 'cinnamon', 'cinnamonspicy', 'cioppino', 'circa', 'circle', 'circled', 'circles', 'circling', 'circuitous', 'circular', 'circulation', 'circumstance', 'circumvent', 'circus', 'circusrodeo', 'ciroc', 'cisco', 'ciscos', 'cited', 'cities', 'citing', 'citizen', 'citizens', 'citrus', 'citrusy', 'city', 'citysize', 'citywide', 'civic', 'civiche', 'ck', 'cks', 'clad', 'claim', 'claimed', 'claiming', 'claims', 'clair', 'claires', 'clam', 'clamp', 'clams', 'clamshells', 'clang', 'clanging', 'claps', 'claredon', 'clarendon', 'clarification', 'clarify', 'clarity', 'class', 'classes', 'classic', 'classics', 'classifies', 'classroom', 'classwork', 'classy', 'classybutcasual', 'clatter', 'claudes', 'claustrophobic', 'claw', 'clawing', 'claws', 'clay', 'clean', 'cleaned', 'cleaner', 'cleaners', 'cleanest', 'cleaning', 'cleaningcan', 'cleanliness', 'cleanlinessd', 'cleanser', 'cleansers', 'cleansterile', 'cleanthe', 'cleanup', 'clear', 'clearance', 'clearancing', 'cleared', 'clearheeled', 'clearing', 'clearly', 'cleary', 'cleavage', 'cleaver', 'clement', 'clerk', 'clerks', 'clever', 'cleverly', 'cliche', 'cliched', 'click', 'clicquot', 'client', 'clientele', 'clients', 'clientswow', 'clif', 'cliffs', 'climate', 'climax', 'climaxs', 'climb', 'climbers', 'climbing', 'clincher', 'clingy', 'clinic', 'clinics', 'clint', 'clintons', 'clip', 'clipped', 'clippers', 'clippings', 'clips', 'cliques', 'cliquish', 'clock', 'clockminispeaker', 'clockminispeakers', 'clocks', 'clockwork', 'clog', 'clones', 'clooney', 'clorox', 'close', 'closed', 'closedlame', 'closefourth', 'closely', 'closer', 'closes', 'closest', 'closet', 'closeup', 'closing', 'cloth', 'clothed', 'clothes', 'clothesall', 'clothespursesshoes', 'clothing', 'clothingpurses', 'cloths', 'clotted', 'cloud', 'clouds', 'cloudy', 'clover', 'cloves', 'clown', 'clowns', 'cloyed', 'club', 'clubbar', 'clubbing', 'clubby', 'clubhouse', 'clubprogram', 'clubs', 'clubswell', 'clue', 'cluedelivery', 'clueless', 'clump', 'clumps', 'clumpy', 'clumsiness', 'clumsy', 'clunky', 'cluster', 'clusters', 'clutch', 'clutches', 'clutching', 'clyde', 'cmon', 'cmost', 'co', 'coach', 'coachdefense', 'coaches', 'coagulated', 'coal', 'coalface', 'coalfired', 'coarse', 'coast', 'coastal', 'coasted', 'coasters', 'coastmidwest', 'coat', 'coated', 'coating', 'coats', 'coaxed', 'cob', 'cobaker', 'cobb', 'cobbler', 'cobblers', 'cobras', 'coc', 'coca', 'cocacola', 'cocaine', 'cocina', 'cock', 'cockroaches', 'cocktail', 'cocktaila', 'cocktails', 'cocktailswe', 'coco', 'cocoa', 'coconut', 'coconutchocolate', 'cocstco', 'cod', 'coda', 'code', 'coded', 'codes', 'coe', 'coed', 'cofco', 'coffe', 'coffee', 'coffeea', 'coffeeespresso', 'coffeegrinders', 'coffeehouse', 'coffeeit', 'coffeemeh', 'coffeepullers', 'coffees', 'coffeeshop', 'coffeewater', 'cohost', 'coin', 'coincide', 'coincidence', 'coincidences', 'coins', 'coke', 'cokes', 'cola', 'colada', 'colbert', 'cold', 'colda', 'coldstone', 'coldstones', 'cole', 'coleslaw', 'collaborate', 'collaboration', 'collapse', 'collar', 'collard', 'collared', 'collars', 'colleague', 'colleagues', 'collect', 'collected', 'collecting', 'collection', 'collections', 'collective', 'collectively', 'collector', 'colleen', 'college', 'collegeaged', 'colleges', 'cologne', 'colonial', 'color', 'colorado', 'colored', 'colorful', 'colorfulbut', 'colorfully', 'coloring', 'colorist', 'colorists', 'colorno', 'colors', 'colorsdesign', 'colossal', 'colour', 'columbia', 'com', 'coma', 'comb', 'combat', 'combination', 'combinations', 'combine', 'combined', 'combines', 'combining', 'combo', 'combopepp', 'combos', 'come', 'comeback', 'comedy', 'comes', 'comethis', 'comfort', 'comfortable', 'comfortably', 'comforting', 'comforts', 'comfy', 'comic', 'comical', 'comically', 'comics', 'comin', 'coming', 'comingsomeday', 'commandment', 'commence', 'commend', 'comment', 'commented', 'commenting', 'comments', 'commerce', 'commercial', 'commercialized', 'commission', 'commit', 'commitment', 'commitments', 'committed', 'committee', 'committing', 'common', 'commonly', 'commons', 'communal', 'communicate', 'communicated', 'communicates', 'communicating', 'communication', 'communications', 'communicator', 'communists', 'communities', 'community', 'communityeasy', 'communitywide', 'commute', 'commuter', 'comp', 'compadres', 'compaining', 'companies', 'companion', 'companions', 'companionship', 'company', 'companys', 'comparable', 'compare', 'compared', 'compares', 'comparing', 'comparison', 'comparisons', 'compartment', 'compasionate', 'compass', 'compassion', 'compassionate', 'compatible', 'compd', 'comped', 'compelled', 'compelling', 'compels', 'compensate', 'compensation', 'compete', 'competely', 'competence', 'competent', 'competently', 'competes', 'competing', 'competition', 'competitive', 'competitively', 'competitor', 'competitors', 'comping', 'compitent', 'complain', 'complained', 'complainer', 'complaing', 'complaining', 'complainoh', 'complains', 'complainsmy', 'complaint', 'complaints', 'complement', 'complementary', 'complemented', 'complete', 'completed', 'completely', 'completelyim', 'completes', 'completing', 'completly', 'complex', 'complexity', 'complicated', 'complications', 'complichatting', 'complientary', 'compliment', 'complimentary', 'complimented', 'compliments', 'component', 'compose', 'composed', 'composition', 'composure', 'compote', 'compounded', 'compounding', 'comprehend', 'comprehensive', 'compressa', 'compressed', 'compressor', 'comprised', 'compromise', 'compromised', 'computer', 'computerpad', 'computers', 'computeryou', 'comsumed', 'con', 'concealed', 'concede', 'concentrate', 'concentrated', 'concentrating', 'concept', 'conceptions', 'concepts', 'concern', 'concerned', 'concerning', 'concerns', 'concert', 'concession', 'concessions', 'conchita', 'concierge', 'concluded', 'conclusion', 'concoct', 'concoction', 'concoctions', 'concrete', 'concur', 'condemn', 'condensation', 'condensed', 'condesa', 'condescending', 'condiment', 'condiments', 'condition', 'conditioned', 'conditioner', 'conditioning', 'conditions', 'condo', 'condolences', 'condone', 'condos', 'conducive', 'conduct', 'cone', 'conemine', 'cones', 'confection', 'confectionary', 'confections', 'conference', 'confess', 'confessing', 'confessional', 'confidence', 'confident', 'confidently', 'confirm', 'confirmation', 'confirmed', 'confirmedi', 'confirming', 'confirms', 'confit', 'confite', 'conflicting', 'conflicts', 'conformable', 'confrontational', 'confronted', 'confucius', 'confuse', 'confused', 'confuses', 'confusing', 'confusion', 'conga', 'congee', 'congrats', 'congratulate', 'congratulations', 'congregation', 'congress', 'coninue', 'conjure', 'conjures', 'connect', 'connected', 'connecticut', 'connecting', 'connection', 'connections', 'connery', 'connoisseur', 'connolys', 'connosiuer', 'conquering', 'cons', 'conscience', 'conscientious', 'conscious', 'consecutive', 'consequently', 'conservatism', 'consider', 'considerate', 'consideration', 'considered', 'considering', 'considers', 'consign', 'consigned', 'consigner', 'consigning', 'consistancy', 'consistant', 'consistantly', 'consisted', 'consistency', 'consistent', 'consistently', 'consisting', 'consists', 'consolation', 'console', 'conspire', 'constant', 'constantly', 'constitute', 'constitutes', 'constitution', 'constitutional', 'constraint', 'constructed', 'construction', 'constructive', 'constructively', 'consult', 'consultant', 'consultation', 'consume', 'consumed', 'consumer', 'consumers', 'consummate', 'consumption', 'contact', 'contacted', 'contacting', 'contacts', 'contagious', 'contain', 'contained', 'container', 'containers', 'containing', 'contains', 'contemporary', 'contend', 'contender', 'content', 'contentment', 'contents', 'contest', 'contests', 'context', 'contextualize', 'continentally', 'continually', 'continue', 'continued', 'continues', 'continuetheyre', 'continuing', 'continuosly', 'continuous', 'continuously', 'contract', 'contracted', 'contractors', 'contracts', 'contrarily', 'contrary', 'contrast', 'contribute', 'contributed', 'contributes', 'contribution', 'contrived', 'control', 'controlled', 'controlling', 'controlreally', 'controls', 'controversial', 'controversies', 'controversy', 'convelient', 'convenience', 'convenient', 'conveniently', 'convention', 'conversant', 'conversation', 'conversational', 'conversations', 'converse', 'conversely', 'conversing', 'conversingwell', 'convert', 'converted', 'converter', 'converters', 'convertible', 'converts', 'convey', 'conveyer', 'conveying', 'convictions', 'convince', 'convinced', 'convincing', 'convo', 'cook', 'cooked', 'cookers', 'cookie', 'cookiecakechocolate', 'cookies', 'cookiesoh', 'cookin', 'cooking', 'cookouts', 'cooks', 'cooksmore', 'cool', 'coolant', 'cooled', 'cooler', 'coolers', 'coolest', 'cooling', 'coolness', 'cools', 'cooney', 'cooper', 'coordinated', 'coordination', 'coordinators', 'coors', 'cooties', 'coowns', 'cop', 'cope', 'copic', 'copied', 'copies', 'copious', 'copper', 'cops', 'copy', 'copymachine', 'copypaste', 'coq', 'coral', 'corbins', 'cordial', 'cordially', 'cordon', 'cordoned', 'corduroys', 'core', 'corebalance', 'coreographed', 'corinthians', 'cork', 'corkage', 'corking', 'corks', 'corleones', 'corn', 'cornbread', 'corndog', 'corned', 'corner', 'corners', 'cornicopia', 'cornish', 'cornmeal', 'cornonthecob', 'cornonthecobs', 'cornstarchy', 'corolla', 'corona', 'coronado', 'coronary', 'coronas', 'corporal', 'corporate', 'corporation', 'corporations', 'corps', 'corral', 'correct', 'corrected', 'correction', 'corrections', 'correctly', 'correctness', 'correlated', 'correlation', 'correspondance', 'corresponding', 'corresponds', 'corridor', 'corridors', 'corroded', 'corrupted', 'corsages', 'corsets', 'cortadito', 'corwn', 'cos', 'cosa', 'cosco', 'cosmetic', 'cosmetics', 'cosmo', 'cosmopolitancool', 'cosmos', 'cost', 'costa', 'costco', 'costillas', 'costing', 'costly', 'costo', 'costs', 'costume', 'costumer', 'costumers', 'costumes', 'costumetheme', 'cosy', 'cotija', 'cotta', 'cottage', 'cotton', 'cottonwood', 'couch', 'couches', 'couchlounge', 'cougar', 'cougarmanther', 'cough', 'coughed', 'coughing', 'could', 'couldnt', 'couldso', 'couldve', 'coulter', 'counselor', 'count', 'countdown', 'counted', 'counter', 'countered', 'counterheight', 'counterparts', 'counterperson', 'counters', 'counterservice', 'counting', 'countless', 'countries', 'country', 'countrycountry', 'countrys', 'countryside', 'countrywide', 'counts', 'county', 'coup', 'couple', 'coupled', 'couples', 'coupling', 'coupon', 'coupons', 'courage', 'course', 'courseas', 'coursed', 'courseif', 'courses', 'court', 'courteous', 'courteously', 'courtesy', 'courtney', 'courts', 'courtsits', 'courtyard', 'courtyards', 'cous', 'couscous', 'cousin', 'cousins', 'couture', 'cover', 'coverage', 'covered', 'covering', 'covers', 'covert', 'coverup', 'covet', 'coveted', 'cow', 'cowboy', 'cowboys', 'cowgals', 'cowork', 'coworker', 'coworkers', 'cows', 'cowtow', 'cox', 'coy', 'coyotes', 'coz', 'cozier', 'coziness', 'cozy', 'cpc', 'cph', 'cpr', 'cpu', 'crab', 'crabcakes', 'crabs', 'crabstuffed', 'crack', 'cracked', 'crackedout', 'cracker', 'crackerjack', 'crackers', 'cracking', 'crackle', 'crackles', 'crackling', 'cracks', 'cradle', 'cradling', 'craft', 'craftbrews', 'crafted', 'crafter', 'crafts', 'craftsman', 'craftsmanship', 'craigslist', 'cram', 'crammed', 'cramped', 'cramps', 'cranberries', 'cranberry', 'crank', 'cranking', 'cranks', 'cranky', 'cranny', 'crap', 'crappy', 'craptastic', 'crashed', 'crate', 'crates', 'crave', 'craveing', 'cravesenzymes', 'craveworthy', 'craving', 'cravings', 'crawfish', 'crawling', 'crayon', 'craze', 'craziest', 'craziness', 'crazy', 'crazyass', 'cream', 'creambut', 'creamed', 'creamer', 'creamiest', 'creaminess', 'creamooooohhh', 'creams', 'creamsso', 'creamy', 'creamyness', 'create', 'created', 'creates', 'creating', 'creation', 'creations', 'creative', 'creativedown', 'creativity', 'creators', 'creature', 'creaturepossibly', 'creatures', 'cred', 'credentials', 'credibiilty', 'credit', 'creditand', 'credited', 'credits', 'creek', 'creep', 'creeped', 'creepily', 'creepy', 'crem', 'crema', 'cremation', 'creme', 'cremes', 'crenelations', 'creole', 'crepe', 'crepelike', 'crepes', 'creps', 'crepswhat', 'crept', 'crescendo', 'crescent', 'crew', 'crewthey', 'crib', 'cricket', 'cried', 'crime', 'crimes', 'criminal', 'criminals', 'crimini', 'cringe', 'crinkle', 'crippled', 'crisis', 'crisp', 'crisplightin', 'crisps', 'crispy', 'crispyand', 'crisscrosses', 'cristo', 'criteria', 'critic', 'critical', 'critically', 'criticism', 'criticize', 'critics', 'critters', 'croce', 'crock', 'croissant', 'croissants', 'crooks', 'crop', 'cropping', 'croque', 'crosbie', 'crosby', 'cross', 'crossaint', 'crossed', 'crossfit', 'crossing', 'crossroad', 'crostini', 'crouton', 'croutons', 'crowd', 'crowded', 'crowding', 'crowds', 'crowed', 'crown', 'crowning', 'crrraazzyyy', 'cruchy', 'crucial', 'crucially', 'crucifix', 'crudo', 'cruelty', 'crueltyfree', 'cruisers', 'cruising', 'crullers', 'crumb', 'crumble', 'crumbled', 'crumbles', 'crumbling', 'crumbs', 'crummy', 'crunch', 'crunchiness', 'crunchy', 'crusade', 'crusesel', 'crush', 'crushed', 'crushing', 'crust', 'crustada', 'crusted', 'crustier', 'crusties', 'crustini', 'crusts', 'crusty', 'crustysoft', 'cry', 'crying', 'crystal', 'crystalized', 'crystals', 'crème', 'créme', 'cs', 'cu', 'cuban', 'cubbies', 'cube', 'cubed', 'cubes', 'cubesthat', 'cubicle', 'cubicles', 'cubs', 'cucina', 'cucumber', 'cucumberonion', 'cucumbers', 'cue', 'cues', 'cuff', 'cuffs', 'cuisinart', 'cuisine', 'cuisinesome', 'cuke', 'cukes', 'culinarily', 'culinary', 'culinaryvoid', 'culmination', 'culprit', 'cultural', 'culture', 'cultured', 'cultures', 'culvers', 'culversim', 'cum', 'cumin', 'cummings', 'cuon', 'cup', 'cupcake', 'cupcakefinger', 'cupcakes', 'cuppot', 'cups', 'cupstand', 'curated', 'curb', 'curbage', 'curd', 'curdjust', 'curds', 'cure', 'cured', 'curiosity', 'curious', 'curiously', 'curl', 'curler', 'curling', 'curls', 'curly', 'curmudgeons', 'currants', 'current', 'currently', 'currents', 'curriculum', 'curried', 'curries', 'curry', 'curryonly', 'currys', 'curse', 'cursing', 'curt', 'curtain', 'curtained', 'curtains', 'curtly', 'curve', 'curves', 'cusack', 'cushier', 'cushions', 'cushy', 'cussing', 'cust', 'custard', 'custardicecustard', 'custardit', 'custards', 'custardwhile', 'custom', 'customer', 'customers', 'customize', 'customized', 'customizes', 'custommade', 'custurdlol', 'cut', 'cutat', 'cute', 'cutest', 'cutesy', 'cuticule', 'cutie', 'cuties', 'cutlery', 'cutlet', 'cutoff', 'cuts', 'cutshampoo', 'cutter', 'cutters', 'cuttery', 'cutting', 'cuz', 'cvs', 'cycle', 'cycling', 'cyclingetc', 'cyclist', 'cyclists', 'cyclo', 'cyclos', 'cyl', 'cynic', 'cynical', 'cynicism', 'cyr', 'd70s', 'da', 'daas', 'dab', 'dac', 'dachs', 'dad', 'daddies', 'daddy', 'daddys', 'dads', 'dagger', 'daikon', 'daily', 'dainty', 'daiquiri', 'dairies', 'dairiki', 'dairy', 'dairyfree', 'dairythey', 'daiya', 'dakota', 'dale', 'dali', 'dallas', 'dally', 'damage', 'damaged', 'damagedugly', 'damages', 'dambrosios', 'dame', 'dameven', 'damn', 'damned', 'damngood', 'damnit', 'damp', 'dan', 'dana', 'dance', 'danced', 'dancelike', 'dancer', 'dancers', 'dancerthen', 'dances', 'dancewear', 'dancing', 'dandan', 'dandelion', 'dane', 'dang', 'danged', 'danger', 'dangerous', 'dangerously', 'dangers', 'dangly', 'daniel', 'danielle', 'daniels', 'danish', 'danishes', 'dank', 'dannie', 'danny', 'danyluk', 'daphnes', 'daquiris', 'dara', 'daradee', 'darcy', 'dare', 'daredevil', 'daren', 'daring', 'darius', 'dark', 'darkbut', 'darkchocolate', 'darkened', 'darker', 'darkness', 'darkseid', 'darla', 'darling', 'darn', 'darned', 'darryl', 'dart', 'darts', 'darykla', 'dash', 'dashboard', 'dashing', 'date', 'dated', 'datelike', 'datenight', 'dates', 'dating', 'datri', 'daughter', 'daughterfathers', 'daughterinlawboth', 'daughters', 'daunted', 'daunting', 'dave', 'daves', 'david', 'davids', 'davidson', 'dawn', 'day', 'daycare', 'daydream', 'dayeveryday', 'dayflu', 'daylate', 'daylight', 'daynight', 'dayno', 'days', 'dayshift', 'daysurprising', 'daytime', 'dazbog', 'daze', 'dazed', 'dazs', 'dazzled', 'dazzles', 'db', 'dba', 'dbagly', 'dbg', 'dc', 'dcor', 'dd', 'ddd', 'dddinfomaccom', 'ddelish', 'dds', 'de', 'dead', 'deadbeats', 'deadeyed', 'deadline', 'deadly', 'deadon', 'deaf', 'deal', 'dealer', 'dealers', 'dealership', 'dealerships', 'dealing', 'dealoftheday', 'deals', 'dealsthe', 'dealt', 'deamon', 'dean', 'deans', 'dear', 'dearly', 'death', 'deathly', 'deb', 'debacle', 'debate', 'debated', 'debating', 'debauchery', 'debbie', 'debilitating', 'debit', 'debitcredit', 'debon', 'debra', 'debris', 'debt', 'debut', 'decade', 'decadence', 'decadent', 'decadently', 'decades', 'decadesold', 'decaf', 'decaffinated', 'decanted', 'decapitated', 'deceitful', 'decellerating', 'december', 'decent', 'decently', 'deception', 'deceptive', 'deceptively', 'decide', 'decided', 'decidedly', 'decides', 'deciding', 'decipherable', 'decision', 'decisiongo', 'decisions', 'decisive', 'decited', 'deck', 'decked', 'declare', 'declared', 'declaring', 'declasse', 'decline', 'declined', 'deco', 'decomissioned', 'decompose', 'deconstructed', 'decor', 'decorate', 'decorated', 'decorating', 'decoration', 'decorations', 'decorative', 'decore', 'decors', 'decorum', 'decrease', 'decreased', 'decreases', 'decrepit', 'dedicated', 'dedication', 'deduct', 'deduction', 'deductions', 'dee', 'deeeeaaallssss', 'deeeelicous', 'deeees', 'deelish', 'deep', 'deeper', 'deepfried', 'deepfrying', 'deeply', 'deer', 'deere', 'dees', 'def', 'defacto', 'defalcos', 'default', 'defend', 'defense', 'defensive', 'deference', 'deferred', 'defiance', 'defiantly', 'definately', 'definatly', 'define', 'definetely', 'definetly', 'definilty', 'defining', 'definite', 'definitely', 'definition', 'definitively', 'definitly', 'deflated', 'defnitely', 'defreakinglicious', 'defunct', 'deg', 'degrades', 'degrading', 'degree', 'degrees', 'dehydrated', 'dehydration', 'deity', 'dejavu', 'del', 'delay', 'delayed', 'delaying', 'delays', 'delcious', 'delectable', 'deleting', 'deli', 'delia', 'deliberate', 'deliberately', 'deliberation', 'delicacies', 'delicate', 'delicately', 'delicatessen', 'deliciious', 'delicioso', 'delicious', 'deliciousand', 'deliciousbut', 'deliciousjust', 'deliciously', 'deliciousness', 'deliciouso', 'delicioussatisfying', 'delicous', 'delicousness', 'delight', 'delighted', 'delightful', 'delightfully', 'delights', 'delis', 'delish', 'delishish', 'delite', 'deliver', 'delivered', 'deliverfree', 'deliveries', 'delivering', 'delivers', 'delivery', 'della', 'delmonico', 'delta', 'deluca', 'delux', 'deluxe', 'delve', 'delved', 'demand', 'demanded', 'demanding', 'demands', 'demarias', 'demeaning', 'demeanor', 'demiglace', 'demiglaze', 'demise', 'demo', 'democrat', 'democratic', 'demographic', 'demonstrate', 'demonstrated', 'demonstrates', 'demonstrating', 'demonstrative', 'demoted', 'denied', 'denim', 'dennis', 'dennys', 'dennystype', 'dense', 'densely', 'dent', 'dental', 'dented', 'dentist', 'dentistry', 'dentists', 'denver', 'deny', 'deocrations', 'departing', 'department', 'departure', 'depend', 'dependable', 'depended', 'depending', 'depends', 'depicting', 'deplane', 'depleted', 'deplorable', 'deployment', 'deported', 'deposit', 'depositing', 'depot', 'depressed', 'depressing', 'dept', 'depth', 'depths', 'derby', 'derelicts', 'derived', 'dermabrasion', 'dermatologist', 'dernmark', 'des', 'descend', 'deschutes', 'descretely', 'describe', 'describecoup', 'described', 'describes', 'describing', 'description', 'descriptions', 'deseo', 'desert', 'deserted', 'deserthighly', 'deserts', 'desertthe', 'deserve', 'deserved', 'deservedly', 'deserves', 'deserving', 'design', 'designated', 'designed', 'designer', 'designers', 'designing', 'designs', 'desirable', 'desire', 'desired', 'desires', 'desk', 'deskthey', 'desolate', 'despairing', 'desperate', 'desperately', 'desperation', 'despise', 'despised', 'despite', 'dessert', 'dessertand', 'dessertbut', 'desserti', 'desserts', 'dessertsthe', 'dessertthis', 'dessertyes', 'dest', 'destination', 'destined', 'destressed', 'destroy', 'destroyed', 'destroying', 'destroys', 'detail', 'detailed', 'detailing', 'details', 'deter', 'determine', 'determined', 'determining', 'deterred', 'detours', 'detract', 'detroit', 'develop', 'develope', 'developed', 'developers', 'developing', 'development', 'device', 'devices', 'devil', 'deviled', 'devils', 'devine', 'devoid', 'devoted', 'devour', 'devoured', 'devouring', 'devry', 'dew', 'dewalt', 'dex', 'di', 'dia', 'diabetes', 'diabetic', 'diablo', 'diabolical', 'diagnosable', 'diagnose', 'diagnosed', 'diagnosis', 'diagnostic', 'diagnostics', 'dial', 'dialogue', 'diamond', 'diamondbacks', 'diamonds', 'diane', 'diaper', 'diapers', 'diarrhea', 'diary', 'diavola', 'diaya', 'dibs', 'diced', 'dicey', 'dickhead', 'dicknose', 'dicks', 'dictate', 'diddly', 'didholy', 'didnt', 'die', 'dieciseis', 'died', 'diefor', 'diego', 'diehard', 'diet', 'dietary', 'dieters', 'dieting', 'difara', 'diff', 'differ', 'differed', 'difference', 'differences', 'different', 'differentiates', 'differentiation', 'differently', 'differnt', 'difficult', 'difficulty', 'dig', 'digdom', 'digestifs', 'digestive', 'diggety', 'digging', 'diggity', 'digital', 'digress', 'digression', 'digressthis', 'digs', 'dijon', 'dilemma', 'diligent', 'dill', 'dilla', 'dillards', 'dilly', 'dillys', 'dim', 'dime', 'dimed', 'diminished', 'diminishes', 'dimlit', 'dimly', 'dimlylit', 'dimmer', 'dimsum', 'din', 'dine', 'dined', 'dinedin', 'dinedrink', 'dinein', 'dineinazcom', 'diner', 'dinero', 'diners', 'dinersdrinkers', 'dines', 'ding', 'dinged', 'dingy', 'dining', 'dinky', 'dinne', 'dinnecheck', 'dinner', 'dinnerand', 'dinnerdrinks', 'dinnerextremely', 'dinnerit', 'dinnerlunch', 'dinnerlunchbreakfastwhatever', 'dinners', 'dinnersupper', 'dinnerthey', 'dinnerwhat', 'dinnerwhich', 'dinning', 'dip', 'dipboth', 'diplomatically', 'dipped', 'dippin', 'dipping', 'dips', 'dipshits', 'dire', 'direct', 'directed', 'directing', 'direction', 'directions', 'directly', 'director', 'directories', 'directors', 'dirt', 'dirtiest', 'dirty', 'disabled', 'disadvantage', 'disagree', 'disagreement', 'disappear', 'disappearance', 'disappeared', 'disappoint', 'disappointed', 'disappointin', 'disappointing', 'disappointingweird', 'disappointment', 'disappointments', 'disappoints', 'disaster', 'disastrous', 'disbelief', 'discard', 'discharged', 'discipline', 'disclaimer', 'disclosing', 'disclosure', 'disco', 'discolored', 'discomfort', 'disconsolate', 'discontinued', 'discordant', 'discount', 'discounted', 'discounts', 'discourage', 'discouraged', 'discouraging', 'discover', 'discovered', 'discovering', 'discovery', 'discretely', 'discriminatory', 'discs', 'discshaped', 'discuss', 'discussed', 'discussing', 'discussion', 'discusting', 'disdain', 'disease', 'diseases', 'disengage', 'disgrace', 'disgruntled', 'disguised', 'disgust', 'disgusted', 'disgusting', 'disgustingdry', 'disgustingly', 'dish', 'dishes', 'dishesajs', 'disheveled', 'dishits', 'dishonest', 'dishwater', 'disintegrate', 'disinterested', 'disks', 'dislike', 'disliked', 'disliking', 'disloyal', 'dismal', 'dismantle', 'dismay', 'dismayed', 'dismiss', 'dismissed', 'dismissive', 'disney', 'disneyesque', 'disneyland', 'disorganized', 'disoriented', 'disowned', 'dispense', 'dispensed', 'dispenser', 'dispensers', 'dispensing', 'disperses', 'dispite', 'display', 'displaydecorations', 'displayed', 'displaying', 'displays', 'displeased', 'displeasure', 'disposable', 'disposal', 'disproportionately', 'disregarding', 'disrepair', 'disrespect', 'disrespected', 'disrespectful', 'disrespectfully', 'disruption', 'disruptive', 'dissapoint', 'dissapointed', 'dissapointment', 'dissappeared', 'dissappointed', 'dissatisfaction', 'dissatisfied', 'dissertation', 'dissipated', 'dissuade', 'distance', 'distant', 'distaste', 'distasteful', 'distinct', 'distinction', 'distinctive', 'distinctly', 'distinctness', 'distinguished', 'distortions', 'distracted', 'distracting', 'distraction', 'distress', 'distressing', 'distribute', 'distributors', 'district', 'distrito', 'disturbed', 'disturbing', 'ditto', 'diuretic', 'dive', 'divers', 'diverse', 'diversion', 'diversity', 'dives', 'divey', 'divided', 'dividing', 'diviest', 'divine', 'diving', 'division', 'dixie', 'dixon', 'diy', 'diyer', 'dizzy', 'dj', 'djs', 'djwellkindahe', 'dk', 'dlish', 'dmoes', 'dmv', 'dmvs', 'dnf', 'doa', 'dobbins', 'dobson', 'doc', 'dock', 'dockers', 'docs', 'doctor', 'doctors', 'document', 'documentary', 'documents', 'docustomer', 'dodge', 'dodged', 'dodger', 'dodgers', 'doenst', 'doesand', 'doesi', 'doesnt', 'doesntlike', 'dog', 'dogeatin', 'dogfish', 'dogfishhead', 'dogfood', 'dogfoodadvisorcom', 'dogfriendly', 'doggie', 'doggies', 'doggy', 'doglegs', 'dogs', 'dogsso', 'dogtagsized', 'doingbut', 'dojo', 'dolce', 'doling', 'doll', 'dollar', 'dollars', 'dollarsish', 'dolled', 'dollhouse', 'dollop', 'dolls', 'dolmades', 'dolmas', 'dolmeh', 'dolphin', 'dom', 'domestic', 'dominate', 'dominated', 'dominick', 'dominicks', 'dominique', 'dominos', 'domo', 'donate', 'donated', 'donation', 'donations', 'done', 'donecrispy', 'donedidnt', 'donkey', 'donna', 'donor', 'dont', 'donut', 'donuts', 'doodle', 'doodles', 'doom', 'dooo', 'door', 'doorin', 'doorlittle', 'doorman', 'doors', 'doorsand', 'doorsusies', 'doortodoor', 'doorway', 'doorwhat', 'doozy', 'dope', 'dorato', 'doris', 'dorm', 'dormouse', 'dorms', 'dorrie', 'dorries', 'dos', 'dosa', 'dosas', 'dose', 'dosent', 'dot', 'doted', 'dots', 'double', 'doubledouble', 'doubleended', 'doublefried', 'doubles', 'doubleshot', 'doubleshower', 'doublestacked', 'doublewon', 'doubt', 'doubted', 'doubts', 'douche', 'doudy', 'dough', 'doughboy', 'doughhowever', 'doughnut', 'doughnuts', 'doughy', 'douh', 'douse', 'doused', 'dousing', 'douxelle', 'dove', 'dowe', 'downer', 'downfall', 'downhill', 'downhome', 'downing', 'download', 'downloaded', 'downright', 'downs', 'downside', 'downsides', 'downstairs', 'downtime', 'downtown', 'downtrodden', 'downuntil', 'dozen', 'dozens', 'dpov', 'dq', 'dr', 'draft', 'draftanyhoo', 'drafts', 'drafty', 'drag', 'dragged', 'dragon', 'dragonfly', 'dragons', 'drags', 'drain', 'drama', 'dramatic', 'dramatically', 'dramatics', 'drank', 'drastically', 'draught', 'draw', 'drawback', 'drawer', 'drawing', 'drawings', 'drawn', 'draws', 'dre', 'dread', 'dreaded', 'dreadful', 'dreading', 'dream', 'dreamcatcher', 'dreamed', 'dreaming', 'dreamlike', 'dreams', 'dreamtotally', 'dreamy', 'dreary', 'dregs', 'dremel', 'drench', 'drenched', 'drenching', 'dress', 'dressed', 'dresser', 'dresses', 'dressier', 'dressing', 'dressingdrenched', 'dressings', 'dressy', 'dressycasual', 'drew', 'dried', 'drier', 'dries', 'drift', 'drill', 'drilling', 'drink', 'drinkable', 'drinkdodey', 'drinker', 'drinkers', 'drinking', 'drinks', 'drinksi', 'drinksthe', 'drip', 'dripped', 'dripping', 'drive', 'driveand', 'driveby', 'driveins', 'driven', 'driver', 'drivers', 'drives', 'drivethrough', 'drivethru', 'driveway', 'driving', 'drizzle', 'drizzled', 'drizzling', 'droban', 'drone', 'drool', 'drooled', 'droolin', 'drooling', 'drop', 'dropby', 'dropin', 'dropout', 'dropouts', 'dropped', 'dropping', 'drops', 'dropthekidsoff', 'drought', 'drove', 'drown', 'drowned', 'drowning', 'drug', 'druginfested', 'drugs', 'drum', 'drummers', 'drums', 'drunk', 'drunken', 'drunkok', 'drunks', 'dry', 'drycame', 'dryer', 'drying', 'dryng', 'dryrub', 'drywall', 'ds', 'dscusting', 'dslreportscom', 'dst', 'dt', 'dtown', 'dtpho', 'duane', 'dubba', 'duce', 'duck', 'ducked', 'duckpicking', 'ducks', 'duct', 'dude', 'dudea', 'dudes', 'dudewhere', 'duds', 'due', 'dug', 'dugout', 'duh', 'duhvine', 'duis', 'dukes', 'dulce', 'dulche', 'dull', 'dumb', 'dumbass', 'dumber', 'dumbest', 'dumbfounded', 'dummies', 'dump', 'dumped', 'dumping', 'dumpling', 'dumplings', 'dumps', 'dumpster', 'dun', 'dungeness', 'dunkin', 'dunking', 'dunno', 'duo', 'duothey', 'duper', 'duplicate', 'duplication', 'durability', 'durants', 'duration', 'durationwhich', 'durst', 'dusk', 'dust', 'dusted', 'dusting', 'dutch', 'dutchman', 'duties', 'dutton', 'duty', 'duvalin', 'dv', 'dvd', 'dvds', 'dwellers', 'dwindling', 'dye', 'dyed', 'dyer', 'dyes', 'dying', 'dynamite', 'dynasty', 'dysart', 'dzughter', 'décor', 'eachother', 'eactually', 'eager', 'eagerly', 'eagerness', 'eagle', 'ear', 'earleir', 'earlier', 'earliest', 'early', 'earlybird', 'earn', 'earned', 'earnest', 'earning', 'earrings', 'ears', 'earth', 'earthif', 'earthy', 'ease', 'eased', 'easels', 'easier', 'easiest', 'easily', 'easiy', 'easleys', 'east', 'easter', 'eastern', 'easternmediterranean', 'eastside', 'eastwood', 'eastyour', 'easy', 'easygoing', 'easytouse', 'eat', 'eatable', 'eated', 'eaten', 'eater', 'eateri', 'eateries', 'eaterieswill', 'eaters', 'eatery', 'eatin', 'eating', 'eatnlearn', 'eats', 'eatthey', 'eattry', 'eavesdrop', 'ebay', 'ebi', 'ecclectic', 'echo', 'echoed', 'echoes', 'echoing', 'eclaire', 'eclectic', 'eclub', 'ecofriendly', 'economic', 'economical', 'economy', 'ecstacy', 'ecstatic', 'ect', 'ed', 'edamame', 'eddie', 'eddies', 'edemame', 'edens', 'edge', 'edges', 'edgier', 'edgy', 'edible', 'edison', 'edit', 'editable', 'edited', 'edition', 'edna', 'eds', 'eduardo', 'educate', 'educated', 'educating', 'education', 'educational', 'eduprize', 'edward', 'edwards', 'eeew', 'eegee', 'eegees', 'eegeesbut', 'eek', 'eel', 'eewwww', 'efax', 'eff', 'effect', 'effective', 'effectively', 'effects', 'effen', 'efficacious', 'efficiency', 'efficient', 'efficiently', 'effin', 'effing', 'effort', 'efforts', 'eg', 'egads', 'egadwhy', 'egg', 'eggcheeseonion', 'eggees', 'eggfoooo', 'eggless', 'eggplant', 'eggplants', 'eggroll', 'eggrolls', 'eggs', 'eggsfair', 'eggy', 'ego', 'egs', 'egypt', 'egyptian', 'eh', 'eight', 'eighteen', 'einsteins', 'eis', 'eish', 'either', 'eitheri', 'eitherthats', 'eitherthey', 'el', 'elaboration', 'elaines', 'elastic', 'elbow', 'elbows', 'elder', 'elderflower', 'elderly', 'eldest', 'elected', 'electing', 'election', 'electoral', 'electric', 'electrical', 'electronic', 'electronics', 'elegance', 'elegant', 'element', 'elements', 'elentra', 'elephant', 'elephants', 'elevated', 'elevates', 'elevation', 'elevator', 'elevators', 'eleven', 'elf', 'eliminating', 'elite', 'elites', 'elizabeth', 'ella', 'elliot', 'ellis', 'elm', 'elmer', 'eloquent', 'elote', 'elsas', 'else', 'elserude', 'elses', 'elsewhere', 'elsewherecant', 'elseyoure', 'eludes', 'elusive', 'elves', 'elvis', 'ely', 'em', 'email', 'emailed', 'emails', 'emapanadas', 'embarassed', 'embarassing', 'embarked', 'embarking', 'embarrassed', 'embarrassing', 'embarrassingly', 'embarrassment', 'embellishment', 'emberassed', 'embezzled', 'embodies', 'embraces', 'emcee', 'emerald', 'emerge', 'emergencies', 'emergency', 'emergencysick', 'emerging', 'emissions', 'emotion', 'emotional', 'empanada', 'empanadas', 'empathetic', 'empathize', 'emperors', 'emphasis', 'emphasize', 'empire', 'employ', 'employed', 'employee', 'employees', 'employer', 'employers', 'employess', 'empowering', 'empress', 'empties', 'emptor', 'empty', 'emptying', 'emu', 'emulate', 'emulsion', 'en', 'enable', 'encased', 'encebollada', 'encebollado', 'enchalada', 'enchanted', 'enchanting', 'enchantment', 'enchilada', 'enchiladas', 'enclosed', 'encompass', 'encore', 'encounter', 'encountered', 'encounters', 'encourage', 'encouraged', 'encouragement', 'encouraging', 'encroaching', 'encrusted', 'end', 'endearing', 'endeavor', 'endeavors', 'ended', 'ending', 'endless', 'endlessly', 'endorse', 'endorsing', 'endovenera', 'ends', 'endure', 'endures', 'enemies', 'enemy', 'energetic', 'energized', 'energy', 'enforce', 'engage', 'engaged', 'engagement', 'engaging', 'engine', 'engine20l', 'engineering', 'england', 'english', 'engrossed', 'enhance', 'enigma', 'enigmatic', 'enjoy', 'enjoyable', 'enjoyably', 'enjoyed', 'enjoying', 'enjoyment', 'enjoys', 'enlarge', 'enlightened', 'enlightening', 'enlightenment', 'enormous', 'enotria', 'enough', 'enoughand', 'enraged', 'enrique', 'enrolled', 'ensalda', 'ensembles', 'ensenada', 'ensuing', 'ensure', 'ensured', 'ensuring', 'enter', 'entered', 'entering', 'enterprise', 'entertain', 'entertained', 'entertaining', 'entertainment', 'enthusiasm', 'enthusiast', 'enthusiastic', 'enthusiastically', 'enthusiasts', 'entice', 'enticement', 'enticing', 'entire', 'entirely', 'entitled', 'entity', 'entomologist', 'entrance', 'entre', 'entree', 'entreeprobably', 'entrees', 'entreesbut', 'entrepreneurial', 'entrepreneurs', 'entrepreneurship', 'entress', 'entries', 'entry', 'entrée', 'entrées', 'enuf', 'enveloped', 'envelopes', 'enviornment', 'enviroment', 'environment', 'environmental', 'environmentally', 'environs', 'envisioned', 'envy', 'epic', 'epically', 'epiphany', 'episode', 'epitome', 'eponymous', 'equal', 'equally', 'equals', 'equip', 'equipement', 'equipetc', 'equipment', 'equipped', 'equis', 'equivalent', 'er', 'era', 'erbe', 'eric', 'erica', 'erin', 'erins', 'eritrean', 'ernies', 'erosion', 'erotic', 'errant', 'error', 'errors', 'es', 'escalate', 'escape', 'escaped', 'escaping', 'escebeche', 'escentuals', 'escolar', 'esp', 'espana', 'esparza', 'especially', 'esplanade', 'espn', 'espresso', 'esquire', 'essence', 'essences', 'essential', 'essentially', 'essentials', 'essie', 'esspresso', 'established', 'establishement', 'establishing', 'establishment', 'establishments', 'estate', 'esteem', 'esthetician', 'estimate', 'estimated', 'estimates', 'estimation', 'estimator', 'estrella', 'et', 'eta', 'etc', 'etcetera', 'etcif', 'etcnot', 'etcof', 'eternally', 'eternity', 'eternityif', 'ether', 'ethics', 'ethier', 'ethiopia', 'ethiopian', 'ethnic', 'ethnically', 'etiennes', 'etiquette', 'etoufee', 'etouffee', 'etsy', 'eucalyptus', 'eugene', 'eugenia', 'euphoria', 'euphoric', 'euro', 'eurogames', 'europe', 'european', 'eurostandard', 'euthanize', 'euthanizing', 'evaluations', 'evaluative', 'evangers', 'evap', 'eve', 'even', 'evening', 'evenings', 'event', 'eventeven', 'events', 'eventspool', 'eventually', 'ever', 'everday', 'everespecially', 'everett', 'everever', 'everflowing', 'eversince', 'every', 'everybody', 'everybodys', 'everyday', 'everyday3', 'everyhthing', 'everynight', 'everyone', 'everyones', 'everysingleday', 'everything', 'everytime', 'everywhere', 'everyyyyy', 'eves', 'eveything', 'evident', 'evidently', 'evil', 'evoking', 'evolving', 'evoo', 'ew', 'ewe', 'eww', 'ewww', 'ewwww', 'ewwwwww', 'ex', 'exact', 'exacting', 'exactly', 'exactlyso', 'exagerating', 'exaggerating', 'exaggeration', 'exam', 'examination', 'examined', 'examining', 'example', 'examples', 'exams', 'exasperated', 'exceeded', 'exceeding', 'exceedingly', 'exceeds', 'excelent', 'excellence', 'excellent', 'excellente', 'excellently', 'except', 'exception', 'exceptionaaly', 'exceptional', 'exceptionally', 'exceptions', 'excess', 'excessive', 'excessively', 'exchange', 'exchanged', 'excite', 'excited', 'excitedly', 'excitement', 'exciting', 'exclaimed', 'exclaiming', 'exclamation', 'exclude', 'excluding', 'exclusive', 'exclusively', 'excoworker', 'excruciatingly', 'exctaly', 'excursion', 'excuse', 'excuses', 'execucar', 'execute', 'executed', 'execution', 'executive', 'exemplary', 'exercise', 'exercises', 'exfoliating', 'exfoliator', 'exhaust', 'exhausted', 'exhaustion', 'exhibit', 'exhibits', 'exhibitsi', 'exhs', 'exist', 'existed', 'existedafter', 'existence', 'existent', 'existing', 'exists', 'exit', 'exiting', 'exodus', 'exotic', 'expand', 'expanded', 'expanding', 'expands', 'expansion', 'expansions', 'expansive', 'expct', 'expecially', 'expect', 'expectaions', 'expectand', 'expectation', 'expectations', 'expected', 'expecting', 'expedite', 'expediting', 'expedition', 'expenive', 'expense', 'expenses', 'expensive', 'expereinces', 'experiece', 'experience', 'experiencebecause', 'experienced', 'experiencedthe', 'experienceeverything', 'experiencefirst', 'experiencei', 'experiences', 'experienceterrible', 'experiencing', 'experiens', 'experiment', 'experimental', 'expert', 'expertise', 'expertly', 'experts', 'expiration', 'expire', 'expires', 'explain', 'explaindefend', 'explained', 'explaining', 'explains', 'explanation', 'explanations', 'explode', 'exploded', 'exploding', 'exploit', 'explore', 'explored', 'exploring', 'explosion', 'expo', 'export', 'expos', 'expose', 'exposed', 'exposure', 'express', 'expressed', 'expression', 'expressions', 'exquisite', 'exsalonce', 'exspensive', 'extend', 'extended', 'extending', 'extension', 'extensive', 'extensively', 'extent', 'exterior', 'exterminator', 'external', 'extorting', 'extra', 'extract', 'extracted', 'extraction', 'extramile', 'extraordinarily', 'extraordinary', 'extras', 'extrasthe', 'extravaganza', 'extravaganzas', 'extreme', 'extremely', 'extremity', 'extremly', 'exude', 'exudes', 'eye', 'eyeball', 'eyeballing', 'eyeballs', 'eyebrow', 'eyebrows', 'eyecandy', 'eyecare', 'eyed', 'eyeing', 'eyeopening', 'eyes', 'eyesight', 'eyesore', 'eytans', 'ez', 'f724', 'fab', 'fable', 'fabric', 'fabricate', 'fabrics', 'fabulos', 'fabulous', 'fabulousness', 'fabulus', 'face', 'facebook', 'faced', 'facelift', 'faceplates', 'faces', 'facewow', 'facial', 'facials', 'faciatis', 'facilites', 'facilities', 'facility', 'facing', 'fact', 'factor', 'factories', 'factors', 'factory', 'facts', 'faded', 'fades', 'faggot', 'fags', 'fail', 'failed', 'failing', 'fails', 'failure', 'faint', 'faintly', 'fair', 'fairly', 'fairmont', 'fairness', 'fairtrade', 'fairway', 'fairways', 'fairy', 'fairytales', 'faith', 'faithful', 'faiths', 'fajita', 'fajitas', 'fajitasthe', 'fajito', 'fake', 'fakefalls', 'fakeness', 'fakville', 'falafel', 'falafels', 'fall', 'fallen', 'falling', 'fallout', 'falls', 'false', 'fame', 'famed', 'familiar', 'families', 'familiescouples', 'family', 'familyfriends', 'familyowned', 'familyrun', 'familys', 'familysize', 'familystyle', 'familythey', 'famished', 'famous', 'fan', 'fanatic', 'fanatical', 'fancier', 'fanciest', 'fancy', 'fancystyle', 'fandito', 'fans', 'fanstatic', 'fantabulous', 'fantasies', 'fantasize', 'fantasizing', 'fantastalistic', 'fantastic', 'fantastical', 'fantastically', 'fantasticalways', 'fantastiche', 'fantasticyumm', 'fantasy', 'far', 'farberware', 'fare', 'fargin', 'fargo', 'farm', 'farmed', 'farmer', 'farmers', 'farmhouse', 'farmland', 'farms', 'farnsworth', 'fart', 'farther', 'farthest', 'fascia', 'fascinated', 'fascinating', 'fascinations', 'fashion', 'fashionable', 'fashioned', 'fashions', 'fast', 'faster', 'fastest', 'fastfood', 'fastfriendlyfresh', 'fastish', 'fat', 'fatal', 'fatburger', 'fate', 'fatfat', 'fatfree', 'father', 'fatherinlaw', 'fathers', 'fathom', 'fats', 'fattening', 'fattie', 'fatty', 'faucets', 'fault', 'faultthere', 'faux', 'fauxcowboy', 'fauxcowboys', 'fav', 'fave', 'faves', 'favie', 'favor', 'favorable', 'favorably', 'favored', 'favorite', 'favorites', 'favoritethough', 'favorito', 'favors', 'favourite', 'favs', 'fawning', 'fax', 'faxed', 'faxes', 'fb', 'fck', 'fdown', 'fe', 'fear', 'feared', 'fearing', 'fears', 'feast', 'feasted', 'feasting', 'feat', 'feature', 'featured', 'features', 'featuring', 'feb', 'febuary', 'feces', 'fed', 'feddys', 'federal', 'fedex', 'feds', 'fee', 'feed', 'feedback', 'feeders', 'feeding', 'feeds', 'feel', 'feelgood', 'feeling', 'feelings', 'feellook', 'feels', 'feenin', 'fees', 'feet', 'feiends', 'feigned', 'feist', 'felines', 'felipes', 'fell', 'fellas', 'feller', 'fellow', 'felt', 'feltand', 'female', 'fence', 'fenced', 'fences', 'fender', 'feng', 'fennel', 'fermentated', 'fermented', 'fermier', 'fernidad', 'ferns', 'ferrari', 'ferrits', 'fertility', 'fervor', 'fes', 'fest', 'festival', 'festivals', 'festive', 'festivities', 'fet', 'feta', 'fetash', 'fetch', 'fetoosh', 'fetta', 'fettuccine', 'fettucine', 'fettucini', 'fetzer', 'feuille', 'fever', 'fewer', 'fez', 'fezs', 'ff', 'fh', 'fiance', 'fiancee', 'fiances', 'fiancé', 'fibbertygibbet', 'ficticious', 'fiction', 'fiddlers', 'fides', 'field', 'fieldincluding', 'fields', 'fiend', 'fierce', 'fiercely', 'fiery', 'fiesta', 'fifteen', 'fifth', 'fiftysomething', 'fig', 'fight', 'fighters', 'fighting', 'fights', 'figs', 'figuratively', 'figure', 'figured', 'figures', 'figuring', 'file', 'filed', 'filepes', 'files', 'filet', 'filetofish', 'filets', 'filibertos', 'filibertosumbertosrobertosernie', 'filing', 'filings', 'filipino', 'filipinomexican', 'fill', 'filled', 'fillednot', 'filler', 'fillet', 'fillets', 'filling', 'fillingi', 'fillingicing', 'fillings', 'fills', 'fillybs', 'film', 'filmed', 'films', 'filmy', 'filter', 'filth', 'filthy', 'fin', 'final', 'finale', 'finally', 'finalmente', 'finals', 'finance', 'financial', 'financially', 'find', 'finding', 'findings', 'finds', 'findslike', 'fine', 'finebut', 'finedining', 'finei', 'fineill', 'finely', 'finenot', 'finer', 'fines', 'finesse', 'finest', 'fing', 'finger', 'fingerling', 'fingernails', 'fingerprint', 'fingerprinting', 'fingerprints', 'fingers', 'fingertip', 'fingertipsincluding', 'finish', 'finished', 'finishes', 'finishing', 'finnaly', 'fiorellas', 'fire', 'firearm', 'firearms', 'firebird', 'fired', 'firefly', 'fireinthebungholio', 'firemen', 'firepit', 'firepits', 'fireplace', 'fireplaces', 'fires', 'firestone', 'firewood', 'fireworks', 'firey', 'firing', 'firm', 'firmdipbite', 'firmer', 'firmly', 'first', 'firsthand', 'firstly', 'firsttime', 'fish', 'fisherman', 'fishers', 'fishheads', 'fishing', 'fishy', 'fist', 'fists', 'fit', 'fitcenter', 'fitness', 'fits', 'fitted', 'fitter', 'fitting', 'fitzgerald', 'five', 'fived', 'fives', 'fivestars', 'fix', 'fixa', 'fixable', 'fixated', 'fixed', 'fixie', 'fixing', 'fixings', 'fixingsmmmmmmmm', 'fixins', 'fixinsthe', 'fixtures', 'fk', 'flag', 'flagged', 'flagging', 'flagstaff', 'flair', 'flake', 'flaked', 'flakes', 'flakey', 'flaky', 'flambeed', 'flame', 'flamebroiled', 'flamed', 'flamenco', 'flaming', 'flan', 'flank', 'flanked', 'flannel', 'flap', 'flare', 'flash', 'flashback', 'flashbacks', 'flashed', 'flashfried', 'flashing', 'flashlight', 'flashlights', 'flask', 'flat', 'flatbread', 'flatbreads', 'flatiron', 'flatout', 'flatscreen', 'flattened', 'flatter', 'flautas', 'flautasrolled', 'flaverful', 'flavor', 'flavored', 'flavorful', 'flavorgasm', 'flavoring', 'flavorlemonthat', 'flavorless', 'flavorlesserrthats', 'flavors', 'flavorseating', 'flavorso', 'flavorsodium', 'flavortexture', 'flavour', 'flawjtha', 'flawless', 'flaws', 'flee', 'fleet', 'fleming', 'flemings', 'flemmingsery', 'flew', 'flexed', 'flexibility', 'flexible', 'flick', 'flicked', 'flier', 'fliers', 'flies', 'flight', 'flights', 'flimsiest', 'flimsy', 'flintstones', 'flip', 'flipflops', 'flippant', 'flipped', 'flipper', 'flipstick', 'flirt', 'flirting', 'flirtini', 'float', 'floating', 'flock', 'flocking', 'flooded', 'flooding', 'floor', 'floored', 'flooring', 'floors', 'flops', 'flora', 'floral', 'florals', 'florences', 'florentine', 'florescent', 'florets', 'florida', 'floridinos', 'florist', 'flos', 'flossing', 'flour', 'flourished', 'flourishes', 'flourishing', 'flourless', 'flours', 'flow', 'flowed', 'flower', 'flowering', 'flowers', 'flowindeed', 'flowing', 'flown', 'flu', 'fluent', 'fluff', 'fluffed', 'fluffiness', 'fluffy', 'fluffyits', 'fluffytheyll', 'fluke', 'flummoxed', 'fluorescent', 'flushed', 'flushes', 'flushing', 'flustered', 'flute', 'fluttering', 'fluttery', 'flw', 'flws', 'fly', 'flyer', 'flyers', 'flying', 'flyoverstateswhitefolk', 'fn', 'fnb', 'fo', 'foam', 'foamed', 'foamy', 'fob', 'focaccia', 'focal', 'foccacia', 'foced', 'focus', 'focused', 'focusedshes', 'focuses', 'focusing', 'fodder', 'fogo', 'foi', 'foie', 'foil', 'fold', 'folded', 'folding', 'folk', 'folks', 'folks600', 'folksgo', 'follow', 'followed', 'followers', 'following', 'follows', 'followup', 'fond', 'fonda', 'fondant', 'fondest', 'fondu', 'fondue', 'fondues', 'fontina', 'fonts', 'foo', 'food', 'foodaholic', 'foodappstry', 'foodcoffee', 'fooddeliverer', 'fooddrinks', 'foodgreat', 'foodhave', 'foodhealth', 'foodie', 'foodies', 'foodit', 'foodjust', 'foodlike', 'foodnet', 'foodnot', 'foodprobably', 'foods', 'foodsafe', 'foodso', 'foodstuffs', 'foodthe', 'foodwise', 'foody', 'fooey', 'foofy', 'fool', 'fooled', 'fooling', 'foolish', 'foolishly', 'fools', 'foosball', 'foot', 'footage', 'football', 'foothill', 'foothills', 'footlong', 'footlongs', 'footnote', 'footprint', 'foraged', 'foray', 'forbes', 'forbidden', 'force', 'forced', 'forcing', 'ford', 'forearms', 'foreign', 'foreigner', 'foremost', 'foresee', 'forest', 'forever', 'forewarned', 'forgave', 'forget', 'forgettable', 'forgetting', 'forgivable', 'forgive', 'forgiving', 'forgo', 'forgot', 'forgotten', 'forheck', 'fork', 'forks', 'forktender', 'form', 'formal', 'format', 'formation', 'formations', 'formative', 'formed', 'former', 'formerly', 'formidable', 'forming', 'forms', 'formula', 'formulaic', 'fornaio', 'forno', 'forsaken', 'forth', 'forthcoming', 'forts', 'fortunate', 'fortunately', 'fortune', 'forty', 'fortyfive', 'forvever', 'forward', 'forwarded', 'forwarding', 'fossil', 'foster', 'foul', 'fould', 'foulest', 'found', 'foundation', 'founded', 'founder', 'founderchef', 'fountain', 'fountains', 'four', 'fourfooted', 'foursome', 'fourstars', 'fourteen', 'fourth', 'fourtherly', 'fourtop', 'fouryearold', 'fowarding', 'fowl', 'fox', 'foxes', 'foxrc', 'foxy', 'foyer', 'fraction', 'frag', 'fragrance', 'fraiche', 'frail', 'frame', 'framed', 'frames', 'fran', 'france', 'frances', 'francesca', 'franchise', 'franchises', 'francis', 'franciscan', 'francisco', 'franco', 'frangipane', 'frank', 'frankfurters', 'frankly', 'franks', 'frantic', 'frantically', 'frappacino', 'frappes', 'frappuccino', 'frat', 'fray', 'frazzeling', 'fraîche', 'freak', 'freaked', 'freaken', 'freakin', 'freaking', 'freaky', 'fred', 'freddie', 'freddy', 'freddys', 'freds', 'free', 'freedom', 'freeevery', 'freerange', 'freeriding', 'freestanding', 'freeway', 'freeze', 'freezer', 'freezerburned', 'freezing', 'freind', 'freindly', 'french', 'frenched', 'frenchenglish', 'frenchfry', 'frenchfryshaped', 'frenchgreeksame', 'frenetic', 'frenzy', 'frequent', 'frequented', 'frequenting', 'frequently', 'frequents', 'fresca', 'frescas', 'fresco', 'frescoed', 'frescolina', 'fresh', 'freshbaked', 'freshened', 'freshener', 'fresher', 'freshest', 'fresheverything', 'freshgrated', 'freshly', 'freshlymade', 'freshlyroasted', 'freshmade', 'freshman', 'freshness', 'freshsqueezed', 'freshthanks', 'freshthis', 'freshwater', 'fret', 'freud', 'fri', 'fricase', 'frickin', 'frida', 'friday', 'fridaydinnerout', 'fridays', 'fridge', 'fridges', 'fried', 'friend', 'friendlier', 'friendliest', 'friendliness', 'friendly', 'friends', 'friendsfamilykids', 'friendship', 'fries', 'friessoda', 'friggin', 'frigging', 'fright', 'frighten', 'frightened', 'frijoles', 'frills', 'frings', 'frisbee', 'frisco', 'frita', 'fritas', 'fritatta', 'frites', 'frito', 'frittata', 'frittatas', 'fritters', 'fritti', 'fritto', 'fro', 'frogger', 'frogs', 'fromage', 'frommy', 'fromthe', 'front', 'frontdesk', 'fronti', 'frontiers', 'frontline', 'frontrow', 'froo', 'froshy', 'frost', 'frosted', 'frosting', 'frostingpiled', 'frostings', 'frosty', 'froth', 'frothing', 'frothy', 'froufrou', 'frown', 'froyo', 'froze', 'frozen', 'frozenthenmicrowaved', 'frquently', 'fru', 'fructose', 'frugal', 'frugle', 'fruit', 'fruits', 'fruity', 'frustrate', 'frustrated', 'frustrating', 'frustration', 'frustrations', 'fry', 'frybread', 'fryer', 'frying', 'frypieces', 'frys', 'frysback', 'fryshells', 'ft', 'ftw', 'fubar', 'fuck', 'fucked', 'fuckhead', 'fuckin', 'fucking', 'fucks', 'fuckyou', 'fuct', 'fuddburger', 'fuddruckers', 'fudge', 'fuego', 'fuel', 'fueling', 'fuh', 'fuji', 'fujiwara', 'fujiya', 'fujiyas', 'fulfill', 'fulfilling', 'full', 'fulla', 'fullest', 'fulling', 'fulls', 'fullservice', 'fullsize', 'fullsized', 'fully', 'fullyou', 'fumes', 'fuming', 'fun', 'funcreative', 'function', 'functional', 'functionality', 'fund', 'fundido', 'funding', 'fundito', 'fundraiser', 'fundraising', 'funds', 'fungi', 'fungus', 'funk', 'funky', 'funnel', 'funner', 'funniest', 'funny', 'funnyentertaining', 'funprofessional', 'funsports', 'furious', 'furnace', 'furnish', 'furnished', 'furnishings', 'furniture', 'furnituredated', 'furrowed', 'furry', 'furthermore', 'fury', 'fuse', 'fuses', 'fusion', 'fuss', 'fussed', 'fussy', 'future', 'futuristic', 'fuzzy', 'fw', 'fwd', 'fyi', 'g37', 'gabe', 'gabi', 'gabriel', 'gadgets', 'gadsden', 'gaeta', 'gag', 'gaga', 'gai', 'gain', 'gained', 'gainey', 'gaining', 'gak', 'gal', 'galbi', 'galbut', 'gall', 'galleries', 'gallery', 'galleryand', 'gallina', 'gallo', 'gallon', 'gallons', 'galore', 'gals', 'galze', 'gambas', 'gamble', 'gamblers', 'gambling', 'game', 'gameand', 'gamers', 'games', 'gamesthey', 'gaming', 'gammage', 'ganache', 'gang', 'gangly', 'gangplank', 'ganoosh', 'ganouj', 'ganoush', 'gansitos', 'gap', 'garage', 'garbage', 'garbonzo', 'garces', 'garcia', 'garden', 'gardeners', 'gardengrow', 'gardening', 'gardens', 'gardeny', 'gardinn', 'garfield', 'gargantuan', 'garlands', 'garlic', 'garlicherb', 'garlicky', 'garlickyspicy', 'garlictype', 'garmin', 'garner', 'garnish', 'garnished', 'garnishes', 'garnishing', 'garsh', 'gary', 'gas', 'gasket', 'gasoline', 'gasping', 'gastrique', 'gastronomic', 'gastronomical', 'gastronomy', 'gastropub', 'gate', 'gates', 'gateway', 'gather', 'gathered', 'gathering', 'gator', 'gatos', 'gauc', 'gaudy', 'gauge', 'gauzy', 'gave', 'gavin', 'gawking', 'gay', 'gaylee', 'gaze', 'gazillion', 'gazing', 'gazpacho', 'ge', 'gear', 'gearing', 'geasy', 'gee', 'geek', 'geeks', 'geezerados', 'geisha', 'gel', 'gelati', 'gelatin', 'gelatinous', 'gelatis', 'gelato', 'gelatosorbet', 'gelish', 'gellato', 'gelleto', 'gels', 'gem', 'gems', 'gender', 'genders', 'gene', 'general', 'generally', 'generals', 'generate', 'generation', 'generations', 'generic', 'generious', 'generous', 'generously', 'genes', 'genetically', 'genevese', 'genin', 'genius', 'genre', 'genres', 'gentle', 'gentleman', 'gentlemans', 'gentlemen', 'gently', 'gents', 'genuine', 'genuinely', 'george', 'georges', 'georgia', 'georgie', 'geranios', 'germain', 'german', 'germany', 'germs', 'gerri', 'gerry', 'gesture', 'get', 'getaway', 'gets', 'getsperiod', 'gettin', 'getting', 'gf', 'gfs', 'ghetto', 'ghirardelli', 'ghost', 'ghostly', 'ghosts', 'giant', 'giants', 'giantsdiamondbacks', 'giardinara', 'giardiniera', 'gift', 'giftcards', 'gifts', 'giftsdecoration', 'gig', 'gigantic', 'giggle', 'gil', 'gila', 'gilbert', 'gilda', 'gills', 'gils', 'gimlet', 'gimme', 'gimmick', 'gimmicks', 'gimmicky', 'gin', 'gina', 'ginandtonic', 'ginger', 'gingerbread', 'gingerbreadoh', 'ginhound', 'ginormous', 'gio', 'giorno', 'giraffes', 'girdle', 'girl', 'girlfirned', 'girlfriend', 'girlfriends', 'girls', 'girlsand', 'girlswe', 'girly', 'girth', 'giseling', 'giselle', 'gist', 'giu', 'giuseppe', 'giuseppes', 'give', 'giveing', 'given', 'giver', 'gives', 'giving', 'glacier', 'glad', 'gladly', 'glam', 'glamorous', 'glamour', 'glance', 'glanced', 'glands', 'glare', 'glaring', 'glass', 'glassblowing', 'glassbut', 'glasses', 'glassware', 'glasswares', 'glassyeyed', 'glaze', 'glazed', 'gleaming', 'glee', 'glen', 'glendale', 'glendales', 'glib', 'glibert', 'glimpse', 'glistening', 'glitches', 'glitter', 'glitterific', 'glitters', 'glittery', 'global', 'globalpisecurity', 'globo', 'glom', 'glop', 'gloria', 'glorias', 'glories', 'glorified', 'glorious', 'glory', 'glosses', 'glossy', 'glove', 'gloves', 'gloveshis', 'glow', 'glowing', 'glows', 'glued', 'gluten', 'glutenfilled', 'glutenfree', 'glutenfreesure', 'glutten', 'glutton', 'gluttonous', 'gluttony', 'gm', 'gmos', 'gnarlywhich', 'gnat', 'gnocchi', 'go', 'goal', 'goalie', 'goals', 'goat', 'goats', 'goaz', 'gobble', 'gobbled', 'gobi', 'gobs', 'god', 'goddamn', 'goddess', 'godfather', 'godiva', 'gods', 'godthe', 'goer', 'goers', 'goes', 'goesi', 'goesthe', 'gogo', 'goi', 'going', 'goings', 'goingyes', 'gokatgo', 'gold', 'golden', 'golds', 'goldwater', 'goldwell', 'golf', 'golfcarted', 'golfer', 'golfers', 'golfing', 'goliath', 'gomen', 'gomers', 'gon', 'gone', 'gonepermanently', 'gong', 'gonna', 'gonzales', 'goo', 'goober', 'goobye', 'good', 'goodand', 'goodbye', 'goodcents', 'goodcertainly', 'goodeven', 'goodeveryone', 'goodi', 'goodies', 'goodif', 'goodlooking', 'goodnatured', 'goodness', 'goodnight', 'goodnothing', 'goodor', 'goodregardlesswhich', 'goods', 'goodshe', 'goodsmothered', 'goodsprinkled', 'goodthe', 'goodthen', 'goodthis', 'goodwill', 'goody', 'goodyear', 'goodytwos', 'gooey', 'goof', 'goofing', 'goofy', 'google', 'googled', 'googling', 'goona', 'goood', 'goooood', 'gooooooood', 'gooooooooodness', 'goose', 'goosebumps', 'gooydefinately', 'gordo', 'gordon', 'goregous', 'gorganzola', 'gorge', 'gorgeous', 'gorgonzola', 'gosh', 'goshawfulgooey', 'gospel', 'gossip', 'gossiping', 'got', 'gothic', 'goto', 'gots', 'gotta', 'gotten', 'gotter', 'gouda', 'gouged', 'gourmet', 'government', 'governor', 'gowell', 'gown', 'gowns', 'gowshrimp', 'gpa', 'gps', 'gr8', 'grab', 'grabbed', 'grabbing', 'grace', 'graced', 'gracious', 'graciously', 'graciousness', 'grad', 'grade', 'graders', 'grades', 'gradual', 'graduate', 'graduated', 'graduation', 'grady', 'gradys', 'graffenberg', 'graham', 'grahm', 'grain', 'grainfree', 'grains', 'grainy', 'grand', 'grandad', 'grandchildren', 'granddaddy', 'granddaughter', 'grande', 'grandfather', 'grandiose', 'grandma', 'grandmagrandpa', 'grandmas', 'grandmother', 'grandmothers', 'grandpa', 'grandparents', 'grandson', 'granite', 'granny', 'granola', 'granolay', 'granolayogurtfruit', 'granted', 'grape', 'grapefruit', 'grapes', 'graphically', 'graphics', 'grappa', 'gras', 'grasp', 'grass', 'grasses', 'grassfed', 'grassroots', 'grassy', 'grateful', 'gratefully', 'grates', 'gratifyingi', 'gratin', 'gratis', 'gratitude', 'gratuitus', 'gratuity', 'gratzi', 'grave', 'gravel', 'gravelly', 'graveyard', 'gravity', 'gravlax', 'gravy', 'gravylike', 'gravypancakestoast', 'gravywhat', 'gravyyou', 'gray', 'grayhawk', 'grazie', 'grazing', 'grease', 'greasepaint', 'greasewood', 'greasiest', 'greasy', 'great', 'greatdont', 'greater', 'greatest', 'greatfriendly', 'greatgenerous', 'greatgrandparents', 'greati', 'greatjust', 'greatly', 'greatness', 'greatso', 'greattasting', 'greatthe', 'greatthey', 'greatwe', 'greece', 'greed', 'greedy', 'greeeeeeat', 'greek', 'greekstyle', 'green', 'greenbelt', 'greene', 'greenhow', 'greens', 'greenville', 'greenway', 'greenwayhayden', 'greet', 'greeted', 'greeting', 'greetings', 'greets', 'greg', 'gregarious', 'grelichs', 'grenache', 'greta', 'grew', 'grey', 'griddle', 'griddled', 'grief', 'grigio', 'grill', 'grilland', 'grille', 'grilled', 'griller', 'grilling', 'grillingcooking', 'grills', 'grillyou', 'grimaldis', 'grimaldisbut', 'grimiest', 'grin', 'grind', 'grinda', 'grinded', 'grinder', 'grinders', 'grinding', 'gringa', 'gringas', 'gringos', 'grinning', 'gripe', 'gripeing', 'gripes', 'griping', 'gris', 'gristle', 'gristly', 'grit', 'grits', 'gritsive', 'gritted', 'gritty', 'groaning', 'grocer', 'groceries', 'grocery', 'groingrabbingly', 'groom', 'groomed', 'groomer', 'groomers', 'grooming', 'grooping', 'groovy', 'gross', 'grossbut', 'grossed', 'grossest', 'grossout', 'grossthe', 'grotown', 'ground', 'grounds', 'group', 'groupie', 'grouping', 'groupon', 'grouponers', 'groupons', 'groups', 'groupwork', 'grousing', 'grove', 'groves', 'grow', 'growersfarmerssupport', 'growing', 'growl', 'growled', 'growler', 'growlers', 'growling', 'growls', 'grown', 'grownups', 'grows', 'growth', 'grr', 'grrr', 'grub', 'grubbiest', 'grudge', 'grumbling', 'grumpy', 'grunts', 'gruyere', 'gryos', 'grâce', 'gs', 'gs3', 'gspot', 'gspotgrapefruit', 'gspots', 'gtfo', 'guac', 'guacamole', 'guacomole', 'guadalupe', 'guangdong', 'guarantee', 'guaranteed', 'guard', 'guardians', 'guards', 'gucci', 'guedos', 'guenther', 'guerreros', 'guess', 'guessed', 'guessing', 'guest', 'guests', 'guide', 'guided', 'guidelines', 'guides', 'guiding', 'guido', 'guild', 'guilt', 'guiltfree', 'guiltily', 'guilty', 'guiness', 'guinness', 'guissepes', 'guitar', 'guitars', 'gulf', 'gulp', 'gum', 'gumbo', 'gumline', 'gummi', 'gummie', 'gummitgit', 'gummy', 'gums', 'gun', 'gunkan', 'gunked', 'gunna', 'gunny', 'guns', 'gurl', 'gurtude', 'gurus', 'gush', 'gushing', 'gushy', 'gusta', 'gusting', 'gusto', 'gut', 'gutbusting', 'guts', 'gutsy', 'gutted', 'gutting', 'guy', 'guys', 'guysgirls', 'guysjames', 'gw', 'gym', 'gymboree', 'gymnastics', 'gyms', 'gymsi', 'gyn', 'gynormous', 'gynormus', 'gyoza', 'gyrating', 'gyro', 'gyros', 'gyrotogo', 'h20', 'h2o', 'ha', 'haagen', 'habanero', 'habaneros', 'habenaro', 'habenero', 'habit', 'habits', 'haboob', 'hacienda', 'hacked', 'hacky', 'hadan', 'haddefinitely', 'haddock', 'hadit', 'hadnt', 'hadso', 'hagard', 'hagen', 'haha', 'hahahahaha', 'hahn', 'haiku', 'hail', 'hailed', 'hair', 'haircot', 'haircut', 'haircuts', 'haircutvery', 'hairdresser', 'haired', 'hairless', 'hairs', 'hairy', 'haji', 'hajis', 'hakata', 'haley', 'half', 'halfblackened', 'halfday', 'halfempty', 'halfexpected', 'halfhalf', 'halfindoor', 'halfmarathon', 'halfmoppinghalfattemptingtoclean', 'halfnaked', 'halfprice', 'halfway', 'halibut', 'halibutswordfishmiso', 'hall', 'halley', 'hallmark', 'halloween', 'halls', 'hallway', 'hallways', 'halo', 'halogens', 'ham', 'hamachi', 'hamburger', 'hamburgers', 'hamburgessa', 'hamiltonbeach', 'hammered', 'hamper', 'hampshire', 'hampton', 'hamwow', 'hana', 'hancock', 'hand', 'handbag', 'handbags', 'handcream', 'handcut', 'handed', 'handedly', 'handful', 'handheld', 'handi', 'handicappers', 'handing', 'handiwork', 'handkerchiefs', 'handle', 'handlebar', 'handled', 'handles', 'handling', 'handmade', 'handrails', 'hands', 'handsdown', 'handshake', 'handsome', 'handsomely', 'handson', 'handwritten', 'handy', 'handyman', 'hanede', 'haneys', 'hang', 'hangars', 'hanger', 'hanging', 'hangout', 'hangover', 'hangovers', 'hangs', 'hank', 'hankering', 'hannah', 'hannys', 'hansen', 'hansons', 'haphazardly', 'haphazzard', 'happen', 'happened', 'happenin', 'happening', 'happens', 'happhazardly', 'happier', 'happiest', 'happily', 'happiness', 'happy', 'happygolucky', 'har', 'harass', 'harassed', 'harassing', 'harassment', 'harbor', 'harborunless', 'hard', 'hardboiled', 'hardcore', 'hardcovers', 'hardened', 'harder', 'harderand', 'hardest', 'hardfought', 'hardly', 'hardpressed', 'hardtofind', 'hardware', 'hardwood', 'hardworking', 'hardy', 'harissa', 'harkins', 'harlequin', 'harley', 'harm', 'harmful', 'harmonies', 'harmony', 'harolds', 'harp', 'harping', 'harried', 'harris', 'harry', 'harsh', 'harshit', 'harshness', 'hart', 'haru', 'harvest', 'harvil', 'harvils', 'hash', 'hashbrowns', 'hashtagging', 'hasnt', 'hassle', 'hassled', 'hasslefree', 'hastily', 'hasty', 'hat', 'hatch', 'hate', 'hated', 'hateful', 'hatefulso', 'hatenot', 'hates', 'hatha', 'hating', 'hats', 'haul', 'hauled', 'haunt', 'haunted', 'haunts', 'haupiafilled', 'haus', 'hava', 'havana', 'havarti', 'havebecause', 'havehad', 'havehe', 'havent', 'havnt', 'havoc', 'hawaii', 'hawaiian', 'hay', 'hayashi', 'hayden', 'hayride', 'hazelnut', 'hazelnuts', 'haüs', 'hbo', 'hcg', 'hd', 'head', 'headache', 'headaches', 'headcheek', 'headed', 'headfirst', 'heading', 'headphones', 'headquarters', 'heads', 'headset', 'headsplitting', 'heady', 'heafty', 'heal', 'healed', 'healer', 'healing', 'heals', 'health', 'healthcare', 'healthconscious', 'healthful', 'healthhygiene', 'healthier', 'healthiest', 'healthy', 'healthydelicious', 'healthyish', 'heap', 'heaping', 'heaps', 'hear', 'heard', 'hearing', 'hearingimpaired', 'hears', 'heart', 'heartbeat', 'heartbroken', 'heartburn', 'hearted', 'heartedly', 'heartfelt', 'hearth', 'hearts', 'heartworm', 'hearty', 'heat', 'heated', 'heater', 'heaters', 'heath', 'heathens', 'heather', 'heating', 'heatnothing', 'heatviagra', 'heaven', 'heavenit', 'heavenly', 'heavenlyincredibly', 'heavens', 'heaviest', 'heavily', 'heavy', 'heavyoily', 'heavysweet', 'hebrew', 'heck', 'heckling', 'heckthey', 'hectic', 'hector', 'hed', 'hedge', 'heed', 'heehee', 'heel', 'heelbut', 'heels', 'hefe', 'hefeweizen', 'heff', 'heft', 'hefty', 'hegel', 'heh', 'hehehe', 'heidelberg', 'height', 'heightened', 'heinous', 'heinritz', 'heinz', 'heirloom', 'held', 'helen', 'helicopters', 'hell', 'hellava', 'hellish', 'hellllllllo', 'helllllltotheno', 'hello', 'helloits', 'hells', 'helm', 'helmet', 'helmets', 'help', 'helped', 'helpers', 'helpful', 'helpfuland', 'helpfull', 'helpfulness', 'helpfulrene', 'helpfulthe', 'helping', 'helpless', 'helps', 'helstrom', 'hem', 'hematoma', 'hemet', 'hemmed', 'hemroid', 'hen', 'hence', 'henckels', 'hens', 'hep', 'herb', 'herbal', 'herbbutter', 'herbed', 'herberger', 'herbs', 'herbvegetable', 'herd', 'here5', 'hereand', 'hereat', 'herebertos', 'hereby', 'herediarrhea', 'herefor', 'herei', 'herelunch', 'hereno', 'heres', 'herethank', 'herethe', 'herethis', 'herethought', 'herhis', 'heritage', 'herme', 'hernan', 'hernandez', 'hero', 'heroes', 'herring', 'herselfand', 'hersheys', 'hertz', 'hes', 'heshe', 'hesistant', 'hesitant', 'hesitantly', 'hesitate', 'hesitated', 'hesitation', 'hey', 'heyday', 'heymaybe', 'hh', 'hi', 'hiatus', 'hibachi', 'hiccup', 'hick', 'hickish', 'hicks', 'hickups', 'hid', 'hidden', 'hide', 'hideaway', 'hideawayall', 'hiden', 'hideous', 'hideout', 'hides', 'hideway', 'hiding', 'hifi', 'high', 'highbacked', 'highcaliber', 'highcalorie', 'highchair', 'highend', 'higher', 'highest', 'highgas', 'highland', 'highlight', 'highlighting', 'highlights', 'highlightsshe', 'highly', 'highlymemorable', 'highlyresponsive', 'highpitched', 'highpriced', 'highquality', 'highrise', 'highrisk', 'highs', 'highschool', 'highschoolers', 'hight', 'hightech', 'hightops', 'highway', 'highways', 'hike', 'hikeand', 'hiked', 'hikers', 'hikes', 'hiking', 'hilarious', 'hilariously', 'hilary', 'hill', 'hillard', 'hillier', 'hills', 'hillstone', 'hillstones', 'hilo', 'hilton', 'himalayan', 'himherself', 'himwell', 'hindering', 'hint', 'hints', 'hip', 'hiphop', 'hipper', 'hippie', 'hippieland', 'hippies', 'hippieshipsters', 'hippness', 'hippy', 'hipster', 'hipsterness', 'hipsters', 'hipstertrendy', 'hipstery', 'hire', 'hired', 'hires', 'hiring', 'hiro', 'hisherself', 'hispanic', 'historic', 'historical', 'history', 'hit', 'hitch', 'hitchin', 'hitlist', 'hitormiss', 'hits', 'hitting', 'hitup', 'hkgb', 'hkguangdong', 'hm', 'hmm', 'hmmm', 'hmmmm', 'hmmmmm', 'hmmmmmm', 'hmmmmmmm', 'hmmmthe', 'hmmph', 'hnnngffff', 'ho', 'hoa', 'hoagies', 'hoan', 'hob', 'hobbies', 'hobby', 'hoboken', 'hobos', 'hockey', 'hocks', 'hodgepodge', 'hoegaarden', 'hoffman', 'hog', 'hogie', 'hogs', 'hogwarts', 'hohum', 'hoikey', 'hoisted', 'hokokum', 'hold', 'holdem', 'holder', 'holders', 'holding', 'holds', 'hole', 'holeinarundownstripmall', 'holeintherock', 'holeinthewall', 'holes', 'holey', 'holiday', 'holidays', 'holistic', 'hollandaise', 'hollendaise', 'holly', 'hollywood', 'holmes', 'holocaust', 'holy', 'holyshit', 'homage', 'home', 'homeand', 'homecooked', 'homefries', 'homefriesthey', 'homei', 'homeless', 'homemade', 'homemadealso', 'homemademeatball', 'homemake', 'homeopathic', 'homer', 'homerun', 'homes', 'homestyle', 'homethey', 'hometown', 'homework', 'homey', 'homies', 'hominy', 'homogenized', 'homophobia', 'homosexuals', 'homous', 'honda', 'honduras', 'hone', 'honed', 'honeslty', 'honest', 'honesteven', 'honestly', 'honestlypanda', 'honesty', 'honey', 'honeycomb', 'honeydipped', 'honeymoon', 'hong', 'honked', 'honor', 'honorable', 'honored', 'honoring', 'honors', 'hoo', 'hood', 'hoodlums', 'hoods', 'hook', 'hookah', 'hooked', 'hookers', 'hooks', 'hooligan', 'hooligans', 'hoooorray', 'hoopla', 'hooray', 'hoosiers', 'hooters', 'hootsuite', 'hop', 'hope', 'hoped', 'hopeful', 'hopefully', 'hopes', 'hopi', 'hoping', 'hopital', 'hopno', 'hopped', 'hoppin', 'hopping', 'hoppins', 'hops', 'hopshot', 'horatio', 'horchata', 'horizon', 'hormonally', 'hormone', 'hormones', 'horns', 'horrendous', 'horrible', 'horribleno', 'horribly', 'horrid', 'horrific', 'horrifically', 'horrified', 'horror', 'horse', 'horseback', 'horseradish', 'horses', 'horseshoes', 'horshradish', 'horwitz', 'hose', 'hospitable', 'hospital', 'hospitality', 'hospitallike', 'hospitals', 'host', 'hostage', 'hosted', 'hostess', 'hostesses', 'hostessownermanager', 'hostile', 'hosting', 'hosts', 'hostshostesses', 'hot', 'hotandsour', 'hotdog', 'hotdogs', 'hotdogswhat', 'hotel', 'hotelrestaurantbar', 'hotels', 'hotin', 'hotnready', 'hotoffthegrill', 'hotpeople', 'hotplate', 'hotpot', 'hots', 'hotspot', 'hotspots', 'hotter', 'hottest', 'hottie', 'hotties', 'hotttt', 'hotwings', 'hotwire', 'hotziki', 'hound', 'hounding', 'hour', 'hourguarantee', 'hourlong', 'hournever', 'hourof', 'houron', 'hourplus', 'hours', 'hoursbut', 'hourwhich', 'house', 'houseblend', 'housed', 'household', 'househunting', 'housekeeping', 'housemade', 'houseorbuild', 'houses', 'housesitter', 'houseturnedrestaurant', 'housewares', 'housewhipped', 'housewife', 'houston', 'houstons', 'hover', 'hovered', 'hovering', 'howard', 'howdy', 'howell', 'however', 'howl', 'hows', 'hr', 'hrs', 'hrt', 'hs', 'htc', 'httpcidseengineeringasuedu', 'httpenwikipediaorgwikiburrata', 'httpessencebakerycomessencebakeryenvironmentallyfriendlyshtml', 'httpinteractiveasueduqhom', 'httpmonkeywonderlandcomblog', 'httpnewcollegeasueduharcsdegreesmajorsinterdisciplinaryartsandperformanceprogram', 'httpnewcollegeasuedumnsdegreescomputingappliedcomputingprogram', 'httpphoenixgovbndmapsindexhtml', 'httpphoenixorgwpcontentuploads201004camelbackmountaintrailheadoverflowparkingpng', 'httpschmoozeazcomblogp680', 'httptinyurlcombnd5erj', 'httptinyurlcomc785ykr', 'httptinyurlcomc7pkagm', 'httptinyurlcomc7zwftv', 'httptinyurlcomca765ua', 'httptinyurlcomcmtkood', 'httptinyurlcomcspjnfm', 'httptlivingsocialcomdeals453990refemailjprpi85154658', 'httpwwwautismcenterorgdefaultaspx', 'httpwwwazpbsorgcheckplease', 'httpwwwbadmouthnetinnoutssecretmenu', 'httpwwwbbfwcom', 'httpwwwchristophersazcom', 'httpwwwcraigslistorgaboutbesthtf755891987html', 'httpwwwdoggiestepsdogtrainingcom', 'httpwwwflickrcompeopletysoncrosbie', 'httpwwwflickrcomphotosryno4113416766', 'httpwwwfourpeakscom', 'httpwwwhalorescueorgindexhtml', 'httpwwwinnoutcomsecretmenuasp', 'httpwwwlocalfirstazcomfallfestival', 'httpwwwphoenixcitygrillecom', 'httpwwwpizzeriabiancocom', 'httpwwwrestaurantcom', 'httpwwwtexasburgerguycom20050116xtrapattiesandxtracheeseshtml', 'httpwwwultrastarmoviescomparentmoviemorningasp', 'httpwwwyelpcombizlagrandeorangegroceryphoenixhrid4cxbhzxxtmexf9krjmfviqsrcself', 'httpwwwyelpcombizphotos0buxoc0crqjpvkezo3bqogselecto9jiksbmobhcxoimsekqo9jiksbmobhcxoimsekq', 'httpwwwyelpcombizphotos0buxoc0crqjpvkezo3bqogselectrk8m1rxl50pb69c2yqqtgrk8m1rxl50pb69c2yqqtg', 'httpwwwyelpcombizphotos3n9u549zse8upmwkzajaqselectm1wrcux3oouhhrynl8kjqgm1wrcux3oouhhrynl8kjqg', 'httpwwwyelpcombizphotos3n9u549zse8upmwkzajaqselectmmwkpmltbkcwnnlraitgwmmwkpmltbkcwnnlraitgw', 'httpwwwyelpcombizphotos3n9u549zse8upmwkzajaqselectxg8u6fz2e8hu0xq3hf7czgxg8u6fz2e8hu0xq3hf7czg', 'httpwwwyelpcombizrustlersroostephoenixhridgyib8ea4hdfylss17zcg', 'httpwwwyelpcombizseptemberofficehoursatlobbystempehridkqoelzgklmrbayws8lhvfw', 'httpwwwyoutubecomwatchvfsg07smlz5sfeaturerelated', 'huauchinango', 'hub', 'hubbard', 'hubbie', 'hubby', 'hubbys', 'hubris', 'hubs', 'hubster', 'hubsters', 'huckleberry', 'hudson', 'hue', 'huera', 'hues', 'huevos', 'huff', 'hug', 'huge', 'hugeass', 'hugehad', 'hugely', 'hugh', 'hugs', 'huh', 'hula', 'hullabaloo', 'hum', 'human', 'humane', 'humanely', 'humanity', 'humanitythe', 'humans', 'humble', 'humbling', 'humbly', 'humboldt', 'humdinger', 'humid', 'humidifier', 'humidity', 'humiliating', 'hummers', 'hummingbirds', 'hummous', 'hummus', 'hummuseses', 'hummusgrilledmarinated', 'hummusnope', 'humor', 'humornot', 'humus', 'hundred', 'hundreds', 'hundredyearold', 'hung', 'hunger', 'hungover', 'hungrier', 'hungry', 'hungryits', 'hunk', 'huns', 'hunt', 'hunter', 'hunterdeer', 'hunters', 'hunting', 'hurrah', 'hurricane', 'hurried', 'hurries', 'hurry', 'hurt', 'hurtful', 'hurting', 'hurts', 'husband', 'husbandandwife', 'husbandly', 'husbands', 'hush', 'hushpuppys', 'hussy', 'hustle', 'hustled', 'hut', 'huuuugggeee', 'hwy', 'hyatt', 'hyberbolic', 'hybrid', 'hyde', 'hydrants', 'hydrated', 'hydration', 'hydrogen', 'hydrogenated', 'hydroponically', 'hydropro', 'hygenist', 'hygiene', 'hygienist', 'hygienists', 'hype', 'hypebest', 'hyped', 'hyperbole', 'hypes', 'hypnotic', 'hypnotized', 'hypocrite', 'hyundai', 'i10', 'i17', 'ia', 'iam', 'iamtimhardy', 'ice', 'iceberg', 'iceburg', 'icecold', 'icecream', 'icecreamlooks', 'icecustard', 'iced', 'icee', 'ices', 'icey', 'ichi', 'ichigo', 'icing', 'ick', 'ickla', 'icky', 'icon', 'iconic', 'icons', 'icy', 'id', 'idea', 'ideal', 'ideas', 'idem', 'identical', 'identified', 'identify', 'identity', 'idiot', 'idiotic', 'idiots', 'idk', 'ids', 'ie', 'iffy', 'ignacio', 'ignite', 'ignorance', 'ignorant', 'ignore', 'ignored', 'ignoring', 'ihop', 'ii', 'iii', 'iiis', 'iitoi', 'iitttyyy', 'ikea', 'ikeaish', 'ikura', 'il', 'ilbs', 'ilk', 'ill', 'illeffects', 'illegal', 'illlll', 'illness', 'illuminating', 'illusion', 'illusive', 'illustrates', 'ilovethisplace', 'im', 'image', 'imagery', 'images', 'imaginable', 'imagination', 'imaginations', 'imagine', 'imagined', 'imax', 'imbued', 'imho', 'imitation', 'immaculate', 'immaculately', 'immediate', 'immediately', 'immense', 'immensely', 'immersed', 'immigrants', 'imminent', 'immobile', 'immune', 'imo', 'impact', 'impatient', 'impecable', 'impeccable', 'impeccably', 'impending', 'imperative', 'imperial', 'impersonal', 'impession', 'impetus', 'implicitly', 'implicitlyso', 'implies', 'impolite', 'importance', 'important', 'importantits', 'importantly', 'importantlymy', 'importantlyyou', 'imported', 'importing', 'impossible', 'impossibly', 'impostors', 'impractical', 'impresive', 'impress', 'impressed', 'impressedi', 'impresses', 'impressing', 'impression', 'impressions', 'impressive', 'impressively', 'imprinted', 'imprinting', 'impromptu', 'improper', 'improv', 'improve', 'improved', 'improvement', 'improvements', 'improves', 'improving', 'imtoosexyformyself', 'inability', 'inactive', 'inactivity', 'inadequate', 'inadvertently', 'inahh', 'inandout', 'inappropriate', 'inaugural', 'inauthentic', 'inbetween', 'inbox', 'inc', 'incantation', 'incapable', 'incarnation', 'incentive', 'incentivebut', 'incentives', 'incessant', 'inch', 'inches', 'incidences', 'incident', 'incidental', 'incidentally', 'incidentbut', 'incision', 'inclined', 'inclines', 'include', 'included', 'includedwell', 'includes', 'including', 'inclusion', 'inclusive', 'income', 'incoming', 'incompetence', 'incompetent', 'incongruous', 'inconsistencies', 'inconsistent', 'inconvenice', 'inconvenience', 'inconvenienced', 'inconveniencing', 'inconvenient', 'incorporate', 'incorporated', 'incorporation', 'incorrect', 'incorrectly', 'increase', 'increased', 'increases', 'increasing', 'increasingly', 'incredibally', 'incredible', 'incredibleworth', 'incredibly', 'indecisive', 'indeed', 'independent', 'independently', 'indescribably', 'indestructible', 'india', 'indian', 'indiana', 'indianpakistani', 'indians', 'indias', 'indicated', 'indicates', 'indicating', 'indication', 'indicative', 'indictment', 'indie', 'indifferent', 'indigenous', 'indigestion', 'indistinguishable', 'individual', 'individuality', 'individualized', 'individually', 'individualno', 'individuals', 'indoor', 'indoors', 'indopak', 'indra', 'induce', 'inducing', 'indulge', 'indulged', 'indulgence', 'indulgent', 'indulges', 'indulging', 'industrial', 'industrious', 'industry', 'inedible', 'inevitable', 'inexcusable', 'inexpensive', 'inexplicable', 'inexplicably', 'infant', 'infantile', 'infants', 'infected', 'infection', 'inferior', 'infestations', 'infested', 'infiniti', 'infinity', 'inflammation', 'inflated', 'inflation', 'inflections', 'influence', 'influx', 'info', 'infomercials', 'inform', 'informal', 'information', 'informational', 'informationfacts', 'informative', 'informed', 'informing', 'infringement', 'infront', 'infuriating', 'infuse', 'infused', 'infusion', 'ingenious', 'ingesting', 'ingrained', 'ingrediants', 'ingredient', 'ingredients', 'ingredientsas', 'ingregients', 'ingrown', 'inhale', 'inhaled', 'inherent', 'inhibiting', 'inhouse', 'inhumane', 'ini', 'init', 'initally', 'initial', 'initialed', 'initially', 'initiative', 'injected', 'injera', 'injured', 'injuries', 'injuring', 'injury', 'ink', 'inked', 'inlaws', 'inn', 'innear', 'inner', 'innocent', 'innocuous', 'innout', 'innova', 'innovation', 'innovative', 'inns', 'innumerable', 'inoa', 'inout', 'inoutdone', 'input', 'inputsuggestions', 'inquire', 'inquired', 'inquiring', 'inquiry', 'inquisitive', 'ins', 'insane', 'insanely', 'insanity', 'inseason', 'insect', 'insecurities', 'insecurity', 'insert', 'inside', 'insidei', 'insider', 'insiders', 'insides', 'insidethat', 'insidethe', 'insight', 'insightful', 'insights', 'insist', 'insisted', 'insisting', 'insists', 'insofar', 'inspect', 'inspected', 'inspection', 'inspections', 'inspector', 'inspirational', 'inspire', 'inspired', 'inst', 'install', 'installation', 'installed', 'installing', 'instance', 'instant', 'instantaneously', 'instantly', 'instantnoodle', 'instatnt', 'instead', 'insteadfelt', 'insteadmy', 'instincts', 'institute', 'institution', 'institutions', 'instore', 'instructed', 'instruction', 'instructions', 'instructor', 'instructors', 'instrument', 'instruments', 'insufficient', 'insulation', 'insult', 'insulted', 'insulting', 'insults', 'insurance', 'insured', 'insures', 'intact', 'intake', 'intangible', 'integrated', 'integrity', 'intel', 'intellectually', 'intelligent', 'intend', 'intended', 'intending', 'intense', 'intensity', 'intent', 'intention', 'intentional', 'intentions', 'intently', 'interact', 'interaction', 'interactions', 'interactive', 'intercontinental', 'interest', 'interested', 'interesting', 'interference', 'interior', 'interject', 'interlude', 'intermingled', 'intermission', 'internal', 'international', 'internet', 'internship', 'internships', 'interpret', 'interpretation', 'interpretations', 'interrogated', 'interrupt', 'interrupted', 'interrupting', 'interspersed', 'intertubes', 'intertwined', 'interview', 'interviews', 'intestines', 'inthis', 'intimacy', 'intimate', 'intimately', 'intimidated', 'intimidating', 'intolerance', 'intolerancethey', 'intolerant', 'intolerants', 'intonation', 'intoxicated', 'intoxicating', 'intrigued', 'intrigueing', 'intriguing', 'intriguingly', 'intrinsic', 'intrinsically', 'introduce', 'introduced', 'introducing', 'introduction', 'introductions', 'introductory', 'intruding', 'intrusive', 'intuition', 'invading', 'invalidating', 'invariably', 'invasive', 'invent', 'invented', 'inventive', 'inventory', 'inventoryand', 'invergorden', 'inverse', 'invert', 'invest', 'investigate', 'investigated', 'investigating', 'investment', 'investor', 'invigorated', 'invincible', 'invisalign', 'invisibility', 'invisible', 'invitation', 'invitations', 'invite', 'invited', 'inviting', 'involve', 'involved', 'involves', 'involving', 'inwater', 'iodine', 'iolanda', 'iot', 'iowa', 'ipa', 'ipad', 'ipadapparently', 'ipaheavy', 'ipas', 'iphone', 'ipic', 'ipod', 'ippei', 'iq', 'iranian', 'iraq', 'irate', 'irish', 'irk', 'irks', 'irl', 'irma', 'iron', 'ironic', 'ironically', 'ironing', 'ironman', 'irony', 'irrational', 'irrelevant', 'irreplaceable', 'irrigate', 'irritable', 'irritate', 'irritated', 'irritates', 'irritating', 'irs', 'isa', 'isamazzzzzzing', 'isbeyond', 'iselect', 'ish', 'isi', 'island', 'islands', 'islandssmall', 'isle', 'isles', 'islets', 'isnow', 'isnt', 'isntlets', 'isolated', 'israel', 'israeli', 'isreal', 'isso', 'issue', 'issues', 'issuethere', 'issuewhen', 'issuing', 'istore', 'isummmwell', 'italia', 'italian', 'italianchinesemexicanamerican', 'italiano', 'italianstyle', 'italy', 'itand', 'itbut', 'itch', 'itd', 'item', 'itemizations', 'itemized', 'items', 'itemson', 'itemsso', 'iteverything', 'ithink', 'iti', 'itinerary', 'itis', 'itisslow', 'itits', 'itlittle', 'itll', 'itlove', 'ito', 'itos', 'itphoenix', 'itstick', 'itsy', 'itthe', 'itthen', 'itthis', 'itty', 'itunes', 'itwhat', 'ityou', 'iu', 'iv', 'ivaa', 'ivans', 'ive', 'ivegotthetwangytartwithdrawalshakes', 'ivejustbeenbitchslappedbycaffeine', 'iveve', 'ivory', 'ivy', 'iwe', 'ixtapazihuatenejo', 'jaaaade', 'jabs', 'jack', 'jackass', 'jackedup', 'jacket', 'jackets', 'jackie', 'jackinthebox', 'jackpot', 'jackrabbit', 'jacks', 'jacob', 'jacobs', 'jacques', 'jacquie', 'jacs', 'jacuzzi', 'jade', 'jaeger', 'jagermeister', 'jaimes', 'jake', 'jakes', 'jalapeno', 'jalapenos', 'jalapeño', 'jalepeno', 'jalpeno', 'jam', 'jamaica', 'jamaican', 'jamba', 'jambalaya', 'jamburrito', 'james', 'jameson', 'jamfigs', 'jamkick', 'jammed', 'jamming', 'jamoca', 'jams', 'jan', 'janes', 'janet', 'janis', 'jans', 'janslet', 'january', 'japan', 'japanese', 'japchae', 'jar', 'jared', 'jargon', 'jarred', 'jars', 'jarvis', 'jasmin', 'jasmine', 'jason', 'jasons', 'java', 'javas', 'jaw', 'jaws', 'jay', 'jayz', 'jazz', 'jazzed', 'jazzy', 'jc', 'jcooks', 'jcrew', 'jd', 'jealous', 'jealously', 'jean', 'jeans', 'jeansit', 'jedis', 'jeez', 'jeff', 'jefferson', 'jekyll', 'jello', 'jelly', 'jellys', 'jen', 'jenga', 'jenn', 'jenna', 'jennfer', 'jennifer', 'jennifers', 'jenny', 'jens', 'jensy', 'jeopardize', 'jer', 'jeremiah', 'jerk', 'jerks', 'jerky', 'jerkyscore', 'jerron', 'jerrys', 'jersey', 'jerseys', 'jess', 'jesse', 'jessie', 'jesters', 'jesterz', 'jesus', 'jetland', 'jets', 'jetsons', 'jetted', 'jewel', 'jeweler', 'jewelers', 'jewelery', 'jewelry', 'jewels', 'jewess', 'jewish', 'jewlery', 'jhane', 'ji', 'jiang', 'jib', 'jiggle', 'jill', 'jillian', 'jills', 'jim', 'jimmy', 'jist', 'jitters', 'jj', 'jjim', 'jjs', 'jk', 'jo', 'joan', 'job', 'jobbyjobs', 'jobingcom', 'jobot', 'jobs', 'jobwould', 'jodi', 'joe', 'joes', 'joesgift', 'john', 'johnny', 'johns', 'join', 'joined', 'joing', 'joining', 'joint', 'joints', 'joke', 'joked', 'jokes', 'joking', 'jokingly', 'jolie', 'joliet', 'jolla', 'jolly', 'jolt', 'joltachinno', 'jon', 'jonathan', 'jones', 'jonesin', 'jook', 'joplin', 'jordans', 'jose', 'joshua', 'jotted', 'jouet', 'journey', 'jousting', 'joy', 'joyfully', 'joynt', 'joys', 'jp', 'jr', 'jsut', 'juan', 'juba', 'jucey', 'judge', 'judged', 'judges', 'judging', 'judgment', 'judgments', 'judith', 'juggalo', 'juggling', 'juice', 'juices', 'juicessmoothies', 'juicewhich', 'juiceyou', 'juicy', 'juijitsu', 'juke', 'jukebox', 'jules', 'julie', 'julienned', 'julios', 'july', 'julyish', 'jumbalaya', 'jumbo', 'jumbotron', 'jump', 'jumped', 'jumping', 'jumps', 'jumpsuit', 'june', 'juneand', 'jungle', 'jungles', 'junior', 'junk', 'junkie', 'junkyard', 'jura', 'juror', 'jus', 'justice', 'justifiable', 'justified', 'justify', 'justin', 'justina', 'justlensescom', 'justright', 'juxtaposing', 'jw', 'jzzed', 'k56', 'ka', 'kabob', 'kabobs', 'kabuki', 'kahlo', 'kahlua', 'kai', 'kaigen', 'kaj', 'kake', 'kalachis', 'kalamata', 'kalbi', 'kale', 'kaleaid', 'kaleand', 'kaley', 'kama', 'kampachi', 'kanarish', 'kang', 'kansas', 'kanye', 'kaprow', 'kara', 'karahi', 'karanish', 'karaoke', 'karawi', 'karen', 'karens', 'kareys', 'karma', 'karoake', 'karshs', 'karve', 'karyn', 'kasabian', 'kashmans', 'kashmere', 'kasras', 'kat', 'katheaw', 'kathleen', 'kathy', 'katie', 'katies', 'katlan', 'katsu', 'kauai', 'kaya', 'kaylee', 'kaz', 'kazilicious', 'kazimierz', 'kazmer', 'kebab', 'kee', 'keen', 'keep', 'keeping', 'keeps', 'keg', 'keith', 'kellen', 'keller', 'kelley', 'kelly', 'ken', 'kennan', 'kennebec', 'kennel', 'kennels', 'kens', 'kentucky', 'kept', 'kerrie', 'ketchup', 'kettle', 'keurig', 'kevin', 'kevins', 'key', 'keyboard', 'keye', 'keyed', 'keypad', 'keys', 'keyskey', 'kfc', 'kfcsidesized', 'kha', 'khabibulin', 'khai', 'khakis', 'kia', 'kibble', 'kick', 'kickass', 'kickassery', 'kickboxing', 'kickboxingyoga', 'kickbutt', 'kicked', 'kickermy', 'kickersaintso', 'kickin', 'kicking', 'kicks', 'kicky', 'kid', 'kiddies', 'kidding', 'kiddo', 'kiddos', 'kidfriendly', 'kidless', 'kidnap', 'kidnapped', 'kids', 'kidsfamilythe', 'kidspecifc', 'kierland', 'kiersten', 'kik', 'kill', 'killed', 'killer', 'killin', 'killing', 'kills', 'kilt', 'kiltlifter', 'kim', 'kimber', 'kimberly', 'kimchi', 'kimpton', 'kind', 'kinda', 'kindergarten', 'kindly', 'kindness', 'kindred', 'kinds', 'kindsits', 'kinetic', 'king', 'kingdom', 'kings', 'kingston', 'kink', 'kinkos', 'kinks', 'kins', 'kiosk', 'kirin', 'kisra', 'kisras', 'kiss', 'kissing', 'kitchen', 'kitchens', 'kitchenthe', 'kitchenthey', 'kitfo', 'kitschy', 'kitten', 'kittens', 'kitties', 'kitty', 'kiwi', 'kks', 'klutzwasnt', 'kmart', 'knacks', 'knave', 'kneehigh', 'knees', 'knew', 'knick', 'knickknacks', 'knife', 'knives', 'knob', 'knocci', 'knock', 'knocked', 'knocking', 'knook', 'knorr', 'knot', 'knotch', 'knots', 'know', 'knowa', 'knowand', 'knowing', 'knowledgable', 'knowledge', 'knowledgeable', 'knowlike', 'known', 'knows', 'knowsbe', 'knowthe', 'knowtypical', 'kobe', 'koch', 'kohls', 'koi', 'koko', 'kokopelli', 'kolschmakes', 'kona', 'konas', 'kong', 'kooks', 'kool', 'koolaid', 'koolaide', 'kore', 'korea', 'korean', 'koreanmom', 'koreanstyle', 'kosher', 'kota', 'kra', 'krab', 'kraft', 'krav', 'kreamery', 'kreme', 'krispy', 'krista', 'kristen', 'kristi', 'kristian', 'kristin', 'kristy', 'kronos', 'kruez', 'kruger', 'krönung', 'ks', 'ksubi', 'kubricks', 'kudohba', 'kudos', 'kufta', 'kumomato', 'kumquat', 'kun', 'kung', 'kurobuta', 'kurt', 'kwss', 'kyle', 'kyot', 'kyoto', 'kyrene', 'la', 'lab', 'label', 'labeled', 'labeling', 'labels', 'labor', 'laboratory', 'laborers', 'labs', 'lace', 'laced', 'lack', 'lacked', 'lacking', 'lackluster', 'lacks', 'lactose', 'lacy', 'lad', 'ladder', 'laden', 'ladies', 'ladiesid', 'ladle', 'lady', 'ladys', 'lafayette', 'lagoon', 'lags', 'lahna', 'lai', 'laid', 'laidback', 'lair', 'lais', 'lait', 'lake', 'lake91110', 'lakes', 'lalibela', 'lalibelas', 'lamars', 'lamb', 'lambbased', 'lambic', 'lame', 'lameness', 'lamest', 'laminated', 'lamination', 'lamp', 'lamps', 'lampshades', 'lance', 'land', 'landed', 'landfill', 'landing', 'landis', 'landlocked', 'landmark', 'landmarks', 'landon', 'landscape', 'landscaped', 'landscapers', 'landscaping', 'lane', 'lanes', 'language', 'lanning', 'lantana', 'lanterns', 'lap', 'lapping', 'laps', 'lapsang', 'laptop', 'laptops', 'larb', 'lard', 'lardo', 'laredo', 'larg', 'large', 'largely', 'larger', 'larges', 'largest', 'largewith', 'larissa', 'larpege', 'larry', 'las', 'lasagna', 'lasagnareally', 'laser', 'lasering', 'lashed', 'lashes', 'lashextending', 'lassi', 'last', 'lasted', 'lasting', 'lastly', 'lasts', 'latched', 'late', 'lately', 'latenight', 'later', 'lateral', 'latest', 'latilla', 'latin', 'latino', 'latte', 'latter', 'lattes', 'laudable', 'laude', 'laugh', 'laughed', 'laughing', 'laughs', 'laughter', 'launch', 'laundry', 'laura', 'lava', 'lavender', 'lavenders', 'lavishly', 'lavosh', 'law', 'lawannah', 'lawn', 'lawns', 'laws', 'lawyer', 'lax', 'lay', 'layaway', 'layer', 'layered', 'layering', 'layers', 'laying', 'layla', 'layout', 'layover', 'lazily', 'laziness', 'lazy', 'lazyasssweetseating', 'lazyboy', 'lb', 'lbs', 'lcd', 'lcs', 'le', 'lead', 'leader', 'leading', 'leads', 'leaf', 'leafy', 'league', 'leah', 'leak', 'leaking', 'leaks', 'lean', 'leaned', 'leaner', 'leaning', 'leap', 'leaped', 'learn', 'learned', 'learning', 'learns', 'leary', 'lease', 'leased', 'leash', 'leashes', 'leasing', 'least', 'leastall', 'leather', 'leatherworking', 'leathery', 'leave', 'leavei', 'leavein', 'leaves', 'leaving', 'leavong', 'lebaneseyou', 'leberknödel', 'leche', 'leches', 'lechon', 'lecture', 'lectures', 'led', 'ledges', 'lee', 'leek', 'leeks', 'leering', 'leery', 'lees', 'left', 'leftover', 'leftovers', 'leftoversthat', 'leftright', 'leg', 'legacy', 'legal', 'legally', 'legend', 'legendary', 'legends', 'leggings', 'legion', 'legit', 'legitimate', 'legitimately', 'legs', 'leguizamo', 'lehong', 'leila', 'leisure', 'leisurely', 'lemme', 'lemming', 'lemon', 'lemonade', 'lemonadeit', 'lemonades', 'lemondadelemon', 'lemongrass', 'lemonherbheaven', 'lemons', 'lemony', 'lenart', 'lend', 'lended', 'lending', 'lends', 'length', 'lengths', 'lengthwise', 'lengthy', 'lengua', 'lennie', 'lens', 'lenses', 'lent', 'lentil', 'lentils', 'lenôtre', 'leonidas', 'leotard', 'leotards', 'lepinja', 'lesbiangay', 'leslie', 'leslies', 'less', 'lesser', 'lessgluttonous', 'lesson', 'lessons', 'lessthanaverage', 'lessyay', 'lest', 'let', 'lets', 'letter', 'letters', 'letting', 'lettuce', 'lettucespring', 'level', 'leveler', 'levels', 'levers', 'leviticus', 'levy', 'lewis', 'lexus', 'leyvas', 'lf', 'lfs', 'lgo', 'lgos', 'liability', 'liar', 'libation', 'libations', 'liberace', 'liberal', 'liberty', 'libra', 'librarian', 'libraries', 'library', 'librarytake', 'libras', 'libre', 'licence', 'license', 'licensed', 'licenseprobably', 'lick', 'licked', 'lickin', 'licking', 'licorice', 'lid', 'lidless', 'lie', 'lied', 'lienau', 'lienaus', 'lies', 'lieu', 'life', 'lifealtering', 'lifechanging', 'lifeless', 'lifelong', 'lifes', 'lifesaver', 'lifesavor', 'lifestyle', 'lifetime', 'lifetimes', 'lift', 'lifter', 'lifting', 'lifts', 'light', 'lightbulbs', 'lighted', 'lightening', 'lighter', 'lightest', 'lighthearted', 'lighting', 'lightly', 'lightning', 'lightrail', 'lights', 'lightup', 'lightweight', 'lik', 'like', 'likeable', 'liked', 'likeddidnt', 'likely', 'liken', 'likes', 'likesitting', 'likethe', 'likey', 'liking', 'liklihood', 'lil', 'lilly', 'lilun', 'limb', 'lime', 'limeade', 'limes', 'limey', 'limit', 'limitations', 'limited', 'limitless', 'limits', 'limo', 'limoncello', 'limone', 'limos', 'limp', 'limpest', 'limón', 'lincoln', 'linda', 'lindsay', 'lindsey', 'line', 'lined', 'linen', 'linens', 'liner', 'lines', 'lineup', 'linger', 'lingered', 'lingerie', 'lingering', 'lingua', 'lingual', 'linguine', 'linguini', 'linguisa', 'linguistic', 'lining', 'link', 'links', 'linkssides', 'lion', 'lionessy', 'lions', 'lip', 'lipid', 'lips', 'lipstick', 'liqour', 'liqueur', 'liquid', 'liquidating', 'liquidation', 'liquidy', 'liquor', 'liquors', 'lisa', 'lisabels', 'lisettes', 'lishcurry', 'lisous', 'list', 'listed', 'listen', 'listened', 'listenerits', 'listeners', 'listening', 'listens', 'listing', 'listings', 'listlessly', 'lists', 'lit', 'litchfield', 'lite', 'liter', 'literal', 'literally', 'literature', 'liters', 'litmus', 'litterally', 'little', 'littleeh', 'littleknown', 'littles', 'littlest', 'livable', 'live', 'lived', 'lively', 'liver', 'livers', 'liverwurst', 'livery', 'lives', 'livestock', 'living', 'livingsocial', 'liz', 'lizabels', 'lizards', 'lizzie', 'lloyd', 'lmt', 'lmts', 'lo', 'load', 'loaded', 'loading', 'loads', 'loaf', 'loan', 'loaner', 'loathe', 'loathed', 'loaves', 'lobby', 'lobbys', 'lobster', 'local', 'locale', 'locales', 'localicious', 'locally', 'locallychanges', 'locallyowned', 'locals', 'localsthe', 'locate', 'located', 'locating', 'location', 'locationand', 'locationatmosphere', 'locationlocated', 'locationplease', 'locations', 'locationsonline', 'locationviewatmosphere', 'locationyou', 'lock', 'locked', 'locker', 'lockhart', 'locking', 'locks', 'locksmith', 'locksmiths', 'loco', 'locoyesp', 'lodge', 'lodged', 'lodges', 'lodi', 'lodis', 'loft', 'logic', 'logical', 'logo', 'loin', 'loitering', 'lol', 'lola', 'lolas', 'lolcat', 'lolita', 'lollipops', 'lollygagged', 'lollypops', 'lolos', 'lomein', 'london', 'lone', 'lonely', 'long', 'longday', 'longed', 'longer', 'longest', 'longgone', 'longing', 'longish', 'longit', 'longterm', 'longthe', 'longtime', 'longvexing', 'lonnnnng', 'lons', 'loo', 'loofah', 'look', 'looked', 'looking', 'lookout', 'looks', 'loooong', 'looooong', 'loooooove', 'looooounge', 'loooove', 'loop', 'loopfat', 'loops', 'loose', 'loosely', 'loosened', 'loosens', 'loosing', 'looved', 'lora', 'loraco', 'lord', 'loren', 'loretta', 'lori', 'loroco', 'los', 'lose', 'loser', 'losers', 'loses', 'losing', 'loss', 'lost', 'lot', 'lotion', 'lots', 'lottery', 'lotto', 'lotus', 'loud', 'louder', 'loudi', 'loudly', 'loudspeaker', 'loudspeakers', 'louduninspiring', 'loughner', 'louis', 'louisiana', 'lounge', 'lounged', 'loungegoers', 'loungelike', 'loungers', 'lounges', 'loungey', 'loungeyie', 'lounging', 'lousy', 'lovable', 'love', 'loved', 'lovei', 'loveitloveit', 'loveliest', 'loveliness', 'lovelovelove', 'lovely', 'lovelys', 'lover', 'lovers', 'loves', 'lovey', 'lovin', 'loving', 'lovvvve', 'low', 'lowbrow', 'lowcalorie', 'lowcarb', 'lowdown', 'lower', 'lowest', 'lowfat', 'lowfi', 'lowkey', 'lowlighting', 'lowly', 'lowquality', 'lows', 'lox', 'loyal', 'loyally', 'loyalty', 'loyd', 'lozenge', 'ls', 'lshaped', 'lsusaints', 'ltf', 'lthe', 'luau', 'lubrication', 'lubys', 'luch', 'lucia', 'lucilles', 'lucious', 'luck', 'lucked', 'luckily', 'lucky', 'luckys', 'lucrative', 'lucy', 'luggage', 'luigi', 'luis', 'luke', 'lukewarm', 'lull', 'lulu', 'lululemon', 'lulus', 'luminarias', 'lumpia', 'lumpless', 'luna', 'lunch', 'luncha', 'lunchbreak', 'lunchbrunch', 'lunchbrunches', 'lunchdinner', 'luncheon', 'lunches', 'lunchim', 'lunchlight', 'lunchonly', 'lunchso', 'lunchtime', 'lunchwhich', 'lungs', 'lurch', 'lured', 'lurid', 'lush', 'lust', 'luster', 'luv', 'luvs', 'lux', 'luxe', 'luxurious', 'luxury', 'lychee', 'lychejito', 'lying', 'lynn', 'lyric', 'lyrical', 'lyrics', 'lysol', 'maam', 'mabels', 'mac', 'macadamia', 'macadamian', 'macademia', 'macalpines', 'macaroni', 'macarons', 'macaroon', 'macaroons', 'macaw', 'macayos', 'macbook', 'maccheese', 'macchiato', 'macerated', 'machaca', 'machine', 'machines', 'macho', 'mackerel', 'macmillan', 'macmillian', 'macncheese', 'macs', 'macys', 'mad', 'madagascar', 'madame', 'madden', 'maddie', 'made', 'madeatthetable', 'madeliene', 'madera', 'madetoorder', 'madiera', 'madness', 'madonna', 'madras', 'madre', 'madrid', 'maestro', 'maestros', 'maga', 'magazine', 'magazines', 'maggi', 'maggianos', 'magic', 'magical', 'magically', 'magna', 'magners', 'magnet', 'magnificent', 'magnitude', 'magnolia', 'mags', 'mah', 'mahhh', 'mahi', 'mahimahi', 'mai', 'maid', 'maiden', 'maids', 'mail', 'mailbox', 'mailed', 'mailin', 'mailing', 'main', 'maine', 'mainly', 'mains', 'mainstay', 'mainstream', 'maintain', 'maintained', 'maintaining', 'maintains', 'maintenance', 'maitai', 'maizies', 'majerles', 'majestic', 'major', 'majority', 'make', 'makeover', 'maker', 'makers', 'makes', 'makeshift', 'makeup', 'makeyourown', 'makhani', 'makin', 'making', 'makita', 'makoks', 'malaise', 'malaysian', 'malbec', 'male', 'malees', 'malfunction', 'malfunctioned', 'malibu', 'mall', 'mallcommoners', 'mallesque', 'malllike', 'malllook', 'mallmade', 'malls', 'malt', 'malted', 'maltese', 'malts', 'mam', 'mama', 'mamas', 'mamma', 'mammal', 'mammoth', 'mamosas', 'mamoth', 'man', 'manage', 'manageable', 'managed', 'management', 'manager', 'managerand', 'managermissinginaction', 'managerowner', 'managers', 'manages', 'managing', 'manchego', 'manchurian', 'mandarin', 'mandarincantonese', 'mandatory', 'mandy', 'maneuver', 'maneuverable', 'manfriend', 'manfrom', 'mangawhere', 'manger', 'mangeroperator', 'mango', 'mangopomegranate', 'manhandling', 'manhattan', 'manheld', 'mani', 'manicure', 'manicured', 'manicures', 'manicuring', 'manicurist', 'manikin', 'manipedi', 'manipedii', 'manipedis', 'manipulation', 'manly', 'manmade', 'mannequin', 'mannequins', 'manner', 'mannered', 'mannerisms', 'manners', 'manning', 'mans', 'manual', 'manually', 'manuel', 'manuels', 'manufactured', 'manufacturer', 'many', 'manzana', 'manzanita', 'manzy', 'map', 'maple', 'maplesmoked', 'mapped', 'maps', 'mar', 'maraschino', 'marathon', 'marathons', 'marble', 'marcellino', 'marcellinos', 'march', 'marching', 'marcia', 'marco', 'marcus', 'mardi', 'maretplace', 'marg', 'margaret', 'margareta', 'margarita', 'margarita2nd', 'margaritas', 'margaritasam', 'margaritascheck', 'margaritta', 'margarittas', 'margherita', 'margin', 'marginal', 'marginally', 'margins', 'margs', 'marguerite', 'maria', 'mariachi', 'maricopa', 'marie', 'marilyn', 'marilyns', 'marinade', 'marinades', 'marinara', 'marinate', 'marinated', 'marine', 'mario', 'marios', 'mariott', 'marjust', 'mark', 'markdown', 'marked', 'markeplace', 'markers', 'market', 'marketing', 'marketmade', 'marketplace', 'markets', 'marketsthat', 'markie', 'marking', 'markings', 'marks', 'markup', 'markups', 'marmalade', 'marnier', 'marquee', 'marriage', 'married', 'marriot', 'marriott', 'marrow', 'marry', 'marsala', 'marscapone', 'marsha', 'marshal', 'marshalls', 'marshals', 'marshamallow', 'marshmallow', 'marshmallows', 'mart', 'martin', 'martinez', 'martini', 'martinis', 'martinisnot', 'marty', 'marvel', 'marvelous', 'mary', 'maryland', 'marys', 'maryvale', 'marz', 'masa', 'masaiesqe', 'masala', 'mascaras', 'mascarpone', 'mash', 'mashed', 'masiman', 'mask', 'masking', 'masks', 'mason', 'masquerading', 'mass', 'massage', 'massaged', 'massagers', 'massages', 'massaging', 'massamum', 'masses', 'masseuse', 'masseuses', 'massive', 'mast', 'master', 'mastered', 'masterful', 'masterfully', 'mastering', 'masterpiece', 'masterpieces', 'mastery', 'mastros', 'mat', 'matador', 'match', 'matched', 'matches', 'matching', 'matchstick', 'mate', 'mateo', 'mater', 'material', 'materials', 'mates', 'math', 'mathematically', 'matney', 'matrimony', 'matsumoto', 'matt', 'mattar', 'matter', 'matterit', 'matters', 'mattress', 'mattresses', 'matts', 'mature', 'matzah', 'matzo', 'mauclerc', 'maui', 'mauiits', 'maureen', 'maurizio', 'mauves', 'mawshing', 'max', 'maxim', 'maximum', 'maxipads', 'maxx', 'may', 'mayan', 'maybe', 'mayo', 'mayobased', 'mayonnaise', 'mays', 'maytag', 'maze', 'mba', 'mbps', 'mc', 'mcc', 'mccac', 'mccain', 'mcclendon', 'mcclendons', 'mcclintock', 'mccormick', 'mcdonald', 'mcdonalds', 'mcdowell', 'mcds', 'mcgees', 'mcginnis', 'mcgrath', 'mcgraths', 'mcgrittles', 'mckellips', 'mcklintock', 'mcnuggets', 'mcrae', 'mdame', 'meager', 'meal', 'mealand', 'mealbetter', 'mealreflecting', 'meals', 'mealy', 'mealytextured', 'mean', 'meandered', 'meaning', 'meaningful', 'means', 'meansmsg', 'meant', 'meantime', 'meanwhile', 'measly', 'measure', 'measured', 'measurement', 'meat', 'meatand', 'meatball', 'meatballs', 'meatbeals', 'meatcheese', 'meateaters', 'meathead', 'meatheads', 'meatless', 'meatlettucecheese', 'meatloaf', 'meatlovers', 'meatloving', 'meats', 'meatso', 'meaty', 'meatza', 'mebut', 'mecca', 'mechado', 'mechanic', 'mechanical', 'mechanics', 'mecinas', 'medallion', 'medallions', 'medditeranean', 'media', 'medical', 'medication', 'medications', 'medicine', 'medicore', 'medieval', 'mediocre', 'meditating', 'meditative', 'mediterranean', 'medium', 'mediumrange', 'mediumrare', 'mediumwell', 'medley', 'meds', 'meeeeeanie', 'meet', 'meeting', 'meetings', 'meets', 'meetup', 'mega', 'megan', 'meh', 'mehe', 'mei', 'mein', 'meineke', 'meinmedium', 'mekong', 'mel', 'melded', 'meling', 'melissa', 'mellow', 'mellowambient', 'mellows', 'melon', 'melonfishphoto', 'melrose', 'melt', 'melted', 'melting', 'meltingly', 'meltinyour', 'meltinyourmouth', 'melts', 'melty', 'member', 'memberat', 'memberowned', 'members', 'membership', 'memberships', 'membrane', 'memo', 'memorabilia', 'memorable', 'memorial', 'memories', 'memoriesbeautiful', 'memorize', 'memory', 'memy', 'men', 'menchiesmuch', 'mended', 'mens', 'mental', 'mentality', 'mentally', 'mention', 'mentioned', 'mentioning', 'mentions', 'menu', 'menubut', 'menudo', 'menui', 'menus', 'menuwas', 'meow', 'meowganificant', 'merc', 'mercedes', 'mercedesbmwlexusjaguar', 'merchandise', 'merchandised', 'merchandising', 'merchants', 'mercury', 'mercy', 'mere', 'merely', 'meringue', 'merited', 'merits', 'merrels', 'merry', 'mesa', 'mesagateway', 'mesas', 'mesathey', 'mesh', 'meshas', 'mesmerized', 'mesquite', 'mess', 'message', 'messages', 'messed', 'messes', 'messing', 'messy', 'met', 'metabolism', 'metal', 'metate', 'meted', 'meteocre', 'meter', 'metered', 'meters', 'meth', 'methinks', 'methis', 'method', 'methodical', 'methods', 'meticulous', 'meticulously', 'metric', 'metro', 'metrophx', 'metropolitan', 'metrosexuality', 'mex', 'mexicali', 'mexican', 'mexicanstyle', 'mexico', 'mexicono', 'meyer', 'mf', 'mfin', 'mgmt', 'mgr', 'mgrs', 'mi', 'mia', 'miagi', 'miami', 'mias', 'mic', 'michael', 'michaels', 'michelada', 'michelinas', 'michelle', 'michigan', 'mickey', 'mickie', 'micky', 'micro', 'microbes', 'microbrewery', 'microbrews', 'microchips', 'microfoam', 'micromini', 'microscope', 'microscopically', 'microwave', 'microwaved', 'mid', 'mid1980s', 'midcentury', 'midday', 'middle', 'middleaged', 'midget', 'midi', 'midiron', 'midnight', 'midnite', 'mido', 'midpriced', 'midrange', 'midst', 'midweek', 'midwest', 'midwesterner', 'mien', 'mierda', 'might', 'mightily', 'mightly', 'mighty', 'mignon', 'migraines', 'miguel', 'mikado', 'mike', 'mikes', 'mila', 'milagros', 'milanese', 'milano', 'milanos', 'mild', 'mildly', 'mildtasting', 'mile', 'miles', 'milic', 'military', 'milk', 'milkshake', 'milkshakes', 'milky', 'mill', 'mille', 'millefeuille', 'miller', 'milling', 'million', 'millions', 'mills', 'millwich', 'mim', 'mimic', 'mimis', 'mimosa', 'mimosas', 'mims', 'min', 'mina', 'minced', 'mind', 'mindbody', 'minded', 'mindful', 'mindnumbingly', 'mindset', 'mine', 'mineand', 'minenever', 'mineral', 'miners', 'mines', 'minestrone', 'mingle', 'mingross', 'mini', 'miniature', 'minibar', 'minicoaster', 'minicostco', 'minifilet', 'minimal', 'minimalist', 'minimalistic', 'minimalistmodern', 'minimally', 'minimize', 'minimized', 'minimum', 'miniscule', 'minisd', 'ministaycation', 'minitacos', 'minna', 'minneapolis', 'minnesota', 'minnie', 'minor', 'minority', 'mins', 'mint', 'mintchip', 'minty', 'minuet', 'minus', 'minut', 'minute', 'minutes', 'minutesi', 'miracle', 'miraculous', 'mirage', 'miranda', 'mirror', 'mirrored', 'mirrors', 'mirushe', 'mis', 'miscellaneous', 'mischas', 'miscommunication', 'miserable', 'miserably', 'misfit', 'misfortune', 'mish', 'mishandled', 'mishap', 'mishaps', 'mishmash', 'mishmashed', 'mishmosh', 'misinformation', 'misinformed', 'misinterpreted', 'misir', 'mislead', 'misleading', 'misled', 'mismanagement', 'mismanaging', 'mismatched', 'miso', 'misono', 'misplaced', 'miss', 'missed', 'misses', 'missing', 'mission', 'mississippi', 'misskeep', 'misstep', 'mist', 'mistake', 'mistaken', 'mistakenly', 'mistakes', 'mistaking', 'mister', 'misters', 'misting', 'misto', 'mistos', 'misunderstanding', 'misunderstood', 'misuse', 'mitch', 'mitt', 'mitts', 'miu', 'mix', 'mixed', 'mixer', 'mixers', 'mixes', 'mixing', 'mixology', 'mixto', 'mixture', 'mixup', 'mj', 'mlb', 'mlbnflnba', 'mm', 'mma', 'mmm', 'mmmghgh', 'mmmm', 'mmmmgood', 'mmmmm', 'mmmmmazing', 'mmmmmm', 'mmmmmmm', 'mmmmmmmm', 'mmmmmmmmmmm', 'mmmmmmmmmmmm', 'mmmmmmmms', 'mmmmmmmthey', 'mms', 'mn', 'mnf', 'mni', 'mo', 'moaning', 'mobbed', 'mobile', 'mocchiato', 'mocha', 'mochi', 'mock', 'mocking', 'mockingly', 'moco', 'mode', 'model', 'modeled', 'modelo', 'models', 'moderate', 'moderately', 'modern', 'modest', 'modestly', 'modification', 'modifications', 'modified', 'modify', 'moescow', 'mohawk', 'moist', 'moister', 'moistest', 'moistness', 'moisturizer', 'moisturizers', 'moisturizes', 'mojiot', 'mojito', 'mojitoi', 'mojitos', 'mojo', 'mojos', 'mojosmaybe', 'molar', 'molasses', 'mold', 'molding', 'moldy', 'mole', 'molete', 'molinos', 'molly', 'molotes', 'molten', 'moly', 'mom', 'moment', 'moments', 'momenttry', 'momentum', 'momma', 'mommies', 'mommys', 'mompop', 'moms', 'mon', 'monarch', 'monday', 'mondays', 'mondayseven', 'money', 'moneygrubbing', 'moneys', 'moneythen', 'monfri', 'mongolian', 'monitor', 'monitoring', 'monitors', 'monk', 'monkey', 'monkeys', 'mono', 'monotone', 'monroe', 'monsat', 'monsieuror', 'monsoon', 'monster', 'monsters', 'monstrosity', 'monstrous', 'monte', 'montelucia', 'montenegro', 'monterey', 'monterrey', 'month', 'monthbut', 'monthly', 'months', 'monthy', 'monton', 'montues', 'monty', 'monumental', 'moo', 'mood', 'moods', 'moody', 'mooing', 'moon', 'moonlighting', 'moons', 'moores', 'mop', 'mopped', 'moral', 'morale', 'morally', 'moray', 'morbidly', 'mordida', 'moreour', 'moreover', 'moreso', 'morethe', 'morgan', 'mormon', 'mormonic', 'morning', 'mornings', 'moroccan', 'moron', 'morons', 'morphed', 'morristown', 'morse', 'morsel', 'mortadella', 'mortons', 'mos', 'moscow', 'mosear', 'moss', 'mostly', 'motel', 'mother', 'motherfk', 'motherfs', 'motherinlaw', 'mothers', 'motion', 'motivate', 'motivated', 'motivating', 'motivation', 'moto', 'motor', 'motorcycle', 'motorcycles', 'motorpestle', 'mound', 'mounded', 'mounds', 'mount', 'mountain', 'mountains', 'mounted', 'mounting', 'mourn', 'mouse', 'mousse', 'mouth', 'mouthfeel', 'mouthful', 'mouthit', 'mouths', 'mouthwatering', 'move', 'moved', 'movement', 'movers', 'moves', 'movie', 'moviegoers', 'movies', 'moving', 'mower', 'mozarella', 'mozz', 'mozza', 'mozzarella', 'mozzarellacibo', 'mozzarellaparma', 'mpls', 'mr', 'mrhardtoplease', 'mrlynn', 'mrs', 'ms', 'msg', 'mtg', 'mtn', 'mu', 'muaaah', 'muay', 'much', 'mucho', 'mudd', 'muddled', 'mudslide', 'muertos', 'muffin', 'muffins', 'muffinsbeyond', 'muffler', 'mug', 'muggy', 'mugs', 'mule', 'mullet', 'mulling', 'multi', 'multicourse', 'multicultural', 'multidimensional', 'multifourfooted', 'multigrain', 'multiple', 'multiples', 'multiplex', 'multiplied', 'multiplier', 'multiply', 'multitude', 'mum', 'mumbled', 'munch', 'munchener', 'munchies', 'mundane', 'munich', 'municipals', 'muppet', 'mural', 'murder', 'murderesque', 'murmuring', 'murphys', 'murray', 'musac', 'muscle', 'muscles', 'museum', 'museumeque', 'museums', 'mush', 'mushiest', 'mushroms', 'mushroom', 'mushrooms', 'mushroomssomething', 'mushroomstoday', 'mushroomswiss', 'mushu', 'mushy', 'music', 'musical', 'musiccdvinyldvdused', 'musician', 'musicians', 'musicits', 'musing', 'musketeers', 'musscles', 'mussel', 'mussels', 'must', 'mustachesonastick', 'mustachio', 'mustard', 'mustdo', 'muster', 'mustorder', 'mustreturn', 'musttries', 'musttry', 'mustve', 'mustvisit', 'musubi', 'mutant', 'mutated', 'muted', 'mutilated', 'muttered', 'mutton', 'mutts', 'mvp', 'mylissa', 'myriad', 'myselfi', 'myselfits', 'myspace', 'mysterious', 'mystery', 'mystified', 'mystique', 'myth', 'mythological', 'na', 'naaaaah', 'naan', 'nacho', 'nachos', 'nachosthis', 'nada', 'nadia', 'nadya', 'naengmyeon', 'nag', 'nagging', 'nail', 'nailed', 'nailes', 'nailing', 'nailridden', 'nails', 'nailsjimmy', 'nair', 'nak', 'naked', 'nam', 'namaste', 'name', 'namecalling', 'named', 'names', 'nametags', 'nami', 'nan', 'nancy', 'nandos', 'nannies', 'nanny', 'nans', 'naot', 'nap', 'napa', 'napfull', 'napkin', 'napkins', 'napoleon', 'napoleons', 'napolitano', 'napping', 'narcissistic', 'narcisstic', 'narrow', 'narrowing', 'nascar', 'nastily', 'nastiness', 'nasty', 'natale', 'natalie', 'natcher', 'natchers', 'nate', 'natelys', 'nathans', 'nation', 'national', 'nationally', 'nationals', 'nationwide', 'nationworld', 'native', 'natives', 'natural', 'naturally', 'nature', 'naturopath', 'naturopathbut', 'naturopathic', 'natzis', 'naus', 'nausea', 'nauseous', 'nautilus', 'navajo', 'navigate', 'navigated', 'navigating', 'navigator', 'navy', 'nay', 'nazi', 'nba', 'nc', 'ncheese', 'ncounter', 'nd', 'ne', 'near', 'nearbrand', 'nearby', 'nearest', 'nearfight', 'nearing', 'nearly', 'nearperfect', 'neat', 'neatly', 'nebbiolo', 'nebraska', 'nebraskabut', 'necessarily', 'necessary', 'necessitated', 'necessities', 'necessity', 'neck', 'necklace', 'necklaces', 'necks', 'nectar', 'nectarine', 'need', 'needand', 'needed', 'needing', 'needle', 'needles', 'needless', 'neednt', 'needs', 'needy', 'neesd', 'nefarious', 'negate', 'negated', 'negative', 'negatives', 'neglected', 'negra', 'negress', 'neighbor', 'neighborbut', 'neighborhood', 'neighborhoods', 'neighborhoodsame', 'neighboring', 'neighbors', 'neimans', 'neither', 'nellos', 'nengmyun', 'neo', 'neon', 'neosprin', 'nephew', 'nephews', 'nerd', 'nerds', 'nerdy', 'nervewracking', 'nervous', 'nespresso', 'nestled', 'nests', 'net', 'netflix', 'network', 'networking', 'networks', 'networkwiring', 'neutered', 'neutering', 'nevada', 'never', 'neverending', 'nevertheless', 'neverwatereddown', 'new', 'newark', 'newbie', 'newbies', 'newborn', 'newcomers', 'newer', 'newest', 'newland', 'newly', 'newman', 'newmans', 'newport', 'news', 'newshour', 'newsletter', 'newson', 'newspaper', 'newspapers', 'newsthe', 'newyorker', 'next', 'nfl', 'ngd', 'ngoc', 'nhat', 'nhra', 'nib', 'nibble', 'nibbles', 'niblets', 'nice', 'nicefriendly', 'nicei', 'nicely', 'nicer', 'niceso', 'nicest', 'nicestlooking', 'nicethe', 'niches', 'nick', 'nickel', 'nickeled', 'nickle', 'nickname', 'nicnacs', 'nicoise', 'nicole', 'niece', 'nieceall', 'nieman', 'nigeri', 'night', 'nightand', 'nightbased', 'nightcap', 'nightclub', 'nightclubs', 'nighters', 'nighti', 'nightif', 'nightlife', 'nightly', 'nightmare', 'nightmares', 'nights', 'nightsaturday', 'nightsmondayand', 'nightsounds', 'nigiri', 'nigirisashimi', 'nigligent', 'nigth', 'niiiice', 'nike', 'nikejust', 'nikes', 'nikki', 'nikolai', 'nikon', 'nile', 'nilly', 'niman', 'nina', 'nine', 'nineteen', 'ninja', 'nipple', 'nippon', 'niros', 'nirvana', 'nit', 'nitas', 'nite', 'nites', 'nitpicking', 'nitris', 'nj', 'njny', 'nl', 'nnear', 'nob', 'noble', 'noblewhich', 'nobody', 'nobodyand', 'nobodys', 'nobs', 'nobuo', 'nobuos', 'noca', 'noches', 'nocturnal', 'nod', 'nodded', 'nodo', 'noel', 'nog', 'nogales', 'noi', 'noir', 'noise', 'noiseloud', 'noises', 'noisey', 'noisy', 'noisyquiet', 'nokid', 'nokill', 'nom', 'nominal', 'nominate', 'nominee', 'nomorestudyingatcoffeeshopsduringdinner', 'non', 'nonacrimonious', 'nonalcoholic', 'nonamerican', 'noncaffeine', 'noncash', 'nonchain', 'nonclean', 'nondescript', 'nondisposable', 'nondistinct', 'none', 'nonenthusiast', 'nonetheless', 'nonexistent', 'nonfat', 'nongf', 'nongreek', 'nonhelpful', 'nonholiday', 'nonindians', 'nonjudgmental', 'nonmainstream', 'nonmeat', 'nonmidfirst', 'nonnas', 'nononsense', 'nonphoenixmetro', 'nonpizzeria', 'nonprescription', 'nonprofit', 'nonreading', 'nonresident', 'nonresidents', 'nonscottsdaley', 'nonsense', 'nonservice', 'nonsouth', 'nonspecific', 'nonstop', 'nonstopawesome', 'nonsushi', 'nontraditional', 'nonvegan', 'nonvegetarians', 'noodle', 'noodles', 'noodlesthe', 'nook', 'noon', 'noone', 'noooo', 'noooooooo', 'nooooooooo', 'nopalito', 'nope', 'nordies', 'nordique', 'nordstrom', 'nordstroms', 'norm', 'normal', 'normalcy', 'normally', 'norman', 'normandy', 'nortena', 'norterra', 'north', 'northeast', 'northern', 'northernnortheast', 'northwest', 'norton', 'nose', 'nosh', 'noshed', 'noshes', 'nosie', 'nostalgia', 'nostalgic', 'nostrils', 'nosy', 'notable', 'notary', 'notch', 'note', 'noted', 'notes', 'notethis', 'nothing', 'noticable', 'noticably', 'notice', 'noticeable', 'noticeably', 'noticebut', 'noticed', 'notices', 'noticing', 'notified', 'notorious', 'notoverlysauced', 'notsoglamorous', 'notsoshiny', 'notte', 'nough', 'nourishes', 'nourishment', 'nouvelle', 'nov', 'nova', 'novel', 'novels', 'novelties', 'novelty', 'november', 'novice', 'novles', 'nowadays', 'nowbut', 'nowcravings', 'nowhere', 'nowstay', 'noy', 'nozzle', 'np', 'nsa', 'nt', 'ntn', 'nude', 'nueva', 'nuff', 'nugget', 'nuggets', 'nuked', 'nulaid', 'numb', 'numbed', 'number', 'numbered', 'numbers', 'numero', 'numerous', 'nun', 'nuong', 'nurse', 'nursery', 'nurses', 'nurturing', 'nut', 'nutcracker', 'nuteila', 'nutella', 'nutjob', 'nutmeg', 'nutrition', 'nutritional', 'nutritious', 'nuts', 'nutsack', 'nutsanything', 'nutshell', 'nuttycrunchy', 'nuvi', 'nw', 'nwash', 'nwohio', 'ny', 'nyc', 'nypd', 'oahu', 'oak', 'oakland', 'oakville', 'oasis', 'oatmeal', 'oaxaca', 'ob', 'obama', 'obese', 'obgyn', 'object', 'objection', 'objects', 'obligated', 'obligation', 'obligations', 'obligatory', 'obliged', 'obliques', 'oblivion', 'obnoxious', 'obrien', 'obscene', 'obscure', 'observant', 'observation', 'observed', 'obsessed', 'obsession', 'obsessive', 'obstinate', 'obstruction', 'obtain', 'obvious', 'obviously', 'occasion', 'occasional', 'occasionally', 'occasions', 'occassion', 'occassions', 'occupied', 'occupies', 'occupying', 'occur', 'occured', 'occurences', 'occurred', 'occurs', 'ocd', 'ocean', 'oceanic', 'oclock', 'ocotillo', 'oct', 'octaves', 'october', 'octomom', 'octopus', 'odd', 'oddity', 'oddly', 'oddness', 'odds', 'odinian', 'odom', 'odonnell', 'odor', 'odors', 'odyssey', 'offagain', 'offend', 'offended', 'offending', 'offends', 'offense', 'offensive', 'offer', 'offered', 'offering', 'offerings', 'offers', 'offevery', 'offhour', 'office', 'officer', 'offices', 'official', 'officially', 'officials', 'offseason', 'offthen', 'offwhite', 'offyou', 'oft', 'often', 'oftentimes', 'ofthe', 'ofthemoment', 'oggie', 'ogled', 'ogling', 'oh', 'ohand', 'ohhh', 'ohhhhkay', 'ohi', 'ohio', 'ohlala', 'ohso', 'ohsochivalrously', 'ohsogood', 'ohthe', 'oil', 'oiled', 'oiliest', 'oiliness', 'oils', 'oily', 'oink', 'oj', 'ok', 'okaaaaay', 'okay', 'okayfollow', 'okayi', 'okaytalk', 'okbut', 'oki', 'okish', 'oklahoma', 'okra', 'okso', 'oktoberfest', 'ol', 'old', 'older', 'oldest', 'oldfashioned', 'oldies', 'oldish', 'olds', 'oldschool', 'oldsmobuick', 'oldstyle', 'oldtimey', 'ole', 'oleanders', 'olive', 'oliver', 'olives', 'olivesthere', 'olivos', 'ollie', 'oly', 'olympia', 'olympic', 'omakase', 'omelet', 'omelete', 'omelets', 'omelette', 'omelettes', 'omellete', 'omelletes', 'omeltes', 'omfg', 'omg', 'omghands', 'omgheaven', 'ominvore', 'omit', 'omlettes', 'omnivore', 'omt', 'onand', 'onbecause', 'onceand', 'oncethey', 'one', 'oneand', 'oneget', 'onehalf', 'onehope', 'onehundred', 'oneim', 'onekeeping', 'oneofakind', 'oneofakindits', 'oneonone', 'oneperhaps', 'oneplus', 'ones', 'oneso', 'onestar', 'onestop', 'oneswe', 'onethey', 'onetime', 'oneway', 'ongoing', 'oni', 'onioins', 'onion', 'onions', 'onionssome', 'onionwhich', 'online', 'onlookers', 'onlythey', 'ono', 'onset', 'onsince', 'onsite', 'onslaught', 'onstar', 'onthis', 'ontime', 'onto', 'ony', 'onyouve', 'oo', 'oodles', 'ooey', 'ooeygooey', 'ooh', 'oohed', 'oohing', 'oooh', 'ooooh', 'oooohhhh', 'oooooooo', 'ooooowwweeee', 'oops', 'oopssometimes', 'oozing', 'opear', 'opelousas', 'open', 'openair', 'openbox', 'openclose', 'opened', 'openface', 'openfaced', 'openi', 'opening', 'openingclosing', 'openings', 'openly', 'opens', 'opentable', 'opera', 'operate', 'operated', 'operates', 'operating', 'operation', 'operations', 'opi', 'opinion', 'opinions', 'oppinion', 'opportunities', 'opportunity', 'opposed', 'opposite', 'oppressive', 'oprah', 'ops', 'opt', 'opted', 'optical', 'optician', 'optics', 'optimized', 'opting', 'option', 'optional', 'options', 'opto', 'opulence', 'opulent', 'opus', 'oral', 'orally', 'orange', 'orangecello', 'orangeheads', 'oranges', 'orangewood', 'orchard', 'orchata', 'orchestra', 'orchestrated', 'orchid', 'ordeal', 'orded', 'order', 'ordered', 'ordering', 'orderly', 'orderright', 'orders', 'orderwe', 'ordinarily', 'ordinary', 'ordred', 'orecchiette', 'oreganata', 'oregano', 'oreganos', 'oreganymphos', 'oregon', 'oregonian', 'oreo', 'oreos', 'organ', 'organic', 'organicall', 'organically', 'organization', 'organizations', 'organize', 'organized', 'organizers', 'organizes', 'organizing', 'organs', 'orgasm', 'orgasmic', 'orgy', 'orient', 'oriental', 'oriented', 'orig', 'origin', 'original', 'originality', 'originally', 'originate', 'origins', 'oriva', 'orlando', 'orleans', 'orleanscajun', 'orleansseriously', 'ornament', 'ornaments', 'ornate', 'orthodonitcs', 'orthodontic', 'orthodontist', 'orthopedics', 'orvieto', 'orzo', 'oscar', 'osco', 'osetra', 'osf', 'osp', 'osso', 'ostentatious', 'osteopathic', 'oster', 'osu', 'osullivans', 'ot', 'otaku', 'otb', 'otfm', 'others', 'othersbut', 'otherwise', 'otoro', 'ouch', 'ouchhmy', 'ought', 'ounce', 'ounces', 'outagain', 'outall', 'outandback', 'outbluesman', 'outbursts', 'outclasses', 'outcome', 'outdated', 'outdoor', 'outdoorfacing', 'outdoorindoor', 'outdoors', 'outer', 'outfield', 'outfit', 'outfits', 'outfitters', 'outfront', 'outgoing', 'outgrow', 'outgrowth', 'outi', 'outing', 'outlasted', 'outlet', 'outlets', 'outlook', 'outlying', 'outnote', 'outnumbered', 'outofpocket', 'outofthefreezerbag', 'outofthisworld', 'outoftown', 'outoftowner', 'outoftowners', 'outraged', 'outrageous', 'outrageously', 'outreach', 'outrigger', 'outright', 'outs', 'outshines', 'outside', 'outsidedont', 'outsideinside', 'outsideperfect', 'outsourced', 'outstanding', 'outstandingshe', 'outstretched', 'outta', 'outthey', 'outweighs', 'oven', 'ovenroasted', 'ovens', 'overall', 'overalls', 'overbearing', 'overboard', 'overbooked', 'overcharge', 'overcharged', 'overcome', 'overcompensation', 'overcooked', 'overcooking', 'overcrowded', 'overdoing', 'overdone', 'overdue', 'overflow', 'overflowing', 'overfried', 'overgrown', 'overhaul', 'overhead', 'overhear', 'overheard', 'overheat', 'overheating', 'overindulgence', 'overload', 'overloaded', 'overlook', 'overlooked', 'overlooking', 'overlooming', 'overly', 'overlysweaty', 'overmicrowaved', 'overnight', 'overpower', 'overpowered', 'overpowering', 'overpriced', 'overprices', 'overrated', 'overrode', 'overrun', 'overs', 'oversalted', 'overseas', 'oversee', 'oversell', 'overshadowed', 'oversized', 'oversold', 'overspending', 'overstuff', 'overstuffed', 'overtalented', 'overthetop', 'overtime', 'overuse', 'overview', 'overweight', 'overwhelm', 'overwhelmed', 'overwhelming', 'overwhelmingly', 'overwheming', 'overworked', 'overzealous', 'ovoid', 'owe', 'owed', 'owen', 'owes', 'owl', 'owned', 'owner', 'ownerchef', 'ownerdriven', 'ownermanager', 'ownerproprietress', 'owners', 'ownerscooks', 'ownership', 'ownersstaff', 'owning', 'ownreally', 'owns', 'oxbow', 'oxide', 'oxidizing', 'oxtail', 'oy', 'oye', 'oyster', 'oysters', 'oz', 'p2', 'p3', 'p90x', 'pa', 'pablo', 'pac', 'pace', 'paced', 'paces', 'pacific', 'pacifico', 'pacified', 'pacifier', 'pack', 'package', 'packaged', 'packages', 'packaging', 'packed', 'packedand', 'packet', 'packets', 'packing', 'packs', 'pad', 'padding', 'paddle', 'paddys', 'padi', 'padre', 'padres', 'pads', 'paella', 'page', 'pages', 'pagliacci', 'paid', 'pain', 'painful', 'painfully', 'painless', 'pains', 'painstaking', 'paint', 'painted', 'painters', 'painting', 'paintings', 'paints', 'pair', 'paired', 'pairing', 'pairings', 'pairs', 'pajamas', 'pakistani', 'pal', 'palabok', 'palace', 'palak', 'palatable', 'palate', 'palates', 'palatte', 'palce', 'pale', 'palees', 'paleo', 'paleta', 'paletas', 'palette', 'palettes', 'pallet', 'pallete', 'palm', 'palmer', 'palmers', 'palms', 'palmsized', 'palomar', 'palpable', 'pals', 'paltry', 'pamper', 'pampered', 'pampering', 'pan', 'pana', 'panang', 'pancake', 'pancakes', 'pancetta', 'panchos', 'pancit', 'pancreatic', 'panda', 'pane', 'paneer', 'panel', 'paneled', 'panelingtables', 'panera', 'panes', 'panfried', 'pani', 'panic', 'panini', 'paninis', 'panko', 'panna', 'panoramic', 'pans', 'panseared', 'pansy', 'pantaloons', 'panties', 'pantry', 'pants', 'pao', 'paolas', 'papa', 'papago', 'papas', 'papaya', 'papdi', 'paper', 'paperback', 'paperbath', 'papers', 'paperthin', 'paperwork', 'papgo', 'pappadeaux', 'pappadeauxs', 'pappardelle', 'pappas', 'paprika', 'par', 'parachute', 'parade', 'paraded', 'paradise', 'paragraphs', 'paramount', 'paraphenalia', 'paraphernalia', 'paraphrased', 'parasitefree', 'parasites', 'parcel', 'parched', 'pardon', 'parent', 'parental', 'parents', 'parfait', 'parfaits', 'parilla', 'paris', 'parish', 'pariswith', 'park', 'parka', 'parkandride', 'parked', 'parker', 'parkeven', 'parking', 'parks', 'parksports', 'parkway', 'parlor', 'parm', 'parma', 'parmagian', 'parmagiana', 'parmesan', 'parmesean', 'parmigiano', 'paroose', 'parsley', 'parsnip', 'part', 'partake', 'partial', 'partially', 'participants', 'participate', 'participated', 'participating', 'particuarly', 'particular', 'particularly', 'partied', 'parties', 'partner', 'partners', 'partnerships', 'parts', 'partsromantic', 'party', 'partying', 'pasedena', 'pasena', 'paso', 'pasquale', 'pass', 'passable', 'passageway', 'passed', 'passenger', 'passengers', 'passerbys', 'passes', 'passing', 'passion', 'passionate', 'passionately', 'passionfruit', 'passions', 'passive', 'passport', 'past', 'pasta', 'pastabar', 'pastas', 'paste', 'pasties', 'pastor', 'pastrami', 'pastries', 'pastry', 'pastthankfully', 'pasture', 'pasty', 'pastys', 'pat', 'patatas', 'patch', 'patched', 'patchouli', 'path', 'pathand', 'pathetic', 'pathetically', 'paths', 'pathways', 'patience', 'patient', 'patiently', 'patients', 'patio', 'patioa', 'patiobecause', 'patios', 'patisserie', 'patisseriebakery', 'patrick', 'patricks', 'patrol', 'patrols', 'patron', 'patronage', 'patronagemexican', 'patronize', 'patronized', 'patronizing', 'patrons', 'patronsprobably', 'pattern', 'patterned', 'patterns', 'patterson', 'patti', 'patties', 'patty', 'paul', 'paula', 'paulgstudiocom', 'pauli', 'pause', 'paved', 'pavilion', 'pavillion', 'pavle', 'pavlov', 'pavlovian', 'pavlovs', 'paw', 'pawn', 'paws', 'pay', 'payard', 'payatthepump', 'paycheck', 'payday', 'payed', 'paying', 'payingand', 'payingshucks', 'payment', 'payoff', 'pays', 'payton', 'pazookie', 'pb', 'pbj', 'pbr', 'pbs', 'pc', 'pcg', 'pd', 'pea', 'peaberry', 'peace', 'peaceful', 'peacefulness', 'peacemakers', 'peach', 'peachblood', 'peaches', 'peak', 'peaking', 'peaks', 'peanut', 'peanutbutter', 'peanuts', 'peanutty', 'pear', 'pearl', 'pearls', 'pearly', 'pears', 'peas', 'peasy', 'pebbles', 'pecan', 'pecanfig', 'pecans', 'pechuga', 'pecorino', 'pedal', 'pedalers', 'pedaling', 'peddle', 'pedestrians', 'pedi', 'pediatric', 'pediatricians', 'pedic', 'pedicure', 'pedicured', 'pedicuremanicure', 'pedicures', 'pedigree', 'pedregal', 'pee', 'peebles', 'peed', 'peeing', 'peek', 'peekaboo', 'peeking', 'peeks', 'peel', 'peeled', 'peels', 'peep', 'peeped', 'peeps', 'peer', 'peerpressure', 'peeve', 'peggy', 'pei', 'peking', 'pellchck', 'pellets', 'pelo', 'pelon', 'pen', 'penalize', 'penaltiesmassive', 'penalty', 'penang', 'pencil', 'pendant', 'pendemums', 'penetrate', 'penetrated', 'penh', 'penis', 'pennants', 'penne', 'penny', 'pennys', 'penzeys', 'peole', 'peolple', 'people', 'peoples', 'peoplethanks', 'peoplethings', 'peoplewatch', 'peoria', 'pepitas', 'peple', 'pepper', 'peppercorn', 'peppercorns', 'peppered', 'peppermint', 'peppermr', 'pepperocini', 'pepperoni', 'pepperonis', 'peppers', 'peppery', 'pepperysweet', 'pepsi', 'per', 'percent', 'percent25', 'percentage', 'perception', 'perch', 'perchance', 'perched', 'perfect', 'perfected', 'perfection', 'perfectionist', 'perfectlly', 'perfectly', 'perfecto', 'perform', 'performance', 'performances', 'performed', 'performers', 'perfume', 'perhaps', 'perimeter', 'perimeters', 'period', 'periodic', 'periodically', 'periods', 'peripherals', 'perk', 'perks', 'perky', 'permanent', 'permission', 'permit', 'permits', 'permitting', 'permutations', 'pernil', 'peroxide', 'perplexed', 'perpperoni', 'perrier', 'persevered', 'persian', 'persistent', 'person', 'personable', 'personal', 'personality', 'personalityvery', 'personalized', 'personallity', 'personally', 'personaly', 'personchristine', 'personified', 'personnel', 'persons', 'perspective', 'persuasion', 'pertains', 'perturbed', 'peruse', 'perused', 'perusing', 'peruvian', 'pervert', 'pescatarian', 'pesky', 'pest', 'pestered', 'pesticides', 'pesto', 'pet', 'petals', 'petco', 'petello', 'peter', 'petes', 'petfriendly', 'petite', 'petrified', 'pets', 'petshotel', 'petsit', 'petsitter', 'petsmart', 'petticoat', 'petting', 'petty', 'pew', 'pews', 'pf', 'pfd', 'pga', 'phad', 'phadseeew', 'pharmacies', 'pharmacist', 'pharmacy', 'phase', 'phenom', 'phenomenal', 'phenomenally', 'phhighly', 'phil', 'philadelphia', 'philip', 'philippines', 'phillo', 'philly', 'philosophical', 'philosophy', 'phish', 'phlegm', 'phnom', 'pho', 'phobia', 'phoenicia', 'phoenician', 'phoenicians', 'phoenix', 'phoenixgo', 'phoenixi', 'phoenixish', 'phoenixmetro', 'phoenixs', 'phoenixscottsdale', 'phoeniz', 'phojoint', 'phok', 'phone', 'phoned', 'phoneipad', 'phoneix', 'phones', 'phonetic', 'phonomenal', 'phony', 'phoreal', 'photo', 'photographer', 'photographers', 'photographic', 'photography', 'photomark', 'photomart', 'photos', 'photoshoots', 'photoshopped', 'phoyuck', 'phrase', 'phuket', 'phx', 'phxpay', 'phyllo', 'physical', 'physically', 'physician', 'physicians', 'physicmedium', 'physics', 'pi', 'piaggion', 'piano', 'piatto', 'piazza', 'pibb', 'pibil', 'pic', 'picazzos', 'piccola', 'pick', 'picked', 'pickiest', 'picking', 'pickle', 'pickled', 'pickledpreserved', 'pickles', 'picks', 'pickthekidsup', 'pickup', 'picky', 'pickyeater', 'pickypicky', 'picnic', 'picnics', 'pico', 'picos', 'pics', 'picture', 'pictured', 'pictureperfect', 'pictures', 'picturesque', 'pie', 'piece', 'pieces', 'piecesyoung', 'piecesyummm', 'piecing', 'piedmont', 'pier', 'pierce', 'pierced', 'piercing', 'piercings', 'pierre', 'pierrend', 'pies', 'piestewa', 'pig', 'pigg', 'piggy', 'pigs', 'pikes', 'pilates', 'pile', 'piled', 'pilgrim', 'pilgrimage', 'pilgrimages', 'pillage', 'pillow', 'pillows', 'pillowy', 'pilot', 'pilots', 'pils', 'pilsner', 'pima', 'pimms', 'pimp', 'pimpercrombie', 'pin', 'pina', 'pinafore', 'pinapple', 'pinata', 'pinball', 'pinch', 'pine', 'pineapple', 'pineappleperfect', 'ping', 'pinguinos', 'pink', 'pinkeye', 'pinko', 'pinnacle', 'pinned', 'pinner', 'pinot', 'pinpoint', 'pins', 'pint', 'pinto', 'pints', 'pipe', 'piper', 'pipes', 'piping', 'pipping', 'pique', 'pirates', 'pischke', 'pischkes', 'piss', 'pissed', 'pissing', 'pistachio', 'pistachios', 'pistols', 'pit', 'pita', 'pitaoh', 'pitas', 'pitch', 'pitcher', 'pitchers', 'pitches', 'pits', 'pitt', 'pitted', 'pittsburgh', 'pity', 'pivotal', 'pixie', 'pizza', 'pizzaametro', 'pizzaguacamole', 'pizzaits', 'pizzaria', 'pizzas', 'pizzasthis', 'pizzathis', 'pizzawing', 'pizzazz', 'pizzeria', 'pizzerias', 'pizzookie', 'piña', 'pj', 'pjl', 'pkh', 'placard', 'placards', 'place', 'placeand', 'placebo', 'placecant', 'placed', 'placefun', 'placeit', 'placement', 'places', 'placeso', 'placethe', 'placewe', 'placing', 'plague', 'plagued', 'plain', 'plainly', 'plaintains', 'plaintasting', 'plan', 'planb', 'plane', 'planes', 'planet', 'plank', 'planked', 'planks', 'planned', 'planner', 'planners', 'planning', 'plans', 'plant', 'plantains', 'plantar', 'plantation', 'plantbased', 'plants', 'plantstrees', 'plaque', 'plasma', 'plaster', 'plastered', 'plastic', 'plasticware', 'plasticwareplates', 'plate', 'plated', 'plateful', 'plates', 'platesplit', 'plateswe', 'platewonderful', 'platform', 'platforms', 'plating', 'platinum', 'platonically', 'platter', 'platters', 'play', 'playable', 'played', 'playedkinda', 'player', 'players', 'playerwho', 'playful', 'playground', 'playing', 'playingand', 'playingpetting', 'playlist', 'plays', 'plaza', 'plazas', 'plea', 'pleas', 'pleasant', 'pleasanties', 'pleasantly', 'please', 'pleased', 'pleasent', 'pleases', 'pleasing', 'pleasure', 'pleasures', 'pleather', 'pleeeaaassse', 'plentiful', 'plenty', 'plesant', 'plethora', 'plethoric', 'plexiglass', 'pley', 'pleydate', 'plight', 'plinko', 'plinkoesque', 'pllleeeeaaaassseeeeee', 'ploenta', 'plop', 'pluck', 'plug', 'plugged', 'plugs', 'plum', 'plumber', 'plumbing', 'plump', 'plumping', 'plunge', 'plunk', 'plus', 'pluses', 'plush', 'pm', 'pmg', 'pnp', 'pnuemonia', 'po', 'poached', 'poblana', 'poblano', 'poboy', 'poboys', 'poca', 'pocket', 'pockets', 'pod', 'poetic', 'point', 'pointe', 'pointed', 'pointing', 'pointless', 'points', 'pointy', 'poise', 'poisoned', 'poisoning', 'poivre', 'poke', 'poked', 'poker', 'pole', 'polenta', 'poles', 'polestar', 'police', 'policia', 'policies', 'policy', 'polish', 'polishcentric', 'polished', 'polite', 'politely', 'political', 'politically', 'politicians', 'politics', 'polka', 'pollack', 'pollo', 'polo', 'polytechnic', 'pom', 'pome', 'pomegranate', 'pomegranates', 'pomo', 'pompous', 'poms', 'poncho', 'pond', 'pondered', 'pondering', 'pong', 'ponied', 'ponies', 'pontiac', 'pony', 'ponzu', 'pooch', 'pooches', 'poodle', 'poodles', 'pooey', 'pool', 'poolall', 'pools', 'poolside', 'poop', 'poopypick', 'poor', 'poorer', 'poorly', 'pop', 'popashot', 'popcorn', 'popcorn3', 'popo', 'popped', 'poppers', 'popping', 'poppy', 'pops', 'popular', 'popularity', 'populated', 'population', 'populations', 'populous', 'porch', 'porchetta', 'porcini', 'pores', 'pork', 'porkless', 'porks', 'porn', 'porridge', 'port', 'portabella', 'portabello', 'porter', 'portfolio', 'portion', 'portioned', 'portions', 'portionspricey', 'portland', 'portlandia', 'portlands', 'portly', 'porto', 'portobello', 'portrait', 'portraits', 'portuguese', 'pos', 'pose', 'poser', 'posh', 'poshswank', 'posing', 'position', 'positioned', 'positions', 'positive', 'positively', 'positives', 'posole', 'possessed', 'possesses', 'possessing', 'possession', 'possibility', 'possible', 'possiblei', 'possibly', 'post', 'postcards', 'posted', 'poster', 'posters', 'posti', 'posting', 'postino', 'postinos', 'postinosame', 'postnet', 'postprandial', 'posts', 'posture', 'posturenot', 'pot', 'potato', 'potatoe', 'potatoes', 'potatoesa', 'potatoesamazing', 'potatos', 'potbelly', 'potence', 'potent', 'potential', 'potentially', 'potholderoven', 'potholes', 'potion', 'potpourri', 'pots', 'potstickers', 'pottery', 'pottinger', 'poultry', 'pound', 'pounded', 'pounding', 'pounds', 'pour', 'poured', 'pouring', 'pourover', 'pours', 'poutine', 'pow', 'powder', 'powdered', 'powders', 'powdery', 'power', 'powerful', 'powers', 'ppl', 'ppp', 'ppps', 'pps', 'pr', 'practical', 'practically', 'practice', 'practiced', 'practicemeaning', 'practices', 'practicing', 'prada', 'praise', 'praised', 'praisedmostly', 'praises', 'praising', 'prance', 'prank', 'prawn', 'prawns', 'pray', 'prayers', 'praying', 'pre', 'preach', 'preaching', 'preair', 'prebreaded', 'precariouslyand', 'precede', 'preceded', 'precious', 'precise', 'precocous', 'precutcouldnt', 'predator', 'predatorsgive', 'predicament', 'predict', 'predictable', 'predictably', 'predinner', 'predisposed', 'predominantly', 'predominately', 'preeminent', 'preet', 'prefabricated', 'preface', 'prefect', 'prefecture', 'prefer', 'preferably', 'prefered', 'preference', 'preferencesand', 'preferred', 'preferring', 'prefers', 'preferwe', 'prefix', 'preform', 'pregame', 'pregnancy', 'pregnant', 'prego', 'prelude', 'premade', 'premeal', 'prementioned', 'premier', 'premise', 'premises', 'premium', 'premiumhealthiest', 'prempro', 'preoccupied', 'preorder', 'prep', 'prepackaged', 'prepaid', 'preparada', 'preparation', 'preparations', 'prepare', 'prepared', 'preparer', 'prepares', 'preparing', 'prepay', 'preperation', 'preplexed', 'prepped', 'prepping', 'preprepared', 'preprepped', 'preprocessed', 'preregistration', 'prerequisite', 'prereserve', 'preschool', 'prescribed', 'prescription', 'prescriptions', 'presence', 'present', 'presentation', 'presented', 'presenting', 'presents', 'preservation', 'preservatives', 'preserve', 'preserved', 'preserves', 'preset', 'president', 'presidential', 'presidents', 'presold', 'press', 'pressed', 'pressure', 'pressured', 'pressuring', 'pressurized', 'prestige', 'prestigious', 'presto', 'presumably', 'presume', 'presumed', 'preteen', 'pretend', 'pretended', 'pretension', 'pretentious', 'pretentiousness', 'prethanksgiving', 'pretsels', 'prettier', 'prettiest', 'pretty', 'pretzel', 'pretzels', 'prevent', 'preventative', 'prevented', 'prevention', 'preventive', 'previews', 'previous', 'previously', 'preyelp', 'preystrategizing', 'price', 'priced', 'pricehow', 'priceit', 'priceless', 'priceline', 'pricemy', 'pricepackage', 'prices', 'pricesand', 'pricesaverage', 'pricescarl', 'priceseven', 'pricesits', 'pricewallys', 'pricewell', 'pricewise', 'pricey', 'priceyas', 'priceybut', 'pricier', 'pricing', 'pricingdoenst', 'prick', 'prickly', 'pricks', 'pricy', 'pride', 'prides', 'pried', 'prik', 'primarily', 'primary', 'primavera', 'prime', 'primed', 'primer', 'primera', 'primitive', 'primo', 'primp', 'prince', 'princess', 'principle', 'print', 'printed', 'printers', 'printing', 'prints', 'prior', 'priorities', 'priority', 'prison', 'prisoners', 'pristine', 'privacy', 'private', 'privately', 'priveledge', 'priveleges', 'priviledge', 'privy', 'prix', 'prixfixe', 'prize', 'pro', 'proactive', 'prob', 'probably', 'probalby', 'probe', 'problem', 'problematic', 'problems', 'procedure', 'procedures', 'procedurewhat', 'proceed', 'proceeded', 'proceeding', 'proceeds', 'process', 'processed', 'processes', 'processing', 'proclaim', 'procure', 'procured', 'prodding', 'produce', 'produced', 'produces', 'product', 'productchips', 'productgo', 'production', 'productive', 'products', 'profanity', 'profesh', 'profesional', 'professed', 'professes', 'profession', 'professional', 'professionalism', 'professionality', 'professionally', 'professionals', 'professors', 'profile', 'profiling', 'profit', 'profitable', 'profiteroles', 'profitmark', 'profits', 'profoundly', 'profusely', 'program', 'programmable', 'programming', 'programs', 'progress', 'progression', 'progressive', 'progressively', 'prohibition', 'project', 'projected', 'projects', 'prolly', 'prom', 'prominent', 'prominently', 'promiscuous', 'promise', 'promised', 'promises', 'promisethere', 'promising', 'promos', 'promote', 'promoted', 'promoter', 'promoters', 'promotes', 'promoting', 'promotion', 'promotions', 'prompt', 'prompted', 'promptly', 'pronounce', 'pronounced', 'pronto', 'pronunciation', 'proof', 'prop', 'propane', 'proper', 'properly', 'properties', 'property', 'proportional', 'proportions', 'propose', 'proposed', 'proprietor', 'proprietors', 'props', 'prorate', 'pros', 'prosciutto', 'prosciuttoparmigiano', 'proscuitto', 'prosecco', 'prospect', 'prospective', 'prosper', 'prosperous', 'protecting', 'protein', 'proteins', 'protip', 'protocol', 'protégé', 'proud', 'proudly', 'prove', 'proved', 'proven', 'provencal', 'provence', 'proverbial', 'proves', 'provide', 'provided', 'provider', 'providers', 'provides', 'providing', 'province', 'proving', 'provisionals', 'provisions', 'provolone', 'prowl', 'proximity', 'proxy', 'ps', 'pseudo', 'pseudodive', 'pseudohipster', 'psguys', 'psthey', 'psyched', 'psycho', 'psychologically', 'psychologistmentorbutt', 'pub', 'pube', 'public', 'publication', 'publications', 'publicized', 'publiclyunderwritten', 'publicservice', 'published', 'publisher', 'publishers', 'publix', 'pubs', 'pucks', 'pudding', 'puddle', 'puddles', 'pudge', 'pueblo', 'puerto', 'puff', 'puffing', 'puffs', 'puffy', 'pug', 'puka', 'puke', 'puked', 'puking', 'pull', 'pulled', 'pulling', 'pullman', 'pulls', 'pulp', 'pulsating', 'pulverized', 'pumas', 'pump', 'pumped', 'pumpernickel', 'pumpernickelgolden', 'pumping', 'pumpkin', 'pumps', 'pun', 'punch', 'punchcard', 'punched', 'punches', 'punctual', 'punctuated', 'punctuation', 'puncture', 'pungent', 'punished', 'punishment', 'punjabi', 'punk', 'punked', 'puntini', 'pup', 'pupcakes', 'puppet', 'puppies', 'puppy', 'puppyhyper', 'pups', 'pupu', 'pupusa', 'pupusas', 'purchase', 'purchased', 'purchaser', 'purchases', 'purchasing', 'purchasingupgrading', 'pure', 'puree', 'purell', 'purely', 'puri', 'purist', 'purista', 'purists', 'purple', 'purpleorange', 'purpose', 'purposely', 'purposenot', 'purposes', 'purse', 'purses', 'pursued', 'pursuit', 'purveyor', 'puréed', 'push', 'pushed', 'pushes', 'pushing', 'pushups', 'pushy', 'pussy', 'pussycat', 'put', 'puter', 'putrid', 'puts', 'puttanesca', 'puttanesco', 'putting', 'putts', 'puzzled', 'pv', 'pveah', 'pyllo', 'pyramid', 'qc', 'qdoba', 'qhick', 'qs', 'qt', 'quacks', 'quail', 'quaint', 'qualifier', 'qualifies', 'qualify', 'qualifying', 'qualities', 'quality', 'qualm', 'quandary', 'quantities', 'quantity', 'quarter', 'quarters', 'quartersize', 'quartsized', 'quebec', 'queen', 'queens', 'queer', 'quenching', 'quesadilla', 'quesadillas', 'quesadlla', 'quesedillas', 'quesitons', 'queso', 'quesoguacamole', 'quest', 'question', 'questionable', 'questionably', 'questioned', 'questioning', 'questions', 'questionsi', 'queue', 'quibble', 'quiche', 'quiches', 'quick', 'quickening', 'quicker', 'quickest', 'quickly', 'quiessence', 'quiet', 'quieter', 'quietly', 'quiktrip', 'quiktrips', 'quince', 'quinoa', 'quintessential', 'quiona', 'quirk', 'quirkily', 'quirkiness', 'quirky', 'quit', 'quite', 'quitting', 'quiver', 'quiznos', 'quorn', 'quotas', 'quote', 'quoted', 'quotes', 'qverpriced', 'qwest', 'ra', 'rabbit', 'rabbits', 'rabe', 'rabies', 'rabit', 'race', 'raced', 'races', 'racette', 'raceway', 'rachael', 'rachel', 'racial', 'racing', 'racism', 'rack', 'rackin', 'racks', 'racquets', 'rad', 'radar', 'radiator', 'radio', 'radish', 'radishes', 'radius', 'raffle', 'raffles', 'rafters', 'rafts', 'rag', 'rage', 'rager', 'ragey', 'ragin', 'ragout', 'rai', 'rail', 'railing', 'railroad', 'rain', 'rainbow', 'rainforest', 'raintree', 'rainy', 'raise', 'raised', 'raisin', 'raising', 'raj', 'rake', 'ralph', 'rama', 'ramada', 'ramadas', 'ramble', 'rambutans', 'ramen', 'ramikans', 'ramirez', 'ramiros', 'ran', 'rana', 'ranch', 'ranchera', 'ranchero', 'rancheros', 'rancid', 'rancilio', 'random', 'randomly', 'randy', 'randys', 'rang', 'range', 'ranged', 'ranges', 'ranging', 'rangoons', 'rank', 'ranks', 'ransacked', 'ransom', 'rant', 'ranted', 'rap', 'rapid', 'rapper', 'rare', 'rarely', 'rareplus', 'rarer', 'rarity', 'ras', 'rasberry', 'raspadotostitos', 'raspberries', 'raspberry', 'rat', 'ratatouillie', 'rate', 'rated', 'rates', 'rather', 'rating', 'ratings', 'ratio', 'ration', 'rations', 'ratpack', 'rats', 'ratsqirrels', 'rattled', 'rattles', 'rattling', 'rattlings', 'ratty', 'raucous', 'raunchy', 'ravaged', 'rave', 'raved', 'raven', 'ravenous', 'raves', 'raving', 'ravings', 'ravioli', 'raviolis', 'raviolli', 'raw', 'rawk', 'rawness', 'rawr', 'ray', 'rays', 'razor', 'razors', 'razpado', 'rb', 'rbar', 'rbc', 'rc', 'rcvd', 'rd', 'rdh', 'rds', 'reaaaaally', 'reach', 'reachable', 'reached', 'reaches', 'reaching', 'react', 'reacted', 'reaction', 'read', 'reader', 'readers', 'readily', 'reading', 'reads', 'ready', 'real', 'realdeal', 'realistic', 'reality', 'realize', 'realized', 'realizing', 'realllllllly', 'reallllllly', 'reallly', 'really', 'reallyreallysmart', 'reallyyou', 'realrider', 'realryder', 'realtors', 'realty', 'reams', 'reappeared', 'reapplied', 'rear', 'reason', 'reasonable', 'reasonablethey', 'reasonably', 'reasonits', 'reasons', 'reassurance', 'reassurances', 'reassure', 'reassured', 'reassuring', 'rebate', 'rebates', 'rebecca', 'rebel', 'rebook', 'rebuilding', 'rebuttal', 'rec', 'recall', 'recant', 'recap', 'recapture', 'reccomend', 'reccommend', 'receipt', 'receipts', 'receiptschange', 'receive', 'received', 'receiver', 'receives', 'receiving', 'recent', 'recently', 'recept', 'receptacle', 'reception', 'receptionist', 'receptions', 'receptive', 'recesses', 'recession', 'recharging', 'reciept', 'recieved', 'recipe', 'recipei', 'recipes', 'recital', 'recitals', 'recite', 'recites', 'recker', 'recline', 'reclined', 'recliner', 'reclining', 'recognition', 'recognize', 'recognized', 'recomend', 'recommend', 'recommendation', 'recommendations', 'recommended', 'recommending', 'recommends', 'recompense', 'recongnized', 'record', 'recording', 'records', 'recover', 'recovered', 'recovering', 'recovery', 'recreate', 'recreation', 'recruiting', 'rectified', 'rectify', 'recyclable', 'recycling', 'red', 'redbull', 'redchili', 'reddest', 'reddrenched', 'reddwarf', 'redecorating', 'redeem', 'redeeming', 'redefine', 'redemption', 'redicolus', 'rediculous', 'rediculously', 'redid', 'redneck', 'rednecks', 'redo', 'redone', 'reds', 'redseven', 'redsevens', 'reduce', 'reduced', 'reduction', 'redux', 'reeeeally', 'reef', 'reeked', 'reeks', 'reeling', 'reese', 'reeses', 'reesesyou', 'refer', 'reference', 'referenced', 'references', 'referral', 'referred', 'referring', 'refers', 'refill', 'refillable', 'refilled', 'refilling', 'refillplease', 'refills', 'refillsalways', 'refine', 'refined', 'refinement', 'reflect', 'reflected', 'reflecting', 'reflection', 'reflections', 'reflects', 'reflex', 'reflux', 'refreeze', 'refreshed', 'refresher', 'refreshing', 'refreshment', 'refried', 'refrigerated', 'refrigeration', 'refrigerator', 'refueled', 'refuge', 'refugees', 'refund', 'refundable', 'refunded', 'refunds', 'refuse', 'refused', 'refuses', 'refusing', 'reg', 'regal', 'reganera', 'regard', 'regarded', 'regarding', 'regardless', 'regards', 'reggiano', 'regina', 'region', 'regional', 'regions', 'regios', 'register', 'registered', 'registry', 'regoddamndiculously', 'regress', 'regret', 'regreted', 'regrets', 'regrettable', 'regrettably', 'regretted', 'regular', 'regularly', 'regulars', 'regularsjust', 'regularsonce', 'regulator', 'regulatory', 'regus', 'rehearsal', 'rehearsed', 'reheat', 'reheated', 'rehooked', 'rehydrated', 'reimagined', 'reimburse', 'reina', 'reincarnated', 'reinforcement', 'reinstalled', 'reintroduced', 'reinvest', 'reiterate', 'reject', 'rejected', 'rejoice', 'rejuvanation', 'rejuvenated', 'rejuvenates', 'related', 'relating', 'relationship', 'relationships', 'relatively', 'relatives', 'relax', 'relaxation', 'relaxed', 'relaxedgreat', 'relaxing', 'relaxthe', 'relay', 'relayed', 'relearning', 'release', 'released', 'releases', 'releasing', 'relented', 'relevant', 'reliable', 'reliably', 'reliance', 'relic', 'relied', 'relief', 'relieved', 'relieves', 'relieving', 'religion', 'religious', 'relish', 'relishomg', 'relive', 'rellano', 'rellena', 'relleno', 'rellenos', 'relocated', 'reluctant', 'reluctantly', 'rely', 'remain', 'remainder', 'remained', 'remaining', 'remains', 'remake', 'remakes', 'remarkable', 'remarked', 'remedied', 'remedy', 'remember', 'remembered', 'remembering', 'remembers', 'remind', 'reminded', 'reminder', 'reminders', 'reminding', 'reminds', 'reminisced', 'reminiscence', 'reminiscent', 'reminiscing', 'remiss', 'remodeled', 'remodeling', 'remodelled', 'remodled', 'remolded', 'remorse', 'remote', 'remotecontrolled', 'remotely', 'removal', 'remove', 'removed', 'remover', 'renaissance', 'rename', 'renamed', 'renaming', 'rendered', 'renegade', 'renew', 'renewed', 'reno', 'renovated', 'renovation', 'renovations', 'rent', 'rental', 'rentals', 'rented', 'renters', 'renting', 'rents', 'reopen', 'reopened', 'reordered', 'rep', 'repair', 'repaired', 'repairing', 'repairs', 'repairscleaning', 'repartee', 'repast', 'repeat', 'repeated', 'repeatedly', 'repeating', 'repetition', 'repetitive', 'rephrase', 'replace', 'replaced', 'replacedfor', 'replacement', 'replacing', 'replant', 'replenish', 'replenishment', 'replica', 'replied', 'replies', 'reply', 'report', 'reported', 'repotted', 'representation', 'representative', 'represented', 'representing', 'represents', 'reprieve', 'reprinting', 'reprograms', 'reps', 'reptile', 'reptiles', 'republic', 'republican', 'republics', 'repulsive', 'repurposed', 'reputable', 'reputation', 'req', 'request', 'requested', 'requesting', 'requests', 'require', 'required', 'requirement', 'requires', 'reschedule', 'rescheduled', 'rescue', 'rescueafter', 'rescued', 'research', 'researched', 'researching', 'researchor', 'reseated', 'resell', 'resemblance', 'resemble', 'resembled', 'resembling', 'reservation', 'reservations', 'reservationthats', 'reserved', 'residence', 'resident', 'residential', 'residents', 'resides', 'residue', 'residueand', 'resist', 'resistant', 'resisted', 'resisting', 'resling', 'resold', 'resolve', 'resolved', 'resolving', 'resonates', 'resort', 'resortour', 'resorts', 'resortspa', 'resource', 'resources', 'respect', 'respectable', 'respected', 'respectful', 'respecting', 'respectively', 'respond', 'responded', 'responding', 'responds', 'response', 'responses', 'responsibilities', 'responsibility', 'responsible', 'responsive', 'rest', 'restaraunt', 'restauant', 'restaurant', 'restaurantbar', 'restaurantcom', 'restaurantcrush', 'restaurantgoers', 'restaurants', 'restaurateurs', 'resteraunt', 'resting', 'restless', 'resto', 'restock', 'restocking', 'restored', 'restrictions', 'restroom', 'restrooms', 'restuarant', 'restuarants', 'resturant', 'resturants', 'resturaunt', 'result', 'resulted', 'resulting', 'results', 'retail', 'retailed', 'retailers', 'retain', 'retains', 'retarded', 'retards', 'retarted', 'retention', 'rethink', 'rethinking', 'retire', 'retired', 'retirees', 'retirement', 'retort', 'retrains', 'retreat', 'retrieve', 'retrieved', 'retrievedbaked', 'retro', 'retrospectively', 'retrovintage', 'return', 'returned', 'returning', 'returns', 'reuben', 'reunion', 'reunions', 'reusable', 'revamp', 'reveal', 'revealed', 'revealing', 'revel', 'revelation', 'revenge', 'revenue', 'revered', 'reverse', 'review', 'reviewbut', 'reviewed', 'reviewer', 'reviewers', 'reviewing', 'reviews', 'reviewsthe', 'reviewthe', 'reviewthey', 'revisit', 'revisited', 'revitalization', 'revitalize', 'revive', 'revived', 'reviwers', 'revolting', 'revolving', 'reward', 'rewarded', 'rewards', 'rewind', 'rey', 'reynolds', 'rhino', 'rhondas', 'rhone', 'rhyme', 'rhythm', 'rhythmically', 'rhythms', 'rib', 'ribbon', 'ribeeyeeeee', 'ribeye', 'ribs', 'rican', 'rice', 'ricebased', 'ricehigh', 'rices', 'ricespicy', 'rich', 'richard', 'richardsons', 'richardsonsrokerij', 'riches', 'richest', 'richman', 'richmonds', 'richness', 'rick', 'rico', 'ricotta', 'rid', 'riddance', 'ridden', 'riddens', 'riddled', 'ride', 'rider', 'riders', 'rides', 'ridge', 'ridgemont', 'ridiculed', 'ridiculous', 'ridiculously', 'ridiculousness', 'riding', 'riesling', 'rifled', 'rifles', 'rig', 'rigatoni', 'right', 'righteous', 'rightful', 'rightly', 'rights', 'rightso', 'rightwingers', 'rigmarole', 'rim', 'ring', 'ringer', 'ringing', 'rings', 'ringsor', 'ringvintage', 'rink', 'rinkukiu', 'rinse', 'rinsed', 'rio', 'rios', 'rip', 'riparian', 'ripe', 'ripened', 'ripest', 'ripoff', 'ripped', 'rise', 'risers', 'rises', 'rising', 'risk', 'risking', 'risks', 'risky', 'risotto', 'risser', 'rissottocorrectally', 'ristorant', 'ristorante', 'rita', 'ritas', 'ritos', 'ritual', 'ritz', 'rival', 'rivaled', 'rivals', 'rivas', 'river', 'rivers', 'riverview', 'rl', 'rm', 'rnr', 'roach', 'road', 'roadhouse', 'roadhouses', 'roading', 'roads', 'roadshow', 'roadside', 'roadtrip', 'roadway', 'roam', 'roamed', 'roaring', 'roark', 'roast', 'roasted', 'roaster', 'roasting', 'roasts', 'rob', 'robata', 'robb', 'robbins', 'robe', 'robert', 'robertos', 'roberts', 'robes', 'robin', 'robotically', 'robust', 'robyn', 'rock', 'rockabilly', 'rocked', 'rocker', 'rockerij', 'rocket', 'rocketburger', 'rocketed', 'rockets', 'rockin', 'rocking', 'rocknroll', 'rocks', 'rockstar', 'rocksteady', 'rod', 'rode', 'rodgering', 'roeser', 'rogue', 'roka', 'rokerij', 'rolatini', 'role', 'roll', 'rollatini', 'rollbasically', 'rolled', 'roller', 'rollin', 'rolling', 'rolls', 'rollsalso', 'rollsone', 'rollup', 'rollups', 'rollyourown', 'roma', 'romaine', 'roman', 'romance', 'romanellis', 'romano', 'romantic', 'rome', 'romes', 'romper', 'ron', 'roof', 'roofing', 'roofs', 'rooftop', 'rooibos', 'room', 'roommate', 'roomreception', 'rooms', 'roomsuper', 'roomy', 'roosevelt', 'roost', 'rooster', 'root', 'rootbeerthe', 'rooting', 'roots', 'ropa', 'rope', 'roped', 'ropes', 'rosa', 'rose', 'rosearoma', 'rosemary', 'rosie', 'rosies', 'rositas', 'ross', 'rosson', 'rot', 'rotary', 'rotate', 'rotated', 'rotates', 'rotating', 'rotation', 'rotc', 'rotd', 'rotisserie', 'rotten', 'rottiesheppard', 'rotting', 'rouge', 'rough', 'roughly', 'roughlycut', 'round', 'rounded', 'roundeven', 'rounding', 'rounds', 'roundtrip', 'roused', 'route', 'routed', 'routes', 'routine', 'roving', 'row', 'rowdy', 'rows', 'roxie', 'roy', 'royal', 'royale', 'royals', 'royalty', 'roys', 'rr', 'rsvp', 'rt', 'rub', 'rubbed', 'rubber', 'rubbery', 'rubbing', 'ruben', 'rubiks', 'rubios', 'rubs', 'ruby', 'rubz', 'rude', 'rudely', 'rudeness', 'rudest', 'rudys', 'rue', 'rueben', 'rues', 'ruffians', 'rugby', 'rugged', 'rugger', 'rugs', 'ruin', 'ruined', 'ruining', 'ruins', 'rula', 'rule', 'rules', 'rum', 'rumbi', 'rumbles', 'rumbling', 'rumor', 'rums', 'run', 'rundown', 'runner', 'runners', 'runniest', 'running', 'runny', 'runs', 'runway', 'rupturedissipated', 'rural', 'rush', 'rushed', 'rushes', 'rushing', 'russells', 'russets', 'russian', 'rustic', 'rustica', 'rusticana', 'rustlers', 'rusty', 'rustys', 'rut', 'rutabaga', 'ruth', 'ruths', 'rx', 'ryan', 'rye', 'sa', 'sabor', 'sabzi', 'sabziwhich', 'sacked', 'sacks', 'sacramento', 'sacred', 'sacrifice', 'sacrificed', 'sad', 'saddens', 'saddle', 'sadly', 'sadness', 'safe', 'safely', 'safer', 'safety', 'safeway', 'saffron', 'safley', 'saga', 'sagacity', 'sage', 'sagging', 'saguaro', 'said', 'saidbut', 'saidowner', 'saigon', 'sailors', 'saint', 'saintly', 'sakana', 'sake', 'sakebomber', 'sakes', 'saki', 'sala', 'salad', 'salada', 'saladfresh', 'saladi', 'salads', 'saladsandwich', 'saladthey', 'salami', 'salary', 'salat', 'salazar', 'salazars', 'salcido', 'salds', 'sale', 'salek', 'salem', 'sales', 'salesgirl', 'salesgirls', 'salesman', 'salesperson', 'saleswomen', 'salethink', 'saliva', 'salivate', 'salivates', 'salivating', 'sally', 'salmon', 'salmons', 'salmonyellowtailtuna', 'salon', 'salons', 'salontrust', 'saloon', 'salsa', 'salsas', 'salsay', 'salscicia', 'salsiccia', 'salt', 'salted', 'saltier', 'saltiest', 'saltimbocca', 'saltine', 'saltiness', 'saltwater', 'salty', 'saltysweet', 'salud', 'salute', 'salvador', 'salvage', 'salvation', 'sam', 'samburger', 'samich', 'sammich', 'sammies', 'sammy', 'samosa', 'samosas', 'sample', 'sampled', 'sampler', 'samples', 'sampling', 'samplings', 'sams', 'samsung', 'samuri', 'san', 'sanctuary', 'sanctuarythe', 'sand', 'sandal', 'sandals', 'sandalwood', 'sanded', 'sandellas', 'sanding', 'sandos', 'sands', 'sandstone', 'sandstorm', 'sandwhich', 'sandwhiches', 'sandwich', 'sandwiched', 'sandwiches', 'sandwichessaladsetc', 'sandwichesthey', 'sandwichhalf', 'sandwichi', 'sandy', 'sandys', 'sane', 'sang', 'sangria', 'sangrias', 'sanitary', 'sanitizing', 'sanity', 'sank', 'sans', 'santa', 'santan', 'sante', 'santi', 'santisi', 'sao', 'sapling', 'sapporo', 'sar', 'sara', 'sarah', 'sarcasm', 'sarcastic', 'sarcastically', 'sarrc', 'sars', 'sarsaparilla', 'sas', 'sashimi', 'sat', 'satay', 'sate', 'sated', 'satellite', 'satiate', 'satified', 'satisfaction', 'satisfied', 'satisfies', 'satisfy', 'satisfying', 'satisfyingly', 'satori', 'satsun', 'satuday', 'saturated', 'saturday', 'saturdays', 'saturdaysunday', 'sauce', 'sauce1895', 'saucea', 'sauceamazing', 'saucebut', 'sauced', 'sauceecstasy', 'saucehuge', 'saucenot', 'saucers', 'sauces', 'saucespread', 'saucetasting', 'saucewas', 'saucey', 'saucy', 'sauerbraten', 'sauerkraut', 'sauna', 'saunas', 'saunter', 'saurkraut', 'sausage', 'sausageever', 'sausages', 'sauteed', 'sautéed', 'sauv', 'sauvignon', 'save', 'saved', 'saver', 'savers', 'saves', 'saving', 'savings', 'savor', 'savored', 'savoring', 'savory', 'savorythe', 'savoy', 'savvy', 'saw', 'sawdust', 'sawed', 'sawthsic', 'saxophone', 'say', 'say15mins', 'say850', 'saydont', 'sayi', 'sayin', 'saying', 'saymaharaja', 'says', 'sazerac', 'sb', 'sbux', 'scal', 'scale', 'scallion', 'scallions', 'scallop', 'scalloped', 'scallops', 'scalp', 'scam', 'scammed', 'scammedthink', 'scamorza', 'scan', 'scandalesque', 'scandinavian', 'scanned', 'scanning', 'scans', 'scant', 'scantily', 'scape', 'scar', 'scardy', 'scare', 'scared', 'scarey', 'scarf', 'scarfed', 'scarfing', 'scarier', 'scariest', 'scary', 'scathing', 'scattered', 'scenario', 'scene', 'sceneand', 'scenery', 'scenes', 'sceney', 'scenic', 'scent', 'scented', 'schedule', 'scheduled', 'schedules', 'scheduling', 'scheme', 'schmancy', 'schmears', 'schmicks', 'schmucks', 'schneikies', 'schnitzel', 'school', 'schooled', 'schoolnot', 'schools', 'schreiners', 'schwettyand', 'science', 'scientific', 'scientificlogical', 'scientist', 'scifi', 'scissors', 'scoffed', 'scolded', 'scolding', 'scollops', 'scone', 'sconedry', 'scones', 'scoop', 'scooped', 'scoops', 'scooter', 'scope', 'scorching', 'score', 'scored', 'scores', 'scorpion', 'scorpions', 'scotch', 'scothes10', 'scott', 'scottsadale', 'scottsdale', 'scottsdalelincoln', 'scottsdaleparadise', 'scottsdales', 'scottsdalian', 'scottsdalish', 'scout', 'scowl', 'scraggly', 'scramble', 'scrambled', 'scrambler', 'scramblers', 'scrambles', 'scrambling', 'scrap', 'scraped', 'scraping', 'scraps', 'scrapypointy', 'scratch', 'scratched', 'scratcher', 'scream', 'screamed', 'screaming', 'screams', 'screen', 'screening', 'screens', 'screw', 'screwed', 'screwedup', 'screwing', 'screws', 'screwups', 'script', 'scripts', 'scrounge', 'scrub', 'scrubs', 'scruffy', 'scrumptious', 'scrunch', 'scrunched', 'sculpted', 'sculpture', 'sculptures', 'scum', 'scuzy', 'sd', 'sdl', 'se', 'sea', 'seabase', 'seabass', 'seafood', 'seafoods', 'seagulls', 'sealed', 'seamlessly', 'seams', 'seamus', 'sean', 'seann', 'sear', 'search', 'searched', 'searches', 'searching', 'seared', 'sears', 'searscom', 'season', 'seasonal', 'seasoned', 'seasoning', 'seasons', 'seat', 'seated', 'seating', 'seatinglots', 'seatings', 'seats', 'seattle', 'seaweed', 'sebastian', 'sec', 'secluded', 'second', 'secondary', 'secondguessing', 'secondi', 'secondly', 'seconds', 'secondworst', 'secret', 'secretarys', 'secretive', 'secrets', 'secs', 'section', 'sectionat', 'sectioned', 'sectionnot', 'sections', 'secure', 'secured', 'security', 'sedate', 'sedated', 'sedation', 'sedona', 'sedonawe', 'see', 'seed', 'seeded', 'seeds', 'seedy', 'seeing', 'seek', 'seeking', 'seem', 'seemed', 'seeming', 'seemingly', 'seems', 'seen', 'seenand', 'seeni', 'seenworth', 'sees', 'seetobeseen', 'seewhat', 'segments', 'segway', 'seizing', 'sekong', 'seldom', 'select', 'selected', 'selecting', 'selection', 'selectioned', 'selections', 'selectionyou', 'selects', 'selena', 'self', 'selfconsciously', 'selfdont', 'selfish', 'selfprofessed', 'selfserve', 'selfservice', 'selftaught', 'sell', 'seller', 'sellers', 'selling', 'sells', 'selvedge', 'selves', 'semblance', 'semerdjian', 'semester', 'semi', 'semialacarte', 'semiannual', 'semibusy', 'semihealth', 'semilong', 'seminew', 'semitrailers', 'sen', 'send', 'sending', 'sendoff', 'sends', 'senior', 'seniors', 'senor', 'senorita', 'sens', 'sensation', 'sensational', 'sensations', 'sense', 'sensed', 'senses', 'sensible', 'sensitive', 'sensitivity', 'sensory', 'sensuous', 'sent', 'sentance', 'sentence', 'sentences', 'sentimental', 'separate', 'separately', 'separating', 'separation', 'seperate', 'sephora', 'september', 'sequel', 'sequence', 'sequined', 'sera', 'serbian', 'serene', 'serenity', 'series', 'serious', 'seriously', 'seriouslythis', 'serive', 'serously', 'serpentine', 'serptember', 'serranos', 'serums', 'serv', 'serve', 'served', 'server', 'serverbartender', 'servered', 'servergreat', 'serverotherwise', 'servers', 'serversand', 'serverscomplete', 'serversdang', 'serves', 'service', 'serviceand', 'serviceawful', 'serviced', 'serviceif', 'serviceim', 'serviceridiculously', 'services', 'serviceslow', 'servicesmall', 'servicethey', 'servicewe', 'servicewise', 'serving', 'servings', 'sesame', 'session', 'sessions', 'set', 'sets', 'setting', 'settings', 'settle', 'settled', 'setup', 'setups', 'setwow', 'seven', 'sevenfigure', 'sever', 'several', 'severalacapslock', 'severe', 'severely', 'sew', 'sewer', 'sewn', 'sex', 'sexiest', 'sexiness', 'sexy', 'sexysultry', 'sf', 'sf25b', 'sfo', 'sfthe', 'sh', 'shabby', 'shabu', 'shack', 'shacked', 'shade', 'shaded', 'shades', 'shadow', 'shadows', 'shady', 'shadysi', 'shae', 'shaft', 'shake', 'shaken', 'shaker', 'shakes', 'shaking', 'shall', 'shallot', 'shallots', 'sham', 'shame', 'shameful', 'shamefully', 'shameless', 'shampoo', 'shampoos', 'shanghai', 'shank', 'shanks', 'shannon', 'shape', 'shaped', 'shapes', 'shapetheir', 'shaping', 'shar', 'share', 'shareameal', 'shared', 'sharers', 'shares', 'sharing', 'shark', 'sharkfest', 'sharon', 'sharp', 'sharpened', 'sharper', 'sharpie', 'shars', 'shashimi', 'shasta', 'shattered', 'shave', 'shaved', 'shaves', 'shaving', 'shawarma', 'shawn', 'shazam', 'shazzam', 'shea', 'sheared', 'shed', 'shedding', 'sheen', 'sheep', 'sheer', 'sheesh', 'sheet', 'sheets', 'sheila', 'shelf', 'shell', 'shellac', 'shelley', 'shellfish', 'shelling', 'shells', 'shelter', 'sheltered', 'shelve', 'shelves', 'shelving', 'shenanigans', 'shep', 'shepard', 'shepards', 'shepherd', 'shepherds', 'sheps', 'sheraton', 'sheriff', 'sherlock', 'sherry', 'shes', 'shift', 'shifts', 'shifty', 'shimagamo', 'shimp', 'shin', 'shinbay', 'shindig', 'shine', 'shiner', 'shines', 'shiney', 'shing', 'shining', 'shins', 'shiny', 'ship', 'shipment', 'shipments', 'shipped', 'shipping', 'shirataki', 'shiraz', 'shirazi', 'shirt', 'shirts', 'shish', 'shishito', 'shit', 'shitake', 'shitaki', 'shithead', 'shitmusic', 'shitthen', 'shittier', 'shitty', 'shmancy', 'sho', 'shochu', 'shock', 'shocked', 'shocker', 'shocking', 'shockingly', 'shocks', 'shoe', 'shoes', 'shone', 'shook', 'shooshingsounding', 'shoot', 'shooters', 'shooting', 'shoots', 'shootwho', 'shop', 'shopaholics', 'shopcasual', 'shopkeepers', 'shopparadise', 'shoppe', 'shopped', 'shopper', 'shopperiod', 'shoppers', 'shopping', 'shoppingdining', 'shoppingnot', 'shops', 'shorba', 'shoretype', 'short', 'short13', 'shortage', 'shortbreadtasting', 'shorten', 'shortened', 'shortens', 'shorter', 'shorthand', 'shortleashdogs', 'shortly', 'shortpar', 'shortribs', 'shorts', 'shorty', 'shortys', 'shot', 'shotgun', 'shotit', 'shots', 'shoulder', 'shoulders', 'shouldnt', 'shouldve', 'shout', 'shouted', 'shouting', 'shoutout', 'shouts', 'shoved', 'shovel', 'shovelfuls', 'shoveling', 'shoving', 'show', 'showcase', 'showcased', 'showed', 'shower', 'showering', 'showers', 'showing', 'showings', 'shown', 'showroom', 'shows', 'showstopper', 'shrapnel', 'shred', 'shredded', 'shreds', 'shrimp', 'shrimpcrab', 'shrimppork', 'shrine', 'shrink', 'shriveled', 'shrooms', 'shrugged', 'sht', 'shthole', 'shtty', 'shu', 'shudder', 'shuffleboard', 'shuffled', 'shuffling', 'shui', 'shuro', 'shut', 'shuttle', 'shuttled', 'shwarma', 'shwarmasp', 'shy', 'shyness', 'shyt', 'si', 'siam', 'siblings', 'sichuan', 'sicilian', 'sick', 'sickening', 'sickeningly', 'sickest', 'sickly', 'side', 'sideall', 'sideand', 'sideat', 'sidebar', 'sidebarphx', 'sidecar', 'sided', 'sidego', 'sidekick', 'sidepalate', 'sides', 'sidethe', 'sidewalk', 'sideways', 'sidling', 'siduri', 'siebel', 'sierra', 'sift', 'sigh', 'sighed', 'sight', 'sights', 'sign', 'signage', 'signal', 'signaled', 'signals', 'signature', 'signed', 'signer', 'signi', 'significant', 'significantly', 'signin', 'signing', 'signs', 'siiders', 'silberschlag', 'silence', 'silenced', 'silent', 'silently', 'silicabased', 'silk', 'silklined', 'silky', 'silkysmooth', 'silly', 'silvana', 'silver', 'silvered', 'silvermine', 'silverton', 'silverware', 'sima', 'similar', 'similarities', 'similarity', 'similarly', 'simmered', 'simple', 'simplest', 'simplicity', 'simplify', 'simplistic', 'simply', 'simpson', 'simultaneously', 'sin', 'sinatra', 'since', 'sincere', 'sincerely', 'sincerity', 'sincewell', 'sinful', 'sinfuland', 'sinfully', 'sing', 'singapore', 'singer', 'singers', 'singing', 'single', 'singles', 'singleterriblehostess', 'singleton', 'sink', 'sinker', 'sinking', 'sinks', 'sinner', 'sinsr', 'sip', 'siphon', 'sipped', 'sipping', 'sips', 'siptaste', 'sir', 'sirloin', 'sissies', 'sissy', 'sissys', 'sister', 'sisterinlaw', 'sisters', 'sit', 'sitdown', 'site', 'sites', 'sits', 'sitsin', 'sitter', 'sitting', 'situated', 'situation', 'situationbut', 'siu', 'sivananda', 'six', 'sixteen', 'sixth', 'sixty', 'sixyear', 'sizable', 'size', 'sized', 'sizeranne', 'sizes', 'sizing', 'sizzle', 'sizzler', 'sizzling', 'sj', 'sjcrappy', 'skarderud', 'skate', 'skateboarding', 'skating', 'skeptic', 'skeptical', 'skepticism', 'sketchbook', 'sketchy', 'skewed', 'skewer', 'skewers', 'ski', 'skiba', 'skill', 'skilled', 'skillet', 'skillets', 'skillfully', 'skills', 'skillsall', 'skim', 'skimp', 'skimpy', 'skin', 'skinny', 'skinon', 'skins', 'skip', 'skipped', 'skipping', 'skirt', 'skirts', 'skits', 'skull', 'sky', 'skylights', 'skyline', 'slab', 'slabs', 'slacks', 'slam', 'slammed', 'slander', 'slang', 'slanged', 'slangs', 'slant', 'slap', 'slapped', 'slaps', 'slash', 'slated', 'slather', 'slathered', 'slave', 'slaw', 'slawmy', 'sleazers', 'sleek', 'sleep', 'sleeping', 'sleepy', 'sleeve', 'sleeved', 'sleeves', 'slept', 'slew', 'slice', 'sliced', 'slices', 'slicing', 'slick', 'slicker', 'slid', 'slide', 'slider', 'sliders', 'slides', 'sliding', 'slight', 'slighted', 'slightest', 'slightly', 'slighty', 'slim', 'slimmed', 'slimming', 'slimy', 'slingers', 'slip', 'slipped', 'slippers', 'slippery', 'sliver', 'slivered', 'slivers', 'sllluuuurrrpp', 'slob', 'slogan', 'slop', 'slope', 'slopes', 'slopped', 'sloppy', 'slot', 'slotted', 'slouch', 'slow', 'slowed', 'slowest', 'slowing', 'slowly', 'slownot', 'slowroasted', 'slums', 'slurpers', 'slurping', 'slurs', 'slushies', 'slutty', 'sm', 'smack', 'smacked', 'smacking', 'smacks', 'small', 'smaller', 'smallest', 'smalli', 'smallish', 'smalll', 'smallonce', 'smallshared', 'smancy', 'smart', 'smarten', 'smarter', 'smarts', 'smash', 'smashboxx', 'smashburger', 'smashed', 'smashing', 'smattering', 'smc', 'smear', 'smeared', 'smearing', 'smedium', 'smeeks', 'smell', 'smelled', 'smelling', 'smells', 'smelly', 'smile', 'smiled', 'smiles', 'smiley', 'smiling', 'smith', 'smittys', 'smock', 'smoke', 'smoked', 'smokehouse', 'smokehouseoooh', 'smokers', 'smokes', 'smokey', 'smokin', 'smoking', 'smokingdrinking', 'smoky', 'smooshy', 'smooth', 'smoother', 'smoothie', 'smoothies', 'smoothly', 'smoothplus', 'smoothy', 'smore', 'smores', 'smother', 'smothered', 'smuckers', 'smuggling', 'snaaz', 'snack', 'snacking', 'snacks', 'snag', 'snagged', 'snagging', 'snails', 'snakes', 'snaking', 'snap', 'snapped', 'snapper', 'snappy', 'snaps', 'snarfed', 'snarking', 'snarl', 'snatched', 'sneak', 'sneaker', 'sneakers', 'sneaking', 'sneaks', 'sneaky', 'sneer', 'sneeze', 'sneezed', 'snicker', 'snickerdoodle', 'snickered', 'snickers', 'sniff', 'sniffed', 'sniffling', 'sniffster', 'snikerdoodle', 'snob', 'snobbery', 'snobbish', 'snobbsdaleish', 'snobby', 'snobs', 'snoooty', 'snooty', 'snorting', 'snottily', 'snottsdale', 'snotty', 'snow', 'snowbirds', 'snowfairy', 'snubbed', 'soak', 'soaked', 'soaking', 'soap', 'soaps', 'soapy', 'soas', 'soba', 'sober', 'socal', 'socalled', 'soccer', 'social', 'socialize', 'socialized', 'socializing', 'socially', 'society', 'societya', 'sock', 'socket', 'sockets', 'socks', 'soda', 'sodas', 'sodelicious', 'sofa', 'sofas', 'sofiait', 'soft', 'softball', 'softdrink', 'softee', 'softened', 'softening', 'softer', 'softgreen', 'softshell', 'software', 'sogginess', 'soggy', 'soi', 'sol', 'solar', 'sold', 'soldier', 'soldiered', 'sole', 'solely', 'solemnly', 'soles', 'solicited', 'solicits', 'solid', 'solidly', 'solitaire', 'solitary', 'solitude', 'solo', 'solstice', 'soluitions', 'solution', 'solutions', 'solve', 'solved', 'solvent', 'solvents', 'solving', 'som', 'somber', 'sombras', 'sombreros', 'somebody', 'somebodys', 'someday', 'somehow', 'somehwere', 'someone', 'someones', 'someplace', 'something', 'somethings', 'somethingsome', 'somethingwellthats', 'sometime', 'sometimes', 'somewhat', 'somewhere', 'somewherelll', 'sommelier', 'sommersault', 'somtimes', 'somtum', 'son', 'sone', 'song', 'songs', 'sonic', 'sonny', 'sonora', 'sonoran', 'sons', 'sony', 'soo', 'soon', 'soonand', 'sooner', 'soontobe', 'sooo', 'soooo', 'sooooo', 'soooooo', 'sooooooo', 'soooooooo', 'sooooooooo', 'sooooowe', 'soothe', 'soothing', 'sop', 'sopa', 'sopapilla', 'sopapillas', 'sophia', 'sophies', 'sophisticated', 'sophistication', 'sophomore', 'sopping', 'sopranos', 'sopressata', 'sorbet', 'sorbets', 'sordid', 'sore', 'sorely', 'sorento', 'soronan', 'sorority', 'sorrentino', 'sorrow', 'sorrows', 'sorry', 'sort', 'sorta', 'sorted', 'sorting', 'sorts', 'sosince', 'soso', 'souchong', 'souffle', 'souffles', 'sought', 'soul', 'souls', 'sound', 'sounded', 'sounding', 'sounds', 'soundtrack', 'soup', 'soupdrools', 'soupnazi', 'soupreally', 'soups', 'soupsalad', 'soupvery', 'soupy', 'sour', 'source', 'sourced', 'sources', 'sourcing', 'sourdough', 'sourness', 'sous', 'south', 'southbridge', 'southeast', 'southern', 'southernspanish', 'southwest', 'southwestern', 'soutwest', 'souvenier', 'souveniers', 'souvia', 'souvlaki', 'sowill', 'sox', 'soy', 'soyfree', 'soylent', 'soynami', 'soynamis', 'sp', 'spa', 'space', 'spacecadet', 'spaces', 'spacey', 'spacing', 'spacious', 'spackling', 'spades', 'spaetzle', 'spagetti', 'spaghetti', 'spain', 'spalover', 'spam', 'span', 'spandex', 'spandwex', 'spaniards', 'spanikopita', 'spanish', 'spanishmexican', 'spanking', 'spare', 'spared', 'spark', 'sparked', 'sparkling', 'sparkly', 'sparse', 'spas', 'spashground', 'spastic', 'spat', 'spaten', 'spaw', 'spawn', 'spawned', 'spay', 'spaying', 'speak', 'speakeasy', 'speaker', 'speakers', 'speaking', 'speaks', 'spear', 'spearmint', 'special', 'specialan', 'specialist', 'specialists', 'speciality', 'specialize', 'specializes', 'specially', 'specialness', 'specialorders', 'specials', 'specialstry', 'specialties', 'specialtly', 'specialty', 'species', 'specific', 'specifically', 'specification', 'specifications', 'specifics', 'specified', 'speckled', 'spectacular', 'spectators', 'spectrum', 'speculate', 'speculation', 'speech', 'speechless', 'speed', 'speeds', 'speedy', 'spell', 'spelled', 'spelling', 'spellings', 'spencer', 'spend', 'spending', 'spends', 'spendy', 'spent', 'speraticly', 'spewed', 'spic', 'spice', 'spiced', 'spicedherbed', 'spices', 'spicey', 'spicier', 'spiciness', 'spicoli', 'spicollilike', 'spicy', 'spicyfood', 'spicylovers', 'spicysmooth', 'spicysweet', 'spicythe', 'spiddle', 'spider', 'spiderman', 'spiders', 'spiedini', 'spieker', 'spiiiccyyyy', 'spiked', 'spikey', 'spiky', 'spikyheeled', 'spill', 'spilled', 'spilling', 'spin', 'spinach', 'spinachyou', 'spinal', 'spinatos', 'spincach', 'spinning', 'spirit', 'spirits', 'spiritsso', 'spiritual', 'spiro', 'spit', 'spite', 'splash', 'splashed', 'splashing', 'splatters', 'splayed', 'splenda', 'splendid', 'splinter', 'split', 'splits', 'splitting', 'splleeeendid', 'splurge', 'splurged', 'splurges', 'splurging', 'spoil', 'spoiled', 'spoilt', 'spoke', 'spoken', 'spongelike', 'spongy', 'sponsored', 'spontaneous', 'spooky', 'spoon', 'spoonful', 'spoonfuls', 'spoons', 'sporadic', 'spore', 'sport', 'sportbarpool', 'sporting', 'sportmans', 'sports', 'sportsmans', 'spot', 'spotless', 'spotlessly', 'spotoh', 'spoton', 'spotonlemon', 'spots', 'spotted', 'spotty', 'spotyou', 'spouse', 'spouses', 'spouting', 'spouts', 'sprawl', 'sprawled', 'sprawling', 'sprawls', 'spray', 'sprayer', 'spread', 'spreads', 'spreadsheet', 'spring', 'springfield', 'springrolls', 'springs', 'sprinkle', 'sprinkled', 'sprinkles', 'sprinkling', 'sprint', 'sprite', 'sprites', 'sprout', 'sprouts', 'spudnuts', 'spumoni', 'spun', 'spur', 'spy', 'sq', 'sqawapologists', 'squad', 'square', 'squares', 'squash', 'squat', 'squaw', 'squeaky', 'squealing', 'squeegee', 'squeeking', 'squeeze', 'squeezed', 'squeezing', 'squid', 'squint', 'squirming', 'squirrel', 'squirrels', 'squirt', 'squirted', 'squished', 'squishing', 'squishy', 'sr', 'sriacha', 'sriracha', 'ss', 'ssc', 'sslowest', 'ssssshhhhhh', 'st', 'stab', 'stabbed', 'stable', 'stack', 'stacked', 'stacking', 'stacks', 'stadium', 'stadiumjobingcom', 'stadiums', 'staff', 'staffa', 'staffchefs', 'staffed', 'staffer', 'staffevery', 'staffing', 'staffperson', 'staffpersons', 'staffs', 'staffthe', 'stage', 'stagecoach', 'stages', 'stageshow', 'staggering', 'stained', 'staining', 'stainless', 'stains', 'stair', 'staircase', 'stairmaster', 'stairs', 'stake', 'staked', 'stale', 'stalehard', 'stalelooking', 'stalk', 'stalked', 'stalking', 'stall', 'stalled', 'stalls', 'stamina', 'stammered', 'stammering', 'stamp', 'stamped', 'stand', 'standard', 'standards', 'standby', 'standin', 'standing', 'standout', 'standouts', 'stands', 'stanley', 'stans', 'staple', 'staples', 'stapley', 'star', 'starbuck', 'starbucks', 'starbucksand', 'starbut', 'starches', 'stardust', 'stare', 'stared', 'stares', 'stargazing', 'staring', 'stark', 'starrbut', 'starry', 'stars', 'starsperhaps', 'starsthe', 'start', 'started', 'starteed', 'starter', 'starters', 'startersi', 'starti', 'starting', 'startled', 'startline', 'startlingly', 'starts', 'startup', 'startups', 'starve', 'starving', 'starvingthis', 'starwhybecause', 'starwood', 'stash', 'stashed', 'stashing', 'state', 'stated', 'stateda', 'statement', 'states', 'stateside', 'static', 'stating', 'station', 'stationary', 'stationed', 'stations', 'statistics', 'statues', 'stature', 'status', 'stave', 'stay', 'staycation', 'staycations', 'stayed', 'staying', 'stays', 'steady', 'steak', 'steakbon', 'steakburger', 'steakchicken', 'steakhouse', 'steakhouses', 'steakmelts', 'steaks', 'steal', 'stealerships', 'stealing', 'steals', 'stealthy', 'steam', 'steamed', 'steamers', 'steaming', 'stedson', 'steel', 'steelhead', 'steen', 'steep', 'steeping', 'steepness', 'steer', 'steered', 'steinway', 'stella', 'stellar', 'stellas', 'stem', 'stemware', 'stench', 'step', 'stepdad', 'stephen', 'stepped', 'stepper', 'stepping', 'steps', 'stepsister', 'stereo', 'stereotype', 'stereotypical', 'sterile', 'sterilized', 'steroids', 'stetson', 'steve', 'stew', 'stewart', 'stewbut', 'stews', 'stewthe', 'sthttpwwwsonoraveterinaryspecialistscom', 'stick', 'sticker', 'stickers', 'stickiness', 'sticking', 'stickler', 'stickonmustaches', 'sticks', 'sticky', 'stiff', 'stiffy', 'stigma', 'stigmata', 'still', 'stilll', 'stillwarm', 'stilton', 'stimulating', 'stimulation', 'stimuli', 'stingray', 'stingrays', 'stingy', 'stink', 'stinkeyed', 'stinking', 'stinks', 'stinkweeds', 'stinky', 'stipulation', 'stipulations', 'stir', 'stirfried', 'stirred', 'stirrup', 'stitched', 'stitches', 'stitching', 'stl', 'stock', 'stocked', 'stocking', 'stockings', 'stocks', 'stockwas', 'stockyards', 'stoked', 'stole', 'stolen', 'stomach', 'stomachs', 'stomp', 'stomped', 'stompin', 'stomping', 'stone', 'stoned', 'stones', 'stood', 'stool', 'stools', 'stop', 'stopped', 'stopping', 'stops', 'stopso', 'storage', 'store', 'storebut', 'stored', 'storedont', 'storefood', 'storefront', 'storefronts', 'stores', 'storesbrewers', 'storesparking', 'storeto', 'storewhat', 'stories', 'storm', 'stormed', 'storms', 'stormy', 'story', 'stouffers', 'stout', 'stracciatella', 'straddling', 'straight', 'straightaway', 'straightforward', 'strain', 'strained', 'strait', 'strand', 'stranded', 'strands', 'strange', 'strangely', 'stranger', 'strangers', 'strangest', 'strap', 'strapless', 'strapped', 'straps', 'strategic', 'strategy', 'stratified', 'straw', 'strawberries', 'strawberry', 'stray', 'strayed', 'strbucks', 'streak', 'stream', 'streaming', 'streamliner', 'strebe', 'street', 'streetnow', 'streets', 'streetso', 'streetwalkin', 'strength', 'strenuous', 'strep', 'stress', 'stressed', 'stressing', 'stretch', 'stretches', 'stretching', 'striaght', 'strict', 'strictly', 'stride', 'strike', 'strikes', 'striking', 'string', 'stringent', 'stringier', 'strings', 'stringy', 'strip', 'stripe', 'striped', 'stripes', 'striping', 'stripmall', 'stripon', 'stripped', 'stripper', 'strippers', 'stripping', 'strips', 'stripsand', 'strive', 'strives', 'stroganoff', 'stroke', 'strokes', 'stroll', 'strolled', 'stroller', 'strolling', 'strong', 'strongcheck', 'stronger', 'stronghold', 'strongly', 'strongvery', 'strore', 'struck', 'structure', 'struggle', 'struggled', 'struggles', 'struggling', 'strummed', 'struts', 'stubborn', 'stubbs', 'stubs', 'stucco', 'stuck', 'stucky', 'stud', 'studded', 'studebaker', 'student', 'students', 'studied', 'studio', 'studios', 'study', 'studying', 'stuff', 'stuffed', 'stuffing', 'stuffthis', 'stuffwhat', 'stuffy', 'stumble', 'stumbled', 'stumbling', 'stumps', 'stunk', 'stunned', 'stunner', 'stunning', 'stupendous', 'stupendously', 'stupid', 'stupidly', 'stupor', 'sturgeon', 'stutter', 'stuttering', 'style', 'stylebaby', 'styled', 'stylekinda', 'styles', 'stylings', 'stylish', 'stylist', 'stylists', 'stylush', 'styrofoam', 'sua', 'sub', 'subaru', 'subarus', 'subcompared', 'subconcious', 'subdued', 'suberb', 'subject', 'subjects', 'sublime', 'submit', 'submitted', 'submitting', 'subpar', 'subs', 'subscriber', 'subscription', 'subscriptions', 'subsequent', 'subsequently', 'subset', 'substance', 'substandard', 'substantial', 'substantially', 'substitute', 'substituted', 'substitution', 'substitutions', 'subtle', 'subtleness', 'subtly', 'subtract', 'suburban', 'suburbia', 'suburbs', 'subway', 'subways', 'succeed', 'succeeded', 'succeeds', 'success', 'successful', 'successfully', 'succulent', 'succulents', 'succumbed', 'sucha', 'suck', 'sucked', 'sucker', 'suckered', 'suckers', 'sucking', 'sucks', 'sud', 'sudden', 'suddenly', 'suds', 'sue', 'sued', 'suffer', 'suffered', 'suffering', 'suffers', 'suffice', 'sufficed', 'sufficient', 'sufficiently', 'sugar', 'sugared', 'sugarfree', 'sugary', 'suggest', 'suggested', 'suggestedwhy', 'suggesting', 'suggestion', 'suggestions', 'suggests', 'suicide', 'suit', 'suitable', 'suite', 'suitea', 'suited', 'suites', 'suiting', 'suits', 'sullungtang', 'sultryseductive', 'sum', 'sumac', 'sumibiyaki', 'summarize', 'summary', 'summer', 'summers', 'summertime', 'summery', 'summit', 'summitt', 'sumptuous', 'sums', 'sun', 'sunburn', 'sunchokes', 'sundae', 'sundaes', 'sundance', 'sunday', 'sundayand', 'sundays', 'sundaysboo', 'sundaysfound', 'sundevil', 'sundried', 'sundries', 'sundrops', 'sunflower', 'sunglasses', 'sunken', 'sunny', 'sunnyside', 'sunnyslope', 'sunridge', 'sunrise', 'suns', 'sunscreen', 'sunscreens', 'sunscreensi', 'sunset', 'sunshine', 'sunsine', 'sunthurs', 'super', 'superb', 'superbly', 'superbowl', 'superbusy', 'supercheap', 'supercuts', 'superdry', 'superfantastic', 'superfantasticdeliciousness', 'superfood', 'superfoodiority', 'superfriendly', 'superhighend', 'superior', 'superman', 'supermarket', 'supermarkets', 'supershort', 'superspiced', 'superspicy', 'superstar', 'superstition', 'supervision', 'supervisor', 'supervisors', 'supped', 'supper', 'supplementation', 'supplements', 'supplier', 'suppliers', 'supplies', 'supply', 'support', 'supported', 'supporter', 'supporters', 'supporting', 'supportinvest', 'supportive', 'supports', 'suppose', 'supposed', 'supposedly', 'supreme', 'supremely', 'suprise', 'suprising', 'sur', 'surcharge', 'surcharges', 'sure', 'surefire', 'surely', 'surf', 'surface', 'surfaces', 'surfing', 'surgeries', 'surgery', 'surly', 'surname', 'surpassed', 'surpasses', 'surprise', 'surprised', 'surprisedimpressed', 'surprises', 'surprisesun', 'surprisethey', 'surprising', 'surprisingly', 'surreal', 'surround', 'surrounded', 'surrounding', 'surroundings', 'surrounds', 'suruki', 'survival', 'survive', 'survived', 'survives', 'surviving', 'susan', 'susans', 'sushi', 'sushibravo', 'sushigrade', 'sushipoo', 'sushis', 'susies', 'suspect', 'suspected', 'suspended', 'suspenders', 'suspension', 'suspicion', 'suspicious', 'suspiciously', 'sustainability', 'sustainable', 'sustainableorganic', 'sustainably', 'sustaining', 'susy', 'sutra', 'sutures', 'suv', 'sven', 'svs', 'sw', 'swaddee', 'swadee', 'swag', 'swallow', 'swam', 'swamp', 'swamped', 'swank', 'swanky', 'swap', 'swapped', 'sware', 'swarma', 'swashing', 'swatting', 'swayed', 'swb', 'swear', 'swearing', 'swears', 'sweat', 'sweater', 'sweaters', 'sweatfilled', 'sweating', 'sweatshops', 'sweaty', 'swede', 'sweden', 'swedish', 'sweeet', 'sweep', 'sweeping', 'sweet', 'sweetand', 'sweetened', 'sweeter', 'sweetest', 'sweetheart', 'sweetie', 'sweeties', 'sweetish', 'sweetishbitterishspicy', 'sweetly', 'sweetness', 'sweetrepublic', 'sweets', 'sweetsour', 'sweltering', 'swift', 'swill', 'swim', 'swimmer', 'swimming', 'swimsuits', 'swindled', 'swing', 'swinging', 'swipe', 'swipeandsign', 'swiped', 'swirl', 'swirland', 'swirling', 'swirls', 'swiss', 'switch', 'switchbacks', 'switched', 'switchfezticoz', 'switchs', 'swivel', 'swizzle', 'swollen', 'swoon', 'swooninducingand', 'swooning', 'swoop', 'swooped', 'sword', 'swordfish', 'swore', 'sworn', 'swung', 'syds', 'syllables', 'symbol', 'symbols', 'sympathetic', 'sympathy', 'symphony', 'symptoms', 'sync', 'synergy', 'synthetic', 'syrup', 'syrupmmmm', 'syrups', 'syrupy', 'syrupyummmmy', 'sysco', 'system', 'systems', 'szechuan', 'tab', 'tabasco', 'tabassco', 'tabbouleh', 'table', 'tableau', 'tablebar', 'tablecloths', 'tableoh', 'tables', 'tablesbig', 'tablesbooths', 'tablesfaded', 'tableside', 'tablespoon', 'tablespoons', 'tablesseriously', 'tablet', 'tablewhich', 'tabooli', 'tabooliridiculous', 'tabouli', 'tabs', 'tack', 'tacked', 'tacky', 'taco', 'tacoburrito', 'tacoregardless', 'tacos', 'tacoshow', 'tacosmaybe', 'tacossssss', 'tacoswow', 'tact', 'tad', 'taffy', 'tag', 'tagged', 'tagline', 'taglines', 'tags', 'tahini', 'tahiti', 'tai', 'tail', 'tailgate', 'tailor', 'tailored', 'tailoring', 'tailors', 'tails', 'tainted', 'taipei', 'taiwanese', 'takamatsus', 'take', 'takeaway', 'takehome', 'takein', 'taken', 'takenoshitbutstilltakecareofyou', 'takeout', 'takeouts', 'taker', 'takes', 'taking', 'takingmaking', 'tako', 'takoyaki', 'talavera', 'tale', 'talent', 'talented', 'talents', 'talibanish', 'talisha', 'talk', 'talkative', 'talked', 'talker', 'talkin', 'talking', 'talks', 'tall', 'tallest', 'tally', 'tam', 'tamale', 'tamales', 'tamaletaco', 'tamarind', 'tamarindo', 'tame', 'tamfoolery', 'tamie', 'tammie', 'tampa', 'tampiquena', 'tampons', 'tan', 'tana', 'tandem', 'tandoori', 'tang', 'tangerine', 'tangible', 'tango', 'tangy', 'tank', 'tankard', 'tankor', 'tanks', 'tanksi', 'tannat', 'tanning', 'tans', 'tantalized', 'tantalizing', 'tanzanian', 'tanzy', 'taook', 'taos', 'tap', 'tapas', 'tapcheap', 'tape', 'taped', 'tapenade', 'tapenades', 'tapioca', 'tapped', 'tapping', 'taps', 'taqueria', 'taquitos', 'tar', 'tara', 'tarantino', 'tarbells', 'tardy', 'targer', 'target', 'targeted', 'targetlets', 'targets', 'taro', 'tart', 'tartar', 'tartare', 'tartes', 'tartiflettewow', 'tartish', 'tartpie', 'tarts', 'tartspies', 'tartsweet', 'tartufa', 'tartufo', 'task', 'tasks', 'tassone', 'taste', 'tasteand', 'tastebuds', 'tasted', 'tasteful', 'tastefully', 'tastegasmic', 'tasteless', 'tastelessmess', 'tasteodor', 'taster', 'tastes', 'tastesbetterthanhome', 'tasteslikehome', 'tastetested', 'tastey', 'tastier', 'tasties', 'tastiest', 'tastiness', 'tasting', 'tastings', 'tasty', 'tastysounding', 'tasy', 'tataki', 'tater', 'taters', 'tats', 'tattered', 'tattering', 'tattoo', 'tattooed', 'tattooer', 'tattooers', 'tattoos', 'tatts', 'tatum', 'tatumshea', 'tatziki', 'taught', 'taunts', 'tavern', 'tawnya', 'tax', 'taxes', 'taxi', 'taxicab', 'taxidermy', 'taylor', 'taylors', 'taylortassone', 'tazer', 'tb', 'tbone', 'tc', 'tchatchkies', 'tcpa', 'tea', 'teaboba', 'teach', 'teacher', 'teachers', 'teaches', 'teaching', 'teacup', 'teaks', 'teakwoods', 'teal', 'team', 'teams', 'teamwork', 'teapot', 'teapots', 'tear', 'tears', 'teas', 'tease', 'teaspoon', 'teatastiness', 'teats', 'teavana', 'teavanas', 'tech', 'technical', 'technically', 'technician', 'technicians', 'technique', 'techniques', 'techno', 'technology', 'techs', 'ted', 'teddy', 'teds', 'tee', 'teed', 'teehee', 'teeming', 'teen', 'teenage', 'teenager', 'teenagerinfested', 'teenagers', 'teenie', 'teens', 'teensy', 'teeny', 'teenytiny', 'tees', 'teese', 'teeter', 'teeth', 'teeththe', 'teetogreen', 'teff', 'teharu', 'tejas', 'telegraph', 'telemarketers', 'telenovela', 'telephone', 'television', 'televisions', 'tell', 'teller', 'tellin', 'telling', 'tells', 'telly', 'temp', 'tempe', 'temped', 'tempemesa', 'tempephoenix', 'temper', 'temperature', 'temperatures', 'tempermant', 'tempes', 'temporada', 'temporary', 'tempranillo', 'temps', 'temptation', 'temptationseriously', 'tempted', 'tempting', 'tempur', 'tempura', 'tempuralike', 'ten', 'tenant', 'tenantowner', 'tend', 'tended', 'tendencies', 'tendency', 'tender', 'tenderbelly', 'tenderflavorful', 'tenderi', 'tenderlion', 'tenderloin', 'tenderness', 'tenders', 'tendon', 'tendons', 'tends', 'tennesee', 'tennis', 'tent', 'tenth', 'tents', 'tepan', 'tepary', 'tepenyaki', 'teppen', 'teppiniyaki', 'tequila', 'tequilas', 'tequilla', 'teresa', 'teriffic', 'teriyaki', 'term', 'termial', 'terminal', 'terminals', 'terms', 'terra', 'terrace', 'terracotta', 'terrain', 'terrayki', 'terrazzo', 'terrible', 'terribly', 'terrier', 'terrific', 'terrified', 'terrill', 'terrimisu', 'territory', 'terrors', 'terrrific', 'tess', 'test', 'testament', 'tested', 'testosterone', 'tests', 'texan', 'texas', 'texasstyle', 'texaz', 'texmex', 'texmexnot', 'text', 'texted', 'texting', 'texts', 'textural', 'texture', 'textured', 'textures', 'tgf', 'th', 'tha', 'thai', 'thaiawesome', 'thaiger', 'thaigers', 'thailand', 'thais', 'thali', 'thang', 'thanh', 'thank', 'thanked', 'thankful', 'thankfully', 'thankgsiving', 'thanking', 'thankmy', 'thanks', 'thanksgiving', 'thanksliving', 'thankyou', 'thatbut', 'thatdonuts', 'thatidiots', 'thatoffer', 'thats', 'thawed', 'thawing', 'thay', 'theater', 'theaters', 'theatersee', 'theaterstaff', 'theaterwe', 'theatre', 'theatres', 'theatrical', 'thedimly', 'thee', 'thefts', 'theives', 'theme', 'themed', 'themes', 'themi', 'themselvesextremely', 'themselvesremarkable', 'themsince', 'thenthirty', 'theodosopoulos', 'theodosopouloss', 'theory', 'thepanko', 'theprice', 'ther', 'therapeutic', 'therapist', 'therapistintricate', 'therapists', 'therapy', 'thereafter', 'thereby', 'thereeat', 'therefor', 'therefore', 'thereim', 'therein', 'therelots', 'theremakes', 'theremust', 'thereof', 'thereor', 'therere', 'theres', 'thereyou', 'thermostat', 'thestandard', 'theyd', 'theye', 'theyll', 'theyre', 'theyve', 'thhe', 'thick', 'thickcut', 'thickdoughy', 'thicker', 'thickness', 'thicknot', 'thie', 'thier', 'thigh', 'thighs', 'thin', 'thincrust', 'thing', 'thingie', 'thingies', 'thingmy', 'things', 'thingsi', 'thingsjust', 'thingthere', 'thingtheyre', 'thingy', 'thingys', 'think', 'thinker', 'thinkin', 'thinking', 'thinks', 'thinly', 'thinner', 'thinsliced', 'third', 'thirdly', 'thirst', 'thirsty', 'thirty', 'thisall', 'thisdid', 'thisgo', 'thisworth', 'thit', 'tho', 'thomas', 'thompson', 'thorough', 'thoroughfares', 'thoroughly', 'thou', 'though', 'thoughgive', 'thoughit', 'thought', 'thoughtful', 'thoughthe', 'thoughts', 'thoughtthrough', 'thouhgt', 'thousand', 'thousands', 'thr', 'thrasher', 'thread', 'threading', 'threatened', 'threatening', 'threats', 'three', 'threesome', 'threetopping', 'threw', 'thrice', 'thrift', 'thrifting', 'thrifty', 'thrilled', 'thrilling', 'thrive', 'throat', 'throne', 'throrugh', 'throughout', 'throught', 'throw', 'throwback', 'throwin', 'throwing', 'thrown', 'throws', 'thru', 'thruoghout', 'thta', 'thugs', 'thumb', 'thumbs', 'thumbsdown', 'thumbsup', 'thumping', 'thunder', 'thunderbird', 'thunderstorm', 'thunk', 'thur', 'thurs', 'thursday', 'thursdayguess', 'thursdays', 'thursdaysunday', 'thus', 'thyme', 'ti', 'tiara', 'tibi', 'tibs', 'ticked', 'ticket', 'ticketing', 'tickets', 'ticketthe', 'tickled', 'ticoz', 'tidbits', 'tide', 'tidy', 'tie', 'tied', 'tiered', 'tiers', 'ties', 'tieu', 'tiffany', 'tiffanysmy', 'tiger', 'tigers', 'tight', 'tighter', 'tijuana', 'tika', 'tike', 'tiki', 'tikil', 'tikka', 'tikki', 'til', 'tilapia', 'tile', 'tiler', 'till', 'tillys', 'tim', 'time', 'timearrowhead', 'timebut', 'timed', 'timeespecially', 'timefor', 'timefresh', 'timei', 'timeits', 'timeless', 'timely', 'timer', 'timers', 'times', 'timesaving', 'timesavoid', 'timeshare', 'timesnot', 'timetotime', 'timeyikes', 'timid', 'timing', 'timo', 'timos', 'tin', 'tina', 'tines', 'tinga', 'tingling', 'tini', 'tiniest', 'tinkering', 'tinkled', 'tins', 'tint', 'tinted', 'tiny', 'tinys', 'tip', 'tipalia', 'tiphappy', 'tipif', 'tipoff', 'tipped', 'tipping', 'tips', 'tipsy', 'tipwith', 'tiramisu', 'tire', 'tired', 'tirelessly', 'tires', 'tiring', 'tish', 'tishs', 'tissue', 'tissuemedical', 'tit', 'titan', 'title', 'titles', 'tix', 'tj', 'tjs', 'tjsnow', 'tks', 'tlc', 'tlcs', 'toad', 'toadd', 'toast', 'toasted', 'toastednow', 'toaster', 'toasts', 'toasty', 'tobacco', 'tobasco', 'toby', 'today', 'todays', 'todd', 'toddler', 'toddlers', 'todds', 'toddy', 'todiefor', 'todip', 'todo', 'toe', 'toenails', 'toes', 'toffee', 'tofu', 'together', 'togetherbut', 'togetherdouble', 'togetherness', 'togo', 'toilet', 'toilets', 'toiletwatercloset', 'tokens', 'tokyo', 'tokyos', 'told', 'toledos', 'tolerable', 'tolerance', 'tolerate', 'toliet', 'tolteca', 'tom', 'tomahawk', 'tomasos', 'tomatillo', 'tomato', 'tomatobased', 'tomatochanterelle', 'tomatoes', 'tomatomozzarella', 'tomatos', 'tomb', 'tomi', 'tommy', 'tomorrow', 'tomorrows', 'ton', 'tone', 'toned', 'toners', 'tones', 'tongs', 'tongue', 'tongued', 'tonguesounds', 'tonic', 'tonight', 'tonights', 'tono', 'tonofbricks', 'tons', 'tony', 'tonys', 'tooagain', 'toodidnt', 'toodisgustingly', 'tooexposed', 'toof', 'toohe', 'toojust', 'took', 'tool', 'tools', 'tooooo', 'tooth', 'toothbrush', 'toothey', 'toothless', 'tootin', 'tootsie', 'tootzi', 'top', 'top5', 'topat', 'topic', 'topics', 'topings', 'topless', 'topnotch', 'topped', 'topping', 'toppings', 'topple', 'topps', 'topquality', 'tops', 'topslarge', 'torch', 'torched', 'tore', 'tori', 'torment', 'torn', 'toro', 'torres', 'tort', 'torta', 'tortalini', 'tortas', 'tortellini', 'tortilla', 'tortillas', 'torture', 'torturousattimes', 'toshiba', 'toss', 'tossed', 'tossedwonder', 'tosses', 'tossing', 'tostada', 'tostadas', 'tot', 'total', 'totaled', 'totally', 'toting', 'tots', 'tottie', 'totties', 'totts', 'touch', 'touched', 'touchedi', 'touches', 'touching', 'touchup', 'tough', 'tougher', 'tounge', 'tour', 'tourism', 'tourist', 'tourists', 'tournaments', 'tourney', 'tours', 'touryou', 'touted', 'touting', 'tovar', 'tow', 'toward', 'towards', 'towed', 'towel', 'towelcomes', 'towels', 'tower', 'towers', 'towing', 'town', 'towndowntown', 'towne', 'towners', 'townhomes', 'townin', 'towns', 'townso', 'townthat', 'toxin', 'toying', 'toyota', 'toys', 'toyshopping', 'tqla', 'trace', 'traces', 'track', 'tracking', 'tracks', 'tract', 'traction', 'tractor', 'tracy', 'tracys', 'trade', 'traded', 'trademark', 'tradeoff', 'trader', 'traders', 'tradersthey', 'trading', 'tradition', 'traditional', 'traditionalbut', 'traditionally', 'traffic', 'tragically', 'tragus', 'trail', 'trailhead', 'trailings', 'trails', 'train', 'trained', 'trainer', 'trainerbut', 'trainers', 'training', 'trains', 'traipse', 'tramadol', 'tranquil', 'tranquility', 'transacting', 'transaction', 'transactionso', 'transcendent', 'transcendental', 'transcripts', 'transfer', 'transfered', 'transferred', 'transferring', 'transfers', 'transform', 'transformation', 'transformed', 'transformersvery', 'transforms', 'transgendered', 'transients', 'transit', 'transition', 'transitioned', 'transitioning', 'translated', 'translates', 'translation', 'translations', 'transmission', 'transparency', 'transparent', 'transplant', 'transplanted', 'transplanting', 'transport', 'transported', 'transporting', 'trap', 'trapped', 'traps', 'trash', 'trashed', 'trashy', 'trauma', 'traumatized', 'travel', 'travelairfare', 'traveled', 'traveler', 'travelers', 'traveling', 'travelling', 'travels', 'travelsized', 'travelzoo', 'traverse', 'travesty', 'travis', 'tray', 'trayholy', 'trays', 'treacherous', 'treachery', 'tread', 'treadmill', 'treadmillbut', 'treasure', 'treasures', 'treat', 'treat9', 'treated', 'treati', 'treating', 'treatment', 'treatments', 'treats', 'treatyou', 'tree', 'treehouse', 'treelined', 'trees', 'treesmessy', 'trek', 'trekking', 'treks', 'tremendous', 'trend', 'trendier', 'trendy', 'trendyindie', 'trepidation', 'trepidations', 'tres', 'treslemme', 'trex', 'triangles', 'triangular', 'triathlons', 'tribute', 'trick', 'tricked', 'trickiest', 'tricks', 'tricky', 'tricycles', 'tried', 'triedit', 'tries', 'trifecta', 'trifled', 'trigger', 'trike', 'trim', 'trimmed', 'trimmers', 'trinkets', 'trio', 'trip', 'tripe', 'tripgreat', 'triple', 'trippin', 'trips', 'triscuits', 'trish', 'trisha', 'trite', 'tritip', 'triva', 'trivia', 'troon', 'trophies', 'trophy', 'tropical', 'tropicaldesert', 'trot', 'trotted', 'trouble', 'troubled', 'trough', 'trousers', 'trout', 'troutjust', 'troy', 'truants', 'truck', 'truckin', 'trucks', 'trucksoda', 'truckwe', 'true', 'truely', 'truetostyle', 'truffle', 'truffled', 'truffles', 'trufflesi', 'truly', 'trumpet', 'trumps', 'trunk', 'trust', 'trusted', 'trusting', 'trustworthy', 'trusty', 'truth', 'truthfully', 'try', 'tryand', 'trying', 'trys', 'tryst', 'ts', 'tsa', 'tshirt', 'tshirtandjeanswearing', 'tshirts', 'tske', 'tsos', 'tsoynami', 'tsoynamis', 'tub', 'tube', 'tubes', 'tubokay', 'tubs', 'tuck', 'tucked', 'tucker', 'tucson', 'tuesday', 'tuesdays', 'tuition', 'tum', 'tumbled', 'tumbling', 'tumeric', 'tummy', 'tummys', 'tumor', 'tums', 'tuna', 'tune', 'tuned', 'tunes', 'tuneup', 'tunnel', 'tupperware', 'turbo', 'turbulence', 'turd', 'tureen', 'turkey', 'turkish', 'turn', 'turned', 'turner', 'turning', 'turnover', 'turns', 'turntable', 'turtle', 'tuscan', 'tuscana', 'tuscany', 'tush', 'tutelage', 'tutorial', 'tutoring', 'tutti', 'tv', 'tvs', 'tvsalso', 'tvsfor', 'tvthe', 'twas', 'tweak', 'tweaker', 'tweek', 'tweens', 'tweeples', 'tweet', 'tweeted', 'tweeter', 'tweets', 'tweeze', 'twelve', 'twenties', 'twenty', 'twentysomethings', 'twice', 'twicefailed', 'twig', 'twilight', 'twin', 'twinkling', 'twinkly', 'twins', 'twist', 'twisted', 'twisting', 'twisty', 'twitter', 'twix', 'two', 'twoactor', 'twopiece', 'twopound', 'twostory', 'twothree', 'twotop', 'twotops', 'twoyear', 'twozels', 'twss', 'tx', 'tying', 'tyler', 'tylor', 'type', 'typebut', 'typed', 'types', 'typical', 'typically', 'typing', 'tyson', 'tzatziki', 'ua', 'uber', 'ubersalty', 'ubiquitous', 'uchi', 'udder', 'udon', 'udupai', 'udupi', 'ufc', 'ugh', 'ughin', 'ugly', 'uh', 'uhaul', 'uhh', 'uhhh', 'uhmazin', 'uhmazing', 'uk', 'ukrainian', 'ulta', 'ultimate', 'ultimately', 'ultra', 'ultracool', 'ultrasound', 'ultrasounds', 'ultratender', 'um', 'umami', 'umbrella', 'umbrellaed', 'umbrellas', 'umbria', 'umm', 'ummm', 'ummmmmmmmcan', 'ummyeah', 'umph', 'umpteen', 'umthere', 'un', 'unable', 'unacceptable', 'unadulterated', 'unagi', 'unairconditioned', 'unanimous', 'unannounced', 'unanswered', 'unapologetic', 'unapologetically', 'unappealing', 'unappetizing', 'unassuming', 'unaware', 'unbearable', 'unbeatable', 'unbelievable', 'unbelievablei', 'unbelievably', 'unborn', 'unbridled', 'uncaffeinated', 'uncanny', 'uncaring', 'uncle', 'unclear', 'uncleared', 'uncles', 'uncluttered', 'uncomfortable', 'uncomfortableysweaty', 'uncomfotable', 'uncommon', 'uncomplicated', 'uncooked', 'uncool', 'uncooperative', 'uncountable', 'uncouth', 'uncrisp', 'uncrowded', 'uncrumbled', 'uncut', 'undecided', 'under21', 'underage', 'underaged', 'underappreciated', 'underarm', 'underarms', 'undercoat', 'undercooked', 'undercooking', 'underdone', 'undergrads', 'underground', 'underhanded', 'underneath', 'underrated', 'undersalted', 'underseason', 'underserved', 'understaffed', 'understand', 'understandable', 'understanding', 'understands', 'understated', 'understatement', 'understood', 'underwear', 'underwhelmed', 'underwhelming', 'undeserving', 'undeterred', 'undies', 'undoubtedly', 'undr', 'undress', 'undrinkable', 'uneasy', 'uneaten', 'unedible', 'uneducated', 'unemployed', 'unemployment', 'unending', 'unenjoyably', 'unentertaining', 'unethical', 'uneventful', 'unexceptional', 'unexpected', 'unexpectedly', 'unexplainably', 'unfamiliar', 'unfavorable', 'unfazed', 'unfine', 'unfinished', 'unflattering', 'unflavored', 'unflexible', 'unfocused', 'unforgettable', 'unforgivable', 'unfortunate', 'unfortunately', 'unfounded', 'unfriendliness', 'unfriendly', 'unfulfilled', 'ungreasy', 'unhappy', 'unhealth', 'unhealthily', 'unhealthy', 'unheard', 'unhelpful', 'uni', 'unidentifiable', 'unidientifiable', 'uniform', 'uniformly', 'uniforms', 'uniformssomething', 'unimaginable', 'unimpressed', 'uninspired', 'unintended', 'uninteresting', 'uninterrupted', 'uninterupted', 'uninviting', 'union', 'unique', 'uniquefun', 'uniquely', 'uniquelyarizonan', 'uniqueness', 'unisex', 'unisexno', 'unison', 'unit', 'unite', 'united', 'units', 'universities', 'university', 'unkept', 'unknowingly', 'unknown', 'unleashing', 'unless', 'unlike', 'unlikely', 'unlimited', 'unlock', 'unlocked', 'unlucky', 'unmanipulated', 'unmarked', 'unmatched', 'unmentionable', 'unmistakably', 'unneccesary', 'unnecessary', 'unneutered', 'unnoticed', 'uno', 'unobstructed', 'unocal', 'unoccupied', 'unofficial', 'unorganized', 'unoriginal', 'unoticed', 'unpalatable', 'unparalleled', 'unparalleledbaklava', 'unphogettable', 'unphoghetable', 'unpleasant', 'unplesant', 'unpretentious', 'unpretentiously', 'unprocessed', 'unprofessional', 'unprofessionally', 'unreal', 'unreasonable', 'unrefined', 'unrelated', 'unrivaled', 'unsanitary', 'unsatisfactory', 'unsatisfied', 'unseasoned', 'unseen', 'unselfishly', 'unsettling', 'unsolicited', 'unspectacular', 'unstopable', 'unstoppable', 'unstressed', 'unsuccessful', 'unsuccessfully', 'unsure', 'unsuspecting', 'unsweetened', 'unted', 'unthinkable', 'untill', 'untraditional', 'untrained', 'untried', 'unusable', 'unused', 'unusual', 'unusually', 'unvalidated', 'unwanted', 'unwarmed', 'unwelcome', 'unwelcoming', 'unwilling', 'unwind', 'unyielding', 'uopx', 'upandcoming', 'upbeat', 'upbringings', 'upc', 'upcharge', 'upcharged', 'upcharging', 'upchuck', 'upcoming', 'update', 'updated', 'updates', 'updatethe', 'updating', 'upfront', 'upgrade', 'upgraded', 'upgrades', 'uphill', 'upholstery', 'upload', 'uploaded', 'upo', 'upon', 'upped', 'upper', 'upperclasscomfortable', 'uppers', 'upping', 'uprooted', 'ups', 'upsale', 'upscale', 'upsell', 'upset', 'upseti', 'upsets', 'upsetting', 'upside', 'upsidedown', 'upstaged', 'upstairs', 'upstairswell', 'uptight', 'upto', 'uptodate', 'uptown', 'ur', 'urban', 'urbanspooncom', 'urchin', 'urge', 'urgebut', 'urgent', 'urging', 'urinal', 'urinates', 'urine', 'uruguay', 'us', 'usa', 'usage', 'usain', 'usairways', 'usd', 'use', 'used', 'useful', 'useless', 'uselessif', 'usemail', 'user', 'userfriendly', 'uses', 'ushaped', 'using', 'uslul', 'usps', 'usual', 'usually', 'usuals', 'usualthen', 'usunfortunately', 'ususally', 'utah', 'utensil', 'utensils', 'uterus', 'utility', 'utilize', 'utilized', 'utilizing', 'utmost', 'utter', 'uttered', 'utterly', 'utterlyhappy', 'uturns', 'uv', 'ux10', 'uye', 'va', 'vac', 'vaca', 'vacant', 'vacation', 'vacationing', 'vacations', 'vacay', 'vaccilate', 'vaccination', 'vaccines', 'vacuum', 'vacuumed', 'vaguely', 'vain', 'val', 'valencia', 'valentines', 'valerie', 'valet', 'valeted', 'valets', 'valid', 'validated', 'validates', 'validation', 'valle', 'valley', 'valleyno', 'valleyor', 'valleys', 'valomilk', 'valuable', 'value', 'valueadded', 'valued', 'valueif', 'values', 'vampire', 'vampiro', 'vampiros', 'van', 'vancouver', 'vandalized', 'vang', 'vanilla', 'vanity', 'vans', 'vantage', 'vaporized', 'variance', 'variation', 'variations', 'varied', 'varies', 'varietals', 'varieties', 'variety', 'varietyallnatural', 'various', 'vary', 'vase', 'vases', 'vast', 'vat', 'vatican', 'vatoci', 'vatra', 'vault', 'vaultoftheheavens', 'vca', 'vday', 'veal', 'vealstuffed', 'veer', 'veerrrrrryyyyyyyyy', 'veg', 'vegan', 'veganized', 'veganvegetarian', 'vegas', 'vegetable', 'vegetables', 'vegetablesand', 'vegetarian', 'vegetarians', 'vegetarianthey', 'vegetariantofu', 'vegetarianvegan', 'veggie', 'veggies', 'veggiesmeatfruits', 'vegie', 'vegiies', 'vegtable', 'vehicle', 'vehicles', 'veiled', 'vein', 'veins', 'velvet', 'velveta', 'velvety', 'velvetyou', 'vender', 'vendor', 'vendors', 'vendorsput', 'venerable', 'vengence', 'venice', 'venom', 'vent', 'ventilation', 'vents', 'venture', 'ventured', 'ventures', 'venturing', 'venue', 'venues', 'venueweve', 'venus', 'venyse', 'vera', 'verbal', 'verbally', 'verde', 'verdes', 'verdict', 'verduras', 'verge', 'verges', 'verify', 'verisimilitude', 'veritable', 'verizon', 'vermicelli', 'vermont', 'vermonter', 'veronica', 'veronique', 'verrado', 'versatile', 'verse', 'versed', 'version', 'versions', 'versus', 'verts', 'verve', 'vesper', 'vestibule', 'vests', 'vet', 'veteran', 'veterans', 'veterinary', 'vets', 'vey', 'via', 'viad', 'viagra', 'vibe', 'vibeif', 'vibrant', 'vibrate', 'vibrated', 'vice', 'vices', 'vicinity', 'vicious', 'vickys', 'vics', 'victorian', 'victorias', 'vide', 'video', 'videogamegod', 'videos', 'vids', 'vieja', 'viejas', 'vien', 'viet', 'vietnam', 'vietnamese', 'vietri', 'view', 'viewers', 'viewing', 'viewpoint', 'views', 'vig', 'vigazz', 'vignettes', 'viking', 'vikings', 'vile', 'villa', 'village', 'villas', 'vin', 'vinagerette', 'vinagrette', 'vinaigrette', 'vinaigretteit', 'vincent', 'vincents', 'vindaloo', 'vine', 'vinegar', 'vinegarbased', 'vinegarette', 'vinegary', 'vines', 'vineyard', 'vingerette', 'vings', 'vino', 'vintage', 'vintagelooking', 'viola', 'violated', 'violation', 'violations', 'violence', 'violently', 'vip', 'vips', 'virgin', 'virginia', 'virtually', 'virus', 'viscous', 'visi', 'visibility', 'visible', 'visibly', 'vision', 'visions', 'visit', 'visited', 'visiting', 'visitor', 'visitors', 'visits', 'vista', 'vistal', 'visual', 'visualize', 'visually', 'visuals', 'vitality', 'vitamin', 'vitamins', 'vittles', 'vivant', 'vivid', 'vochos', 'vodka', 'vodkaginger', 'vodkas', 'voga', 'voice', 'voiced', 'void', 'voided', 'voila', 'volcano', 'volleyball', 'volume', 'volumes', 'volunteer', 'volunteered', 'volunteering', 'volunteers', 'vomit', 'von', 'voodoo', 'voracious', 'vortex', 'vote', 'voted', 'votegetting', 'voting', 'vouch', 'voucher', 'vouchers', 'vow', 'vowed', 'vs', 'vsc', 'vueve', 'vulgar', 'vulture', 'vultures', 'vw', 'w2', 'w5', 'wa', 'waaaaaaaaay', 'waaaaaay', 'waaaaay', 'waayy', 'wac', 'wach', 'wacko', 'wacky', 'wad', 'wade', 'waders', 'waffle', 'waffles', 'wafflesa', 'waffling', 'wafts', 'wag', 'wager', 'wagged', 'wagnwash', 'wagyu', 'wah', 'wahoo', 'waikiki', 'waist', 'waistband', 'waisting', 'wait', 'waited', 'waiter', 'waiterbartender', 'waiterhostessmanagerbartender', 'waitermaybe', 'waiters', 'waiti', 'waitif', 'waiting', 'waitingthe', 'waitless', 'waitors', 'waitress', 'waitressbartender', 'waitresses', 'waitresswaiter', 'waits', 'waitstaff', 'waitstand', 'waive', 'waived', 'wake', 'waking', 'waldorf', 'walet', 'walgreens', 'walk', 'walkable', 'walked', 'walkin', 'walking', 'walkins', 'walks', 'walkway', 'walkways', 'wall', 'wallet', 'wallets', 'wallhangings', 'wallmounted', 'wallnuts', 'wallowing', 'wallpaper', 'wallpapers', 'walls', 'wally', 'wallys', 'walmart', 'walmartized', 'walnut', 'walnuts', 'waltzed', 'wand', 'wanda', 'wandas', 'wander', 'wandered', 'wandering', 'wanna', 'wannabe', 'wannabes', 'want', 'wanted', 'wantevery', 'wanting', 'wantons', 'wants', 'war', 'ward', 'warden', 'wardrobe', 'wards', 'ware', 'warehouse', 'warehoused', 'wares', 'wargaming', 'warm', 'warmed', 'warmer', 'warmers', 'warming', 'warmly', 'warmth', 'warn', 'warned', 'warner', 'warning', 'warnings', 'warp', 'warrant', 'warrants', 'warranty', 'warriors', 'wars', 'wary', 'wasabe', 'wasabi', 'wash', 'washcloths', 'washday', 'washdry', 'washed', 'washedit', 'washer', 'washers', 'washes', 'washing', 'washington', 'washingtons', 'wasit', 'wasnt', 'wasp', 'waste', 'wastebaskets', 'wasted', 'waster', 'wasting', 'waswe', 'wasy', 'watch', 'watched', 'watcher', 'watchers', 'watches', 'watching', 'watchingarent', 'watchingscottsdale', 'water', 'watera', 'wateranother', 'watered', 'waterfall', 'waterfalls', 'waterfront', 'watering', 'watermelon', 'waterproof', 'waters', 'waterslides', 'waterworks', 'watery', 'watt', 'wave', 'waved', 'wavelle', 'waving', 'wax', 'waxed', 'waxedwhat', 'waxing', 'way', 'wayeverydayyeeeaaaahhh', 'waygreat', 'wayhes', 'wayne', 'ways', 'wayward', 'wayyy', 'wayyyy', 'wayyyyyyy', 'wazoooo', 'wbacon', 'wbc', 'wbcs', 'wcg', 'wcomfy', 'weak', 'weakness', 'weaknesstoffee', 'wealthier', 'weapon', 'wear', 'wearers', 'wearing', 'wears', 'weary', 'weather', 'weaving', 'web', 'webe', 'website', 'websites', 'wed', 'wedding', 'weddings', 'weddingsreceptions', 'wedge', 'wedges', 'wednesday', 'wednesdays', 'wednesdaysaturday', 'weds', 'wee', 'weeds', 'week', 'weekday', 'weekdays', 'weekend', 'weekendactually', 'weekendit', 'weekends', 'weekendsi', 'weekgreat', 'weeklong', 'weekly', 'weeknight', 'weeknights', 'weeks', 'weekshe', 'wei', 'weigh', 'weighs', 'weight', 'weightedbase', 'weights', 'weihenstephaner', 'weil', 'weird', 'weirded', 'weirdest', 'weirdly', 'weirdo', 'weirdos', 'weirdthe', 'weis', 'wekopa', 'welcome', 'welcomeand', 'welcomed', 'welcomes', 'welcoming', 'well', 'wellalso', 'wellbehaved', 'wellchilled', 'welldecorated', 'welldone', 'wellestablished', 'welleven', 'wellhard', 'wellintentioned', 'wellit', 'wellkept', 'wellknown', 'welllit', 'wellloved', 'wellmade', 'wellmaintained', 'wellmarinated', 'wellness', 'wellno', 'wellnot', 'wellof', 'wellorganized', 'wellpriced', 'wellqualified', 'wellrespected', 'wellreviewed', 'wells', 'wellseasoned', 'wellstocked', 'wellsuited', 'wellversed', 'wellwait', 'wellwritten', 'wellyes', 'wendys', 'went', 'wentmy', 'wentsome', 'werent', 'wernet', 'wes', 'west', 'western', 'westgate', 'westin', 'westminster', 'westside', 'westward', 'wet', 'wetall', 'weve', 'wfireplace', 'wfor', 'wginger', 'wguacamole', 'wha', 'whaat', 'whack', 'whacked', 'whales', 'whatever', 'whatnot', 'whats', 'whatsleftoflastseasonscollection', 'whatsoever', 'whatsosever', 'whatsover', 'wheat', 'wheatfree', 'wheel', 'wheeling', 'wheels', 'wheezed', 'whenever', 'whenharrymetsally', 'whenwhere', 'whereas', 'whered', 'wheres', 'whereupon', 'wherever', 'whether', 'whew', 'whiff', 'whileas', 'whilst', 'whim', 'whimi', 'whimper', 'whimsical', 'whined', 'whines', 'whinin', 'whining', 'whinnying', 'whip', 'whipmmmmfood', 'whipped', 'whips', 'whirl', 'whirlpool', 'whirlpools', 'whisked', 'whiskey', 'whiskeys8', 'whisper', 'whispered', 'whispers', 'whistle', 'whistlinggotta', 'white', 'whiteboard', 'whitedark', 'whiten', 'whites', 'whitesands', 'whitetrash', 'whiteys', 'whitney', 'whiz', 'whoa', 'whoah', 'whod', 'whoever', 'whole', 'wholeheartedly', 'wholesome', 'wholly', 'whoop', 'whooping', 'whopper', 'whopping', 'whore', 'whoreish', 'whorestyle', 'whoring', 'whos', 'whose', 'whyd', 'whys', 'whysee', 'wich', 'wicked', 'wicker', 'wide', 'widening', 'wider', 'widerice', 'widow', 'width', 'wiener', 'wierd', 'wife', 'wifelolsince', 'wifes', 'wifey', 'wifi', 'wig', 'wiggle', 'wigs', 'wigwam', 'wih', 'wii', 'wikipedia', 'wil', 'wild', 'wildcat', 'wilderness', 'wildest', 'wildfish', 'wildflower', 'wildflowers', 'wildhorse', 'wildlife', 'wildly', 'willamette', 'willfully', 'willie', 'willing', 'willingfully', 'willow', 'willpower', 'wills', 'willy', 'willys', 'wilma', 'wilted', 'wimp', 'wimper', 'win', 'wind', 'windex', 'winding', 'window', 'windowcan', 'windowpanes', 'windows', 'winds', 'windshield', 'windshields', 'windsor', 'windy', 'wine', 'winebeer', 'wines', 'wineyou', 'wing', 'wings', 'wining', 'wink', 'winkie', 'winkies', 'winking', 'winky', 'winner', 'winners', 'winning', 'winningsorry', 'wino', 'winos', 'wins', 'winter', 'winters', 'winwin', 'wipe', 'wiped', 'wiper', 'wipes', 'wipesorry', 'wiping', 'wire', 'wired', 'wireless', 'wires', 'wiring', 'wisconsin', 'wisconsinite', 'wisdom', 'wise', 'wiseguy', 'wisely', 'wiser', 'wish', 'wished', 'wishes', 'wishful', 'wishing', 'witches', 'withaspoon', 'withbut', 'withdrawal', 'withdrawn', 'withe', 'withheld', 'withhis', 'within', 'without', 'withstand', 'withstanding', 'witness', 'witnessed', 'witnesses', 'witty', 'wives', 'wiz', 'wizard', 'wks', 'wll', 'wm', 'wmushroom', 'wo', 'woah', 'wobblesee', 'wobbly', 'woefilled', 'woes', 'wok', 'woke', 'woken', 'wolfed', 'wolfpack', 'wolverine', 'woman', 'women', 'womens', 'wonder', 'wondered', 'wonderful', 'wonderfuland', 'wonderfully', 'wonderfulness', 'wonderfulthe', 'wondering', 'wonderland', 'wonderous', 'wonders', 'wondrous', 'wongs', 'wont', 'wonton', 'wontons', 'woo', 'wood', 'woodcarving', 'wooden', 'woodfired', 'woodlands', 'woodpaneled', 'woods', 'woodworker', 'wooed', 'woohoo', 'wool', 'wooooooooo', 'word', 'wordexcellent', 'wordis', 'wordly', 'words', 'wordsit', 'wore', 'work', 'workappropriate', 'worked', 'worker', 'workers', 'working', 'workmanship', 'workout', 'workouts', 'works', 'workschool', 'workshops', 'workstudyread', 'world', 'worldand', 'worldloli', 'worlds', 'worldtyson', 'worldwide', 'worm', 'worn', 'worried', 'worries', 'worrisome', 'worry', 'worrying', 'worse', 'worship', 'worst', 'worstershire', 'worth', 'worthless', 'worthwhile', 'worthy', 'wott', 'woudnt', 'would', 'woulda', 'wouldnt', 'wouldve', 'wound', 'wounds', 'wow', 'wowd', 'wowed', 'wowexciting', 'wowner', 'wowzer', 'wrap', 'wrapped', 'wrapper', 'wrappers', 'wrapping', 'wraps', 'wrath', 'wreck', 'wrestling', 'wrice', 'wright', 'wrigley', 'wrigleyvillechicago', 'wrinkled', 'wrinkles', 'wrinkling', 'wrist', 'wristbands', 'write', 'writer', 'writers', 'writes', 'writing', 'written', 'wrkout', 'wrong', 'wrongthings', 'wrote', 'ws', 'wt', 'wtf', 'wth', 'wthe', 'wthin', 'wthis', 'wtih', 'wussies', 'wussy', 'wwe', 'wwine', 'wwwaddictionovercomecom', 'wwwdogparkriotcom', 'wwwphoenixrodandgun', 'würze', 'x2', 'x5', 'xanax', 'xavier', 'xbox', 'xcp', 'xeriscape', 'xl', 'xlv', 'xmas', 'xrays', 'xylophone', 'xyz', 'xèo', 'ya', 'yaaaaay', 'yack', 'yah', 'yahoo', 'yahummee', 'yakaguru', 'yaki', 'yakisoba', 'yakitorithe', 'yall', 'yam', 'yang', 'yankin', 'yanks', 'yard', 'yards', 'yardsale', 'yasu', 'yasus', 'yawning', 'yay', 'ycs', 'yds', 'yea', 'yeah', 'yeahim', 'yeahlike', 'yeahnotsomuch', 'yeahplease', 'year', 'yearly', 'yearning', 'yearnings', 'years', 'yearshow', 'yearsif', 'yearsso', 'yearssuper', 'yearsthe', 'yearsuntil', 'yearthough', 'yeast', 'yeh', 'yelena', 'yell', 'yelled', 'yelling', 'yellow', 'yellowfin', 'yellowish', 'yellowtail', 'yells', 'yelp', 'yelpadvertised', 'yelpcom', 'yelped', 'yelper', 'yelpers', 'yelpi', 'yelping', 'yelps', 'yen', 'yep', 'yeppie', 'yer', 'yerba', 'yes', 'yesssss', 'yesterday', 'yet', 'yetd', 'yetthe', 'yettobeadded', 'yew', 'ygl', 'yielding', 'yikes', 'yikesi', 'yin', 'yippee', 'yknow', 'ymca', 'yo', 'yodeling', 'yodels', 'yoga', 'yogalates', 'yoghund', 'yogis', 'yogurt', 'yogurtcucumbermint', 'yogurtini', 'yogurtland', 'yogurtology', 'yogurtopia', 'yogurts', 'yolis', 'yolk', 'yon', 'yoohoo', 'york', 'yorker', 'yorkers', 'yorkie', 'youd', 'youfeed', 'youki', 'youll', 'young', 'younger', 'youngest', 'youngggg', 'youngtown', 'younight', 'youre', 'yourselfdoes', 'youth', 'youthful', 'youtube', 'youve', 'youwhen', 'yow', 'yowza', 'yr', 'yraguis', 'yrs', 'yu', 'yuck', 'yucky', 'yuk', 'yukgejang', 'yukon', 'yum', 'yuma', 'yumgasms', 'yumjust', 'yumm', 'yummie', 'yummier', 'yumminess', 'yummm', 'yummmayyyy', 'yummmm', 'yummmmm', 'yummmmmm', 'yummmmmmers', 'yummmmmmmm', 'yummo', 'yummy', 'yummyalthough', 'yummydont', 'yummythat', 'yummywe', 'yumness', 'yumo', 'yung', 'yup', 'yupha', 'yuphas', 'yuppies', 'yur', 'yuris', 'yusefs', 'yuukk', 'yuuuummmmae', 'yuuuuummmmmyyy', 'yuuuuuuum', 'yuyuyummy', 'yuzu', 'yyyeeaahhhhsooooothe', 'z11', 'zach', 'zam', 'zanella', 'zankou', 'zappos', 'zatsiki', 'zen', 'zenlike', 'zenroad', 'zero', 'zerostar', 'zest', 'zesty', 'zexperience', 'zgrill', 'zha', 'zhou', 'zia', 'zichini', 'zilch', 'zillion', 'zin', 'zinburger', 'zinburgergeist', 'zinc', 'zinfandel', 'zing', 'zip', 'zipcar', 'ziploc', 'zipper', 'zippers', 'zipps', 'ziti', 'zoe', 'zoes', 'zombi', 'zombies', 'zone', 'zoners', 'zones', 'zoning', 'zoo', 'zoom', 'zoyo', 'zucca', 'zucchini', 'zuccini', 'zuchinni', 'zumba', 'zupa', 'zupas', 'zuzu', 'zuzus', 'zwiebelkräuter', 'éclairs', 'école', 'ém']\n"
     ]
    }
   ],
   "source": [
    "print(vectorizer.get_feature_names())"
   ]
  },
  {
   "cell_type": "code",
   "execution_count": 215,
   "metadata": {},
   "outputs": [
    {
     "data": {
      "text/plain": [
       "(4086, 21882)"
      ]
     },
     "execution_count": 215,
     "metadata": {},
     "output_type": "execute_result"
    }
   ],
   "source": [
    "X.shape"
   ]
  },
  {
   "cell_type": "code",
   "execution_count": 217,
   "metadata": {},
   "outputs": [],
   "source": [
    "from sklearn.naive_bayes import MultinomialNB\n",
    "multi_nb_classifier = MultinomialNB()\n",
    "labels = extreme_reviews['stars'].values"
   ]
  },
  {
   "cell_type": "code",
   "execution_count": 219,
   "metadata": {},
   "outputs": [
    {
     "data": {
      "text/plain": [
       "MultinomialNB()"
      ]
     },
     "execution_count": 219,
     "metadata": {},
     "output_type": "execute_result"
    }
   ],
   "source": [
    "multi_nb_classifier.fit(X,labels)"
   ]
  },
  {
   "cell_type": "code",
   "execution_count": 236,
   "metadata": {},
   "outputs": [],
   "source": [
    "test_string = [\"Voila that was awesome\"]"
   ]
  },
  {
   "cell_type": "code",
   "execution_count": 237,
   "metadata": {},
   "outputs": [],
   "source": [
    "test_string_vectorised = vectorizer.transform(test_string)"
   ]
  },
  {
   "cell_type": "code",
   "execution_count": 238,
   "metadata": {},
   "outputs": [
    {
     "data": {
      "text/plain": [
       "array([[0, 0, 0, ..., 0, 0, 0]], dtype=int64)"
      ]
     },
     "execution_count": 238,
     "metadata": {},
     "output_type": "execute_result"
    }
   ],
   "source": [
    "test_string_vectorised.toarray()"
   ]
  },
  {
   "cell_type": "code",
   "execution_count": 239,
   "metadata": {},
   "outputs": [],
   "source": [
    "test_predict = multi_nb_classifier.predict(test_string_vectorised)"
   ]
  },
  {
   "cell_type": "code",
   "execution_count": 240,
   "metadata": {},
   "outputs": [
    {
     "data": {
      "text/plain": [
       "array([5], dtype=int64)"
      ]
     },
     "execution_count": 240,
     "metadata": {},
     "output_type": "execute_result"
    }
   ],
   "source": [
    "test_predict"
   ]
  },
  {
   "cell_type": "code",
   "execution_count": 241,
   "metadata": {},
   "outputs": [
    {
     "data": {
      "text/html": [
       "<div>\n",
       "<style scoped>\n",
       "    .dataframe tbody tr th:only-of-type {\n",
       "        vertical-align: middle;\n",
       "    }\n",
       "\n",
       "    .dataframe tbody tr th {\n",
       "        vertical-align: top;\n",
       "    }\n",
       "\n",
       "    .dataframe thead th {\n",
       "        text-align: right;\n",
       "    }\n",
       "</style>\n",
       "<table border=\"1\" class=\"dataframe\">\n",
       "  <thead>\n",
       "    <tr style=\"text-align: right;\">\n",
       "      <th></th>\n",
       "      <th>business_id</th>\n",
       "      <th>date</th>\n",
       "      <th>review_id</th>\n",
       "      <th>stars</th>\n",
       "      <th>text</th>\n",
       "      <th>type</th>\n",
       "      <th>user_id</th>\n",
       "      <th>cool</th>\n",
       "      <th>useful</th>\n",
       "      <th>funny</th>\n",
       "      <th>length</th>\n",
       "    </tr>\n",
       "  </thead>\n",
       "  <tbody>\n",
       "    <tr>\n",
       "      <th>0</th>\n",
       "      <td>9yKzy9PApeiPPOUJEtnvkg</td>\n",
       "      <td>2011-01-26</td>\n",
       "      <td>fWKvX83p0-ka4JS3dc6E5A</td>\n",
       "      <td>5</td>\n",
       "      <td>My wife took me here on my birthday for breakf...</td>\n",
       "      <td>review</td>\n",
       "      <td>rLtl8ZkDX5vH5nAx9C3q5Q</td>\n",
       "      <td>2</td>\n",
       "      <td>5</td>\n",
       "      <td>0</td>\n",
       "      <td>889</td>\n",
       "    </tr>\n",
       "    <tr>\n",
       "      <th>1</th>\n",
       "      <td>ZRJwVLyzEJq1VAihDhYiow</td>\n",
       "      <td>2011-07-27</td>\n",
       "      <td>IjZ33sJrzXqU-0X6U8NwyA</td>\n",
       "      <td>5</td>\n",
       "      <td>I have no idea why some people give bad review...</td>\n",
       "      <td>review</td>\n",
       "      <td>0a2KyEL0d3Yb1V6aivbIuQ</td>\n",
       "      <td>0</td>\n",
       "      <td>0</td>\n",
       "      <td>0</td>\n",
       "      <td>1345</td>\n",
       "    </tr>\n",
       "    <tr>\n",
       "      <th>2</th>\n",
       "      <td>6oRAC4uyJCsJl1X0WZpVSA</td>\n",
       "      <td>2012-06-14</td>\n",
       "      <td>IESLBzqUCLdSzSqm0eCSxQ</td>\n",
       "      <td>4</td>\n",
       "      <td>love the gyro plate. Rice is so good and I als...</td>\n",
       "      <td>review</td>\n",
       "      <td>0hT2KtfLiobPvh6cDC8JQg</td>\n",
       "      <td>0</td>\n",
       "      <td>1</td>\n",
       "      <td>0</td>\n",
       "      <td>76</td>\n",
       "    </tr>\n",
       "    <tr>\n",
       "      <th>3</th>\n",
       "      <td>_1QQZuf4zZOyFCvXc0o6Vg</td>\n",
       "      <td>2010-05-27</td>\n",
       "      <td>G-WvGaISbqqaMHlNnByodA</td>\n",
       "      <td>5</td>\n",
       "      <td>Rosie, Dakota, and I LOVE Chaparral Dog Park!!...</td>\n",
       "      <td>review</td>\n",
       "      <td>uZetl9T0NcROGOyFfughhg</td>\n",
       "      <td>1</td>\n",
       "      <td>2</td>\n",
       "      <td>0</td>\n",
       "      <td>419</td>\n",
       "    </tr>\n",
       "    <tr>\n",
       "      <th>4</th>\n",
       "      <td>6ozycU1RpktNG2-1BroVtw</td>\n",
       "      <td>2012-01-05</td>\n",
       "      <td>1uJFq2r5QfJG_6ExMRCaGw</td>\n",
       "      <td>5</td>\n",
       "      <td>General Manager Scott Petello is a good egg!!!...</td>\n",
       "      <td>review</td>\n",
       "      <td>vYmM4KTsC8ZfQBg-j5MWkw</td>\n",
       "      <td>0</td>\n",
       "      <td>0</td>\n",
       "      <td>0</td>\n",
       "      <td>469</td>\n",
       "    </tr>\n",
       "    <tr>\n",
       "      <th>...</th>\n",
       "      <td>...</td>\n",
       "      <td>...</td>\n",
       "      <td>...</td>\n",
       "      <td>...</td>\n",
       "      <td>...</td>\n",
       "      <td>...</td>\n",
       "      <td>...</td>\n",
       "      <td>...</td>\n",
       "      <td>...</td>\n",
       "      <td>...</td>\n",
       "      <td>...</td>\n",
       "    </tr>\n",
       "    <tr>\n",
       "      <th>9995</th>\n",
       "      <td>VY_tvNUCCXGXQeSvJl757Q</td>\n",
       "      <td>2012-07-28</td>\n",
       "      <td>Ubyfp2RSDYW0g7Mbr8N3iA</td>\n",
       "      <td>3</td>\n",
       "      <td>First visit...Had lunch here today - used my G...</td>\n",
       "      <td>review</td>\n",
       "      <td>_eqQoPtQ3e3UxLE4faT6ow</td>\n",
       "      <td>1</td>\n",
       "      <td>2</td>\n",
       "      <td>0</td>\n",
       "      <td>668</td>\n",
       "    </tr>\n",
       "    <tr>\n",
       "      <th>9996</th>\n",
       "      <td>EKzMHI1tip8rC1-ZAy64yg</td>\n",
       "      <td>2012-01-18</td>\n",
       "      <td>2XyIOQKbVFb6uXQdJ0RzlQ</td>\n",
       "      <td>4</td>\n",
       "      <td>Should be called house of deliciousness!\\n\\nI ...</td>\n",
       "      <td>review</td>\n",
       "      <td>ROru4uk5SaYc3rg8IU7SQw</td>\n",
       "      <td>0</td>\n",
       "      <td>0</td>\n",
       "      <td>0</td>\n",
       "      <td>881</td>\n",
       "    </tr>\n",
       "    <tr>\n",
       "      <th>9997</th>\n",
       "      <td>53YGfwmbW73JhFiemNeyzQ</td>\n",
       "      <td>2010-11-16</td>\n",
       "      <td>jyznYkIbpqVmlsZxSDSypA</td>\n",
       "      <td>4</td>\n",
       "      <td>I recently visited Olive and Ivy for business ...</td>\n",
       "      <td>review</td>\n",
       "      <td>gGbN1aKQHMgfQZkqlsuwzg</td>\n",
       "      <td>0</td>\n",
       "      <td>0</td>\n",
       "      <td>0</td>\n",
       "      <td>1425</td>\n",
       "    </tr>\n",
       "    <tr>\n",
       "      <th>9998</th>\n",
       "      <td>9SKdOoDHcFoxK5ZtsgHJoA</td>\n",
       "      <td>2012-12-02</td>\n",
       "      <td>5UKq9WQE1qQbJ0DJbc-B6Q</td>\n",
       "      <td>2</td>\n",
       "      <td>My nephew just moved to Scottsdale recently so...</td>\n",
       "      <td>review</td>\n",
       "      <td>0lyVoNazXa20WzUyZPLaQQ</td>\n",
       "      <td>0</td>\n",
       "      <td>0</td>\n",
       "      <td>0</td>\n",
       "      <td>880</td>\n",
       "    </tr>\n",
       "    <tr>\n",
       "      <th>9999</th>\n",
       "      <td>pF7uRzygyZsltbmVpjIyvw</td>\n",
       "      <td>2010-10-16</td>\n",
       "      <td>vWSmOhg2ID1MNZHaWapGbA</td>\n",
       "      <td>5</td>\n",
       "      <td>4-5 locations.. all 4.5 star average.. I think...</td>\n",
       "      <td>review</td>\n",
       "      <td>KSBFytcdjPKZgXKQnYQdkA</td>\n",
       "      <td>0</td>\n",
       "      <td>0</td>\n",
       "      <td>0</td>\n",
       "      <td>461</td>\n",
       "    </tr>\n",
       "  </tbody>\n",
       "</table>\n",
       "<p>10000 rows × 11 columns</p>\n",
       "</div>"
      ],
      "text/plain": [
       "                 business_id        date               review_id  stars  \\\n",
       "0     9yKzy9PApeiPPOUJEtnvkg  2011-01-26  fWKvX83p0-ka4JS3dc6E5A      5   \n",
       "1     ZRJwVLyzEJq1VAihDhYiow  2011-07-27  IjZ33sJrzXqU-0X6U8NwyA      5   \n",
       "2     6oRAC4uyJCsJl1X0WZpVSA  2012-06-14  IESLBzqUCLdSzSqm0eCSxQ      4   \n",
       "3     _1QQZuf4zZOyFCvXc0o6Vg  2010-05-27  G-WvGaISbqqaMHlNnByodA      5   \n",
       "4     6ozycU1RpktNG2-1BroVtw  2012-01-05  1uJFq2r5QfJG_6ExMRCaGw      5   \n",
       "...                      ...         ...                     ...    ...   \n",
       "9995  VY_tvNUCCXGXQeSvJl757Q  2012-07-28  Ubyfp2RSDYW0g7Mbr8N3iA      3   \n",
       "9996  EKzMHI1tip8rC1-ZAy64yg  2012-01-18  2XyIOQKbVFb6uXQdJ0RzlQ      4   \n",
       "9997  53YGfwmbW73JhFiemNeyzQ  2010-11-16  jyznYkIbpqVmlsZxSDSypA      4   \n",
       "9998  9SKdOoDHcFoxK5ZtsgHJoA  2012-12-02  5UKq9WQE1qQbJ0DJbc-B6Q      2   \n",
       "9999  pF7uRzygyZsltbmVpjIyvw  2010-10-16  vWSmOhg2ID1MNZHaWapGbA      5   \n",
       "\n",
       "                                                   text    type  \\\n",
       "0     My wife took me here on my birthday for breakf...  review   \n",
       "1     I have no idea why some people give bad review...  review   \n",
       "2     love the gyro plate. Rice is so good and I als...  review   \n",
       "3     Rosie, Dakota, and I LOVE Chaparral Dog Park!!...  review   \n",
       "4     General Manager Scott Petello is a good egg!!!...  review   \n",
       "...                                                 ...     ...   \n",
       "9995  First visit...Had lunch here today - used my G...  review   \n",
       "9996  Should be called house of deliciousness!\\n\\nI ...  review   \n",
       "9997  I recently visited Olive and Ivy for business ...  review   \n",
       "9998  My nephew just moved to Scottsdale recently so...  review   \n",
       "9999  4-5 locations.. all 4.5 star average.. I think...  review   \n",
       "\n",
       "                     user_id  cool  useful  funny  length  \n",
       "0     rLtl8ZkDX5vH5nAx9C3q5Q     2       5      0     889  \n",
       "1     0a2KyEL0d3Yb1V6aivbIuQ     0       0      0    1345  \n",
       "2     0hT2KtfLiobPvh6cDC8JQg     0       1      0      76  \n",
       "3     uZetl9T0NcROGOyFfughhg     1       2      0     419  \n",
       "4     vYmM4KTsC8ZfQBg-j5MWkw     0       0      0     469  \n",
       "...                      ...   ...     ...    ...     ...  \n",
       "9995  _eqQoPtQ3e3UxLE4faT6ow     1       2      0     668  \n",
       "9996  ROru4uk5SaYc3rg8IU7SQw     0       0      0     881  \n",
       "9997  gGbN1aKQHMgfQZkqlsuwzg     0       0      0    1425  \n",
       "9998  0lyVoNazXa20WzUyZPLaQQ     0       0      0     880  \n",
       "9999  KSBFytcdjPKZgXKQnYQdkA     0       0      0     461  \n",
       "\n",
       "[10000 rows x 11 columns]"
      ]
     },
     "execution_count": 241,
     "metadata": {},
     "output_type": "execute_result"
    }
   ],
   "source": [
    "dataset"
   ]
  },
  {
   "cell_type": "code",
   "execution_count": 255,
   "metadata": {},
   "outputs": [],
   "source": [
    "X = dataset['text']\n",
    "y = dataset['stars']"
   ]
  },
  {
   "cell_type": "code",
   "execution_count": 256,
   "metadata": {},
   "outputs": [
    {
     "data": {
      "text/plain": [
       "0       My wife took me here on my birthday for breakf...\n",
       "1       I have no idea why some people give bad review...\n",
       "2       love the gyro plate. Rice is so good and I als...\n",
       "3       Rosie, Dakota, and I LOVE Chaparral Dog Park!!...\n",
       "4       General Manager Scott Petello is a good egg!!!...\n",
       "                              ...                        \n",
       "9995    First visit...Had lunch here today - used my G...\n",
       "9996    Should be called house of deliciousness!\\n\\nI ...\n",
       "9997    I recently visited Olive and Ivy for business ...\n",
       "9998    My nephew just moved to Scottsdale recently so...\n",
       "9999    4-5 locations.. all 4.5 star average.. I think...\n",
       "Name: text, Length: 10000, dtype: object"
      ]
     },
     "execution_count": 256,
     "metadata": {},
     "output_type": "execute_result"
    }
   ],
   "source": [
    "X"
   ]
  },
  {
   "cell_type": "code",
   "execution_count": 257,
   "metadata": {},
   "outputs": [
    {
     "data": {
      "text/plain": [
       "0       5\n",
       "1       5\n",
       "2       4\n",
       "3       5\n",
       "4       5\n",
       "       ..\n",
       "9995    3\n",
       "9996    4\n",
       "9997    4\n",
       "9998    2\n",
       "9999    5\n",
       "Name: stars, Length: 10000, dtype: int64"
      ]
     },
     "execution_count": 257,
     "metadata": {},
     "output_type": "execute_result"
    }
   ],
   "source": [
    "y"
   ]
  },
  {
   "cell_type": "code",
   "execution_count": 322,
   "metadata": {},
   "outputs": [],
   "source": [
    "X = dataset['text']\n",
    "y = dataset['stars']"
   ]
  },
  {
   "cell_type": "code",
   "execution_count": 323,
   "metadata": {},
   "outputs": [],
   "source": [
    "def text_cleansing(text):\n",
    "    text = ''.join([ ch for ch in text if ch not in punctuations])\n",
    "    text = ' '.join([ word for word in text.split() if word.lower() not in english_stopwords])\n",
    "    return text"
   ]
  },
  {
   "cell_type": "code",
   "execution_count": 324,
   "metadata": {},
   "outputs": [],
   "source": [
    "X_preprocessed = X.apply(text_cleansing)"
   ]
  },
  {
   "cell_type": "code",
   "execution_count": 325,
   "metadata": {},
   "outputs": [
    {
     "data": {
      "text/plain": [
       "0       wife took birthday breakfast excellent weather...\n",
       "1       idea people give bad reviews place goes show p...\n",
       "2       love gyro plate Rice good also dig candy selec...\n",
       "3       Rosie Dakota LOVE Chaparral Dog Park convenien...\n",
       "4       General Manager Scott Petello good egg go deta...\n",
       "                              ...                        \n",
       "9995    First visitHad lunch today used Groupon ordere...\n",
       "9996    called house deliciousness could go item item ...\n",
       "9997    recently visited Olive Ivy business last week ...\n",
       "9998    nephew moved Scottsdale recently bunch friends...\n",
       "9999    45 locations 45 star average think Arizona rea...\n",
       "Name: text, Length: 10000, dtype: object"
      ]
     },
     "execution_count": 325,
     "metadata": {},
     "output_type": "execute_result"
    }
   ],
   "source": [
    "X_preprocessed"
   ]
  },
  {
   "cell_type": "code",
   "execution_count": 326,
   "metadata": {},
   "outputs": [],
   "source": [
    "from sklearn.feature_extraction.text import CountVectorizer\n",
    "vectorizer = CountVectorizer()\n",
    "X = vectorizer.fit_transform(X_preprocessed)"
   ]
  },
  {
   "cell_type": "code",
   "execution_count": 292,
   "metadata": {},
   "outputs": [],
   "source": [
    "from sklearn.model_selection import train_test_split\n",
    "x_train , x_test , y_train , y_test = train_test_split(X,y,test_size = 0.2)"
   ]
  },
  {
   "cell_type": "code",
   "execution_count": 293,
   "metadata": {},
   "outputs": [
    {
     "data": {
      "text/plain": [
       "array([[0, 0, 0, ..., 0, 0, 0],\n",
       "       [0, 0, 0, ..., 0, 0, 0],\n",
       "       [0, 0, 0, ..., 0, 0, 0],\n",
       "       ...,\n",
       "       [0, 0, 0, ..., 0, 0, 0],\n",
       "       [0, 0, 0, ..., 0, 0, 0],\n",
       "       [0, 0, 0, ..., 0, 0, 0]], dtype=int64)"
      ]
     },
     "execution_count": 293,
     "metadata": {},
     "output_type": "execute_result"
    }
   ],
   "source": [
    "x_train.toarray()"
   ]
  },
  {
   "cell_type": "code",
   "execution_count": 294,
   "metadata": {
    "scrolled": true
   },
   "outputs": [
    {
     "data": {
      "text/plain": [
       "MultinomialNB()"
      ]
     },
     "execution_count": 294,
     "metadata": {},
     "output_type": "execute_result"
    }
   ],
   "source": [
    "from sklearn.naive_bayes import MultinomialNB\n",
    "multi_nb_classifier = MultinomialNB()\n",
    "multi_nb_classifier.fit(x_train,y_train)"
   ]
  },
  {
   "cell_type": "code",
   "execution_count": 298,
   "metadata": {},
   "outputs": [],
   "source": [
    "y_train_predict = multi_nb_classifier.predict(x_train)"
   ]
  },
  {
   "cell_type": "code",
   "execution_count": 299,
   "metadata": {},
   "outputs": [],
   "source": [
    "from sklearn.metrics import confusion_matrix,classification_report\n",
    "cm = confusion_matrix(y_train , y_train_predict)"
   ]
  },
  {
   "cell_type": "code",
   "execution_count": 300,
   "metadata": {},
   "outputs": [
    {
     "data": {
      "text/plain": [
       "<matplotlib.axes._subplots.AxesSubplot at 0x248662d8128>"
      ]
     },
     "execution_count": 300,
     "metadata": {},
     "output_type": "execute_result"
    },
    {
     "data": {
      "image/png": "[encoded data removed]",
      "text/plain": [
       "<Figure size 432x288 with 2 Axes>"
      ]
     },
     "metadata": {
      "needs_background": "light"
     },
     "output_type": "display_data"
    }
   ],
   "source": [
    "sns.heatmap(cm,annot = True)"
   ]
  },
  {
   "cell_type": "code",
   "execution_count": 301,
   "metadata": {},
   "outputs": [],
   "source": [
    "predictions = multi_nb_classifier.predict(x_test)"
   ]
  },
  {
   "cell_type": "code",
   "execution_count": 302,
   "metadata": {},
   "outputs": [
    {
     "data": {
      "text/plain": [
       "array([4, 4, 2, ..., 4, 4, 5], dtype=int64)"
      ]
     },
     "execution_count": 302,
     "metadata": {},
     "output_type": "execute_result"
    }
   ],
   "source": [
    "predictions"
   ]
  },
  {
   "cell_type": "code",
   "execution_count": 303,
   "metadata": {},
   "outputs": [],
   "source": [
    "cm = confusion_matrix(y_test,predictions)"
   ]
  },
  {
   "cell_type": "code",
   "execution_count": 305,
   "metadata": {},
   "outputs": [
    {
     "data": {
      "text/plain": [
       "<matplotlib.axes._subplots.AxesSubplot at 0x24869ba55c0>"
      ]
     },
     "execution_count": 305,
     "metadata": {},
     "output_type": "execute_result"
    },
    {
     "data": {
      "image/png": "[encoded data removed]",
      "text/plain": [
       "<Figure size 432x288 with 2 Axes>"
      ]
     },
     "metadata": {
      "needs_background": "light"
     },
     "output_type": "display_data"
    }
   ],
   "source": [
    "sns.heatmap(cm,annot = True)"
   ]
  },
  {
   "cell_type": "code",
   "execution_count": 306,
   "metadata": {},
   "outputs": [
    {
     "name": "stdout",
     "output_type": "stream",
     "text": [
      "              precision    recall  f1-score   support\n",
      "\n",
      "           1       0.65      0.39      0.49       125\n",
      "           2       0.32      0.05      0.09       167\n",
      "           3       0.27      0.05      0.09       316\n",
      "           4       0.44      0.75      0.56       740\n",
      "           5       0.62      0.54      0.58       652\n",
      "\n",
      "    accuracy                           0.49      2000\n",
      "   macro avg       0.46      0.36      0.36      2000\n",
      "weighted avg       0.47      0.49      0.45      2000\n",
      "\n"
     ]
    }
   ],
   "source": [
    "print(classification_report(y_test,predictions))"
   ]
  },
  {
   "cell_type": "code",
   "execution_count": 327,
   "metadata": {},
   "outputs": [],
   "source": [
    "from sklearn.feature_extraction.text import TfidfTransformer\n",
    "tfidf = TfidfTransformer()\n",
    "X_tfidf = tfidf.fit_transform(X)"
   ]
  },
  {
   "cell_type": "code",
   "execution_count": 328,
   "metadata": {},
   "outputs": [
    {
     "data": {
      "text/plain": [
       "array([[0., 0., 0., ..., 0., 0., 0.],\n",
       "       [0., 0., 0., ..., 0., 0., 0.],\n",
       "       [0., 0., 0., ..., 0., 0., 0.],\n",
       "       ...,\n",
       "       [0., 0., 0., ..., 0., 0., 0.],\n",
       "       [0., 0., 0., ..., 0., 0., 0.],\n",
       "       [0., 0., 0., ..., 0., 0., 0.]])"
      ]
     },
     "execution_count": 328,
     "metadata": {},
     "output_type": "execute_result"
    }
   ],
   "source": [
    "X_tfidf.toarray()"
   ]
  },
  {
   "cell_type": "code",
   "execution_count": 329,
   "metadata": {},
   "outputs": [],
   "source": [
    "from sklearn.model_selection import train_test_split\n",
    "x_train , x_test , y_train , y_test = train_test_split(X_tfidf,y,test_size = 0.2)"
   ]
  },
  {
   "cell_type": "code",
   "execution_count": 330,
   "metadata": {},
   "outputs": [
    {
     "data": {
      "text/plain": [
       "MultinomialNB()"
      ]
     },
     "execution_count": 330,
     "metadata": {},
     "output_type": "execute_result"
    }
   ],
   "source": [
    "from sklearn.naive_bayes import MultinomialNB\n",
    "multi_nb_classifier = MultinomialNB()\n",
    "multi_nb_classifier.fit(x_train,y_train)"
   ]
  },
  {
   "cell_type": "code",
   "execution_count": 331,
   "metadata": {},
   "outputs": [],
   "source": [
    "train_preds = multi_nb_classifier.predict(x_train)"
   ]
  },
  {
   "cell_type": "code",
   "execution_count": 332,
   "metadata": {},
   "outputs": [],
   "source": [
    "cm = confusion_matrix(y_train,train_preds)"
   ]
  },
  {
   "cell_type": "code",
   "execution_count": 333,
   "metadata": {},
   "outputs": [
    {
     "data": {
      "text/plain": [
       "<matplotlib.axes._subplots.AxesSubplot at 0x24869a38b70>"
      ]
     },
     "execution_count": 333,
     "metadata": {},
     "output_type": "execute_result"
    },
    {
     "data": {
      "image/png": "[encoded data removed]",
      "text/plain": [
       "<Figure size 432x288 with 2 Axes>"
      ]
     },
     "metadata": {
      "needs_background": "light"
     },
     "output_type": "display_data"
    }
   ],
   "source": [
    "sns.heatmap(cm,annot = True)"
   ]
  },
  {
   "cell_type": "code",
   "execution_count": 334,
   "metadata": {},
   "outputs": [],
   "source": [
    "test_preds = multi_nb_classifier.predict(x_test)"
   ]
  },
  {
   "cell_type": "code",
   "execution_count": 335,
   "metadata": {},
   "outputs": [],
   "source": [
    "cm = confusion_matrix(y_test,test_preds)"
   ]
  },
  {
   "cell_type": "code",
   "execution_count": 336,
   "metadata": {},
   "outputs": [
    {
     "data": {
      "text/plain": [
       "<matplotlib.axes._subplots.AxesSubplot at 0x24970a6bfd0>"
      ]
     },
     "execution_count": 336,
     "metadata": {},
     "output_type": "execute_result"
    },
    {
     "data": {
      "image/png": "[encoded data removed]",
      "text/plain": [
       "<Figure size 432x288 with 2 Axes>"
      ]
     },
     "metadata": {
      "needs_background": "light"
     },
     "output_type": "display_data"
    }
   ],
   "source": [
    "sns.heatmap(cm,annot = True)"
   ]
  },
  {
   "cell_type": "code",
   "execution_count": null,
   "metadata": {},
   "outputs": [],
   "source": []
  }
 ],
 "metadata": {
  "kernelspec": {
   "display_name": "Python 3",
   "language": "python",
   "name": "python3"
  },
  "language_info": {
   "codemirror_mode": {
    "name": "ipython",
    "version": 3
   },
   "file_extension": ".py",
   "mimetype": "text/x-python",
   "name": "python",
   "nbconvert_exporter": "python",
   "pygments_lexer": "ipython3",
   "version": "3.6.10"
  }
 },
 "nbformat": 4,
 "nbformat_minor": 4
}
